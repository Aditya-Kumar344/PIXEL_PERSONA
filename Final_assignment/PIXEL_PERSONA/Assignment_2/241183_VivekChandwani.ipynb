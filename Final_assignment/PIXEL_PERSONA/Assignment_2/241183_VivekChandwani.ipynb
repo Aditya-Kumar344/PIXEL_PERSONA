{
  "nbformat": 4,
  "nbformat_minor": 0,
  "metadata": {
    "colab": {
      "provenance": [],
      "toc_visible": true
    },
    "kernelspec": {
      "name": "python3",
      "display_name": "Python 3"
    },
    "language_info": {
      "name": "python"
    }
  },
  "cells": [
    {
      "cell_type": "code",
      "execution_count": 17,
      "metadata": {
        "id": "Wm4mLLMGj9Zj",
        "colab": {
          "base_uri": "https://localhost:8080/",
          "height": 73
        },
        "outputId": "88e0c690-c198-4de1-f2c7-8a58bef94fc8"
      },
      "outputs": [
        {
          "output_type": "display_data",
          "data": {
            "text/plain": [
              "<IPython.core.display.HTML object>"
            ],
            "text/html": [
              "\n",
              "     <input type=\"file\" id=\"files-0c571e69-ce7b-400b-b9b6-2cf171df2ebe\" name=\"files[]\" multiple disabled\n",
              "        style=\"border:none\" />\n",
              "     <output id=\"result-0c571e69-ce7b-400b-b9b6-2cf171df2ebe\">\n",
              "      Upload widget is only available when the cell has been executed in the\n",
              "      current browser session. Please rerun this cell to enable.\n",
              "      </output>\n",
              "      <script>// Copyright 2017 Google LLC\n",
              "//\n",
              "// Licensed under the Apache License, Version 2.0 (the \"License\");\n",
              "// you may not use this file except in compliance with the License.\n",
              "// You may obtain a copy of the License at\n",
              "//\n",
              "//      http://www.apache.org/licenses/LICENSE-2.0\n",
              "//\n",
              "// Unless required by applicable law or agreed to in writing, software\n",
              "// distributed under the License is distributed on an \"AS IS\" BASIS,\n",
              "// WITHOUT WARRANTIES OR CONDITIONS OF ANY KIND, either express or implied.\n",
              "// See the License for the specific language governing permissions and\n",
              "// limitations under the License.\n",
              "\n",
              "/**\n",
              " * @fileoverview Helpers for google.colab Python module.\n",
              " */\n",
              "(function(scope) {\n",
              "function span(text, styleAttributes = {}) {\n",
              "  const element = document.createElement('span');\n",
              "  element.textContent = text;\n",
              "  for (const key of Object.keys(styleAttributes)) {\n",
              "    element.style[key] = styleAttributes[key];\n",
              "  }\n",
              "  return element;\n",
              "}\n",
              "\n",
              "// Max number of bytes which will be uploaded at a time.\n",
              "const MAX_PAYLOAD_SIZE = 100 * 1024;\n",
              "\n",
              "function _uploadFiles(inputId, outputId) {\n",
              "  const steps = uploadFilesStep(inputId, outputId);\n",
              "  const outputElement = document.getElementById(outputId);\n",
              "  // Cache steps on the outputElement to make it available for the next call\n",
              "  // to uploadFilesContinue from Python.\n",
              "  outputElement.steps = steps;\n",
              "\n",
              "  return _uploadFilesContinue(outputId);\n",
              "}\n",
              "\n",
              "// This is roughly an async generator (not supported in the browser yet),\n",
              "// where there are multiple asynchronous steps and the Python side is going\n",
              "// to poll for completion of each step.\n",
              "// This uses a Promise to block the python side on completion of each step,\n",
              "// then passes the result of the previous step as the input to the next step.\n",
              "function _uploadFilesContinue(outputId) {\n",
              "  const outputElement = document.getElementById(outputId);\n",
              "  const steps = outputElement.steps;\n",
              "\n",
              "  const next = steps.next(outputElement.lastPromiseValue);\n",
              "  return Promise.resolve(next.value.promise).then((value) => {\n",
              "    // Cache the last promise value to make it available to the next\n",
              "    // step of the generator.\n",
              "    outputElement.lastPromiseValue = value;\n",
              "    return next.value.response;\n",
              "  });\n",
              "}\n",
              "\n",
              "/**\n",
              " * Generator function which is called between each async step of the upload\n",
              " * process.\n",
              " * @param {string} inputId Element ID of the input file picker element.\n",
              " * @param {string} outputId Element ID of the output display.\n",
              " * @return {!Iterable<!Object>} Iterable of next steps.\n",
              " */\n",
              "function* uploadFilesStep(inputId, outputId) {\n",
              "  const inputElement = document.getElementById(inputId);\n",
              "  inputElement.disabled = false;\n",
              "\n",
              "  const outputElement = document.getElementById(outputId);\n",
              "  outputElement.innerHTML = '';\n",
              "\n",
              "  const pickedPromise = new Promise((resolve) => {\n",
              "    inputElement.addEventListener('change', (e) => {\n",
              "      resolve(e.target.files);\n",
              "    });\n",
              "  });\n",
              "\n",
              "  const cancel = document.createElement('button');\n",
              "  inputElement.parentElement.appendChild(cancel);\n",
              "  cancel.textContent = 'Cancel upload';\n",
              "  const cancelPromise = new Promise((resolve) => {\n",
              "    cancel.onclick = () => {\n",
              "      resolve(null);\n",
              "    };\n",
              "  });\n",
              "\n",
              "  // Wait for the user to pick the files.\n",
              "  const files = yield {\n",
              "    promise: Promise.race([pickedPromise, cancelPromise]),\n",
              "    response: {\n",
              "      action: 'starting',\n",
              "    }\n",
              "  };\n",
              "\n",
              "  cancel.remove();\n",
              "\n",
              "  // Disable the input element since further picks are not allowed.\n",
              "  inputElement.disabled = true;\n",
              "\n",
              "  if (!files) {\n",
              "    return {\n",
              "      response: {\n",
              "        action: 'complete',\n",
              "      }\n",
              "    };\n",
              "  }\n",
              "\n",
              "  for (const file of files) {\n",
              "    const li = document.createElement('li');\n",
              "    li.append(span(file.name, {fontWeight: 'bold'}));\n",
              "    li.append(span(\n",
              "        `(${file.type || 'n/a'}) - ${file.size} bytes, ` +\n",
              "        `last modified: ${\n",
              "            file.lastModifiedDate ? file.lastModifiedDate.toLocaleDateString() :\n",
              "                                    'n/a'} - `));\n",
              "    const percent = span('0% done');\n",
              "    li.appendChild(percent);\n",
              "\n",
              "    outputElement.appendChild(li);\n",
              "\n",
              "    const fileDataPromise = new Promise((resolve) => {\n",
              "      const reader = new FileReader();\n",
              "      reader.onload = (e) => {\n",
              "        resolve(e.target.result);\n",
              "      };\n",
              "      reader.readAsArrayBuffer(file);\n",
              "    });\n",
              "    // Wait for the data to be ready.\n",
              "    let fileData = yield {\n",
              "      promise: fileDataPromise,\n",
              "      response: {\n",
              "        action: 'continue',\n",
              "      }\n",
              "    };\n",
              "\n",
              "    // Use a chunked sending to avoid message size limits. See b/62115660.\n",
              "    let position = 0;\n",
              "    do {\n",
              "      const length = Math.min(fileData.byteLength - position, MAX_PAYLOAD_SIZE);\n",
              "      const chunk = new Uint8Array(fileData, position, length);\n",
              "      position += length;\n",
              "\n",
              "      const base64 = btoa(String.fromCharCode.apply(null, chunk));\n",
              "      yield {\n",
              "        response: {\n",
              "          action: 'append',\n",
              "          file: file.name,\n",
              "          data: base64,\n",
              "        },\n",
              "      };\n",
              "\n",
              "      let percentDone = fileData.byteLength === 0 ?\n",
              "          100 :\n",
              "          Math.round((position / fileData.byteLength) * 100);\n",
              "      percent.textContent = `${percentDone}% done`;\n",
              "\n",
              "    } while (position < fileData.byteLength);\n",
              "  }\n",
              "\n",
              "  // All done.\n",
              "  yield {\n",
              "    response: {\n",
              "      action: 'complete',\n",
              "    }\n",
              "  };\n",
              "}\n",
              "\n",
              "scope.google = scope.google || {};\n",
              "scope.google.colab = scope.google.colab || {};\n",
              "scope.google.colab._files = {\n",
              "  _uploadFiles,\n",
              "  _uploadFilesContinue,\n",
              "};\n",
              "})(self);\n",
              "</script> "
            ]
          },
          "metadata": {}
        },
        {
          "output_type": "stream",
          "name": "stdout",
          "text": [
            "Saving loan_data.csv to loan_data (1).csv\n"
          ]
        }
      ],
      "source": [
        "from google.colab import files\n",
        "uploaded = files.upload()"
      ]
    },
    {
      "cell_type": "code",
      "source": [
        "import numpy as np\n",
        "import pandas as pd\n",
        "from sklearn.linear_model import LogisticRegression\n",
        "from sklearn.metrics import accuracy_score"
      ],
      "metadata": {
        "id": "Czo8fIt9rtIM"
      },
      "execution_count": 209,
      "outputs": []
    },
    {
      "cell_type": "code",
      "source": [
        "import io\n",
        "for filename in uploaded.keys():\n",
        "    df = pd.read_csv(io.BytesIO(uploaded[filename]))\n",
        "print(df.head())"
      ],
      "metadata": {
        "colab": {
          "base_uri": "https://localhost:8080/"
        },
        "id": "53W7oUoyr8bD",
        "outputId": "9fe137db-3f6f-4b74-a3e9-f1d5bff4faf6"
      },
      "execution_count": 210,
      "outputs": [
        {
          "output_type": "stream",
          "name": "stdout",
          "text": [
            "   person_age person_gender person_education  person_income  person_emp_exp  \\\n",
            "0          22        female           Master          71948               0   \n",
            "1          21        female      High School          12282               0   \n",
            "2          25        female      High School          12438               3   \n",
            "3          23        female         Bachelor          79753               0   \n",
            "4          24          male           Master          66135               1   \n",
            "\n",
            "  person_home_ownership  loan_amnt loan_intent  loan_int_rate  \\\n",
            "0                  RENT      35000    PERSONAL          16.02   \n",
            "1                   OWN       1000   EDUCATION          11.14   \n",
            "2              MORTGAGE       5500     MEDICAL          12.87   \n",
            "3                  RENT      35000     MEDICAL          15.23   \n",
            "4                  RENT      35000     MEDICAL          14.27   \n",
            "\n",
            "   loan_percent_income  cb_person_cred_hist_length  credit_score  \\\n",
            "0                 0.49                           3           561   \n",
            "1                 0.08                           2           504   \n",
            "2                 0.44                           3           635   \n",
            "3                 0.44                           2           675   \n",
            "4                 0.53                           4           586   \n",
            "\n",
            "  previous_loan_defaults_on_file  loan_status  \n",
            "0                             No            1  \n",
            "1                            Yes            0  \n",
            "2                             No            1  \n",
            "3                             No            1  \n",
            "4                             No            1  \n"
          ]
        }
      ]
    },
    {
      "cell_type": "code",
      "source": [
        "print(df.shape)"
      ],
      "metadata": {
        "colab": {
          "base_uri": "https://localhost:8080/"
        },
        "id": "2rQME9ZJsfcy",
        "outputId": "7129b0fd-b356-4934-b4b8-1ee52ce15e4f"
      },
      "execution_count": 211,
      "outputs": [
        {
          "output_type": "stream",
          "name": "stdout",
          "text": [
            "(9999, 14)\n"
          ]
        }
      ]
    },
    {
      "cell_type": "code",
      "source": [
        "print(df['loan_status'].unique())"
      ],
      "metadata": {
        "colab": {
          "base_uri": "https://localhost:8080/"
        },
        "id": "o9AuwmJT-t5s",
        "outputId": "0cc8fdd3-26ec-4704-c0ce-61ae16b13d78"
      },
      "execution_count": 212,
      "outputs": [
        {
          "output_type": "stream",
          "name": "stdout",
          "text": [
            "[1 0]\n"
          ]
        }
      ]
    },
    {
      "cell_type": "markdown",
      "source": [
        "The dataset consists of 9999 entries with personal information about each person such as their age, gender, education, income, employment experience and home ownership. We also have information about their loan request such as loan amount, loan intent, loan interest rate and loan percent income. The dataset also provides insights on the credit background of each individual through information such as credit history length, credit score and previous loan defaults on file. Finally, we have the loan status which tells us whether the loan was approved or not, which is also the output we would like to predict in this assignment."
      ],
      "metadata": {
        "id": "aMJ7-7qmtUno"
      }
    },
    {
      "cell_type": "code",
      "source": [
        "df = df.drop(columns=['person_age', 'person_gender', 'person_education', 'person_home_ownership', 'loan_intent'])"
      ],
      "metadata": {
        "id": "yT6cplyavDd8"
      },
      "execution_count": 213,
      "outputs": []
    },
    {
      "cell_type": "code",
      "source": [
        "print(df.isna().sum()) #none of the columns have NaN values hence no need to perform removing action"
      ],
      "metadata": {
        "colab": {
          "base_uri": "https://localhost:8080/"
        },
        "id": "sQLSp0VuAXnU",
        "outputId": "00c69ff5-7474-488b-8e1e-8cd27dab9d6b"
      },
      "execution_count": 214,
      "outputs": [
        {
          "output_type": "stream",
          "name": "stdout",
          "text": [
            "person_income                     0\n",
            "person_emp_exp                    0\n",
            "loan_amnt                         0\n",
            "loan_int_rate                     0\n",
            "loan_percent_income               0\n",
            "cb_person_cred_hist_length        0\n",
            "credit_score                      0\n",
            "previous_loan_defaults_on_file    0\n",
            "loan_status                       0\n",
            "dtype: int64\n"
          ]
        }
      ]
    },
    {
      "cell_type": "code",
      "source": [
        "# previous_loan_defaults_on_file also impacts loan_status\n",
        "# hence convert it to binary integer values for analysis\n",
        "df['previous_loan_defaults_on_file'] = df['previous_loan_defaults_on_file'].map({'Yes': 1, 'No': -1})"
      ],
      "metadata": {
        "id": "O02kE2q8BB7o"
      },
      "execution_count": 215,
      "outputs": []
    },
    {
      "cell_type": "code",
      "source": [
        "# Shuffle the rows before splitting to ensure no bias and get fair sets for testing and training\n",
        "df_shuffled = df.sample(frac=1, random_state=69).reset_index(drop=True)\n",
        "\n",
        "# Using 80% for training and 20% for testing\n",
        "split_index = (int)(9999 * 0.8)\n",
        "\n",
        "# Split into training and testing sets\n",
        "train_data = df_shuffled[:split_index]\n",
        "test_data = df_shuffled[split_index:]\n",
        "\n",
        "x_train = train_data.drop('loan_status', axis=1)\n",
        "y_train = train_data['loan_status']\n",
        "\n",
        "x_test = test_data.drop('loan_status', axis=1)\n",
        "y_test = test_data['loan_status']"
      ],
      "metadata": {
        "id": "pz6qmJp3C4tD"
      },
      "execution_count": 216,
      "outputs": []
    },
    {
      "cell_type": "code",
      "source": [
        "# Logistic Regression using scikit learn\n",
        "\n",
        "model = LogisticRegression(max_iter = 8000)\n",
        "model.fit(x_train, y_train)\n",
        "y_pred = model.predict(x_test)"
      ],
      "metadata": {
        "id": "GZvlmN8LE9xG"
      },
      "execution_count": 221,
      "outputs": []
    },
    {
      "cell_type": "code",
      "source": [
        "accuracy = accuracy_score(y_test, y_pred)\n",
        "print(f\"Accuracy of imported model: {accuracy}\")"
      ],
      "metadata": {
        "colab": {
          "base_uri": "https://localhost:8080/"
        },
        "id": "69Wua-gOHQQa",
        "outputId": "618ed37a-41b4-4225-8a08-07b2663a21dd"
      },
      "execution_count": 222,
      "outputs": [
        {
          "output_type": "stream",
          "name": "stdout",
          "text": [
            "Accuracy of imported model: 0.889\n"
          ]
        }
      ]
    },
    {
      "cell_type": "code",
      "source": [
        "# Logistic Regression manually\n",
        "\n",
        "def sigmoid(z):\n",
        "    return 1 / (1 + np.exp(-z))\n",
        "\n",
        "def cost_function(input, output, weights, bias):\n",
        "    n = len(output)\n",
        "\n",
        "    z = np.dot(input, weights) + bias\n",
        "\n",
        "    cost = (-1 / n) * np.sum(output * np.log(sigmoid(z)) + (1 - output) * np.log(1 - sigmoid(z)))\n",
        "\n",
        "    return cost\n",
        "\n",
        "def gradient_descent(input, output, weights, bias, learning_rate, iterations):\n",
        "    n = len(output)\n",
        "\n",
        "    for i in range(iterations):\n",
        "\n",
        "        z = np.dot(input, weights) + bias\n",
        "\n",
        "        dw = (1 / n) * np.dot(input.T, (sigmoid(z) - output))\n",
        "        db = (1 / n) * np.sum(sigmoid(z) - output)\n",
        "\n",
        "        weights -= learning_rate * dw\n",
        "        bias -= learning_rate * db\n",
        "\n",
        "    return weights, bias\n",
        "\n",
        "def logistic_regression(input, output):\n",
        "\n",
        "    weights = np.zeros(input.shape[1])\n",
        "    bias = 0\n",
        "\n",
        "    weights, bias = gradient_descent(input, output, weights, bias, 0.01, 2500)\n",
        "\n",
        "    return weights, bias\n",
        "\n",
        "def predict(input, weights, bias):\n",
        "    z = np.dot(input, weights) + bias\n",
        "    predictions = sigmoid(z)\n",
        "    return [1 if i >= 0.5 else 0 for i in predictions]\n",
        "\n",
        "# Searched how to standardize the training set (was causing overflow without this and also improved accuracy)\n",
        "train_mean = np.mean(x_train, axis = 0)\n",
        "train_std = np.std(x_train, axis = 0)\n",
        "x_train = (x_train - train_mean) / train_std\n",
        "x_test = (x_test - train_mean) / train_std\n",
        "\n",
        "weights, bias = logistic_regression(x_train, y_train)\n",
        "\n",
        "y_pred = predict(x_test, weights, bias)\n"
      ],
      "metadata": {
        "id": "6M0Po-rsHzX3"
      },
      "execution_count": 219,
      "outputs": []
    },
    {
      "cell_type": "code",
      "source": [
        "accuracy = np.mean(y_pred == y_test)\n",
        "print(f\"Accuracy of manual model: {accuracy}\")"
      ],
      "metadata": {
        "colab": {
          "base_uri": "https://localhost:8080/"
        },
        "id": "796D5FTWJZrS",
        "outputId": "a4615074-f9cd-4c61-91f3-a5398c177797"
      },
      "execution_count": 220,
      "outputs": [
        {
          "output_type": "stream",
          "name": "stdout",
          "text": [
            "Accuracy of manual model: 0.886\n"
          ]
        }
      ]
    },
    {
      "cell_type": "markdown",
      "source": [
        "Accuracy of imported model: 0.8825  \n",
        "Accuracy of manual model: 0.8860  \n",
        "Earlier (before standardizing the dataset in manual model), I was getting overflow and an accuracy of 0.747. On searching about the issue, I found that the overflow was due to some very large negative values being elements of z. If an element in z is a very large negative number, exp(-z) will become a very large value and cause overflow error in np.exp(-z).  \n",
        "I think accuracy of my model is comparable to the imported model because the imported scikit learn model doesn't standardize the inputs, but my model's accuracy was somehow improved by standardization by a significant amount."
      ],
      "metadata": {
        "id": "QoqGWt-gU5X_"
      }
    }
  ]
}
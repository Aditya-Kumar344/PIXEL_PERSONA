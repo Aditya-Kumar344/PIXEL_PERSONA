{
  "nbformat": 4,
  "nbformat_minor": 0,
  "metadata": {
    "colab": {
      "provenance": []
    },
    "kernelspec": {
      "name": "python3",
      "display_name": "Python 3"
    },
    "language_info": {
      "name": "python"
    }
  },
  "cells": [
    {
      "cell_type": "markdown",
      "source": [
        "# Numpy exercise"
      ],
      "metadata": {
        "id": "xjMGftWslX3r"
      }
    },
    {
      "cell_type": "markdown",
      "source": [
        "you should make use of google or documentation if you get stuck on any question. Even you are cofused on understanding some part, reach out to any of us mentors. Try to learn as much as you can."
      ],
      "metadata": {
        "id": "1SaoZmRAleak"
      }
    },
    {
      "cell_type": "markdown",
      "source": [
        "import numpy"
      ],
      "metadata": {
        "id": "l0oCQweGuVqr"
      }
    },
    {
      "cell_type": "code",
      "source": [
        "import numpy as np"
      ],
      "metadata": {
        "id": "Zi9PzqXbuXFJ"
      },
      "execution_count": 250,
      "outputs": []
    },
    {
      "cell_type": "markdown",
      "source": [
        "**Array Creation**"
      ],
      "metadata": {
        "id": "Zf7qoUlemfsm"
      }
    },
    {
      "cell_type": "markdown",
      "source": [
        "Create a numpy array of size 10, filled with zeros.\n"
      ],
      "metadata": {
        "id": "sVr_HdsZm1rO"
      }
    },
    {
      "cell_type": "code",
      "source": [
        "arr1 = np.zeros(10)"
      ],
      "metadata": {
        "id": "96N_Osg8m9QK"
      },
      "execution_count": 251,
      "outputs": []
    },
    {
      "cell_type": "markdown",
      "source": [
        "Create a numpy array with values ranging from 10 to 49\n"
      ],
      "metadata": {
        "id": "zLZG2XCZm-Cg"
      }
    },
    {
      "cell_type": "code",
      "source": [
        "arr2 = np.empty(40)\n",
        "for i in range (10,50):\n",
        "  arr2[i-10] = i"
      ],
      "metadata": {
        "id": "Jb3ER9tqnBZy"
      },
      "execution_count": 252,
      "outputs": []
    },
    {
      "cell_type": "markdown",
      "source": [
        "Create a numpy matrix of 2*2 integers, filled with ones.\n"
      ],
      "metadata": {
        "id": "-x_82qwgnMj3"
      }
    },
    {
      "cell_type": "code",
      "source": [
        "mat1 = np.ones((2,2))"
      ],
      "metadata": {
        "id": "zn6jVJNOnNJa"
      },
      "execution_count": 253,
      "outputs": []
    },
    {
      "cell_type": "markdown",
      "source": [
        "Given the X numpy array, create a new numpy array with the same shape and type as X, filled with ones.\n"
      ],
      "metadata": {
        "id": "SviHusp0nTrI"
      }
    },
    {
      "cell_type": "code",
      "source": [
        " X = np.array([\n",
        "     [1,2,3,4],\n",
        "     [5,6,7,8],\n",
        "     [9,10,11,12],\n",
        "     [13,14,15,16]\n",
        " ])\n",
        "LikeX = np.ones(X.shape, dtype = X.dtype)"
      ],
      "metadata": {
        "id": "xFxQejOhnUSD"
      },
      "execution_count": 254,
      "outputs": []
    },
    {
      "cell_type": "markdown",
      "source": [
        "Given the X numpy matrix, create a new numpy matrix with the same shape and type as X, filled with zeros.\n"
      ],
      "metadata": {
        "id": "AcCekhA2nZdq"
      }
    },
    {
      "cell_type": "code",
      "source": [
        "Like2X = np.zeros(X.shape, dtype = X.dtype)"
      ],
      "metadata": {
        "id": "6xmGS9MTnaBL"
      },
      "execution_count": 255,
      "outputs": []
    },
    {
      "cell_type": "markdown",
      "source": [
        "Create a numpy matrix of 4*4 integers, filled with fives.\n"
      ],
      "metadata": {
        "id": "_-POa2N7ncPa"
      }
    },
    {
      "cell_type": "code",
      "source": [
        "fivemat = np.full((4,4),5)"
      ],
      "metadata": {
        "id": "5FvaaJTknesz"
      },
      "execution_count": 256,
      "outputs": []
    },
    {
      "cell_type": "markdown",
      "source": [
        "Given the X numpy matrix, create a new numpy matrix with the same shape and type as X, filled with sevens.\n"
      ],
      "metadata": {
        "id": "9zWmiEJDnfNZ"
      }
    },
    {
      "cell_type": "code",
      "source": [
        "sevenLikeX = np.full(X.shape, 7, dtype = X.dtype)"
      ],
      "metadata": {
        "id": "RzcYCBk9niw3"
      },
      "execution_count": 257,
      "outputs": []
    },
    {
      "cell_type": "markdown",
      "source": [
        "Create a 3*3 identity numpy matrix with ones on the diagonal and zeros elsewhere.\n"
      ],
      "metadata": {
        "id": "dZ4hdBzznlpH"
      }
    },
    {
      "cell_type": "code",
      "source": [
        "Axe = np.zeros((3,3))\n",
        "for i in range (0,3):\n",
        "  Axe[i,i] = 1"
      ],
      "metadata": {
        "id": "LoA1E5Y0nmH_"
      },
      "execution_count": 258,
      "outputs": []
    },
    {
      "cell_type": "markdown",
      "source": [
        "Create a numpy array, filled with 3 random integer values between 1 and 10. hint: use randint\n"
      ],
      "metadata": {
        "id": "63pIFnHwnq47"
      }
    },
    {
      "cell_type": "code",
      "source": [
        "randomInt = np.random.randint(1,11,3)\n",
        "print(randomInt)"
      ],
      "metadata": {
        "id": "P0WiZbIinr-m",
        "colab": {
          "base_uri": "https://localhost:8080/"
        },
        "outputId": "7bf1323d-a1f5-4c87-f447-38b771b64b95"
      },
      "execution_count": 259,
      "outputs": [
        {
          "output_type": "stream",
          "name": "stdout",
          "text": [
            "[8 7 8]\n"
          ]
        }
      ]
    },
    {
      "cell_type": "markdown",
      "source": [
        "Create a 3 x 3 x 3 numpy matrix, filled with random float values.\n"
      ],
      "metadata": {
        "id": "KdG19zE2n3CK"
      }
    },
    {
      "cell_type": "code",
      "source": [
        "randomFloat = np.random.rand(3,3,3)"
      ],
      "metadata": {
        "id": "Bdxi6ad1n3kv"
      },
      "execution_count": 260,
      "outputs": []
    },
    {
      "cell_type": "markdown",
      "source": [
        "Given the X python list convert it to an Y numpy array\n"
      ],
      "metadata": {
        "id": "XrDgmMuLoAeQ"
      }
    },
    {
      "cell_type": "code",
      "source": [
        "Y = np.array(X)"
      ],
      "metadata": {
        "id": "_qjTftGqoBVC"
      },
      "execution_count": 261,
      "outputs": []
    },
    {
      "cell_type": "markdown",
      "source": [
        "Given the X numpy array, make a copy and store it on Y.\n"
      ],
      "metadata": {
        "id": "9BZUrsPyoE94"
      }
    },
    {
      "cell_type": "code",
      "source": [
        "Y = np.copy(X)"
      ],
      "metadata": {
        "id": "BEkqlkcZoFmZ"
      },
      "execution_count": 262,
      "outputs": []
    },
    {
      "cell_type": "markdown",
      "source": [
        "Create a numpy array with numbers from 1 to 10\n"
      ],
      "metadata": {
        "id": "djmwx3hJoIeM"
      }
    },
    {
      "cell_type": "code",
      "source": [
        "Arr = np.arange(1,11)"
      ],
      "metadata": {
        "id": "nkH8A-2YoL3y"
      },
      "execution_count": 263,
      "outputs": []
    },
    {
      "cell_type": "markdown",
      "source": [
        "Create a numpy array with the odd numbers between 1 to 100\n"
      ],
      "metadata": {
        "id": "rumL2xGdoRWP"
      }
    },
    {
      "cell_type": "code",
      "source": [
        "Arr2 = np.arange(1,101,2)"
      ],
      "metadata": {
        "id": "tEDYMPkLoTKF"
      },
      "execution_count": 264,
      "outputs": []
    },
    {
      "cell_type": "markdown",
      "source": [
        "Create a numpy array with numbers from 1 to 100, in descending order.\n"
      ],
      "metadata": {
        "id": "XKEpIMPMoWEH"
      }
    },
    {
      "cell_type": "code",
      "source": [
        "Arr3 = np.arange(100,0,-1)"
      ],
      "metadata": {
        "id": "Hd4E6ZUZoXhM"
      },
      "execution_count": 265,
      "outputs": []
    },
    {
      "cell_type": "markdown",
      "source": [
        "Create a 3*3 numpy matrix, filled with values ranging from 0 to 8\n"
      ],
      "metadata": {
        "id": "OjVz9LDIob6e"
      }
    },
    {
      "cell_type": "code",
      "source": [
        "Mat = np.empty((3,3))\n",
        "for i in range (0,3):\n",
        "  for j in range (0,3):\n",
        "    Mat[i,j] = 3 * i + j"
      ],
      "metadata": {
        "id": "cymvUDrVocmB"
      },
      "execution_count": 266,
      "outputs": []
    },
    {
      "cell_type": "markdown",
      "source": [
        "**Array Indexation**"
      ],
      "metadata": {
        "id": "xq3phoxioiBg"
      }
    },
    {
      "cell_type": "markdown",
      "source": [
        "The following is the array X, run the following cell."
      ],
      "metadata": {
        "id": "PAGbCdHOp2_d"
      }
    },
    {
      "cell_type": "code",
      "source": [
        "X = np.array(['A','B','C','D','E'])"
      ],
      "metadata": {
        "id": "ItTSFkNRqAxf"
      },
      "execution_count": 267,
      "outputs": []
    },
    {
      "cell_type": "markdown",
      "source": [
        "Given the X numpy array, show it's first and last element\n"
      ],
      "metadata": {
        "id": "zC2VllkXqDGx"
      }
    },
    {
      "cell_type": "code",
      "source": [
        "print(X[0])\n",
        "print(X[X.size - 1])"
      ],
      "metadata": {
        "id": "vgZPW6RsqJaj",
        "colab": {
          "base_uri": "https://localhost:8080/"
        },
        "outputId": "3e4b3364-180f-4980-c371-302b00bd47e7"
      },
      "execution_count": 268,
      "outputs": [
        {
          "output_type": "stream",
          "name": "stdout",
          "text": [
            "A\n",
            "E\n"
          ]
        }
      ]
    },
    {
      "cell_type": "markdown",
      "source": [
        "Given the X numpy array, show it's first three elements\n"
      ],
      "metadata": {
        "id": "TBIdhFd9qJtQ"
      }
    },
    {
      "cell_type": "code",
      "source": [
        "print(X[:3])"
      ],
      "metadata": {
        "id": "5RvD8q3Rsdvd",
        "colab": {
          "base_uri": "https://localhost:8080/"
        },
        "outputId": "01c3e46e-ef83-4fda-98ba-d4ac37e099bd"
      },
      "execution_count": 269,
      "outputs": [
        {
          "output_type": "stream",
          "name": "stdout",
          "text": [
            "['A' 'B' 'C']\n"
          ]
        }
      ]
    },
    {
      "cell_type": "markdown",
      "source": [
        "Given the X numpy array, show the elements in reverse position\n"
      ],
      "metadata": {
        "id": "1k2sqOdgsb1l"
      }
    },
    {
      "cell_type": "code",
      "source": [
        "for i in range (X.size - 1, -1, -1):\n",
        "  print(X[i])"
      ],
      "metadata": {
        "id": "49VcB5p4rWz_",
        "colab": {
          "base_uri": "https://localhost:8080/"
        },
        "outputId": "2f194154-ef49-4a86-f29e-1bbfaeae24e5"
      },
      "execution_count": 270,
      "outputs": [
        {
          "output_type": "stream",
          "name": "stdout",
          "text": [
            "E\n",
            "D\n",
            "C\n",
            "B\n",
            "A\n"
          ]
        }
      ]
    },
    {
      "cell_type": "markdown",
      "source": [
        "Given the X numpy array, show the elements in an odd position. hint: you can manioulate X if you want to.\n"
      ],
      "metadata": {
        "id": "154sBbW4s3xz"
      }
    },
    {
      "cell_type": "code",
      "source": [
        "print(X[::2])"
      ],
      "metadata": {
        "id": "ZztyoUeztnqm",
        "colab": {
          "base_uri": "https://localhost:8080/"
        },
        "outputId": "af7fa124-8b51-41dd-f99c-bdfba6c7f9d0"
      },
      "execution_count": 271,
      "outputs": [
        {
          "output_type": "stream",
          "name": "stdout",
          "text": [
            "['A' 'C' 'E']\n"
          ]
        }
      ]
    },
    {
      "cell_type": "markdown",
      "source": [
        "the following is X now, run this cell below"
      ],
      "metadata": {
        "id": "OenkPTXktn6G"
      }
    },
    {
      "cell_type": "code",
      "source": [
        "X = np.array([\n",
        "    [1,   2,  3,  4],\n",
        "    [5,   6,  7,  8],\n",
        "    [9,  10, 11, 12],\n",
        "    [13, 14, 15, 16]\n",
        "])"
      ],
      "metadata": {
        "id": "4Eg1mu5Kt3TL"
      },
      "execution_count": 272,
      "outputs": []
    },
    {
      "cell_type": "markdown",
      "source": [
        "Given the X numpy matrix, show the first row elements and last row elements.\n"
      ],
      "metadata": {
        "id": "AVvPVCfHt6iY"
      }
    },
    {
      "cell_type": "code",
      "source": [
        "print(X[0])\n",
        "print(X[X.shape[0] - 1])"
      ],
      "metadata": {
        "id": "AyEDT4ZYuFQD",
        "colab": {
          "base_uri": "https://localhost:8080/"
        },
        "outputId": "57588471-325c-496b-9b48-9a9fc63b2666"
      },
      "execution_count": 273,
      "outputs": [
        {
          "output_type": "stream",
          "name": "stdout",
          "text": [
            "[1 2 3 4]\n",
            "[13 14 15 16]\n"
          ]
        }
      ]
    },
    {
      "cell_type": "markdown",
      "source": [
        "Given the X numpy matrix, show the last element on last row\n"
      ],
      "metadata": {
        "id": "HQee_E8huFlr"
      }
    },
    {
      "cell_type": "code",
      "source": [
        "print(X[-1][-1])"
      ],
      "metadata": {
        "id": "y5XanU0vutwA",
        "colab": {
          "base_uri": "https://localhost:8080/"
        },
        "outputId": "3ccf94d8-57e1-43c3-e4b0-5f28c14a222f"
      },
      "execution_count": 274,
      "outputs": [
        {
          "output_type": "stream",
          "name": "stdout",
          "text": [
            "16\n"
          ]
        }
      ]
    },
    {
      "cell_type": "markdown",
      "source": [
        "Given the X numpy matrix, show the middle row elements\n",
        "\n",
        "the following is wrong! it is a common mistake many students make\n",
        "```\n",
        "X[1:-1][1:-1]\n",
        "```\n",
        "\n"
      ],
      "metadata": {
        "id": "gM29jchtuxo7"
      }
    },
    {
      "cell_type": "code",
      "source": [
        "midRowIndex = (int)(X.shape[0] / 2)\n",
        "print(X[midRowIndex])"
      ],
      "metadata": {
        "id": "ZR-2Lr21uypK",
        "colab": {
          "base_uri": "https://localhost:8080/"
        },
        "outputId": "1c17876e-f7c6-41b1-c782-30bc36d2c5e5"
      },
      "execution_count": 275,
      "outputs": [
        {
          "output_type": "stream",
          "name": "stdout",
          "text": [
            "[ 9 10 11 12]\n"
          ]
        }
      ]
    },
    {
      "cell_type": "markdown",
      "source": [
        "Given the X numpy matrix, show the first two elements on the first two rows\n",
        "```\n",
        "#X[:2][:2] is wrong!\n",
        "```"
      ],
      "metadata": {
        "id": "oBPA7UkN3h3W"
      }
    },
    {
      "cell_type": "code",
      "source": [
        "print(X[:2, :2])"
      ],
      "metadata": {
        "id": "3XgbHYsgBahH",
        "colab": {
          "base_uri": "https://localhost:8080/"
        },
        "outputId": "25d2c7fd-ab1b-43f4-a726-9579eb152cf4"
      },
      "execution_count": 276,
      "outputs": [
        {
          "output_type": "stream",
          "name": "stdout",
          "text": [
            "[[1 2]\n",
            " [5 6]]\n"
          ]
        }
      ]
    },
    {
      "cell_type": "markdown",
      "source": [
        "Given the X numpy matrix, show the last two elements on the last two rows\n"
      ],
      "metadata": {
        "id": "gzHrT1iGBpiB"
      }
    },
    {
      "cell_type": "code",
      "source": [
        "print(X[-2:, -2:])"
      ],
      "metadata": {
        "id": "dDqN6R2hBqI-",
        "colab": {
          "base_uri": "https://localhost:8080/"
        },
        "outputId": "7976d9a6-ef06-4d03-a675-93b5895deefb"
      },
      "execution_count": 277,
      "outputs": [
        {
          "output_type": "stream",
          "name": "stdout",
          "text": [
            "[[11 12]\n",
            " [15 16]]\n"
          ]
        }
      ]
    },
    {
      "cell_type": "markdown",
      "source": [
        "**Array manipulation**"
      ],
      "metadata": {
        "id": "Y_85S02VBqdV"
      }
    },
    {
      "cell_type": "markdown",
      "source": [
        "this the array X, you have to perform operations on"
      ],
      "metadata": {
        "id": "A-TKXFvTDDby"
      }
    },
    {
      "cell_type": "code",
      "source": [
        "X = [0, 10, -5, 40, -3]"
      ],
      "metadata": {
        "id": "yx36J5fhDmDj"
      },
      "execution_count": 278,
      "outputs": []
    },
    {
      "cell_type": "markdown",
      "source": [
        "Convert the given integer numpy array to float\n"
      ],
      "metadata": {
        "id": "g_gKXi74Bu7S"
      }
    },
    {
      "cell_type": "code",
      "source": [
        "X = np.array(X, dtype = float)"
      ],
      "metadata": {
        "id": "741x7uWcCy9t"
      },
      "execution_count": 279,
      "outputs": []
    },
    {
      "cell_type": "markdown",
      "source": [
        "Reverse the given numpy array (first element becomes last)\n"
      ],
      "metadata": {
        "id": "YW3DvQAZDra8"
      }
    },
    {
      "cell_type": "code",
      "source": [
        "X = np.flip(X)"
      ],
      "metadata": {
        "id": "rbpjNT8WDuSp"
      },
      "execution_count": 280,
      "outputs": []
    },
    {
      "cell_type": "markdown",
      "source": [
        "Order (sort) the given numpy array\n"
      ],
      "metadata": {
        "id": "WrgCmYpDDw2i"
      }
    },
    {
      "cell_type": "code",
      "source": [
        "X.sort()"
      ],
      "metadata": {
        "id": "E86is04SDxxw"
      },
      "execution_count": 281,
      "outputs": []
    },
    {
      "cell_type": "markdown",
      "source": [
        "Given the X numpy array, set the fifth element equal to 1\n"
      ],
      "metadata": {
        "id": "SGk3xZ5cD3rF"
      }
    },
    {
      "cell_type": "code",
      "source": [
        "X[4] = 1"
      ],
      "metadata": {
        "id": "WzBhVE1TD4OD"
      },
      "execution_count": 282,
      "outputs": []
    },
    {
      "cell_type": "markdown",
      "source": [
        "now for the following X"
      ],
      "metadata": {
        "id": "xQCHdxDuD-6E"
      }
    },
    {
      "cell_type": "code",
      "source": [
        "X = np.array([\n",
        "    [1,   2,  3,  4],\n",
        "    [5,   6,  7,  8],\n",
        "    [9,  10, 11, 12],\n",
        "    [13, 14, 15, 16]\n",
        "])"
      ],
      "metadata": {
        "id": "rFiW6j4LEBcH"
      },
      "execution_count": 283,
      "outputs": []
    },
    {
      "cell_type": "markdown",
      "source": [
        "Given the X numpy matrix, change the last row with all 1\n"
      ],
      "metadata": {
        "id": "Qz9HU_XpEEI2"
      }
    },
    {
      "cell_type": "code",
      "source": [
        "X[-1] = 1"
      ],
      "metadata": {
        "id": "Yzel4w9bEGyI"
      },
      "execution_count": 284,
      "outputs": []
    },
    {
      "cell_type": "markdown",
      "source": [
        "Given the X numpy matrix, change the last item on the last row with a 0\n"
      ],
      "metadata": {
        "id": "r4hFmci3EK_1"
      }
    },
    {
      "cell_type": "code",
      "source": [
        "X[-1][-1] = 0"
      ],
      "metadata": {
        "id": "CQ8AmCdSELr4"
      },
      "execution_count": 285,
      "outputs": []
    },
    {
      "cell_type": "markdown",
      "source": [
        "Given the X numpy matrix, add 5 to every element\n"
      ],
      "metadata": {
        "id": "8q2N_zvzEOz5"
      }
    },
    {
      "cell_type": "code",
      "source": [
        "X = X + 5"
      ],
      "metadata": {
        "id": "83SP9EunEPYB"
      },
      "execution_count": 286,
      "outputs": []
    },
    {
      "cell_type": "markdown",
      "source": [
        "# PANDAS DATAFRAME"
      ],
      "metadata": {
        "id": "mdudmaTYF0QL"
      }
    },
    {
      "cell_type": "markdown",
      "source": [
        "import pandas and matplotlib"
      ],
      "metadata": {
        "id": "7Bma98zHF7Ku"
      }
    },
    {
      "cell_type": "code",
      "source": [
        "import pandas as pd\n",
        "import matplotlib.pyplot as plt"
      ],
      "metadata": {
        "id": "02u09bcSGDN9"
      },
      "execution_count": 287,
      "outputs": []
    },
    {
      "cell_type": "markdown",
      "source": [
        "Create an empty pandas DataFrame\n"
      ],
      "metadata": {
        "id": "o_lIAdsAGDmp"
      }
    },
    {
      "cell_type": "code",
      "source": [
        "df = pd.DataFrame()"
      ],
      "metadata": {
        "id": "KNvISqUHGHNL"
      },
      "execution_count": 288,
      "outputs": []
    },
    {
      "cell_type": "markdown",
      "source": [
        "Create a marvel_df pandas DataFrame with the given marvel data\n"
      ],
      "metadata": {
        "id": "75Dm4VKrGHlH"
      }
    },
    {
      "cell_type": "code",
      "source": [
        "marvel_data = [\n",
        "    ['Spider-Man', 'male', 1962],\n",
        "    ['Captain America', 'male', 1941],\n",
        "    ['Wolverine', 'male', 1974],\n",
        "    ['Iron Man', 'male', 1963],\n",
        "    ['Thor', 'male', 1963],\n",
        "    ['Thing', 'male', 1961],\n",
        "    ['Mister Fantastic', 'male', 1961],\n",
        "    ['Hulk', 'male', 1962],\n",
        "    ['Beast', 'male', 1963],\n",
        "    ['Invisible Woman', 'female', 1961],\n",
        "    ['Storm', 'female', 1975],\n",
        "    ['Namor', 'male', 1939],\n",
        "    ['Hawkeye', 'male', 1964],\n",
        "    ['Daredevil', 'male', 1964],\n",
        "    ['Doctor Strange', 'male', 1963],\n",
        "    ['Hank Pym', 'male', 1962],\n",
        "    ['Scarlet Witch', 'female', 1964],\n",
        "    ['Wasp', 'female', 1963],\n",
        "    ['Black Widow', 'female', 1964],\n",
        "    ['Vision', 'male', 1968]\n",
        "]"
      ],
      "metadata": {
        "id": "Kq9Hgq9xGMzp"
      },
      "execution_count": 289,
      "outputs": []
    },
    {
      "cell_type": "code",
      "source": [
        "marvel_df = pd.DataFrame(marvel_data)"
      ],
      "metadata": {
        "id": "R3THVuvUGPrj"
      },
      "execution_count": 290,
      "outputs": []
    },
    {
      "cell_type": "markdown",
      "source": [
        "Add column names to the marvel_df \\\n",
        "name them - 'name' 'sex' and 'first_appearance'"
      ],
      "metadata": {
        "id": "N3I_Z_gUGRAK"
      }
    },
    {
      "cell_type": "code",
      "source": [
        "marvel_df.columns = ['name', 'sex', 'first_appearance']"
      ],
      "metadata": {
        "id": "KrfmVJE9GdD3",
        "colab": {
          "base_uri": "https://localhost:8080/"
        },
        "outputId": "b9d0ecaa-6c88-4391-a029-91f9559268ad"
      },
      "execution_count": 291,
      "outputs": [
        {
          "output_type": "stream",
          "name": "stdout",
          "text": [
            "                name     sex  first_appearance\n",
            "0         Spider-Man    male              1962\n",
            "1    Captain America    male              1941\n",
            "2          Wolverine    male              1974\n",
            "3           Iron Man    male              1963\n",
            "4               Thor    male              1963\n",
            "5              Thing    male              1961\n",
            "6   Mister Fantastic    male              1961\n",
            "7               Hulk    male              1962\n",
            "8              Beast    male              1963\n",
            "9    Invisible Woman  female              1961\n",
            "10             Storm  female              1975\n",
            "11             Namor    male              1939\n",
            "12           Hawkeye    male              1964\n",
            "13         Daredevil    male              1964\n",
            "14    Doctor Strange    male              1963\n",
            "15          Hank Pym    male              1962\n",
            "16     Scarlet Witch  female              1964\n",
            "17              Wasp  female              1963\n",
            "18       Black Widow  female              1964\n",
            "19            Vision    male              1968\n"
          ]
        }
      ]
    },
    {
      "cell_type": "markdown",
      "source": [
        "Add index names to the marvel_df (use the character name as index)\n"
      ],
      "metadata": {
        "id": "oIRf7mvaGkUM"
      }
    },
    {
      "cell_type": "code",
      "source": [
        "marvel_df = marvel_df.set_index('name', drop=False)"
      ],
      "metadata": {
        "id": "7ZKcxNVUGoE8"
      },
      "execution_count": 292,
      "outputs": []
    },
    {
      "cell_type": "markdown",
      "source": [
        "Drop the name column as it's now the index\n"
      ],
      "metadata": {
        "id": "3lrAXfzjGodn"
      }
    },
    {
      "cell_type": "code",
      "source": [
        "marvel_df = marvel_df.drop('name', axis=1)"
      ],
      "metadata": {
        "id": "CB47WxvKGrW7"
      },
      "execution_count": 293,
      "outputs": []
    },
    {
      "cell_type": "markdown",
      "source": [
        "Drop 'Namor' and 'Hank Pym' rows\n"
      ],
      "metadata": {
        "id": "yFBlidmMGsjQ"
      }
    },
    {
      "cell_type": "code",
      "source": [
        "marvel_df = marvel_df.drop('Namor', axis = 0)\n",
        "marvel_df = marvel_df.drop('Hank Pym', axis = 0)"
      ],
      "metadata": {
        "id": "i_06meFoGrc0"
      },
      "execution_count": 294,
      "outputs": []
    },
    {
      "cell_type": "markdown",
      "source": [
        "**DataFrame selection, slicing and indexation**"
      ],
      "metadata": {
        "id": "EVaXSBEqGvGb"
      }
    },
    {
      "cell_type": "markdown",
      "source": [
        "Show the first 5 elements on marvel_df\\\n",
        "you can do it in many ways\n"
      ],
      "metadata": {
        "id": "6rx_tIpFG5-x"
      }
    },
    {
      "cell_type": "code",
      "source": [
        "print(marvel_df.head())"
      ],
      "metadata": {
        "id": "AaryJtvJHCCW",
        "colab": {
          "base_uri": "https://localhost:8080/"
        },
        "outputId": "0976407b-4789-4f29-92c6-e56c0259106a"
      },
      "execution_count": 295,
      "outputs": [
        {
          "output_type": "stream",
          "name": "stdout",
          "text": [
            "                  sex  first_appearance\n",
            "name                                   \n",
            "Spider-Man       male              1962\n",
            "Captain America  male              1941\n",
            "Wolverine        male              1974\n",
            "Iron Man         male              1963\n",
            "Thor             male              1963\n"
          ]
        }
      ]
    },
    {
      "cell_type": "markdown",
      "source": [
        "Show the last 5 elements on marvel_df\n"
      ],
      "metadata": {
        "id": "vliP0iF5HFG-"
      }
    },
    {
      "cell_type": "code",
      "source": [
        "print(marvel_df.tail())"
      ],
      "metadata": {
        "id": "OSdKoC1bHF6e",
        "colab": {
          "base_uri": "https://localhost:8080/"
        },
        "outputId": "a2bfb6c2-ec5a-40b8-eede-1770c49cb687"
      },
      "execution_count": 296,
      "outputs": [
        {
          "output_type": "stream",
          "name": "stdout",
          "text": [
            "                   sex  first_appearance\n",
            "name                                    \n",
            "Doctor Strange    male              1963\n",
            "Scarlet Witch   female              1964\n",
            "Wasp            female              1963\n",
            "Black Widow     female              1964\n",
            "Vision            male              1968\n"
          ]
        }
      ]
    },
    {
      "cell_type": "markdown",
      "source": [
        "Show just the sex of the first 5 elements on marvel_df\n"
      ],
      "metadata": {
        "id": "wudebhkCHGHp"
      }
    },
    {
      "cell_type": "code",
      "source": [
        "print(marvel_df.head()['sex'])"
      ],
      "metadata": {
        "id": "E1tVdY-vHIpS",
        "colab": {
          "base_uri": "https://localhost:8080/"
        },
        "outputId": "06ecebb5-f63e-4c95-edf4-74c6f4c9b2fc"
      },
      "execution_count": 297,
      "outputs": [
        {
          "output_type": "stream",
          "name": "stdout",
          "text": [
            "name\n",
            "Spider-Man         male\n",
            "Captain America    male\n",
            "Wolverine          male\n",
            "Iron Man           male\n",
            "Thor               male\n",
            "Name: sex, dtype: object\n"
          ]
        }
      ]
    },
    {
      "cell_type": "markdown",
      "source": [
        "Show the first_appearance of all middle elements on marvel_df\n"
      ],
      "metadata": {
        "id": "bzQ0x_8zHI3T"
      }
    },
    {
      "cell_type": "code",
      "source": [
        "if(len(marvel_df) % 2 == 1):\n",
        "  print(marvel_df.iloc[int(len(marvel_df) / 2) - 1]['first_appearance'])\n",
        "else:\n",
        "  print(marvel_df.iloc[int(len(marvel_df) / 2) - 1]['first_appearance'])\n",
        "  print(marvel_df.iloc[int(len(marvel_df) / 2)]['first_appearance'])"
      ],
      "metadata": {
        "id": "1kBrf8L7HK71",
        "colab": {
          "base_uri": "https://localhost:8080/"
        },
        "outputId": "6bc134c5-a8f6-414d-93ff-3bb71cd9fbc0"
      },
      "execution_count": 298,
      "outputs": [
        {
          "output_type": "stream",
          "name": "stdout",
          "text": [
            "1963\n",
            "1961\n"
          ]
        }
      ]
    },
    {
      "cell_type": "markdown",
      "source": [
        "Show the first and last elements on marvel_df\n"
      ],
      "metadata": {
        "id": "14xvaGHsHLKi"
      }
    },
    {
      "cell_type": "code",
      "source": [
        "print(marvel_df.head(1))\n",
        "print(marvel_df.tail(1))"
      ],
      "metadata": {
        "id": "lPXLftYXHNYA",
        "colab": {
          "base_uri": "https://localhost:8080/"
        },
        "outputId": "15200a9a-600d-4a91-b8a4-eb3dc3439634"
      },
      "execution_count": 299,
      "outputs": [
        {
          "output_type": "stream",
          "name": "stdout",
          "text": [
            "             sex  first_appearance\n",
            "name                              \n",
            "Spider-Man  male              1962\n",
            "         sex  first_appearance\n",
            "name                          \n",
            "Vision  male              1968\n"
          ]
        }
      ]
    },
    {
      "cell_type": "markdown",
      "source": [
        "**DataFrame manipulation and operations**"
      ],
      "metadata": {
        "id": "AlZwRFUwHNkZ"
      }
    },
    {
      "cell_type": "markdown",
      "source": [
        "Modify the first_appearance of 'Vision' to year 1964\n"
      ],
      "metadata": {
        "id": "DKkPvwUqHUex"
      }
    },
    {
      "cell_type": "code",
      "source": [
        "marvel_df.loc['Vision', 'first_appearance'] = 1964"
      ],
      "metadata": {
        "id": "F2qMqJbVHXgK"
      },
      "execution_count": 300,
      "outputs": []
    },
    {
      "cell_type": "markdown",
      "source": [
        "Add a new column to marvel_df called 'years_since' with the years since first_appearance.\\\n",
        "hint: values would be 2024 - coulmn year\n"
      ],
      "metadata": {
        "id": "S5EvMnuMHWUQ"
      }
    },
    {
      "cell_type": "code",
      "source": [
        "marvel_df['years_since'] = 2024 - marvel_df['first_appearance']"
      ],
      "metadata": {
        "id": "A89uFuvHHh_-"
      },
      "execution_count": 301,
      "outputs": []
    },
    {
      "cell_type": "markdown",
      "source": [
        "**DataFrame summary statistics**"
      ],
      "metadata": {
        "id": "8ozUmak_Hici"
      }
    },
    {
      "cell_type": "markdown",
      "source": [
        "Show basic statistics of marvel_df\\\n",
        "hint: describe"
      ],
      "metadata": {
        "id": "BA7E4P03Hp4K"
      }
    },
    {
      "cell_type": "code",
      "source": [
        "print(marvel_df.describe())"
      ],
      "metadata": {
        "id": "5Nfqdo3hHxh8",
        "colab": {
          "base_uri": "https://localhost:8080/"
        },
        "outputId": "75035282-a714-4976-8d2a-bdd4a415613a"
      },
      "execution_count": 302,
      "outputs": [
        {
          "output_type": "stream",
          "name": "stdout",
          "text": [
            "       first_appearance  years_since\n",
            "count         18.000000    18.000000\n",
            "mean        1962.888889    61.111111\n",
            "std            6.720372     6.720372\n",
            "min         1941.000000    49.000000\n",
            "25%         1962.000000    60.000000\n",
            "50%         1963.000000    61.000000\n",
            "75%         1964.000000    62.000000\n",
            "max         1975.000000    83.000000\n"
          ]
        }
      ]
    },
    {
      "cell_type": "markdown",
      "source": [
        "Given the marvel_df pandas DataFrame, show the mean value of first_appearance\n"
      ],
      "metadata": {
        "id": "IMkTqT6ZH0Cn"
      }
    },
    {
      "cell_type": "code",
      "source": [
        "print(marvel_df['first_appearance'].mean())"
      ],
      "metadata": {
        "id": "ClMFohM7H22H",
        "colab": {
          "base_uri": "https://localhost:8080/"
        },
        "outputId": "15764f4b-720e-4c03-af2f-c8a32db36712"
      },
      "execution_count": 303,
      "outputs": [
        {
          "output_type": "stream",
          "name": "stdout",
          "text": [
            "1962.888888888889\n"
          ]
        }
      ]
    },
    {
      "cell_type": "markdown",
      "source": [
        "Given the marvel_df pandas DataFrame, show the min value of first_appearance\n"
      ],
      "metadata": {
        "id": "ZiTu1H4EH3TW"
      }
    },
    {
      "cell_type": "code",
      "source": [
        "print(marvel_df['first_appearance'].min())"
      ],
      "metadata": {
        "id": "AYiG6X7YH67c",
        "colab": {
          "base_uri": "https://localhost:8080/"
        },
        "outputId": "3e0ef698-589d-44bd-fe24-765a4bd94797"
      },
      "execution_count": 304,
      "outputs": [
        {
          "output_type": "stream",
          "name": "stdout",
          "text": [
            "1941\n"
          ]
        }
      ]
    },
    {
      "cell_type": "markdown",
      "source": [
        "Given the marvel_df pandas DataFrame, get the characters with the min value of first_appearance\n"
      ],
      "metadata": {
        "id": "nvoyBXvdH7LY"
      }
    },
    {
      "cell_type": "code",
      "source": [
        "chars = marvel_df[marvel_df['first_appearance'] == marvel_df['first_appearance'].min()]\n",
        "print(chars)"
      ],
      "metadata": {
        "id": "496I3MpvIGYx",
        "colab": {
          "base_uri": "https://localhost:8080/"
        },
        "outputId": "7134d7c7-799b-4b19-cc8d-37402b914914"
      },
      "execution_count": 305,
      "outputs": [
        {
          "output_type": "stream",
          "name": "stdout",
          "text": [
            "                  sex  first_appearance  years_since\n",
            "name                                                \n",
            "Captain America  male              1941           83\n"
          ]
        }
      ]
    },
    {
      "cell_type": "markdown",
      "source": [
        "**DataFrame basic plottings**"
      ],
      "metadata": {
        "id": "WF8avBQHIGpO"
      }
    },
    {
      "cell_type": "markdown",
      "source": [
        "Reset index names of marvel_df\\\n",
        "hint: use .reset_index()"
      ],
      "metadata": {
        "id": "MiUVrrmZITwF"
      }
    },
    {
      "cell_type": "code",
      "source": [
        "marvel_df_reset = marvel_df.reset_index()"
      ],
      "metadata": {
        "id": "hJkWjyWkIdVB"
      },
      "execution_count": 306,
      "outputs": []
    },
    {
      "cell_type": "markdown",
      "source": [
        "Plot the values of first_appearance\n"
      ],
      "metadata": {
        "id": "2Miimz0MIdr8"
      }
    },
    {
      "cell_type": "code",
      "source": [
        "marvel_df['first_appearance'].plot(kind='bar', figsize=(10,6), color='c')\n",
        "plt.ylim(marvel_df['first_appearance'].min() - 10, marvel_df['first_appearance'].max() + 10)\n",
        "plt.show()"
      ],
      "metadata": {
        "id": "fDBPJFdZIfwY",
        "colab": {
          "base_uri": "https://localhost:8080/",
          "height": 644
        },
        "outputId": "331484c4-67b1-4f17-86cc-58d470b68614"
      },
      "execution_count": 307,
      "outputs": [
        {
          "output_type": "display_data",
          "data": {
            "text/plain": [
              "<Figure size 1000x600 with 1 Axes>"
            ],
            "image/png": "[encoded data removed]"
          },
          "metadata": {}
        }
      ]
    },
    {
      "cell_type": "markdown",
      "source": [
        "Plot a histogram (plot.hist) with values of first_appearance\n"
      ],
      "metadata": {
        "id": "nnuTvn_rIf8s"
      }
    },
    {
      "cell_type": "code",
      "source": [
        "marvel_df['first_appearance'].plot.hist(bins=300, figsize=(14,6), color='b'); plt.show()"
      ],
      "metadata": {
        "id": "fd2EJnfLIiBl",
        "colab": {
          "base_uri": "https://localhost:8080/",
          "height": 522
        },
        "outputId": "92250c5a-ba39-4f85-f469-b220e1407a63"
      },
      "execution_count": 308,
      "outputs": [
        {
          "output_type": "display_data",
          "data": {
            "text/plain": [
              "<Figure size 1400x600 with 1 Axes>"
            ],
            "image/png": "[encoded data removed]"
          },
          "metadata": {}
        }
      ]
    }
  ]
}
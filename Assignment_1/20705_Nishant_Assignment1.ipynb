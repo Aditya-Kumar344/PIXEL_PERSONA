{
  "nbformat": 4,
  "nbformat_minor": 0,
  "metadata": {
    "colab": {
      "provenance": []
    },
    "kernelspec": {
      "name": "python3",
      "display_name": "Python 3"
    },
    "language_info": {
      "name": "python"
    }
  },
  "cells": [
    {
      "cell_type": "markdown",
      "source": [
        "# Numpy exercise"
      ],
      "metadata": {
        "id": "xjMGftWslX3r"
      }
    },
    {
      "cell_type": "markdown",
      "source": [
        "you should make use of google or documentation if you get stuck on any question. Even you are cofused on understanding some part, reach out to any of us mentors. Try to learn as much as you can."
      ],
      "metadata": {
        "id": "1SaoZmRAleak"
      }
    },
    {
      "cell_type": "markdown",
      "source": [
        "import numpy"
      ],
      "metadata": {
        "id": "l0oCQweGuVqr"
      }
    },
    {
      "cell_type": "code",
      "source": [
        "import numpy as np"
      ],
      "metadata": {
        "id": "Zi9PzqXbuXFJ"
      },
      "execution_count": 3,
      "outputs": []
    },
    {
      "cell_type": "markdown",
      "source": [
        "**Array Creation**"
      ],
      "metadata": {
        "id": "Zf7qoUlemfsm"
      }
    },
    {
      "cell_type": "markdown",
      "source": [
        "Create a numpy array of size 10, filled with zeros.\n"
      ],
      "metadata": {
        "id": "sVr_HdsZm1rO"
      }
    },
    {
      "cell_type": "code",
      "source": [
        "a = np.zeros(10)"
      ],
      "metadata": {
        "id": "96N_Osg8m9QK"
      },
      "execution_count": 12,
      "outputs": []
    },
    {
      "cell_type": "markdown",
      "source": [
        "Create a numpy array with values ranging from 10 to 49\n"
      ],
      "metadata": {
        "id": "zLZG2XCZm-Cg"
      }
    },
    {
      "cell_type": "code",
      "source": [
        "np.arange(10,50)"
      ],
      "metadata": {
        "id": "Jb3ER9tqnBZy",
        "colab": {
          "base_uri": "https://localhost:8080/"
        },
        "outputId": "2bdf7eb7-897d-4e70-e5c2-9089dba16c31"
      },
      "execution_count": 22,
      "outputs": [
        {
          "output_type": "execute_result",
          "data": {
            "text/plain": [
              "array([10, 11, 12, 13, 14, 15, 16, 17, 18, 19, 20, 21, 22, 23, 24, 25, 26,\n",
              "       27, 28, 29, 30, 31, 32, 33, 34, 35, 36, 37, 38, 39, 40, 41, 42, 43,\n",
              "       44, 45, 46, 47, 48, 49])"
            ]
          },
          "metadata": {},
          "execution_count": 22
        }
      ]
    },
    {
      "cell_type": "markdown",
      "source": [
        "Create a numpy matrix of 2*2 integers, filled with ones.\n"
      ],
      "metadata": {
        "id": "-x_82qwgnMj3"
      }
    },
    {
      "cell_type": "code",
      "source": [
        "c = np.ones((2,2))\n",
        "print(c)"
      ],
      "metadata": {
        "id": "zn6jVJNOnNJa",
        "colab": {
          "base_uri": "https://localhost:8080/"
        },
        "outputId": "97226087-7330-435d-b5c0-b9a6bcc96cc3"
      },
      "execution_count": 15,
      "outputs": [
        {
          "output_type": "stream",
          "name": "stdout",
          "text": [
            "[[1. 1.]\n",
            " [1. 1.]]\n"
          ]
        }
      ]
    },
    {
      "cell_type": "markdown",
      "source": [
        "Given the X numpy array, create a new numpy array with the same shape and type as X, filled with ones.\n"
      ],
      "metadata": {
        "id": "SviHusp0nTrI"
      }
    },
    {
      "cell_type": "code",
      "source": [
        "X = np.array([\n",
        "    [1,   2,  3,  4],\n",
        "    [5,   6,  7,  8],\n",
        "    [9,  10, 11, 12],\n",
        "    [13, 14, 15, 16]\n",
        "])\n",
        "np.full_like(X,1)"
      ],
      "metadata": {
        "id": "xFxQejOhnUSD",
        "colab": {
          "base_uri": "https://localhost:8080/"
        },
        "outputId": "1c7d2863-1f30-40dc-d211-18b8d863a182"
      },
      "execution_count": 21,
      "outputs": [
        {
          "output_type": "execute_result",
          "data": {
            "text/plain": [
              "array([[1, 1, 1, 1],\n",
              "       [1, 1, 1, 1],\n",
              "       [1, 1, 1, 1],\n",
              "       [1, 1, 1, 1]])"
            ]
          },
          "metadata": {},
          "execution_count": 21
        }
      ]
    },
    {
      "cell_type": "markdown",
      "source": [
        "Given the X numpy matrix, create a new numpy matrix with the same shape and type as X, filled with zeros.\n"
      ],
      "metadata": {
        "id": "AcCekhA2nZdq"
      }
    },
    {
      "cell_type": "code",
      "source": [
        "np.full_like(X,0)"
      ],
      "metadata": {
        "id": "6xmGS9MTnaBL",
        "colab": {
          "base_uri": "https://localhost:8080/"
        },
        "outputId": "dfd10737-a1ff-42a3-8cb4-a19e4dc9b02c"
      },
      "execution_count": 20,
      "outputs": [
        {
          "output_type": "execute_result",
          "data": {
            "text/plain": [
              "array([[0, 0, 0, 0],\n",
              "       [0, 0, 0, 0],\n",
              "       [0, 0, 0, 0],\n",
              "       [0, 0, 0, 0]])"
            ]
          },
          "metadata": {},
          "execution_count": 20
        }
      ]
    },
    {
      "cell_type": "markdown",
      "source": [
        "Create a numpy matrix of 4*4 integers, filled with fives.\n"
      ],
      "metadata": {
        "id": "_-POa2N7ncPa"
      }
    },
    {
      "cell_type": "code",
      "source": [
        "np.full((4,4), 5)"
      ],
      "metadata": {
        "id": "5FvaaJTknesz",
        "colab": {
          "base_uri": "https://localhost:8080/"
        },
        "outputId": "7b11e905-fb6f-4d86-89f0-b053adc360b3"
      },
      "execution_count": 23,
      "outputs": [
        {
          "output_type": "execute_result",
          "data": {
            "text/plain": [
              "array([[5, 5, 5, 5],\n",
              "       [5, 5, 5, 5],\n",
              "       [5, 5, 5, 5],\n",
              "       [5, 5, 5, 5]])"
            ]
          },
          "metadata": {},
          "execution_count": 23
        }
      ]
    },
    {
      "cell_type": "markdown",
      "source": [
        "Given the X numpy matrix, create a new numpy matrix with the same shape and type as X, filled with sevens.\n"
      ],
      "metadata": {
        "id": "9zWmiEJDnfNZ"
      }
    },
    {
      "cell_type": "code",
      "source": [
        "np.full_like(X,7)"
      ],
      "metadata": {
        "id": "RzcYCBk9niw3",
        "colab": {
          "base_uri": "https://localhost:8080/"
        },
        "outputId": "07237270-5de1-497f-9115-bfdbff3cd92e"
      },
      "execution_count": 24,
      "outputs": [
        {
          "output_type": "execute_result",
          "data": {
            "text/plain": [
              "array([[7, 7, 7, 7],\n",
              "       [7, 7, 7, 7],\n",
              "       [7, 7, 7, 7],\n",
              "       [7, 7, 7, 7]])"
            ]
          },
          "metadata": {},
          "execution_count": 24
        }
      ]
    },
    {
      "cell_type": "markdown",
      "source": [
        "Create a 3*3 identity numpy matrix with ones on the diagonal and zeros elsewhere.\n"
      ],
      "metadata": {
        "id": "dZ4hdBzznlpH"
      }
    },
    {
      "cell_type": "code",
      "source": [
        "np.identity(3)"
      ],
      "metadata": {
        "id": "LoA1E5Y0nmH_",
        "colab": {
          "base_uri": "https://localhost:8080/"
        },
        "outputId": "54644f2c-35b7-46e5-d3b0-0947105823eb"
      },
      "execution_count": 26,
      "outputs": [
        {
          "output_type": "execute_result",
          "data": {
            "text/plain": [
              "array([[1., 0., 0.],\n",
              "       [0., 1., 0.],\n",
              "       [0., 0., 1.]])"
            ]
          },
          "metadata": {},
          "execution_count": 26
        }
      ]
    },
    {
      "cell_type": "markdown",
      "source": [
        "Create a numpy array, filled with 3 random integer values between 1 and 10. hint: use randint\n"
      ],
      "metadata": {
        "id": "63pIFnHwnq47"
      }
    },
    {
      "cell_type": "code",
      "source": [
        "np.random.randint(1,10,size=(3,3))"
      ],
      "metadata": {
        "id": "P0WiZbIinr-m",
        "colab": {
          "base_uri": "https://localhost:8080/"
        },
        "outputId": "5ebdc7a0-2200-480f-fc9f-1c205cc4207e"
      },
      "execution_count": 25,
      "outputs": [
        {
          "output_type": "execute_result",
          "data": {
            "text/plain": [
              "array([[4, 8, 8],\n",
              "       [3, 2, 7],\n",
              "       [7, 8, 6]])"
            ]
          },
          "metadata": {},
          "execution_count": 25
        }
      ]
    },
    {
      "cell_type": "markdown",
      "source": [
        "Create a 3 x 3 x 3 numpy matrix, filled with random float values.\n"
      ],
      "metadata": {
        "id": "KdG19zE2n3CK"
      }
    },
    {
      "cell_type": "code",
      "source": [
        "np.random.rand(3,3,3)"
      ],
      "metadata": {
        "id": "Bdxi6ad1n3kv",
        "colab": {
          "base_uri": "https://localhost:8080/"
        },
        "outputId": "8ab78ae8-0e5d-4066-e715-99f0e56453ac"
      },
      "execution_count": 42,
      "outputs": [
        {
          "output_type": "execute_result",
          "data": {
            "text/plain": [
              "array([[[0.83306981, 0.10404152, 0.97908698],\n",
              "        [0.20864575, 0.84009868, 0.09309424],\n",
              "        [0.47078015, 0.95344351, 0.20020616]],\n",
              "\n",
              "       [[0.52639741, 0.56572926, 0.70530365],\n",
              "        [0.91168791, 0.28390072, 0.80923066],\n",
              "        [0.10917445, 0.83985832, 0.35413542]],\n",
              "\n",
              "       [[0.1601815 , 0.02872379, 0.53186077],\n",
              "        [0.2505113 , 0.78752072, 0.82632433],\n",
              "        [0.43722357, 0.72743762, 0.03592478]]])"
            ]
          },
          "metadata": {},
          "execution_count": 42
        }
      ]
    },
    {
      "cell_type": "markdown",
      "source": [
        "Given the X python list convert it to an Y numpy array\n"
      ],
      "metadata": {
        "id": "XrDgmMuLoAeQ"
      }
    },
    {
      "cell_type": "code",
      "source": [
        "X=[1,2,3,4,5,6,7,8,9,10]\n",
        "Y = np.array(X)\n",
        "print(Y)"
      ],
      "metadata": {
        "id": "_qjTftGqoBVC",
        "colab": {
          "base_uri": "https://localhost:8080/"
        },
        "outputId": "1f989405-64c4-4681-ac38-0e7ba1a339bb"
      },
      "execution_count": 52,
      "outputs": [
        {
          "output_type": "stream",
          "name": "stdout",
          "text": [
            "[ 1  2  3  4  5  6  7  8  9 10]\n"
          ]
        }
      ]
    },
    {
      "cell_type": "markdown",
      "source": [
        "Given the X numpy array, make a copy and store it on Y.\n"
      ],
      "metadata": {
        "id": "9BZUrsPyoE94"
      }
    },
    {
      "cell_type": "code",
      "source": [
        "Y = X.copy()\n",
        "Y"
      ],
      "metadata": {
        "id": "BEkqlkcZoFmZ",
        "colab": {
          "base_uri": "https://localhost:8080/"
        },
        "outputId": "5ceb13ae-bd34-4e69-8824-6553b40e0663"
      },
      "execution_count": 53,
      "outputs": [
        {
          "output_type": "execute_result",
          "data": {
            "text/plain": [
              "[1, 2, 3, 4, 5, 6, 7, 8, 9, 10]"
            ]
          },
          "metadata": {},
          "execution_count": 53
        }
      ]
    },
    {
      "cell_type": "markdown",
      "source": [
        "Create a numpy array with numbers from 1 to 10\n"
      ],
      "metadata": {
        "id": "djmwx3hJoIeM"
      }
    },
    {
      "cell_type": "code",
      "source": [
        "np.arange(1,11)"
      ],
      "metadata": {
        "id": "nkH8A-2YoL3y",
        "colab": {
          "base_uri": "https://localhost:8080/"
        },
        "outputId": "cd85e845-11fc-4d40-ff4a-e6a6dfb5cc40"
      },
      "execution_count": 44,
      "outputs": [
        {
          "output_type": "execute_result",
          "data": {
            "text/plain": [
              "array([ 1,  2,  3,  4,  5,  6,  7,  8,  9, 10])"
            ]
          },
          "metadata": {},
          "execution_count": 44
        }
      ]
    },
    {
      "cell_type": "markdown",
      "source": [
        "Create a numpy array with the odd numbers between 1 to 100\n"
      ],
      "metadata": {
        "id": "rumL2xGdoRWP"
      }
    },
    {
      "cell_type": "code",
      "source": [
        "np.arange(1,100,2)"
      ],
      "metadata": {
        "id": "tEDYMPkLoTKF",
        "colab": {
          "base_uri": "https://localhost:8080/"
        },
        "outputId": "2a07be32-baad-4213-915a-4ff777a5056a"
      },
      "execution_count": 45,
      "outputs": [
        {
          "output_type": "execute_result",
          "data": {
            "text/plain": [
              "array([ 1,  3,  5,  7,  9, 11, 13, 15, 17, 19, 21, 23, 25, 27, 29, 31, 33,\n",
              "       35, 37, 39, 41, 43, 45, 47, 49, 51, 53, 55, 57, 59, 61, 63, 65, 67,\n",
              "       69, 71, 73, 75, 77, 79, 81, 83, 85, 87, 89, 91, 93, 95, 97, 99])"
            ]
          },
          "metadata": {},
          "execution_count": 45
        }
      ]
    },
    {
      "cell_type": "markdown",
      "source": [
        "Create a numpy array with numbers from 1 to 100, in descending order.\n"
      ],
      "metadata": {
        "id": "XKEpIMPMoWEH"
      }
    },
    {
      "cell_type": "code",
      "source": [
        "np.arange(100,0,-1)"
      ],
      "metadata": {
        "id": "Hd4E6ZUZoXhM",
        "colab": {
          "base_uri": "https://localhost:8080/"
        },
        "outputId": "e1f0abfb-3f1c-41cc-a6f1-ddf77e3278f0"
      },
      "execution_count": 46,
      "outputs": [
        {
          "output_type": "execute_result",
          "data": {
            "text/plain": [
              "array([100,  99,  98,  97,  96,  95,  94,  93,  92,  91,  90,  89,  88,\n",
              "        87,  86,  85,  84,  83,  82,  81,  80,  79,  78,  77,  76,  75,\n",
              "        74,  73,  72,  71,  70,  69,  68,  67,  66,  65,  64,  63,  62,\n",
              "        61,  60,  59,  58,  57,  56,  55,  54,  53,  52,  51,  50,  49,\n",
              "        48,  47,  46,  45,  44,  43,  42,  41,  40,  39,  38,  37,  36,\n",
              "        35,  34,  33,  32,  31,  30,  29,  28,  27,  26,  25,  24,  23,\n",
              "        22,  21,  20,  19,  18,  17,  16,  15,  14,  13,  12,  11,  10,\n",
              "         9,   8,   7,   6,   5,   4,   3,   2,   1])"
            ]
          },
          "metadata": {},
          "execution_count": 46
        }
      ]
    },
    {
      "cell_type": "markdown",
      "source": [
        "Create a 3*3 numpy matrix, filled with values ranging from 0 to 8\n"
      ],
      "metadata": {
        "id": "OjVz9LDIob6e"
      }
    },
    {
      "cell_type": "code",
      "source": [
        "np.random.randint(0,8, size=(3,3))"
      ],
      "metadata": {
        "id": "cymvUDrVocmB",
        "colab": {
          "base_uri": "https://localhost:8080/"
        },
        "outputId": "e702326b-c329-478c-9d2b-ac7d33f2b1de"
      },
      "execution_count": 48,
      "outputs": [
        {
          "output_type": "execute_result",
          "data": {
            "text/plain": [
              "array([[2, 6, 2],\n",
              "       [1, 1, 3],\n",
              "       [7, 3, 5]])"
            ]
          },
          "metadata": {},
          "execution_count": 48
        }
      ]
    },
    {
      "cell_type": "markdown",
      "source": [
        "**Array Indexation**"
      ],
      "metadata": {
        "id": "xq3phoxioiBg"
      }
    },
    {
      "cell_type": "markdown",
      "source": [
        "The following is the array X, run the following cell."
      ],
      "metadata": {
        "id": "PAGbCdHOp2_d"
      }
    },
    {
      "cell_type": "code",
      "source": [
        "X = np.array(['A','B','C','D','E'])"
      ],
      "metadata": {
        "id": "ItTSFkNRqAxf"
      },
      "execution_count": 54,
      "outputs": []
    },
    {
      "cell_type": "markdown",
      "source": [
        "Given the X numpy array, show it's first and last element\n"
      ],
      "metadata": {
        "id": "zC2VllkXqDGx"
      }
    },
    {
      "cell_type": "code",
      "source": [
        "print(X[0])\n",
        "print(X[-1])"
      ],
      "metadata": {
        "id": "vgZPW6RsqJaj",
        "colab": {
          "base_uri": "https://localhost:8080/"
        },
        "outputId": "7a057795-4eda-4ff8-8c39-4003790b3589"
      },
      "execution_count": 58,
      "outputs": [
        {
          "output_type": "stream",
          "name": "stdout",
          "text": [
            "A\n",
            "E\n"
          ]
        }
      ]
    },
    {
      "cell_type": "markdown",
      "source": [
        "Given the X numpy array, show it's first three elements\n"
      ],
      "metadata": {
        "id": "TBIdhFd9qJtQ"
      }
    },
    {
      "cell_type": "code",
      "source": [
        "X[0:3]"
      ],
      "metadata": {
        "id": "5RvD8q3Rsdvd",
        "colab": {
          "base_uri": "https://localhost:8080/"
        },
        "outputId": "c5e3d302-0d17-4e14-dc5b-3c4ad9e11ec8"
      },
      "execution_count": 60,
      "outputs": [
        {
          "output_type": "execute_result",
          "data": {
            "text/plain": [
              "array(['A', 'B', 'C'], dtype='<U1')"
            ]
          },
          "metadata": {},
          "execution_count": 60
        }
      ]
    },
    {
      "cell_type": "markdown",
      "source": [
        "Given the X numpy array, show the elements in reverse position\n"
      ],
      "metadata": {
        "id": "1k2sqOdgsb1l"
      }
    },
    {
      "cell_type": "code",
      "source": [
        "np.flip(X)"
      ],
      "metadata": {
        "id": "49VcB5p4rWz_",
        "colab": {
          "base_uri": "https://localhost:8080/"
        },
        "outputId": "2c5c6a14-07dc-486b-94d6-92b36e64683f"
      },
      "execution_count": 65,
      "outputs": [
        {
          "output_type": "execute_result",
          "data": {
            "text/plain": [
              "array(['E', 'D', 'C', 'B', 'A'], dtype='<U1')"
            ]
          },
          "metadata": {},
          "execution_count": 65
        }
      ]
    },
    {
      "cell_type": "markdown",
      "source": [
        "Given the X numpy array, show the elements in an odd position. hint: you can manioulate X if you want to.\n"
      ],
      "metadata": {
        "id": "154sBbW4s3xz"
      }
    },
    {
      "cell_type": "code",
      "source": [
        "X[0: :2]"
      ],
      "metadata": {
        "id": "ZztyoUeztnqm",
        "colab": {
          "base_uri": "https://localhost:8080/"
        },
        "outputId": "c1af9341-815a-4001-8783-cc052d51d32c"
      },
      "execution_count": 66,
      "outputs": [
        {
          "output_type": "execute_result",
          "data": {
            "text/plain": [
              "array(['A', 'C', 'E'], dtype='<U1')"
            ]
          },
          "metadata": {},
          "execution_count": 66
        }
      ]
    },
    {
      "cell_type": "markdown",
      "source": [
        "the following is X now, run this cell below"
      ],
      "metadata": {
        "id": "OenkPTXktn6G"
      }
    },
    {
      "cell_type": "code",
      "source": [
        "X = np.array([\n",
        "    [1,   2,  3,  4],\n",
        "    [5,   6,  7,  8],\n",
        "    [9,  10, 11, 12],\n",
        "    [13, 14, 15, 16]\n",
        "])"
      ],
      "metadata": {
        "id": "4Eg1mu5Kt3TL"
      },
      "execution_count": 67,
      "outputs": []
    },
    {
      "cell_type": "markdown",
      "source": [
        "Given the X numpy matrix, show the first row elements and last row elements.\n"
      ],
      "metadata": {
        "id": "AVvPVCfHt6iY"
      }
    },
    {
      "cell_type": "code",
      "source": [
        "print(X[(0,)])\n",
        "print(X[(-1,)])"
      ],
      "metadata": {
        "id": "AyEDT4ZYuFQD",
        "colab": {
          "base_uri": "https://localhost:8080/"
        },
        "outputId": "6ad1c846-c86f-401b-980e-ff47738d11b3"
      },
      "execution_count": 71,
      "outputs": [
        {
          "output_type": "stream",
          "name": "stdout",
          "text": [
            "[1 2 3 4]\n",
            "[13 14 15 16]\n"
          ]
        }
      ]
    },
    {
      "cell_type": "markdown",
      "source": [
        "Given the X numpy matrix, show the last element on last row\n"
      ],
      "metadata": {
        "id": "HQee_E8huFlr"
      }
    },
    {
      "cell_type": "code",
      "source": [
        "X[(3,3)]"
      ],
      "metadata": {
        "id": "y5XanU0vutwA",
        "colab": {
          "base_uri": "https://localhost:8080/"
        },
        "outputId": "aabfc700-ebbe-422f-b5cd-4f0acd035e8b"
      },
      "execution_count": 72,
      "outputs": [
        {
          "output_type": "execute_result",
          "data": {
            "text/plain": [
              "16"
            ]
          },
          "metadata": {},
          "execution_count": 72
        }
      ]
    },
    {
      "cell_type": "markdown",
      "source": [
        "Given the X numpy matrix, show the middle row elements\n",
        "\n",
        "the following is wrong! it is a common mistake many students make\n",
        "```\n",
        "X[1:-1][1:-1]\n",
        "```\n",
        "\n"
      ],
      "metadata": {
        "id": "gM29jchtuxo7"
      }
    },
    {
      "cell_type": "code",
      "source": [
        "X[1:3,]"
      ],
      "metadata": {
        "id": "ZR-2Lr21uypK",
        "colab": {
          "base_uri": "https://localhost:8080/"
        },
        "outputId": "dcba7871-1aa0-4ad5-bb18-3d0cd5edf5f6"
      },
      "execution_count": 77,
      "outputs": [
        {
          "output_type": "execute_result",
          "data": {
            "text/plain": [
              "array([[ 5,  6,  7,  8],\n",
              "       [ 9, 10, 11, 12]])"
            ]
          },
          "metadata": {},
          "execution_count": 77
        }
      ]
    },
    {
      "cell_type": "markdown",
      "source": [
        "Given the X numpy matrix, show the first two elements on the first two rows\n",
        "```\n",
        "#X[:2][:2] is wrong!\n",
        "```"
      ],
      "metadata": {
        "id": "oBPA7UkN3h3W"
      }
    },
    {
      "cell_type": "code",
      "source": [
        "X[0,0:2]"
      ],
      "metadata": {
        "id": "3XgbHYsgBahH",
        "colab": {
          "base_uri": "https://localhost:8080/"
        },
        "outputId": "da8ad160-ac8d-402d-b78e-86e4eaffecce"
      },
      "execution_count": 78,
      "outputs": [
        {
          "output_type": "execute_result",
          "data": {
            "text/plain": [
              "array([1, 2])"
            ]
          },
          "metadata": {},
          "execution_count": 78
        }
      ]
    },
    {
      "cell_type": "markdown",
      "source": [
        "Given the X numpy matrix, show the last two elements on the last two rows\n"
      ],
      "metadata": {
        "id": "gzHrT1iGBpiB"
      }
    },
    {
      "cell_type": "code",
      "source": [
        "X[3,2:]"
      ],
      "metadata": {
        "id": "dDqN6R2hBqI-",
        "colab": {
          "base_uri": "https://localhost:8080/"
        },
        "outputId": "c3d40a4b-a3cb-4da8-f906-18106e4031c9"
      },
      "execution_count": 79,
      "outputs": [
        {
          "output_type": "execute_result",
          "data": {
            "text/plain": [
              "array([15, 16])"
            ]
          },
          "metadata": {},
          "execution_count": 79
        }
      ]
    },
    {
      "cell_type": "markdown",
      "source": [
        "**Array manipulation**"
      ],
      "metadata": {
        "id": "Y_85S02VBqdV"
      }
    },
    {
      "cell_type": "markdown",
      "source": [
        "this the array X, you have to perform operations on"
      ],
      "metadata": {
        "id": "A-TKXFvTDDby"
      }
    },
    {
      "cell_type": "code",
      "source": [
        "X = [0, 10, -5, 40, -3]"
      ],
      "metadata": {
        "id": "yx36J5fhDmDj"
      },
      "execution_count": 80,
      "outputs": []
    },
    {
      "cell_type": "markdown",
      "source": [
        "Convert the given integer numpy array to float\n"
      ],
      "metadata": {
        "id": "g_gKXi74Bu7S"
      }
    },
    {
      "cell_type": "code",
      "source": [
        "X = np.array(X)\n",
        "X.astype(float)"
      ],
      "metadata": {
        "id": "741x7uWcCy9t",
        "colab": {
          "base_uri": "https://localhost:8080/"
        },
        "outputId": "32b89465-0f4a-4c52-ab41-ed531414f84d"
      },
      "execution_count": 84,
      "outputs": [
        {
          "output_type": "execute_result",
          "data": {
            "text/plain": [
              "array([ 0., 10., -5., 40., -3.])"
            ]
          },
          "metadata": {},
          "execution_count": 84
        }
      ]
    },
    {
      "cell_type": "markdown",
      "source": [
        "Reverse the given numpy array (first element becomes last)\n"
      ],
      "metadata": {
        "id": "YW3DvQAZDra8"
      }
    },
    {
      "cell_type": "code",
      "source": [
        "np.flip(X)"
      ],
      "metadata": {
        "id": "rbpjNT8WDuSp",
        "colab": {
          "base_uri": "https://localhost:8080/"
        },
        "outputId": "d7545656-c45e-4c4f-8f7b-8eef0576af98"
      },
      "execution_count": 85,
      "outputs": [
        {
          "output_type": "execute_result",
          "data": {
            "text/plain": [
              "array([-3, 40, -5, 10,  0])"
            ]
          },
          "metadata": {},
          "execution_count": 85
        }
      ]
    },
    {
      "cell_type": "markdown",
      "source": [
        "Order (sort) the given numpy array\n"
      ],
      "metadata": {
        "id": "WrgCmYpDDw2i"
      }
    },
    {
      "cell_type": "code",
      "source": [
        "np.sort(X)"
      ],
      "metadata": {
        "id": "E86is04SDxxw",
        "colab": {
          "base_uri": "https://localhost:8080/"
        },
        "outputId": "10563a3a-7a42-4401-bb48-920a7142040c"
      },
      "execution_count": 86,
      "outputs": [
        {
          "output_type": "execute_result",
          "data": {
            "text/plain": [
              "array([-5, -3,  0, 10, 40])"
            ]
          },
          "metadata": {},
          "execution_count": 86
        }
      ]
    },
    {
      "cell_type": "markdown",
      "source": [
        "Given the X numpy array, set the fifth element equal to 1\n"
      ],
      "metadata": {
        "id": "SGk3xZ5cD3rF"
      }
    },
    {
      "cell_type": "code",
      "source": [
        "X[4] = 1\n",
        "X"
      ],
      "metadata": {
        "id": "WzBhVE1TD4OD",
        "colab": {
          "base_uri": "https://localhost:8080/"
        },
        "outputId": "27e5dbb8-18ea-4131-9208-f89cf9d605a0"
      },
      "execution_count": 88,
      "outputs": [
        {
          "output_type": "execute_result",
          "data": {
            "text/plain": [
              "array([ 0, 10, -5, 40,  1])"
            ]
          },
          "metadata": {},
          "execution_count": 88
        }
      ]
    },
    {
      "cell_type": "markdown",
      "source": [
        "now for the following X"
      ],
      "metadata": {
        "id": "xQCHdxDuD-6E"
      }
    },
    {
      "cell_type": "code",
      "source": [
        "X = np.array([\n",
        "    [1,   2,  3,  4],\n",
        "    [5,   6,  7,  8],\n",
        "    [9,  10, 11, 12],\n",
        "    [13, 14, 15, 16]\n",
        "])"
      ],
      "metadata": {
        "id": "rFiW6j4LEBcH"
      },
      "execution_count": 89,
      "outputs": []
    },
    {
      "cell_type": "markdown",
      "source": [
        "Given the X numpy matrix, change the last row with all 1\n"
      ],
      "metadata": {
        "id": "Qz9HU_XpEEI2"
      }
    },
    {
      "cell_type": "code",
      "source": [
        "X[3,] = np.ones((1,4))\n",
        "X"
      ],
      "metadata": {
        "id": "Yzel4w9bEGyI",
        "colab": {
          "base_uri": "https://localhost:8080/"
        },
        "outputId": "3ce8d7e5-f5ef-4bee-8bc6-67f61e0ad6b1"
      },
      "execution_count": 92,
      "outputs": [
        {
          "output_type": "execute_result",
          "data": {
            "text/plain": [
              "array([[ 1,  2,  3,  4],\n",
              "       [ 5,  6,  7,  8],\n",
              "       [ 9, 10, 11, 12],\n",
              "       [ 1,  1,  1,  1]])"
            ]
          },
          "metadata": {},
          "execution_count": 92
        }
      ]
    },
    {
      "cell_type": "markdown",
      "source": [
        "Given the X numpy matrix, change the last item on the last row with a 0\n"
      ],
      "metadata": {
        "id": "r4hFmci3EK_1"
      }
    },
    {
      "cell_type": "code",
      "source": [
        "X[(3,3)] = 0\n",
        "X"
      ],
      "metadata": {
        "id": "CQ8AmCdSELr4",
        "colab": {
          "base_uri": "https://localhost:8080/"
        },
        "outputId": "b03a83cf-178b-4653-cc2f-c4fd49868623"
      },
      "execution_count": 93,
      "outputs": [
        {
          "output_type": "execute_result",
          "data": {
            "text/plain": [
              "array([[ 1,  2,  3,  4],\n",
              "       [ 5,  6,  7,  8],\n",
              "       [ 9, 10, 11, 12],\n",
              "       [ 1,  1,  1,  0]])"
            ]
          },
          "metadata": {},
          "execution_count": 93
        }
      ]
    },
    {
      "cell_type": "markdown",
      "source": [
        "Given the X numpy matrix, add 5 to every element\n"
      ],
      "metadata": {
        "id": "8q2N_zvzEOz5"
      }
    },
    {
      "cell_type": "code",
      "source": [
        "X + 5"
      ],
      "metadata": {
        "id": "83SP9EunEPYB",
        "colab": {
          "base_uri": "https://localhost:8080/"
        },
        "outputId": "859df2ff-b87b-44b6-daf8-411075eb642e"
      },
      "execution_count": 94,
      "outputs": [
        {
          "output_type": "execute_result",
          "data": {
            "text/plain": [
              "array([[ 6,  7,  8,  9],\n",
              "       [10, 11, 12, 13],\n",
              "       [14, 15, 16, 17],\n",
              "       [ 6,  6,  6,  5]])"
            ]
          },
          "metadata": {},
          "execution_count": 94
        }
      ]
    },
    {
      "cell_type": "markdown",
      "source": [
        "# PANDAS DATAFRAME"
      ],
      "metadata": {
        "id": "mdudmaTYF0QL"
      }
    },
    {
      "cell_type": "markdown",
      "source": [
        "import pandas and matplotlib"
      ],
      "metadata": {
        "id": "7Bma98zHF7Ku"
      }
    },
    {
      "cell_type": "code",
      "source": [
        "import pandas as pd\n",
        "import matplotlib"
      ],
      "metadata": {
        "id": "02u09bcSGDN9"
      },
      "execution_count": 95,
      "outputs": []
    },
    {
      "cell_type": "markdown",
      "source": [
        "Create an empty pandas DataFrame\n"
      ],
      "metadata": {
        "id": "o_lIAdsAGDmp"
      }
    },
    {
      "cell_type": "code",
      "source": [
        "pd.DataFrame([])"
      ],
      "metadata": {
        "id": "KNvISqUHGHNL",
        "colab": {
          "base_uri": "https://localhost:8080/",
          "height": 53
        },
        "outputId": "ebb4c6f4-3c30-46ed-a368-9add86c91038"
      },
      "execution_count": 96,
      "outputs": [
        {
          "output_type": "execute_result",
          "data": {
            "text/plain": [
              "Empty DataFrame\n",
              "Columns: []\n",
              "Index: []"
            ],
            "text/html": [
              "\n",
              "  <div id=\"df-f7b4242e-e5a2-44a9-bfa1-fcbbf4f59b7d\" class=\"colab-df-container\">\n",
              "    <div>\n",
              "<style scoped>\n",
              "    .dataframe tbody tr th:only-of-type {\n",
              "        vertical-align: middle;\n",
              "    }\n",
              "\n",
              "    .dataframe tbody tr th {\n",
              "        vertical-align: top;\n",
              "    }\n",
              "\n",
              "    .dataframe thead th {\n",
              "        text-align: right;\n",
              "    }\n",
              "</style>\n",
              "<table border=\"1\" class=\"dataframe\">\n",
              "  <thead>\n",
              "    <tr style=\"text-align: right;\">\n",
              "      <th></th>\n",
              "    </tr>\n",
              "  </thead>\n",
              "  <tbody>\n",
              "  </tbody>\n",
              "</table>\n",
              "</div>\n",
              "    <div class=\"colab-df-buttons\">\n",
              "\n",
              "  <div class=\"colab-df-container\">\n",
              "    <button class=\"colab-df-convert\" onclick=\"convertToInteractive('df-f7b4242e-e5a2-44a9-bfa1-fcbbf4f59b7d')\"\n",
              "            title=\"Convert this dataframe to an interactive table.\"\n",
              "            style=\"display:none;\">\n",
              "\n",
              "  <svg xmlns=\"http://www.w3.org/2000/svg\" height=\"24px\" viewBox=\"0 -960 960 960\">\n",
              "    <path d=\"M120-120v-720h720v720H120Zm60-500h600v-160H180v160Zm220 220h160v-160H400v160Zm0 220h160v-160H400v160ZM180-400h160v-160H180v160Zm440 0h160v-160H620v160ZM180-180h160v-160H180v160Zm440 0h160v-160H620v160Z\"/>\n",
              "  </svg>\n",
              "    </button>\n",
              "\n",
              "  <style>\n",
              "    .colab-df-container {\n",
              "      display:flex;\n",
              "      gap: 12px;\n",
              "    }\n",
              "\n",
              "    .colab-df-convert {\n",
              "      background-color: #E8F0FE;\n",
              "      border: none;\n",
              "      border-radius: 50%;\n",
              "      cursor: pointer;\n",
              "      display: none;\n",
              "      fill: #1967D2;\n",
              "      height: 32px;\n",
              "      padding: 0 0 0 0;\n",
              "      width: 32px;\n",
              "    }\n",
              "\n",
              "    .colab-df-convert:hover {\n",
              "      background-color: #E2EBFA;\n",
              "      box-shadow: 0px 1px 2px rgba(60, 64, 67, 0.3), 0px 1px 3px 1px rgba(60, 64, 67, 0.15);\n",
              "      fill: #174EA6;\n",
              "    }\n",
              "\n",
              "    .colab-df-buttons div {\n",
              "      margin-bottom: 4px;\n",
              "    }\n",
              "\n",
              "    [theme=dark] .colab-df-convert {\n",
              "      background-color: #3B4455;\n",
              "      fill: #D2E3FC;\n",
              "    }\n",
              "\n",
              "    [theme=dark] .colab-df-convert:hover {\n",
              "      background-color: #434B5C;\n",
              "      box-shadow: 0px 1px 3px 1px rgba(0, 0, 0, 0.15);\n",
              "      filter: drop-shadow(0px 1px 2px rgba(0, 0, 0, 0.3));\n",
              "      fill: #FFFFFF;\n",
              "    }\n",
              "  </style>\n",
              "\n",
              "    <script>\n",
              "      const buttonEl =\n",
              "        document.querySelector('#df-f7b4242e-e5a2-44a9-bfa1-fcbbf4f59b7d button.colab-df-convert');\n",
              "      buttonEl.style.display =\n",
              "        google.colab.kernel.accessAllowed ? 'block' : 'none';\n",
              "\n",
              "      async function convertToInteractive(key) {\n",
              "        const element = document.querySelector('#df-f7b4242e-e5a2-44a9-bfa1-fcbbf4f59b7d');\n",
              "        const dataTable =\n",
              "          await google.colab.kernel.invokeFunction('convertToInteractive',\n",
              "                                                    [key], {});\n",
              "        if (!dataTable) return;\n",
              "\n",
              "        const docLinkHtml = 'Like what you see? Visit the ' +\n",
              "          '<a target=\"_blank\" href=https://colab.research.google.com/notebooks/data_table.ipynb>data table notebook</a>'\n",
              "          + ' to learn more about interactive tables.';\n",
              "        element.innerHTML = '';\n",
              "        dataTable['output_type'] = 'display_data';\n",
              "        await google.colab.output.renderOutput(dataTable, element);\n",
              "        const docLink = document.createElement('div');\n",
              "        docLink.innerHTML = docLinkHtml;\n",
              "        element.appendChild(docLink);\n",
              "      }\n",
              "    </script>\n",
              "  </div>\n",
              "\n",
              "\n",
              "    </div>\n",
              "  </div>\n"
            ],
            "application/vnd.google.colaboratory.intrinsic+json": {
              "type": "dataframe",
              "summary": "{\n  \"name\": \"pd\",\n  \"rows\": 0,\n  \"fields\": []\n}"
            }
          },
          "metadata": {},
          "execution_count": 96
        }
      ]
    },
    {
      "cell_type": "markdown",
      "source": [
        "Create a marvel_df pandas DataFrame with the given marvel data\n"
      ],
      "metadata": {
        "id": "75Dm4VKrGHlH"
      }
    },
    {
      "cell_type": "code",
      "source": [
        "marvel_data = [\n",
        "    ['Spider-Man', 'male', 1962],\n",
        "    ['Captain America', 'male', 1941],\n",
        "    ['Wolverine', 'male', 1974],\n",
        "    ['Iron Man', 'male', 1963],\n",
        "    ['Thor', 'male', 1963],\n",
        "    ['Thing', 'male', 1961],\n",
        "    ['Mister Fantastic', 'male', 1961],\n",
        "    ['Hulk', 'male', 1962],\n",
        "    ['Beast', 'male', 1963],\n",
        "    ['Invisible Woman', 'female', 1961],\n",
        "    ['Storm', 'female', 1975],\n",
        "    ['Namor', 'male', 1939],\n",
        "    ['Hawkeye', 'male', 1964],\n",
        "    ['Daredevil', 'male', 1964],\n",
        "    ['Doctor Strange', 'male', 1963],\n",
        "    ['Hank Pym', 'male', 1962],\n",
        "    ['Scarlet Witch', 'female', 1964],\n",
        "    ['Wasp', 'female', 1963],\n",
        "    ['Black Widow', 'female', 1964],\n",
        "    ['Vision', 'male', 1968]\n",
        "]"
      ],
      "metadata": {
        "id": "Kq9Hgq9xGMzp"
      },
      "execution_count": 97,
      "outputs": []
    },
    {
      "cell_type": "code",
      "source": [
        "marvel_df = pd.DataFrame(marvel_data)"
      ],
      "metadata": {
        "id": "R3THVuvUGPrj"
      },
      "execution_count": 100,
      "outputs": []
    },
    {
      "cell_type": "markdown",
      "source": [
        "Add column names to the marvel_df \\\n",
        "name them - 'name' 'sex' and 'first_appearance'"
      ],
      "metadata": {
        "id": "N3I_Z_gUGRAK"
      }
    },
    {
      "cell_type": "code",
      "source": [
        "marvel_df.columns = [\"name\",\"sex\",\"first_appearance\"]"
      ],
      "metadata": {
        "id": "KrfmVJE9GdD3"
      },
      "execution_count": 102,
      "outputs": []
    },
    {
      "cell_type": "markdown",
      "source": [
        "Add index names to the marvel_df (use the character name as index)\n"
      ],
      "metadata": {
        "id": "oIRf7mvaGkUM"
      }
    },
    {
      "cell_type": "code",
      "source": [
        "marvel_df.set_index(\"name\")"
      ],
      "metadata": {
        "id": "7ZKcxNVUGoE8",
        "colab": {
          "base_uri": "https://localhost:8080/",
          "height": 1183
        },
        "outputId": "8b35ee49-9007-47ca-b037-2285bb310f1e"
      },
      "execution_count": 103,
      "outputs": [
        {
          "output_type": "execute_result",
          "data": {
            "text/plain": [
              "                     sex  first_appearance\n",
              "name                                      \n",
              "Spider-Man          male              1962\n",
              "Captain America     male              1941\n",
              "Wolverine           male              1974\n",
              "Iron Man            male              1963\n",
              "Thor                male              1963\n",
              "Thing               male              1961\n",
              "Mister Fantastic    male              1961\n",
              "Hulk                male              1962\n",
              "Beast               male              1963\n",
              "Invisible Woman   female              1961\n",
              "Storm             female              1975\n",
              "Namor               male              1939\n",
              "Hawkeye             male              1964\n",
              "Daredevil           male              1964\n",
              "Doctor Strange      male              1963\n",
              "Hank Pym            male              1962\n",
              "Scarlet Witch     female              1964\n",
              "Wasp              female              1963\n",
              "Black Widow       female              1964\n",
              "Vision              male              1968"
            ],
            "text/html": [
              "\n",
              "  <div id=\"df-e7631391-8dfb-4c6f-bff4-709f06dbc2b9\" class=\"colab-df-container\">\n",
              "    <div>\n",
              "<style scoped>\n",
              "    .dataframe tbody tr th:only-of-type {\n",
              "        vertical-align: middle;\n",
              "    }\n",
              "\n",
              "    .dataframe tbody tr th {\n",
              "        vertical-align: top;\n",
              "    }\n",
              "\n",
              "    .dataframe thead th {\n",
              "        text-align: right;\n",
              "    }\n",
              "</style>\n",
              "<table border=\"1\" class=\"dataframe\">\n",
              "  <thead>\n",
              "    <tr style=\"text-align: right;\">\n",
              "      <th></th>\n",
              "      <th>sex</th>\n",
              "      <th>first_appearance</th>\n",
              "    </tr>\n",
              "    <tr>\n",
              "      <th>name</th>\n",
              "      <th></th>\n",
              "      <th></th>\n",
              "    </tr>\n",
              "  </thead>\n",
              "  <tbody>\n",
              "    <tr>\n",
              "      <th>Spider-Man</th>\n",
              "      <td>male</td>\n",
              "      <td>1962</td>\n",
              "    </tr>\n",
              "    <tr>\n",
              "      <th>Captain America</th>\n",
              "      <td>male</td>\n",
              "      <td>1941</td>\n",
              "    </tr>\n",
              "    <tr>\n",
              "      <th>Wolverine</th>\n",
              "      <td>male</td>\n",
              "      <td>1974</td>\n",
              "    </tr>\n",
              "    <tr>\n",
              "      <th>Iron Man</th>\n",
              "      <td>male</td>\n",
              "      <td>1963</td>\n",
              "    </tr>\n",
              "    <tr>\n",
              "      <th>Thor</th>\n",
              "      <td>male</td>\n",
              "      <td>1963</td>\n",
              "    </tr>\n",
              "    <tr>\n",
              "      <th>Thing</th>\n",
              "      <td>male</td>\n",
              "      <td>1961</td>\n",
              "    </tr>\n",
              "    <tr>\n",
              "      <th>Mister Fantastic</th>\n",
              "      <td>male</td>\n",
              "      <td>1961</td>\n",
              "    </tr>\n",
              "    <tr>\n",
              "      <th>Hulk</th>\n",
              "      <td>male</td>\n",
              "      <td>1962</td>\n",
              "    </tr>\n",
              "    <tr>\n",
              "      <th>Beast</th>\n",
              "      <td>male</td>\n",
              "      <td>1963</td>\n",
              "    </tr>\n",
              "    <tr>\n",
              "      <th>Invisible Woman</th>\n",
              "      <td>female</td>\n",
              "      <td>1961</td>\n",
              "    </tr>\n",
              "    <tr>\n",
              "      <th>Storm</th>\n",
              "      <td>female</td>\n",
              "      <td>1975</td>\n",
              "    </tr>\n",
              "    <tr>\n",
              "      <th>Namor</th>\n",
              "      <td>male</td>\n",
              "      <td>1939</td>\n",
              "    </tr>\n",
              "    <tr>\n",
              "      <th>Hawkeye</th>\n",
              "      <td>male</td>\n",
              "      <td>1964</td>\n",
              "    </tr>\n",
              "    <tr>\n",
              "      <th>Daredevil</th>\n",
              "      <td>male</td>\n",
              "      <td>1964</td>\n",
              "    </tr>\n",
              "    <tr>\n",
              "      <th>Doctor Strange</th>\n",
              "      <td>male</td>\n",
              "      <td>1963</td>\n",
              "    </tr>\n",
              "    <tr>\n",
              "      <th>Hank Pym</th>\n",
              "      <td>male</td>\n",
              "      <td>1962</td>\n",
              "    </tr>\n",
              "    <tr>\n",
              "      <th>Scarlet Witch</th>\n",
              "      <td>female</td>\n",
              "      <td>1964</td>\n",
              "    </tr>\n",
              "    <tr>\n",
              "      <th>Wasp</th>\n",
              "      <td>female</td>\n",
              "      <td>1963</td>\n",
              "    </tr>\n",
              "    <tr>\n",
              "      <th>Black Widow</th>\n",
              "      <td>female</td>\n",
              "      <td>1964</td>\n",
              "    </tr>\n",
              "    <tr>\n",
              "      <th>Vision</th>\n",
              "      <td>male</td>\n",
              "      <td>1968</td>\n",
              "    </tr>\n",
              "  </tbody>\n",
              "</table>\n",
              "</div>\n",
              "    <div class=\"colab-df-buttons\">\n",
              "\n",
              "  <div class=\"colab-df-container\">\n",
              "    <button class=\"colab-df-convert\" onclick=\"convertToInteractive('df-e7631391-8dfb-4c6f-bff4-709f06dbc2b9')\"\n",
              "            title=\"Convert this dataframe to an interactive table.\"\n",
              "            style=\"display:none;\">\n",
              "\n",
              "  <svg xmlns=\"http://www.w3.org/2000/svg\" height=\"24px\" viewBox=\"0 -960 960 960\">\n",
              "    <path d=\"M120-120v-720h720v720H120Zm60-500h600v-160H180v160Zm220 220h160v-160H400v160Zm0 220h160v-160H400v160ZM180-400h160v-160H180v160Zm440 0h160v-160H620v160ZM180-180h160v-160H180v160Zm440 0h160v-160H620v160Z\"/>\n",
              "  </svg>\n",
              "    </button>\n",
              "\n",
              "  <style>\n",
              "    .colab-df-container {\n",
              "      display:flex;\n",
              "      gap: 12px;\n",
              "    }\n",
              "\n",
              "    .colab-df-convert {\n",
              "      background-color: #E8F0FE;\n",
              "      border: none;\n",
              "      border-radius: 50%;\n",
              "      cursor: pointer;\n",
              "      display: none;\n",
              "      fill: #1967D2;\n",
              "      height: 32px;\n",
              "      padding: 0 0 0 0;\n",
              "      width: 32px;\n",
              "    }\n",
              "\n",
              "    .colab-df-convert:hover {\n",
              "      background-color: #E2EBFA;\n",
              "      box-shadow: 0px 1px 2px rgba(60, 64, 67, 0.3), 0px 1px 3px 1px rgba(60, 64, 67, 0.15);\n",
              "      fill: #174EA6;\n",
              "    }\n",
              "\n",
              "    .colab-df-buttons div {\n",
              "      margin-bottom: 4px;\n",
              "    }\n",
              "\n",
              "    [theme=dark] .colab-df-convert {\n",
              "      background-color: #3B4455;\n",
              "      fill: #D2E3FC;\n",
              "    }\n",
              "\n",
              "    [theme=dark] .colab-df-convert:hover {\n",
              "      background-color: #434B5C;\n",
              "      box-shadow: 0px 1px 3px 1px rgba(0, 0, 0, 0.15);\n",
              "      filter: drop-shadow(0px 1px 2px rgba(0, 0, 0, 0.3));\n",
              "      fill: #FFFFFF;\n",
              "    }\n",
              "  </style>\n",
              "\n",
              "    <script>\n",
              "      const buttonEl =\n",
              "        document.querySelector('#df-e7631391-8dfb-4c6f-bff4-709f06dbc2b9 button.colab-df-convert');\n",
              "      buttonEl.style.display =\n",
              "        google.colab.kernel.accessAllowed ? 'block' : 'none';\n",
              "\n",
              "      async function convertToInteractive(key) {\n",
              "        const element = document.querySelector('#df-e7631391-8dfb-4c6f-bff4-709f06dbc2b9');\n",
              "        const dataTable =\n",
              "          await google.colab.kernel.invokeFunction('convertToInteractive',\n",
              "                                                    [key], {});\n",
              "        if (!dataTable) return;\n",
              "\n",
              "        const docLinkHtml = 'Like what you see? Visit the ' +\n",
              "          '<a target=\"_blank\" href=https://colab.research.google.com/notebooks/data_table.ipynb>data table notebook</a>'\n",
              "          + ' to learn more about interactive tables.';\n",
              "        element.innerHTML = '';\n",
              "        dataTable['output_type'] = 'display_data';\n",
              "        await google.colab.output.renderOutput(dataTable, element);\n",
              "        const docLink = document.createElement('div');\n",
              "        docLink.innerHTML = docLinkHtml;\n",
              "        element.appendChild(docLink);\n",
              "      }\n",
              "    </script>\n",
              "  </div>\n",
              "\n",
              "\n",
              "<div id=\"df-1457467b-bc9f-4f5f-a1b8-144554e00da7\">\n",
              "  <button class=\"colab-df-quickchart\" onclick=\"quickchart('df-1457467b-bc9f-4f5f-a1b8-144554e00da7')\"\n",
              "            title=\"Suggest charts\"\n",
              "            style=\"display:none;\">\n",
              "\n",
              "<svg xmlns=\"http://www.w3.org/2000/svg\" height=\"24px\"viewBox=\"0 0 24 24\"\n",
              "     width=\"24px\">\n",
              "    <g>\n",
              "        <path d=\"M19 3H5c-1.1 0-2 .9-2 2v14c0 1.1.9 2 2 2h14c1.1 0 2-.9 2-2V5c0-1.1-.9-2-2-2zM9 17H7v-7h2v7zm4 0h-2V7h2v10zm4 0h-2v-4h2v4z\"/>\n",
              "    </g>\n",
              "</svg>\n",
              "  </button>\n",
              "\n",
              "<style>\n",
              "  .colab-df-quickchart {\n",
              "      --bg-color: #E8F0FE;\n",
              "      --fill-color: #1967D2;\n",
              "      --hover-bg-color: #E2EBFA;\n",
              "      --hover-fill-color: #174EA6;\n",
              "      --disabled-fill-color: #AAA;\n",
              "      --disabled-bg-color: #DDD;\n",
              "  }\n",
              "\n",
              "  [theme=dark] .colab-df-quickchart {\n",
              "      --bg-color: #3B4455;\n",
              "      --fill-color: #D2E3FC;\n",
              "      --hover-bg-color: #434B5C;\n",
              "      --hover-fill-color: #FFFFFF;\n",
              "      --disabled-bg-color: #3B4455;\n",
              "      --disabled-fill-color: #666;\n",
              "  }\n",
              "\n",
              "  .colab-df-quickchart {\n",
              "    background-color: var(--bg-color);\n",
              "    border: none;\n",
              "    border-radius: 50%;\n",
              "    cursor: pointer;\n",
              "    display: none;\n",
              "    fill: var(--fill-color);\n",
              "    height: 32px;\n",
              "    padding: 0;\n",
              "    width: 32px;\n",
              "  }\n",
              "\n",
              "  .colab-df-quickchart:hover {\n",
              "    background-color: var(--hover-bg-color);\n",
              "    box-shadow: 0 1px 2px rgba(60, 64, 67, 0.3), 0 1px 3px 1px rgba(60, 64, 67, 0.15);\n",
              "    fill: var(--button-hover-fill-color);\n",
              "  }\n",
              "\n",
              "  .colab-df-quickchart-complete:disabled,\n",
              "  .colab-df-quickchart-complete:disabled:hover {\n",
              "    background-color: var(--disabled-bg-color);\n",
              "    fill: var(--disabled-fill-color);\n",
              "    box-shadow: none;\n",
              "  }\n",
              "\n",
              "  .colab-df-spinner {\n",
              "    border: 2px solid var(--fill-color);\n",
              "    border-color: transparent;\n",
              "    border-bottom-color: var(--fill-color);\n",
              "    animation:\n",
              "      spin 1s steps(1) infinite;\n",
              "  }\n",
              "\n",
              "  @keyframes spin {\n",
              "    0% {\n",
              "      border-color: transparent;\n",
              "      border-bottom-color: var(--fill-color);\n",
              "      border-left-color: var(--fill-color);\n",
              "    }\n",
              "    20% {\n",
              "      border-color: transparent;\n",
              "      border-left-color: var(--fill-color);\n",
              "      border-top-color: var(--fill-color);\n",
              "    }\n",
              "    30% {\n",
              "      border-color: transparent;\n",
              "      border-left-color: var(--fill-color);\n",
              "      border-top-color: var(--fill-color);\n",
              "      border-right-color: var(--fill-color);\n",
              "    }\n",
              "    40% {\n",
              "      border-color: transparent;\n",
              "      border-right-color: var(--fill-color);\n",
              "      border-top-color: var(--fill-color);\n",
              "    }\n",
              "    60% {\n",
              "      border-color: transparent;\n",
              "      border-right-color: var(--fill-color);\n",
              "    }\n",
              "    80% {\n",
              "      border-color: transparent;\n",
              "      border-right-color: var(--fill-color);\n",
              "      border-bottom-color: var(--fill-color);\n",
              "    }\n",
              "    90% {\n",
              "      border-color: transparent;\n",
              "      border-bottom-color: var(--fill-color);\n",
              "    }\n",
              "  }\n",
              "</style>\n",
              "\n",
              "  <script>\n",
              "    async function quickchart(key) {\n",
              "      const quickchartButtonEl =\n",
              "        document.querySelector('#' + key + ' button');\n",
              "      quickchartButtonEl.disabled = true;  // To prevent multiple clicks.\n",
              "      quickchartButtonEl.classList.add('colab-df-spinner');\n",
              "      try {\n",
              "        const charts = await google.colab.kernel.invokeFunction(\n",
              "            'suggestCharts', [key], {});\n",
              "      } catch (error) {\n",
              "        console.error('Error during call to suggestCharts:', error);\n",
              "      }\n",
              "      quickchartButtonEl.classList.remove('colab-df-spinner');\n",
              "      quickchartButtonEl.classList.add('colab-df-quickchart-complete');\n",
              "    }\n",
              "    (() => {\n",
              "      let quickchartButtonEl =\n",
              "        document.querySelector('#df-1457467b-bc9f-4f5f-a1b8-144554e00da7 button');\n",
              "      quickchartButtonEl.style.display =\n",
              "        google.colab.kernel.accessAllowed ? 'block' : 'none';\n",
              "    })();\n",
              "  </script>\n",
              "</div>\n",
              "\n",
              "    </div>\n",
              "  </div>\n"
            ],
            "application/vnd.google.colaboratory.intrinsic+json": {
              "type": "dataframe",
              "summary": "{\n  \"name\": \"marvel_df\",\n  \"rows\": 20,\n  \"fields\": [\n    {\n      \"column\": \"name\",\n      \"properties\": {\n        \"dtype\": \"string\",\n        \"num_unique_values\": 20,\n        \"samples\": [\n          \"Spider-Man\",\n          \"Wasp\",\n          \"Hank Pym\"\n        ],\n        \"semantic_type\": \"\",\n        \"description\": \"\"\n      }\n    },\n    {\n      \"column\": \"sex\",\n      \"properties\": {\n        \"dtype\": \"category\",\n        \"num_unique_values\": 2,\n        \"samples\": [\n          \"female\",\n          \"male\"\n        ],\n        \"semantic_type\": \"\",\n        \"description\": \"\"\n      }\n    },\n    {\n      \"column\": \"first_appearance\",\n      \"properties\": {\n        \"dtype\": \"number\",\n        \"std\": 8,\n        \"min\": 1939,\n        \"max\": 1975,\n        \"num_unique_values\": 9,\n        \"samples\": [\n          1964,\n          1941\n        ],\n        \"semantic_type\": \"\",\n        \"description\": \"\"\n      }\n    }\n  ]\n}"
            }
          },
          "metadata": {},
          "execution_count": 103
        },
        {
          "output_type": "display_data",
          "data": {
            "text/plain": [
              "<google.colab._quickchart_helpers.SectionTitle at 0x783a7e7e0b20>"
            ],
            "text/html": [
              "<h4 class=\"colab-quickchart-section-title\">Distributions</h4>\n",
              "<style>\n",
              "  .colab-quickchart-section-title {\n",
              "      clear: both;\n",
              "  }\n",
              "</style>"
            ]
          },
          "metadata": {}
        },
        {
          "output_type": "display_data",
          "data": {
            "text/plain": [
              "from matplotlib import pyplot as plt\n",
              "_df_0['first_appearance'].plot(kind='hist', bins=20, title='first_appearance')\n",
              "plt.gca().spines[['top', 'right',]].set_visible(False)"
            ],
            "text/html": [
              "      <div class=\"colab-quickchart-chart-with-code\" id=\"chart-23889399-dec1-498e-984e-0094d737c3ca\">\n",
              "        <img style=\"width: 180px;\" src=\"data:image/png;base64,iVBORw0KGgoAAAANSUhEUgAAAiAAAAGrCAYAAAD5FiyaAAAAOXRFWHRTb2Z0d2FyZQBNYXRwbG90\n",
              "bGliIHZlcnNpb24zLjguMCwgaHR0cHM6Ly9tYXRwbG90bGliLm9yZy81sbWrAAAACXBIWXMAAA9h\n",
              "AAAPYQGoP6dpAAAgn0lEQVR4nO3dfXST9f3/8VdapAq0FAqIFGi5aYuUFpQbO9BRcXhWQMAOVJAd\n",
              "8GYg6tADOkWn3IjAzjaFbXqKDPEGp5VCp1KtCoJMRRQUFJncl4KjIJS2oDTQ9PP7gy/5GUBoSq5P\n",
              "m/T5OCfnNMmV63p/GsyeS9LEZYwxAgAAsCispgcAAAB1DwECAACsI0AAAIB1BAgAALCOAAEAANYR\n",
              "IAAAwDoCBAAAWEeAAAAA6wgQAABgHQEC1FInTpzQrbfeqqZNm6pRo0Zq166dXnzxxZoeCwACol5N\n",
              "DwDg7HJycrRy5UoVFBQoKirqgvc3ZswYVVRUaNGiRQGYDgAuDM+AALXUjh071L59+yrFhzFGFRUV\n",
              "Fqaq/Y4fP17TIwCoAgIEqIXGjBmj6dOna82aNWrUqJEyMjIUHx+vf/7zn5KkgoICuVwuLViwQF27\n",
              "dlWDBg20bt06rVy5Uj169FDjxo0VExOjPn366PDhw5o5c6ZeeeUVZWdnq1GjRmrUqJEKCwvPOcOq\n",
              "VavUu3dvxcTEqEmTJurXr582bNjgc73L5dIrr7yi9u3bKzo6WjfeeKMOHDjg3SY9PV333nuvMjMz\n",
              "FRkZqY4dO+qll17yOc7atWuVnp6umJgYxcXF6bHHHvOJqbFjxyo+Pt77MtSUKVNUWVl5xjFuueUW\n",
              "NWnSRBMmTFB5ebmGDx+u2NhYRUZGKikpSc8884zPcePj4zV9+nQNGDBAkZGR6tChg3Jzc322ycvL\n",
              "U1pampo0aaKYmBgNGzbMe913332nkSNHKjY2Vi1atNCIESP0/fffn+eeBeBlANRKU6ZMMX369PGe\n",
              "j4uLM/PnzzfGGLNr1y4jyfTu3dsUFhaaiooKU15eblq1amWef/55U1lZadxut/nkk0/M0aNHjTHG\n",
              "jB492tx6661VPv5HH31kPv74Y+N2u01ZWZn53e9+Z9q2bWvcbrcxxpiVK1caSWbgwIHm0KFDpri4\n",
              "2AwYMMD079/fu4++ffuaiy++2Lz55pvmxIkTJi8vz1x00UXmo48+MsYY8+2335qGDRuaV1991Zw4\n",
              "ccIUFBSY1NRUM2PGDO8+5s+fb4qKikxlZaVZs2aNadq0qcnKyvI5RoMGDUxeXp7xeDzmhx9+MD/+\n",
              "+KN5/vnnzeHDh43H4zHLli0z9evXN/n5+T6/zzZt2pj169cbj8dj/vrXv5rIyEhTWlpqjDHmvffe\n",
              "MxdffLF5/fXXjdvtNseOHTPLly83xhhTXl5ukpKSzKRJk8zRo0fNkSNHzKhRo8yvfvWrKv9+gbqO\n",
              "AAFqqaoEyE//B9UYY+Lj482jjz5q9u7de8b+/A2Q0xUXFxtJ5quvvjLG/P8AOXXeGGM2b95sJJnC\n",
              "wkJjzMk4yMzM9NnPTTfdZG6//XZjjDG///3vzS233OJz/aJFi0yHDh1+do4JEyb47LNv375n7ONs\n",
              "Bg8ebCZOnOg9HxcXZ6ZNm+Y9f/ToUSPJfPrpp8YYYwYOHGjuueees+5ryZIlplWrVqaystJ72d69\n",
              "e40ks2fPnvPOAsAYXoIBgli7du18zr/55pvauXOnunfvro4dO2rKlCnVfm/IV199pRtuuEGxsbGK\n",
              "ioryHuunL7GcPsOpn/fs2fOzM7Zr1857/bZt25Sbm6vo6Gjvafz48SoqKpJ08r0tTz75pJKTk9Wk\n",
              "SRNFR0dr3rx555xBktxutx544AElJiaqcePGio6O1jvvvHPG7Vq1auX9uWHDhpKkI0eOSJJ27dql\n",
              "pKSks/5utm3bpv3793tnio6OVnJysiIiIs770haAkwgQIIiFhfn+J5ySkqJ//etfKioqUk5OjrKy\n",
              "srRw4cKzbns+w4cPV4cOHbRp0yaVlZVp165dkk5GwU8VFBSc8XPr1q3Pev2p86eub9mypUaOHKmS\n",
              "khLvqaysTEePHpUkvfbaa5ozZ45eeuklHTx4UCUlJRo3btwZM5y+tqeeekpvvfWW3nrrLR0+fFgl\n",
              "JSXKyMg443bnEh8fr61bt571upYtWyouLs5n7pKSEpWXl6t3795VPgZQlxEgQIg4fvy4Fi5c6H0j\n",
              "ZOPGjRUeHq569U7+tX3Lli21Y8cOeTyeKu2vtLRUUVFRaty4sYqLizVp0qSzbvfII4+ouLhYJSUl\n",
              "evDBB9WvXz+1bdvWe/3bb7+tvLw8eTwe5efnKzc3V7fddpsk6e6771ZOTo4WL16s48ePy+PxaPv2\n",
              "7crPz/fOUK9ePbVo0UIul0srV66s0p8Rl5aWKiIiQs2bN1dlZaUWL16s9957r0rrPuW+++7TggUL\n",
              "tGTJEh0/flzl5eVasWKFJCkzM1MnTpzQY489ptLSUkknnxnKzs726xhAXUaAACEkJydHycnJatiw\n",
              "ofr27asxY8Zo9OjRkk7+NYkkNWvWTNHR0ed9qeD555/X4sWLFRkZqbS0NGVkZJx1u5tvvlk9evRQ\n",
              "XFycwsLC9Morr/hcf/vtt2vBggWKjo7WPffco6ysLF1zzTWSpJ49e+r999/X/PnzFRsb6/1Lk927\n",
              "d0s6+ddA1113nVJSUtSsWTNlZWVp1KhR5/09PPDAA2rTpo3i4uLUqlUrrVixQkOHDj3v7X7q+uuv\n",
              "16uvvqrZs2erefPmat26tebNmydJioyM1Jo1a1RYWKiUlBRFRUWpd+/eWr16tV/HAOoyl/HnOUkA\n",
              "+D+rVq3StddeqxMnTnifZTldenq6rr76as2YMcPydABqO54BAQAA1hEgQB111113eT+U7PTTsmXL\n",
              "ano8ACGOl2AAAIB1PAMCAACsI0AAAIB1BAgAALCOAAEAANbV2gCZO3duTY8AAAAcUmsD5NQnIQIA\n",
              "gNBTawMEAACELgIEAABYR4AAAADrCBAAAGAdAQIAAKwjQAAAgHUECAAAsI4AAQAA1hEgAADAOgIE\n",
              "AABYR4AAAADrCBAAAGAdAQIAAKwjQAAAgHUECAAAsK5eTQ8AAHVd/MN5juy3YPZAR/YLBALPgAAA\n",
              "AOsIEAAAYB0BAgAArCNAAACAdQQIAACwjgABAADWESAAAMA6AgQAAFhHgAAAAOsIEAAAYB0BAgAA\n",
              "rCNAAACAdQQIAACwjgABAADWESAAAMA6AgQAAFhHgAAAAOsIEAAAYB0BAgAArCNAAACAdQQIAACw\n",
              "jgABAADWESAAAMA6AgQAAFhHgAAAAOsIEAAAYB0BAgAArCNAAACAdQQIAACwjgABAADWESAAAMA6\n",
              "AgQAAFhHgAAAAOsIEAAAYB0BAgAArHM0QN5++21deeWV6tatm7p06aIXX3zRycMBAIAgUc+pHRtj\n",
              "NGrUKK1atUqpqakqKChQp06dlJmZqcjISKcOCwAAgoBjASJJLpdLJSUlkqSysjLFxMQoIiLijO3c\n",
              "brfcbrfPZR6Px8nRAABADXIsQFwul7Kzs5WZmamGDRvq8OHDWrp0qerXr3/GtrNmzdK0adN8LktL\n",
              "S3NqNAAAUMMcew9IRUWFZsyYoaVLl2r37t1asWKFfvvb3+rgwYNnbDt58mSVlpb6nHr16uXUaAAA\n",
              "oIY5FiAbNmzQ//73P/3yl7+UJPXs2VOtW7fWl19+eca2ERERioqK8jmFh4c7NRoAAKhhjgVImzZt\n",
              "tG/fPv33v/+VJG3fvl07duxQUlKSU4cEAABBwrH3gFx66aV67rnndNNNNyksLEyVlZX6xz/+obZt\n",
              "2zp1SAAAECQc/SuYESNGaMSIEU4eAgAABCE+CRUAAFhHgAAAAOsIEAAAYB0BAgAArCNAAACAdQQI\n",
              "AACwjgABAADWESAAAMA6AgQAAFhHgAAAAOsIEAAAYB0BAgAArCNAAACAdQQIAACwjgABAADWESAA\n",
              "AMA6AgQAAFhHgAAAAOsIEAAAYB0BAgAArCNAAACAdQQIAACwjgABAADWESAAAMA6AgQAAFhHgAAA\n",
              "AOsIEAAAYB0BAgAArCNAAACAdQQIAACwjgABAADWESAAAMA6AgQAAFhHgAAAAOsIEAAAYB0BAgAA\n",
              "rCNAAACAdQQIAACwjgABAADWESAAAMA6AgQAAFhHgAAAAOsIEAAAYB0BAgAArCNAAACAdQQIAACw\n",
              "jgABAADWESAAAMA6AgQAAFhHgAAAAOsIEAAAYB0BAgAArCNAAACAdQQIAACwjgABAADWESAAAMA6\n",
              "AgQAAFhHgAAAAOsIEAAAYB0BAgAArCNAAACAdQQIAACwjgABAADWESAAAMA6AgQAAFhHgAAAAOsI\n",
              "EAAAYB0BAgAArCNAAACAdY4GiNvt1r333quEhASlpKRo1KhRTh4OAAAEiXpO7vzhhx+Wy+XS1q1b\n",
              "5XK5VFRU5OThAABAkHAsQH744QctWLBAe/fulcvlkiS1bNnSqcMBAIAg4thLMDt27FDTpk01c+ZM\n",
              "9ejRQ9dcc41WrFhx1m3dbrfKysp8Th6Px6nRAABADXPsGZCKigrt3r1bnTt31uzZs/Xll1+qf//+\n",
              "+uabb3TppZf6bDtr1ixNmzbN57K0tDSnRgMAv8U/nFfTIwAhxbFnQNq2bauwsDDdeuutkqQrrrhC\n",
              "7dq109dff33GtpMnT1ZpaanPqVevXk6NBgAAaphjAdKsWTNdd911evfddyVJu3bt0q5du3T55Zef\n",
              "sW1ERISioqJ8TuHh4U6NBgAAapijfwWTlZWlO+64Qw899JDCwsI0b948xcbGOnlIAAAQBBwNkPbt\n",
              "22vlypVOHgIAAAQhPgkVAABYR4AAAADrCBAAAGAdAQIAAKwjQAAAgHUECAAAsI4AAQAA1hEgAADA\n",
              "OgIEAABYR4AAAADrCBAAAGAdAQIAAKwjQAAAgHUECAAAsI4AAQAA1hEgAADAOgIEAABYR4AAAADr\n",
              "CBAAAGCd3wHy7rvvOjEHAACoQ/wOkOnTpyspKUlz585VWVmZEzMBAIAQ53eAfPzxx3rttde0adMm\n",
              "JSYm6u6779bmzZudmA0AAISoar0H5IorrtD8+fOVn5+vZcuWKTU1Vf3799fXX38d6PkAAEAIqlaA\n",
              "LF++XEOGDFFmZqbuueceFRUVady4cbrxxhsDPR8AAAhB9fy9weWXX65mzZppwoQJyszMVHh4uCRp\n",
              "2LBhWrBgQcAHBAAAocfvAFm0aJG6d+9+1uveeeedCx4IAACEPr9fglm/fr2Ki4u95w8dOqT58+cH\n",
              "dCgAABDa/A6QZ599Vk2bNvWej4mJ0bPPPhvQoQAAQGjzO0CMMWdc5vF4AjIMAACoG/wOkMsuu0yv\n",
              "v/6693x2drYuu+yygA4FAABCm99vQp0zZ46GDBmiP/zhD5KkBg0a6I033gj4YAAAIHT5HSCdOnXS\n",
              "5s2btWXLFklSUlKS909xAQAAqsLvAJEkl8ul6OhoVVRU6LvvvpMktW3bNqCDAQCA0OV3gLzwwgua\n",
              "MGGCLrroIoWFnXwLicvl0oEDBwI+HAAACE1+B8gTTzyhzz//XElJSU7MAwAA6gC//wqmWbNmxAcA\n",
              "ALggfgfI0KFDNWfOHB04cEBlZWXeEwAAQFX5/RLMo48+KkmaOHGiXC6XjDFyuVx8GBkAAKgyvwOk\n",
              "srLSiTkAAEAd4vdLMNLJL6R7+eWXJUklJSXat29fQIcCAAChrVpfRnf77bdr6tSpkk5+G+7IkSMD\n",
              "PRcAAAhhfgfIc889p08//VRRUVGSpA4dOuj7778P+GAAACB0+R0gERERuuSSS3wuq1evWh+oCgAA\n",
              "6ii/A6R58+baunWrXC6XpJOfjMrHsAMAAH9U69twR4wYoW+//VZt2rRRVFSUli1b5sRsAAAgRPkd\n",
              "IB07dtTatWu1ZcsWGWP4NlwAAOA3vwOksLBQktSwYUNJ4ttwAQCA3/wOkO7du3s/AbW8vFw//vij\n",
              "YmJi+DZcAABQZX4HyOl/crt06VJt3LgxYAMBAIDQV61PQv2pzMxM5eXlBWIWAABQR/j9DMhPv/nW\n",
              "4/Fo7dq1fBsuAADwi98BEh0d7X0PSHh4uBISEvS3v/3NidkAAECI4ttwAQCAdRf8HhAAAAB/+f0M\n",
              "SFhYmPdj2H/KGCOXyyWPxxOQwQAAQOjyO0CmT5+uY8eOafz48ZKkrKwsXXLJJbr//vsDPRsAAAhR\n",
              "fgdIbm6u1q9f7z0/Y8YMde/eXY8++mhABwMAAKHL7/eAHDlyxOdTTw8cOKAjR44EdCgAABDa/H4G\n",
              "ZNKkSeratasGDBggScrPz9fUqVMDPRcAAAhhfgfIuHHj1KdPH61cuVKSNHHiRCUnJwd8MAAAELr8\n",
              "DhBJiomJUUpKitLT01VRUaHjx4+rfv36gZ4NAACEKL/fA5KTk6O0tDTddtttkqRvvvlGQ4cODfRc\n",
              "AAAghPkdILNmzdIXX3yh6OhoSVLXrl21e/fuQM8FAABCmN8BEh4erpiYGJ/LePkFAAD4w+8AiYyM\n",
              "1P79+72fhrpixQo1bdo04IMBAIDQ5febUP/0pz8pIyNDO3fu1NVXX61du3YpLy/PidkAAECI8itA\n",
              "Kisr5fF4tHLlSn3yyScyxqh3797e94MAAABUhV8BEhYWprFjx2rjxo3KyMhwaiYAABDi/H4PSEJC\n",
              "grZv3+7ELAAAoI7wO0CKi4vVrVs3XX/99crMzPSezmXhwoVyuVz697//Xd05AQBACKnySzBjx47V\n",
              "c889p9GjR2vw4MFq0qRJlW5XUFCg+fPnKy0trdpDAgCA0FLlAFm3bp0kafTo0bryyiv1xRdfnPc2\n",
              "lZWVuvPOO/X3v/9dkyZNqv6UAAAgpFTru2CMMVXa7qmnnlKfPn3UvXv3c27ndrvldrt9LvN4PNUZ\n",
              "DQAABIEqB8ixY8f09ddfyxij8vJy78+npKam+my/adMmLVmyRKtXrz7vvmfNmqVp06b5XMZLNgAA\n",
              "hC6/AmTw4MHe8z/92eVyaefOnT7b/+c//1FBQYESEhIkSUVFRRo7dqz27dun8ePH+2w7efJkTZw4\n",
              "0eeyxx57rOqrAAAAQaXKAVJQUODXjsePH+8TGunp6br//vvP+s25ERERioiI8LksPDzcr+MBAIDg\n",
              "4fef4QIAAFyoar0JtTpWrVpl61AAAKCW4xkQAABgHQECAACsI0AAAIB1BAgAALCOAAEAANYRIAAA\n",
              "wDoCBAAAWEeAAAAA6wgQAABgHQECAACsI0AAAIB1BAgAALCOAAEAANYRIAAAwDoCBAAAWEeAAAAA\n",
              "6wgQAABgHQECAACsI0AAAIB1BAgAALCOAAEAANYRIAAAwDoCBAAAWEeAAAAA6wgQAABgHQECAACs\n",
              "I0AAAIB1BAgAALCOAAEAANYRIAAAwDoCBAAAWEeAAAAA6wgQAABgHQECAACsI0AAAIB1BAgAALCO\n",
              "AAEAANYRIAAAwDoCBAAAWEeAAAAA6wgQAABgHQECAACsI0AAAIB1BAgAALCOAAEAANYRIAAAwDoC\n",
              "BAAAWEeAAAAA6wgQAABgHQECAACsI0AAAIB1BAgAALCOAAEAANYRIAAAwDoCBAAAWEeAAAAA6wgQ\n",
              "AABgHQECAACsI0AAAIB1BAgAALCOAAEAANYRIAAAwDoCBAAAWEeAAAAA6wgQAABgHQECAACsI0AA\n",
              "AIB1BAgAALCOAAEAANYRIAAAwDrHAqS8vFxDhw5VYmKiunbtqv79+2v79u1OHQ4AAAQRR58BGTt2\n",
              "rLZs2aKNGzdqyJAhuvPOO508HAAACBKOBcjFF1+sAQMGyOVySZLS0tJUUFBw1m3dbrfKysp8Th6P\n",
              "x6nRAABADatn60Bz587VkCFDznrdrFmzNG3aNJ/L0tLSbIwFAECtFf9wnmP7Lpg90LF9V4WVN6HO\n",
              "nDlT27dv16xZs856/eTJk1VaWupz6tWrl43RAABADXD8GZC//OUvWrp0qZYvX64GDRqcdZuIiAhF\n",
              "RET4XBYeHu70aAAAoIY4GiBPPfWUXn31VS1fvlzR0dFOHgoAAAQRxwJk7969mjRpktq3b69rr71W\n",
              "0slnOtauXevUIQEAQJBwLEBat24tY4xTuwcAAEGMT0IFAADWESAAAMA6AgQAAFhHgAAAAOsIEAAA\n",
              "YB0BAgAArCNAAACAdQQIAACwjgABAADWESAAAMA6AgQAAFhHgAAAAOsIEAAAYB0BAgAArCNAAACA\n",
              "dQQIAACwjgABAADWESAAAMA6AgQAAFhHgAAAAOsIEAAAYB0BAgAArCNAAACAdQQIAACwjgABAADW\n",
              "ESAAAMA6AgQAAFhHgAAAAOsIEAAAYB0BAgAArCNAAACAdQQIAACwjgABAADW1avpAWpC/MN5NT2C\n",
              "3wpmD6zpEQDACqceo3kcrV14BgQAAFhHgAAAAOsIEAAAYB0BAgAArCNAAACAdQQIAACwjgABAADW\n",
              "ESAAAMA6AgQAAFhHgAAAAOsIEAAAYB0BAgAArCNAAACAdQQIAACwjgABAADWESAAAMA6AgQAAFhH\n",
              "gAAAAOsIEAAAYB0BAgAArCNAAACAdQQIAACwjgABAADWESAAAMA6AgQAAFhHgAAAAOsIEAAAYB0B\n",
              "AgAArCNAAACAdQQIAACwjgABAADWESAAAMA6AgQAAFhHgAAAAOsIEAAAYJ2jAbJt2zb17t1biYmJ\n",
              "6tmzp7755hsnDwcAAIKEowEybtw4jR07Vlu3btVDDz2kMWPGOHk4AAAQJBwLkAMHDmjdunUaNWqU\n",
              "JOk3v/mN9uzZo+3bt5+xrdvtVllZmc/J4/E4NRoAAKhhLmOMcWLH69ev18iRI7VlyxbvZb169dLs\n",
              "2bPVr18/n22nTp2qadOm+VzWqVMnZWRkODGaXzwejz777DP16tVL4eHhNT2OVay97q29rq5bqrtr\n",
              "r6vrlli7U2uPi4vTfffdd97takWAuN1uud1un8siIiIUERHhxGh+KSsrU+PGjVVaWqqoqKiaHscq\n",
              "1l731l5X1y3V3bXX1XVLrL2m117PqR23adNG+/btU0VFherVqydjjAoLC9W2bdsztq0tsQEAAOxw\n",
              "7D0gLVq00JVXXqlFixZJkpYsWaLWrVurY8eOTh0SAAAECceeAZGkefPmacyYMZo5c6aioqK0cOFC\n",
              "Jw8HAACChKMBkpSUpDVr1jh5CMdFRERoypQpdfIlItZe99ZeV9ct1d2119V1S6y9ptfu2JtQAQAA\n",
              "fg4fxQ4AAKwjQAAAgHUECAAAsI4AAQAA1tW5AJkwYYLi4+Plcrm0YcMG7+X5+fnq0aOHUlNTlZaW\n",
              "po0bN55x2w8++EDh4eGaM2eO97Iff/xRI0aMUMeOHZWYmKicnBwLq6ieQK99zJgxio2NVbdu3dSt\n",
              "Wzc9+OCDFlZRPdVZe3p6utq1a+dd39NPP+297sCBA/r1r3+thIQEdenSRatXr7a5nCoL9LrPdV1t\n",
              "U521G2M0depUJSYmKiUlRddee633umC5z6XArz1Y7vfqrPuqq67yrqtLly5yuVz66quvJIX+4/u5\n",
              "1m7l8d3UMR9++KHZs2ePiYuLM19++aUxxpji4mLTtGlTs2nTJmOMMatXrzbJyck+tyspKTE9e/Y0\n",
              "gwYNMk8//bT38mnTppnRo0cbY4zZuXOnad68uTl48KCNpfgt0GsfPXq0z/narDpr79u3r8nNzT3r\n",
              "/m677TYzZcoUY4wxn332mYmNjTXHjx93cgnVEuh1n+u62qY6a58zZ4658cYbjdvtNsYYs2/fPu91\n",
              "wXKfGxP4tQfL/V7dx7hTFi9ebLp06eI9Xxce3085fe02Ht/r3DMgv/zlL9W6dWufy3bs2KGYmBgl\n",
              "JydLkq655hoVFhbqiy++8G5z77336o9//KNiYmJ8bpudna277rpLktSuXTulp6crNzfX4VVUT6DX\n",
              "Hkyqu/af8/rrr3vv9549e6pVq1b68MMPAz/4BQr0uoNJddb+5z//WbNnz1b9+vUlSS1btvTeNlju\n",
              "cynwaw8WF/rvfcGCBbrjjju85+vC4/spp6/dhjoXIGeTkJCgQ4cO6ZNPPpEkvfnmmzpy5IgKCgok\n",
              "STk5OQoLC9PgwYPPuG1hYaHi4uK85+Pj41VYWGhl7kC4kLVL0ty5c5WamqpBgwb5PO0XDM63dkl6\n",
              "+OGHlZKSoptvvlk7d+6UJB06dEgnTpzweYAOpvu9uuuuynW13bnWXlZWpv379+uNN97QVVddpauu\n",
              "ukrZ2dmSgv8+l6q/9lOC9X6vyr93SdqzZ48+/PBDjRo1yntZqD++n3K2tUvOP747+kmowaJx48bK\n",
              "ycnR5MmTdfToUf3iF79Q586dVa9ePRUVFWnGjBlatWpVTY/piAtZ+5NPPqnLLrtMYWFhys3NVUZG\n",
              "hrZt26ZGjRrZXUQ1nWvtkvTyyy+rTZs2MsbomWee0aBBg7R58+YanvrCXci6g/13cq61V1RUqKKi\n",
              "QseOHdPatWtVUFCg3r17q1OnTmf8P8tgVN21d+3aNajv9/P9ez/lhRde0KBBg9SsWbMamjTwLmTt\n",
              "Vh7fHX2Bpxb76etkpysvLzfR0dFm27ZtZtmyZaZFixYmLi7OxMXFmYYNG5omTZqYRx55xBhjTOfO\n",
              "nc2aNWu8tx0+fLiZP3++jSVUW6DWfrrExESzbt06Bye/cFVd+9lERER4X/9t0KCBz2vkPXv2NO+/\n",
              "/37A5w2UQK3bn+tqC3/W3qhRI7Njxw7v9cOGDfP+9xxs97kxgVv76Wr7/e7vv/fKykrTrl07k5+f\n",
              "77NtKD++n/Jzaz+dE4/vvATzf/bt2+f9+YknnlC/fv3UsWNHDRw4UPv371dBQYEKCgo0bNgwPf74\n",
              "43ryySclScOHD1dWVpYkadeuXVq1apWGDh1aE0uotuqufe/evd7bffrppzp06FDQfdvxz629oqJC\n",
              "+/fv9163ZMkSXXrppd73wfz0fv/888/13XffqW/fvnaHvwDVWff5fifB4ufWLkkjRoxQfn6+JKm4\n",
              "uFifffaZUlNTJQX/fS5Vb+2hcL+fa93Syb/yq6ioUP/+/X1uF8qP76f83NqtPL4HNGeCwNixY01s\n",
              "bKwJDw83LVq0MB06dDDGGHPnnXeapKQk06FDBzNq1Chz+PDhs97+9HcGHz161Nx0002mffv2JiEh\n",
              "wWRnZ1tYRfUEeu3XXXed6dKli+natatJS0szH3zwgYVVVI+/az969Kjp3r276dKli0lNTTX9+vUz\n",
              "GzZs8O6vqKjI9O/f33Ts2NF07ty51q49kOs+3++ktqnOv/eDBw+aG264wSQnJ5vk5GTzzDPPeK8L\n",
              "lvvcmMCuPZju9+o+xo0YMcI8/vjjZ+yvLjy+/9zabTy+82V0AADAOl6CAQAA1hEgAADAOgIEAABY\n",
              "R4AAAADrCBAAAGAdAQIAAKwjQAAAgHUECAAAsI4AAQAA1hEgAADAuv8H3IlS5k9jd0wAAAAASUVO\n",
              "RK5CYII=\n",
              "\">\n",
              "      </div>\n",
              "      <script type=\"text/javascript\">\n",
              "        (() => {\n",
              "          const chartElement = document.getElementById(\"chart-23889399-dec1-498e-984e-0094d737c3ca\");\n",
              "          async function getCodeForChartHandler(event) {\n",
              "            const chartCodeResponse =  await google.colab.kernel.invokeFunction(\n",
              "                'getCodeForChart', [\"chart-23889399-dec1-498e-984e-0094d737c3ca\"], {});\n",
              "            const responseJson = chartCodeResponse.data['application/json'];\n",
              "            await google.colab.notebook.addCell(responseJson.code, 'code');\n",
              "          }\n",
              "          chartElement.onclick = getCodeForChartHandler;\n",
              "        })();\n",
              "      </script>\n",
              "      <style>\n",
              "        .colab-quickchart-chart-with-code  {\n",
              "            display: block;\n",
              "            float: left;\n",
              "            border: 1px solid transparent;\n",
              "        }\n",
              "\n",
              "        .colab-quickchart-chart-with-code:hover {\n",
              "            cursor: pointer;\n",
              "            border: 1px solid #aaa;\n",
              "        }\n",
              "      </style>"
            ]
          },
          "metadata": {}
        },
        {
          "output_type": "display_data",
          "data": {
            "text/plain": [
              "<google.colab._quickchart_helpers.SectionTitle at 0x783a7e7e3790>"
            ],
            "text/html": [
              "<h4 class=\"colab-quickchart-section-title\">Categorical distributions</h4>\n",
              "<style>\n",
              "  .colab-quickchart-section-title {\n",
              "      clear: both;\n",
              "  }\n",
              "</style>"
            ]
          },
          "metadata": {}
        },
        {
          "output_type": "display_data",
          "data": {
            "text/plain": [
              "from matplotlib import pyplot as plt\n",
              "import seaborn as sns\n",
              "_df_1.groupby('sex').size().plot(kind='barh', color=sns.palettes.mpl_palette('Dark2'))\n",
              "plt.gca().spines[['top', 'right',]].set_visible(False)"
            ],
            "text/html": [
              "      <div class=\"colab-quickchart-chart-with-code\" id=\"chart-4fa28ce1-735c-448f-bb6c-95fe89c7181e\">\n",
              "        <img style=\"width: 180px;\" src=\"data:image/png;base64,iVBORw0KGgoAAAANSUhEUgAAAj8AAAGZCAYAAABmAVBZAAAAOXRFWHRTb2Z0d2FyZQBNYXRwbG90\n",
              "bGliIHZlcnNpb24zLjguMCwgaHR0cHM6Ly9tYXRwbG90bGliLm9yZy81sbWrAAAACXBIWXMAAA9h\n",
              "AAAPYQGoP6dpAAAT4UlEQVR4nO3df6zVdf3A8dcR8t4cQ1QyEQICLw65BV4uP7oBCkpEbUrWphLZ\n",
              "bM3mRmr0a7S0mAnOElP+yLUxcep1SSrMQFmE/EgLxPF75QC5QoZhy6BQr1z4fP9w8pXA77zf7jnn\n",
              "4uvx2O4f58Phc17ve7b3fd7POffeUlEURQAAJHFKtQcAAKgk8QMApCJ+AIBUxA8AkIr4AQBSET8A\n",
              "QCriBwBIRfwAAKmIHwAgFfHzHu6+++5qjwAAlIH4eQ8vvfRStUcAAMpA/AAAqYgfACAV8QMApCJ+\n",
              "AIBUxA8AkIr4AQBSET8AQCriBwBIRfwAAKmIHwAgFfEDAKQifgCAVMQPAJCK+AEAUhE/AEAq4gcA\n",
              "SEX8AACpiB8AIBXxAwCkIn4AgFTEDwCQivgBAFIRPwBAKuIHAEhF/AAAqYgfACAV8QMApCJ+AIBU\n",
              "xA8AkIr4AQBSET8AQCriBwBIRfwAAKmIHwAgFfEDAKQifgCAVMQPAJCK+AEAUhE/AEAq4gcASEX8\n",
              "AACpiB8AIBXxAwCkIn4AgFRKRVEU1R6iM7p2SClmjtCGANCRBi04XO0RXPkBAHIRPwBAKuIHAEhF\n",
              "/AAAqYgfACAV8QMApCJ+AIBUxA8AkIr4AQBSET8AQCriBwBIRfwAAKmIHwAgFfEDAKQifgCAVMQP\n",
              "AJCK+AEAUhE/AEAq4gcASEX8AACpiB8AIBXxAwCkIn4AgFTEDwCQivgBAFIRPwBAKuIHAEhF/AAA\n",
              "qYgfACAV8QMApCJ+AIBUxA8AkIr4AQBSET8AQCriBwBIRfwAAKmIHwAgFfEDAKQifgCAVMQPAJCK\n",
              "+AEAUvnAxM/KlStj2LBh1R4DAOjkPjDxAwDwfnSK+CmVSnHbbbfFqFGjon///rFo0aKYM2dONDY2\n",
              "Rl1dXaxcuTIiItra2mLSpEnR2NgYQ4YMialTp8bBgwdPeM5ly5bFmDFjYvjw4TFy5Mh4+umnK7gi\n",
              "AKCz6hTxExHRrVu3WLt2bcyfPz+mTZsWvXr1ivXr18fs2bPju9/9bkREdOnSJZqbm2P9+vWxdevW\n",
              "OP3002PevHnHnevFF1+MH//4x7F06dJ4/vnno7m5OaZOnRqtra0nfOzW1tY4cODAMR+Hj5R1uQBA\n",
              "lXSt9gDvuPLKKyMiorGxMQ4ePBhXXXVVRESMHDkytm/fHhERRVHEXXfdFUuWLIm2trbYv39/NDU1\n",
              "HXeup556Knbs2BHjxo07euyUU06J3bt3R11d3XH3nzNnTsyaNeuYY0N7dtjSAIBOpNPET21tbUS8\n",
              "fXXnP2+3tbVFRERzc3OsWLEiVq1aFd27d4977rknVqxYcdy5iqKIiRMnRnNz8/t67JkzZ8aMGTOO\n",
              "OTZ91On/77UAAJ1Xp3nZ6/147bXXomfPntG9e/f417/+FQsWLDjh/SZNmhTLly+PzZs3Hz22bt26\n",
              "9zxvTU1NdO/e/ZiPLifVZwYAeL9Oqi/x11xzTbz++utx/vnnx+TJk2Ps2LEnvN95550Xzc3N8Y1v\n",
              "fCOGDh0agwcPjp///OeVHRYA6JRKRVEU1R6iM7p2SClmjjip2hAAOr1BCw5Xe4ST68oPAMB/S/wA\n",
              "AKmIHwAgFfEDAKQifgCAVMQPAJCK+AEAUhE/AEAq4gcASEX8AACpiB8AIBXxAwCkIn4AgFTEDwCQ\n",
              "ivgBAFIRPwBAKuIHAEhF/AAAqYgfACAV8QMApCJ+AIBUxA8AkIr4AQBSET8AQCriBwBIRfwAAKmI\n",
              "HwAgFfEDAKQifgCAVMQPAJCK+AEAUhE/AEAq4gcASEX8AACpiB8AIBXxAwCkIn4AgFTEDwCQivgB\n",
              "AFIRPwBAKuIHAEila7UH6KzOmPStGDR3brXHAAA6mCs/AEAq4gcASEX8AACpiB8AIBXxAwCkIn4A\n",
              "gFTEDwCQivgBAFIRPwBAKuIHAEhF/AAAqYgfACAV8QMApCJ+AIBUxA8AkIr4AQBSET8AQCriBwBI\n",
              "RfwAAKmIHwAgFfEDAKQifgCAVMQPAJCK+AEAUhE/AEAq4gcASEX8AACpiB8AIBXxAwCkIn4AgFTE\n",
              "DwCQivgBAFIRPwBAKuIHAEhF/AAAqYgfACAV8QMApCJ+AIBU2h0/27dvP+7YH/7whw4ZBgCg3Nod\n",
              "PxMmTIhHHnnk6O077rgjrrnmmg4dCgCgXLq29z+sXLkyrrzyylixYkW8/PLLERGxdu3aDh8MAKAc\n",
              "2h0/AwcOjDvvvDM+85nPRM+ePWPDhg1x5plnlmM2AIAO1+6Xve6888742te+Fk8//XTMnDkzRo8e\n",
              "HatWrSrHbAAAHa7dV36WL18e69ati7POOiuampqiqakprr766njhhRfKMR8AQIdqd/wsXbo0SqVS\n",
              "tLa2Rk1NTTQ0NMT69evLMRsAQIdr98teW7dujfr6+hg4cGBERDz//PNx6623dvhgAADl0O74+eY3\n",
              "vxn33ntvfOQjH4mIiIaGhliyZEmHDwYAUA7tjp9///vfMWbMmKO3S6VSnHrqqR06FABAubQ7frp2\n",
              "7RqHDh2KUqkUERF79uyJLl26dPhgAADl0O74mT59ekyZMiVeffXV+OEPfxhjx46N733ve+WYDQCg\n",
              "w7X7p72mTZsWAwYMiMWLF8err74aDzzwQIwdO7YcswEAdLh2X/n57Gc/GxdccEHcfPPNsWzZsvjK\n",
              "V74St9xySzlmAwDocO2On7/97W/Ro0ePWLp0aUyZMiW2b98ejz/+eDlmAwDocO2On0OHDkVExOrV\n",
              "q+PSSy+ND33oQ9G1a7tfPQMAqIp2x099fX1Mnjw5fvOb38SECRPi9ddfL8dcAABl0e5LNgsWLIin\n",
              "nnoqhg4dGqeddlq8/PLLMWfOnHLMBgDQ4dodP7W1tTFlypSjt3v37h29e/fuyJkAAMqm3S97AQCc\n",
              "zMQPAJCK+AEAUhE/AEAq4gcASEX8AACpiB8AIBXxAwCkIn4AgFTEDwCQivgBAFIRPwBAKuIHAEhF\n",
              "/AAAqYgfACAV8QMApCJ+AIBUxA8AkIr4AQBSET8AQCriBwBIRfwAAKmIHwAgFfEDAKQifgCAVMQP\n",
              "AJCK+AEAUhE/AEAq4gcASEX8AACpiB8AIBXxAwCkIn4AgFTEDwCQivgBAFIpFUVRVHuIzqjbpBHR\n",
              "46pLqj0Gifzl2turPQJACq78AACpiB8AIBXxAwCkIn4AgFTEDwCQivgBAFIRPwBAKuIHAEhF/AAA\n",
              "qYgfACAV8QMApCJ+AIBUxA8AkIr4AQBSET8AQCriBwBIRfwAAKmIHwAgFfEDAKQifgCAVMQPAJCK\n",
              "+AEAUhE/AEAq4gcASEX8AACpiB8AIBXxAwCkIn4AgFTEDwCQivgBAFIRPwBAKuIHAEhF/AAAqYgf\n",
              "ACAV8QMApCJ+AIBUxA8AkIr4AQBSET8AQCriBwBIRfwAAKmUNX4WL14cgwcPjmHDhsWWLVvK+VCx\n",
              "YMGCmDJlSlkfAwA4+XUt58nvvffeuOWWW+Lqq68u58MAALxvZbvyc8MNN8SaNWviBz/4QTQ1NcVz\n",
              "zz0XEyZMiMbGxrjwwgtj4cKFERHR0tISPXr0iJtvvjkaGhqirq4unnnmmfjWt74Vw4YNi/r6+ti6\n",
              "dWtERLzyyisxfvz4GD58eAwZMiSmT58eR44cOeHjP/DAAzFq1KhoaGiIcePGxaZNm8q1VADgJFK2\n",
              "Kz/33HNPbN68OW666aa4+OKLY/z48bF06dLo1atX/P3vf4+GhoZoamqKiIj9+/fH8OHD49Zbb435\n",
              "8+fHpEmT4oknnoi77rorfvrTn8asWbNi4cKF0aNHj3jiiSeiW7ducfjw4bj88svjkUceiauuuuqY\n",
              "x37mmWfi4YcfjtWrV0dNTU2sWbMmpk6dGtu2bTvhrK2trdHa2nrswcNFWT4vAEB1lfVlr3c8++yz\n",
              "8eKLL8bkyZOPOf7CCy/EgAEDora29uj7dRobG6Nbt24xfvz4iIgYOXJkPPTQQxERceTIkfj+978f\n",
              "v//976Moiti3b1/U19cfFz+LFy+OTZs2xahRo44e+8c//hFvvPFGfPjDHz5uvjlz5sSsWbOOOfah\n",
              "Aef+1+sGADqfisRPURQxZMiQePbZZ4/7t5aWlqipqTl6u0uXLlFbW3vM7ba2toiImDt3buzbty/W\n",
              "rl0btbW1MWPGjHjzzTdP+Hhf/epXY/bs2e9rvpkzZ8aMGTOOOXbuFRPe1/8FAE4uFflR96ampti1\n",
              "a1csX7786LGNGzfGW2+91a7zvPbaa3HOOedEbW1tvPLKK0ffN/SfLrvssnjwwQdj9+7dEfH2FaP1\n",
              "69e/53lramqie/fux3xEl1K7ZgMATg4VufJzxhlnxJIlS+I73/lOfPvb345Dhw5F3759Y9GiRe06\n",
              "z4033hhf+tKXYsiQIXHuuefGpZdeesL7jR07Nu644474whe+EG1tbfHWW2/F5z//+WhsbOyA1QAA\n",
              "J7NSURTe2XsC3SaNiB5XXVLtMUjkL9feXu0RAFLwG54BgFTEDwCQivgBAFIRPwBAKuIHAEhF/AAA\n",
              "qYgfACAV8QMApCJ+AIBUxA8AkIr4AQBSET8AQCriBwBIRfwAAKmIHwAgFfEDAKQifgCAVMQPAJCK\n",
              "+AEAUhE/AEAq4gcASEX8AACpiB8AIBXxAwCkIn4AgFTEDwCQivgBAFIRPwBAKuIHAEhF/AAAqYgf\n",
              "ACAV8QMApCJ+AIBUxA8AkIr4AQBSET8AQCriBwBIRfwAAKmIHwAgFfEDAKQifgCAVLpWe4DO6roh\n",
              "Y2PutbdXewwAoIO58gMApCJ+AIBUxA8AkIr4AQBSET8AQCriBwBIRfwAAKmIHwAgFfEDAKQifgCA\n",
              "VMQPAJCK+AEAUhE/AEAq4gcASEX8AACpiB8AIBXxAwCkIn4AgFTEDwCQivgBAFIRPwBAKuIHAEhF\n",
              "/AAAqYgfACAV8QMApCJ+AIBUxA8AkIr4AQBSET8AQCriBwBIRfwAAKmIHwAgFfEDAKQifgCAVMQP\n",
              "AJCK+AEAUhE/AEAq4gcASEX8AACpiB8AIBXxAwCkIn4AgFTEDwCQivgBAFIRPwBAKl2rPUBn1Nra\n",
              "Gk8++WQcPnw4unTpUu1xKurw4cOxbt26GDlypLUnYu3Wbu15fNDX3q9fv7jxxhv/z/uUiqIoKjTP\n",
              "SePAgQNx+umnx/79+6N79+7VHqeirN3arT0Pa7f2bGt/h5e9AIBUxA8AkIr4AQBSET8nUFNTEz/6\n",
              "0Y+ipqam2qNUnLVbezbWbu3ZZF77O7zhGQBIxZUfACAV8QMApCJ+AIBUxM9/2L59ezQ1NcWgQYNi\n",
              "xIgRsW3btmqPVBFvvvlmTJkyJQYNGhRDhw6NiRMnxo4dO6o9VsXdd999USqVYtGiRdUepWJaW1tj\n",
              "+vTpUVdXF5/4xCdi2rRp1R6pYpYuXRoNDQ0xbNiwqK+vj/vvv7/aI5XNDTfcEP37949SqRQbN248\n",
              "ejzDnneitWfZ897reX9Hxj0vIiIKjjF+/PjivvvuK4qiKBYuXFg0NjZWd6AKeeONN4olS5YUR44c\n",
              "KYqiKObNm1dcdNFF1R2qwnbt2lV86lOfKkaPHl08/vjj1R6nYm666aZi+vTpR5/7vXv3Vnmiyjhy\n",
              "5EhxxhlnFJs2bSqK4u3nv6ampjhw4ECVJyuPVatWFXv27Cn69etXbNiw4ejxDHveidaeZc97r+e9\n",
              "KPLueUVRFK78vMu+ffti/fr1R7/z/eIXvxh79uz5QH438J9qa2vjc5/7XJRKpYiIGD16dLS0tFR3\n",
              "qAo6cuRIfP3rX4958+al+vHPgwcPxvz58+O22247+tyfc845VZ6qckqlUvzzn/+MiLd/5f9ZZ531\n",
              "gX3+x40bF3369DnmWJY970Rrz7LnnWjtEXn3vHeIn3fZs2dP9OrVK7p2ffvvvZZKpejbt2/s3r27\n",
              "ypNV3t133x2XX355tceomLlz58anP/3pGD58eLVHqaidO3fGmWeeGbNnz47GxsYYO3Zs/O53v6v2\n",
              "WBVRKpXiV7/6VVxxxRXRr1+/GDNmTNx///1x6qmnVnu0irHn/S97Xi7+qjvHmT17duzYsSPNF8Gt\n",
              "W7fGo48+GqtXr672KBXX1tYWL730UlxwwQVx++23x4YNG2LixImxbdu2+OhHP1rt8cqqra0tfvKT\n",
              "n8Rjjz0W48aNi+eeey4uu+yy2LJlS/Ts2bPa41FB9rx8XPl5l4997GOxd+/eaGtri4iIoihi9+7d\n",
              "0bdv3ypPVjk/+9nP4rHHHosnn3wyTjvttGqPUxFr1qyJlpaWqKuri/79+8cf//jHuO666+IXv/hF\n",
              "tUcru759+8Ypp5wSX/7ylyMi4sILL4yPf/zjsWXLlipPVn4bN26Mv/71rzFu3LiIiBgxYkT06dMn\n",
              "NmzYUOXJKseeZ8/Ltue9Q/y8y9lnnx0NDQ3x4IMPRkTEo48+Gn369InzzjuvypNVxty5c+Phhx+O\n",
              "3/72t9GjR49qj1Mx119/fezduzdaWlqipaUlRo8eHb/85S/j+uuvr/ZoZdezZ8+45JJLYtmyZRER\n",
              "sWvXrti1a1cMHjy4ypOV3ztf+P/0pz9FRMSOHTti586dcf7551d5ssqx59nzsu15R1X7HdedzZ//\n",
              "/Odi9OjRRV1dXTF8+PBi8+bN1R6pIvbs2VNERDFgwIBi6NChxdChQ4uRI0dWe6yquOiii1L95MPO\n",
              "nTuLiy++uKivry8++clPFr/+9a+rPVLFNDc3H113fX198dBDD1V7pLK57rrrit69exddunQpzj77\n",
              "7GLgwIFFUeTY80609ix73ns97++Wbc8riqLwt70AgFS87AUApCJ+AIBUxA8AkIr4AQBSET8AQCri\n",
              "BwBIRfwAAKmIHwAgFfEDAKQifgCAVMQPAJDK/wAlbmyMzUu0bgAAAABJRU5ErkJggg==\n",
              "\">\n",
              "      </div>\n",
              "      <script type=\"text/javascript\">\n",
              "        (() => {\n",
              "          const chartElement = document.getElementById(\"chart-4fa28ce1-735c-448f-bb6c-95fe89c7181e\");\n",
              "          async function getCodeForChartHandler(event) {\n",
              "            const chartCodeResponse =  await google.colab.kernel.invokeFunction(\n",
              "                'getCodeForChart', [\"chart-4fa28ce1-735c-448f-bb6c-95fe89c7181e\"], {});\n",
              "            const responseJson = chartCodeResponse.data['application/json'];\n",
              "            await google.colab.notebook.addCell(responseJson.code, 'code');\n",
              "          }\n",
              "          chartElement.onclick = getCodeForChartHandler;\n",
              "        })();\n",
              "      </script>\n",
              "      <style>\n",
              "        .colab-quickchart-chart-with-code  {\n",
              "            display: block;\n",
              "            float: left;\n",
              "            border: 1px solid transparent;\n",
              "        }\n",
              "\n",
              "        .colab-quickchart-chart-with-code:hover {\n",
              "            cursor: pointer;\n",
              "            border: 1px solid #aaa;\n",
              "        }\n",
              "      </style>"
            ]
          },
          "metadata": {}
        },
        {
          "output_type": "display_data",
          "data": {
            "text/plain": [
              "<google.colab._quickchart_helpers.SectionTitle at 0x783a7e7e0c10>"
            ],
            "text/html": [
              "<h4 class=\"colab-quickchart-section-title\">Values</h4>\n",
              "<style>\n",
              "  .colab-quickchart-section-title {\n",
              "      clear: both;\n",
              "  }\n",
              "</style>"
            ]
          },
          "metadata": {}
        },
        {
          "output_type": "display_data",
          "data": {
            "text/plain": [
              "from matplotlib import pyplot as plt\n",
              "_df_2['first_appearance'].plot(kind='line', figsize=(8, 4), title='first_appearance')\n",
              "plt.gca().spines[['top', 'right']].set_visible(False)"
            ],
            "text/html": [
              "      <div class=\"colab-quickchart-chart-with-code\" id=\"chart-56169aac-6266-4315-b27a-00999552b670\">\n",
              "        <img style=\"width: 180px;\" src=\"data:image/png;base64,iVBORw0KGgoAAAANSUhEUgAAAqUAAAF5CAYAAACmzFP7AAAAOXRFWHRTb2Z0d2FyZQBNYXRwbG90\n",
              "bGliIHZlcnNpb24zLjguMCwgaHR0cHM6Ly9tYXRwbG90bGliLm9yZy81sbWrAAAACXBIWXMAAA9h\n",
              "AAAPYQGoP6dpAABkj0lEQVR4nO3deXiU5dU/8O8zM8mEbBMygSwsSUjCkkCIJew7orhStFjU0Ipa\n",
              "xVqKbRWV39taWxfaWkTb2spLI25VqVj6xlIRLcgquxCpgmQjkJXs+yQzc//+mDxPMiGBTDIzz0zm\n",
              "+7muXBfMes9AJif3uc85khBCgIiIiIhIRRq1F0BERERExKCUiIiIiFTHoJSIiIiIVMeglIiIiIhU\n",
              "x6CUiIiIiFTHoJSIiIiIVMeglIiIiIhUx6CUiIiIiFTHoJSIiIiIVMeglIi8UltbGzIyMhAeHo7g\n",
              "4GDEx8fjjTfeUHtZRETURzq1F0BE1Bdbt27F7t27UVBQgNDQ0H4/3ooVK2A2m/H22287YXVEROQo\n",
              "7pQSkVfKzc3FqFGjehWQCiFgNpvdsCrP19raqvYSiIi6xaCUiLzOihUr8Otf/xqff/45goODceON\n",
              "NyIuLg5//etfAQAFBQWQJAmZmZmYOHEiAgMDcezYMezevRvp6ekwGAwwGo2YOXMmqqur8fzzz+Nv\n",
              "f/sbtmzZguDgYAQHB6OwsPCKa/jss88wY8YMGI1GDB48GAsWLMDJkyftrpckCX/7298watQohIWF\n",
              "4bbbbkN5eblym3nz5mHVqlW4/fbbERISgsTERLz55pt2z3P48GHMmzcPRqMRsbGx+MUvfmEXYD/4\n",
              "4IOIi4tTjjD88pe/hNVqvew57rzzTgwePBirV69GS0sL7rjjDgwbNgwhISEYM2YMXnnlFbvnjYuL\n",
              "w69//WvcdNNNCAkJQUJCArZt22Z3m+3bt2PatGkYPHgwjEYjli5dqlxXVFSEu+++G8OGDcPQoUNx\n",
              "11134dKlS1f5lyUinyaIiLzQL3/5SzFz5kzl77GxsWLTpk1CCCHy8/MFADFjxgxRWFgozGazaGlp\n",
              "ETExMeK1114TVqtVmEwmcfDgQdHQ0CCEEOKee+4RGRkZvX7+/fv3iwMHDgiTySTq6urEAw88IEaO\n",
              "HClMJpMQQojdu3cLAOLmm28WlZWVoqqqStx0003iuuuuUx5j7ty5IiAgQGRlZYm2tjaxfft24efn\n",
              "J/bv3y+EEOLMmTMiKChIvPvuu6KtrU0UFBSI1NRU8eyzzyqPsWnTJlFaWiqsVqv4/PPPRXh4uHj1\n",
              "1VftniMwMFBs375dWCwW0djYKJqamsRrr70mqqurhcViEf/617+Ev7+/2LFjh937OWLECHH8+HFh\n",
              "sVjE+vXrRUhIiKitrRVCCLFz504REBAg/v73vwuTySSam5vFp59+KoQQoqWlRYwZM0Y8+uijoqGh\n",
              "QdTX14vly5eLhQsX9vr9JSLfw6CUiLxSb4LSzkGWEELExcWJ//mf/xEXL1687PEcDUq7qqqqEgBE\n",
              "dna2EKIjKJX/LoQQX331lQAgCgsLhRC2gPH222+3e5zvfve74r777hNCCPHjH/9Y3HnnnXbXv/32\n",
              "2yIhIaHHdaxevdruMefOnXvZY3Rn8eLF4mc/+5ny99jYWPGrX/1K+XtDQ4MAIA4dOiSEEOLmm28W\n",
              "P/rRj7p9rA8++EDExMQIq9WqXHbx4kUBQFy4cOGqayEi38T0PRENWPHx8XZ/z8rKQl5eHiZNmoTE\n",
              "xET88pe/7PNZ0+zsbNx6660YNmwYQkNDlefqnJ7vugb5zxcuXOhxjfHx8cr1586dw7Zt2xAWFqZ8\n",
              "/fCHP0RpaSkA21nZ5557DikpKRg8eDDCwsKwcePGK64BAEwmEx577DGMHj0aBoMBYWFh+Oijjy67\n",
              "X0xMjPLnoKAgAEB9fT0AID8/H2PGjOn2vTl37hzKysqUNYWFhSElJQV6vf6qxyKIyHcxKCWiAUuj\n",
              "sf+ImzBhAt555x2UlpZi69atePXVV7F58+Zub3s1d9xxBxISEnD69GnU1dUhPz8fgC1Q7KygoOCy\n",
              "Pw8fPrzb6+W/y9dHRUXh7rvvRk1NjfJVV1eHhoYGAMB7772Hl156CW+++SYqKipQU1ODlStXXraG\n",
              "rq/txRdfxIcffogPP/wQ1dXVqKmpwY033njZ/a4kLi4O33zzTbfXRUVFITY21m7dNTU1aGlpwYwZ\n",
              "M3r9HETkWxiUEpFPaG1txebNm5ViG4PBAK1WC53O1hkvKioKubm5sFgsvXq82tpahIaGwmAwoKqq\n",
              "Co8++mi3t/t//+//oaqqCjU1NVizZg0WLFiAkSNHKtf/+9//xvbt22GxWLBjxw5s27YN9957LwDg\n",
              "4YcfxtatW/H++++jtbUVFosFOTk52LFjh7IGnU6HoUOHQpIk7N69u1ctrWpra6HX6zFkyBBYrVa8\n",
              "//772LlzZ69et+yRRx5BZmYmPvjgA7S2tqKlpQX/+c9/AAC333472tra8Itf/AK1tbUAbDvIW7Zs\n",
              "ceg5iMi3MCglIp+xdetWpKSkICgoCHPnzsWKFStwzz33ALBVsQNAREQEwsLCrppmfu211/D+++8j\n",
              "JCQE06ZNw4033tjt7ZYtW4b09HTExsZCo9Hgb3/7m9319913HzIzMxEWFoYf/ehHePXVVzF79mwA\n",
              "wOTJk/HJJ59g06ZNGDZsmFLhfv78eQC2LgTXXnstJkyYgIiICLz66qtYvnz5Vd+Hxx57DCNGjEBs\n",
              "bCxiYmLwn//8B0uWLLnq/Tq7/vrr8e677+I3v/kNhgwZguHDh2Pjxo0AgJCQEHz++ecoLCzEhAkT\n",
              "EBoaihkzZmDv3r0OPQcR+RZJOJKvISKiXvnss88wf/58tLW1KbuxXc2bNw+zZs3Cs88+6+bVERF5\n",
              "Hu6UEhEREZHqGJQSEXXjoYceUhrpd/3617/+pfbyiIgGHKbviYiIiEh13CklIiIiItUxKCUiIiIi\n",
              "1TEoJSIiIiLVMSglIiIiItV5fVD68ssvq70EIiIiIuonrw9K5ckmREREROS9vD4oJSIiIiLvx6CU\n",
              "iIiIiFTHoJSIiIiIVMeglIiIiIhUx6CUiIiIiFTHoJSIiIiIVMeglIiIiIhUx6CUiIiIiFTnUFC6\n",
              "evVqxMXFQZIknDx5Url8x44dSE9PR2pqKqZNm4ZTp04p102dOhVpaWlIS0vD+PHjIUkSsrOzAQAr\n",
              "VqzAsGHDlOvXrFnjnFdFRERERF5F58iNly5discffxyzZs1SLquurkZGRgb27t2LlJQU7Nu3DxkZ\n",
              "GTh9+jQA4PDhw8ptt27dil/96ldITU1VLluzZg1+8pOf9PNlEBEREZE3c2indM6cORg+fLjdZbm5\n",
              "uTAajUhJSQEAzJ49G4WFhThx4sRl98/MzMT999/fj+USEVFPmlstsFqF2ssgIuqTfp8pTUpKQmVl\n",
              "JQ4ePAgAyMrKQn19PQoKCuxud+HCBezZswfLly+3u/zll19GamoqbrnlFrsjAd0xmUyoq6uz+7JY\n",
              "LP19CUREXu9idROmPv8pHtlyUu2lEBH1iUPp++4YDAZs3boVa9euRUNDA6ZPn47k5GTodPYP/frr\n",
              "r+OWW25BRESEctlzzz2H6OhoaDQabNu2DTfeeCPOnTuH4ODgbp9r3bp1+NWvfmV32bRp0/r7EoiI\n",
              "vN6O06WoazHjQE6F2kshIuoTp1Tfz58/H3v27MHx48exfv16FBcXIzk5WbleCIHNmzdflrofNmwY\n",
              "NBrbEm677TaEhobi7NmzPT7P2rVrUVtba/c1ZcoUZ7wEIiKvtu+cLRitamyFycwMEhF5H6cEpSUl\n",
              "Jcqfn3nmGSxYsACJiYnKZbt27YLZbMZ1111nd7+LFy8qfz506BAqKyvt7teVXq9HaGio3ZdWq3XG\n",
              "SyAi8lotbRYczq9U/l5eZ1JxNUREfeNQ+n7lypXYvn07SktLsWjRIoSEhCAnJwdPPfUU9u3bB7PZ\n",
              "jOnTpyMzM9PufpmZmbj33nuVXVHZihUrUFZWBq1Wi0GDBuH999+HwWDo/6siIvIhx89Xo6XNqvy9\n",
              "tK4FI8IDVVwREZHjHApKN27c2O3lmzZtuuL93nnnnW4v//TTTx15eiIi6oacupeV1raotBIior7j\n",
              "RCciIi+379wlAMAgP9txprI6BqVE5H0YlFK3Wtos2H+uAhb2PCTyaBUNJvy3uA4AcOP4KADcKSUi\n",
              "78SglLqVuT8fyzMP44+7zqm9FCK6ArkFVHJ0KJJjQgHYzpQSEXkbBqXUra/ad162Hr8IIbhbSuSp\n",
              "5POks0dHIMoQAIA7pUTknRiUUreKa5sBABerm3GisEbdxRBRt4QQynnSOUlDEBXaHpRyp5SIvBCD\n",
              "UupWcU2z8ucPTxWruBIi6sm58gaU1Zmg12kwKXYwItuD0vI6EzMcROR1GJTSZVrNVpTXdzTf/ld2\n",
              "CcwW6xXuQURq2PuNbZd06igjAvy0SlDaarGiqrFVzaURETmMQSldpqyuBUIA/loNwgL9UNFgwuH8\n",
              "KrWXRURd7G8vcpqTFAEA8NdpEBHsD4ApfCLyPgxK6TJy6j46LAA3jo8GAGSdZAqfyJOYzBYcyrON\n",
              "Fp3VHpQCUHZL2auUiLwNg1K6TEl75W6MYRAWT4wBAHx0ugQms0XNZRFRJ8cLbKNFh4ToMSYyRLlc\n",
              "KXaqNfV0VyIij8SglC5T1GmndEp8OIaG6FHXYsbebyquck8icpe9ciuopAhIkqRcHmlgBT4ReScG\n",
              "pXQZOX0/LGwQtBoJt6TadktZhU/kOfbndLSC6qxjp7T5svsQEXkyBqV0GSV9HzYIALA4zRaUfvJV\n",
              "GZpazaqti4hsKhtMOF1kG3AxMzHC7rqOXqVM3xORd2FQSpdRCp3a04AThxswMjwQzW0WfPp1uZpL\n",
              "IyJ0VN2Piw7FkBC93XVy+r6MU52IyMswKKXLdE7fA4AkSbh1IqvwiTyFPFp0TlLEZddxqhMReSsG\n",
              "pWSnvqUNdS22FH10e1AKAIsnDgMA7PmmHLVNbaqsjYhso0X3K0VOQy67Pqp9p7S2uQ0tbeyYQUTe\n",
              "g0Ep2ZHPk4YG6BCs1ymXj4kKwZjIELRZBD7+b6layyPyeTnlDSita4Fep0F63ODLrg8N0GGQnxYA\n",
              "UMoUPhF5EQalZEdO3cd02iWVyQVPWazCJ1KN3ApqSnw4AtqDz84kSVJ2S5nCJyJvwqCU7BTX2Ffe\n",
              "d3ZLqu1c6cHcCpTX84cdkRr2neu+FVRnkaG24idOdSIib8KglOyU1Mo7pQGXXRdrDMLEEWGwCuCj\n",
              "L5nCJ3I3k9mCw3lVAIDZoy8vcpJ19CplUEpE3oNBKdlRpjkZLt8pBaCMHWUKn8j9jp+vRnOb5bLR\n",
              "ol3JbaFKGJQSkRdhUEp2StrT98O6Sd8DthS+JNl+OF6sbnLn0oh8ntwKanai/WjRruSdUqbvicib\n",
              "MCglO8W19o3zu4oMDcDU+HAAwIenSty2LiJCRyuoK6TuAfYqJSLvxKCUFFarUHZKuyt0ksk9S5nC\n",
              "J3KfygYTThfXArh8tGhXUZzqREReiEEpKSobW9FqsUKSOn6odefG8VHQaSR8XVKHnPJ6N66QyHcd\n",
              "yK2EEMDYqBAMDen5+xPo+P4trzfBahXuWB4RUb8xKCWF3KN0aIgeftqe/2sMDvLHnNG2djRZTOET\n",
              "ucW+b9pbQY3uuRWUbEiwHhoJMFsFKhpNrl4aEZFTMCglRUc7qJ5T97JbJ9p6ln54qhhCcCeGyJWE\n",
              "ENifI48WvXLqHgB0Wg0igtt7ldYyKCUi78CglBRF8nnSHtpBdXZdchT0Og3yKxpxuqjO1Usj8mm5\n",
              "lxpQUmsbLTo5LrxX9+FUJyLyNgxKSdExYvTK59UAIFivw8JxkQCAD7NZ8ETkSnu/ufJo0e5EKg30\n",
              "m122LiIiZ2JQSgpH0vcAcGt7I/0PTxWzmILIheTRor1J3cvYFoqIvI1DQenq1asRFxcHSZJw8uRJ\n",
              "5fIdO3YgPT0dqampmDZtGk6dOqVcN3XqVKSlpSEtLQ3jx4+HJEnIzs4GADQ1NeGuu+5CYmIiRo8e\n",
              "ja1btzrnVVGfyOn7nqY5dTVvzBCE6HUoqW3BsfPVrlwakc8ymS04JI8WvcK8+66U9D3PlBKRl3Ao\n",
              "KF26dCn279+P2NhY5bLq6mpkZGTgjTfeQHZ2Nl544QVkZGQo1x8+fBgnT57EyZMn8fTTT2P8+PFI\n",
              "TU0FAPz+97+HXq9HTk4OPv74Yzz88MOorKx00ksjR5W0p+97mubUVYCfFtenRAEAsk4VuWxdRL7s\n",
              "xPkaNLdZEBGsx9ionkeLdsWpTkTkbRwKSufMmYPhw4fbXZabmwuj0YiUlBQAwOzZs1FYWIgTJ05c\n",
              "dv/MzEzcf//9yt+3bNmChx56CAAQHx+PefPmYdu2bQ6/COo/k9mC8nrbjkp0L86Uyhan2VL4//6y\n",
              "FGaL1SVrI/JlnVP3Vxot2hULnYjI2/T7TGlSUhIqKytx8OBBAEBWVhbq6+tRUFBgd7sLFy5gz549\n",
              "WL58uXJZYWGh3a5rXFwcCgsLe3wuk8mEuro6uy+LxdLfl0DoaBvjr9PAGOTf6/vNTDDCGOSPqsZW\n",
              "HMjlLjeRsynz7h04Twp0FDpxqhMReYt+B6UGgwFbt27F2rVrMWnSJOzcuRPJycnQ6XR2t3v99ddx\n",
              "yy23ICLCsQ/WztatWweDwWD3deTIkf6+BELHzPsYQ4BDuzE6rQY3TbD1LM06ySp8ImeqamxVRovO\n",
              "uspo0a7kndJ6kxmNJrPT10ZE5GxOqb6fP38+9uzZg+PHj2P9+vUoLi5GcnKycr0QAps3b7ZL3QPA\n",
              "yJEjcf78eeXvBQUFGDlyZI/Ps3btWtTW1tp9TZkyxRkvwed1tIPq3XnSzuQq/J3/LUVLG3euiZzl\n",
              "QE5Fx2jR0N4fqwFsbduC9bbNAabwicgbOCUoLSnpGDX5zDPPYMGCBUhMTFQu27VrF8xmM6677jq7\n",
              "+91xxx149dVXAQD5+fn47LPPsGTJkh6fR6/XIzQ01O5Lq+1dzz66spL2FF9fgtL02MGINgSg3mTG\n",
              "Z2cvOXtpRD6rL62gOosMtU11KmUKn4i8gENB6cqVKzF8+HBcvHgRixYtUgLPp556CmPHjkViYiLO\n",
              "nz+PzMxMu/tlZmbi3nvvhUZj/3Rr1qxBc3MzEhISsGjRIvzpT3/qV3qf+q6opiN97yiNRrLrWUpE\n",
              "/SeE6HSetPetoDrraAvFoJSIPJ/u6jfpsHHjxm4v37Rp0xXv984773R7eVBQELZs2eLIEshFSvqR\n",
              "vgeAxRNj8L978/Dp12VoMJmVtCER9U3upUaU1LbAX6fBlPjejRbtKpIN9InIi3CiEwEAiuXG+X0M\n",
              "SlNiQhEfEQST2YpPvip15tKIfJKcup8S1/vRol1FG9irlIi8B4NSAtBR6DTMgR6lnUlS5xR+yVVu\n",
              "TURX09dWUJ0po0aZviciL8CglFDX0ob69pYxvR0x2p3F7UHp3m8uobqx1SlrI/JFrWYrDuXZ+v72\n",
              "9Twp0KlXKXdKicgLMCgllLSn7g2D/BDUj7OgiUODkRwdCrNV4KPTTOET9dWJwmo0tTo+WrQrTnUi\n",
              "Im/CoJQ6Guf38TxpZ3IKP+tUUb8fi8hXyedJZyUaodH0fphFV3L6/lK9iWOAicjjMSiljsb5fWgH\n",
              "1dWtE23TnQ7nV/EcG1Ef9bcVlMwYrIdWI8EqgEsNJmcsjYjIZRiUUr+mOXU1fHAgJsUOhhDA9i9Z\n",
              "8ETkqOrGVnxZZBst2p8iJwDQaiQMDWEDfSLyDgxKSTlT6oygFOgoeMpiI30ihx3I7fto0e6w2ImI\n",
              "vAWDUuqY5tTHdlBd3TQhGhoJOHWhBucrG53ymES+Yt83ttT9rETnTLeL5lQnIuqi1eyZZ8wZlFK/\n",
              "5t53Z0iIHjMSbD9QOXaUqPdso0Xb592P7t95UlnHVCeeKSUioLa5Dd/5y0G8tj9f7aVchkGpj7Na\n",
              "BUraq++jnVDoJFvMRvpEDsu91IhiebRoXN9Gi3YVxalORNSu0WTGfa8fxZdFtXhldw5qmjyrpziD\n",
              "Uh9X0WBCm0VAI3XsqDjDovFR8NNKOFtWj7Ol9U57XKKBbH+n0aKD/Ps2WrQrTnUiIgBoabPggTeP\n",
              "4fj5aoQG6PDW/VMRFuiv9rLsMCj1ccXtP6iGhgTAT+u8/w6GQX6YO3ooAPYsJeotuRXUrH5W3XfG\n",
              "QiciajVb8fDfTuBgbiWC/LV4474pSI4JVXtZl2FQ6uOKnVzk1NnitI4UvhDC6Y9PNJC0mq34XBkt\n",
              "6rygVE7fl9S28PuQyAdZrAI/3XISu86UQ6/TIHPFZFwzcrDay+oWg1If58wepV0tHDcUg/y0KKxq\n",
              "wqmLtU5/fKKB5AtltKg/xkU5bwdDTt83t1lQ12J22uMSkeezWgWe+CAb278sgZ9WwsbvTcK0UUa1\n",
              "l9UjBqU+rtjJPUo7C/TX4brkSABA1klW4RNdiZK6T4zo12jRrgb5axEaoAPAFD6RLxFC4OkP/4ut\n",
              "xy9Cq5Hwx7u+hXljhqq9rCtiUOrj5Mp7Z4wY7Y5chf+v7GJYrEwdEvVEmXffz9Gi3Yk22H7pZLET\n",
              "kW8QQuA3O87gzc/PQ5KA9XdMxA3jo9Re1lUxKPVxcvo+2gU7pQAwe3QEQgN0KK834XB+pUueg8jb\n",
              "VTe2IttJo0W7Eyk30OdOKZFP+OOuHGzckwcAeP62CVhyzTCVV9Q7DEp9XFF7+n6Yi4JSvU6LG8dH\n",
              "A2DPUqKeHMythBDAmMgQp7Zmk0WF6gEAZdwpJRrw/rovDy9+8g0A4Be3JOOuKSNVXlHvMSj1YSaz\n",
              "BRUNtikvrjhTKpOr8D86XeKxo82I1KRMcXLBLinQqVcpd0qJBrR3Dhfi2e1fAwAevW407p8Vr/KK\n",
              "HMOg1IfJ58v0Og0GB/q57HmmjTIiIliPmqY27M+55LLnIfJGttGizu9P2lkkpzoRDXjbvriI//nn\n",
              "lwCAh+YmYNWCRJVX5DgGpT6suFPqXpKcV+3blVYj4ZZUWwqfVfhE9vIqGlFU0wx/rQZT413TqkXe\n",
              "KS1h+p5oQNpxugSPvZ8NIYDvT4/FEzeMcenPdVdhUOrDOoqcXFN539mt7VX4n3xVhuZWi8ufj8hb\n",
              "7G/fJZ0cP9hpo0W74lQnooHrs7Pl+PG7X8BiFVg6aTievjXFKwNSgEGpT1Ma5xtcd55U9q2RYRg+\n",
              "eBAaWy3Ydabc5c9H5C06zpM6vxWUTJ7qVNHQynPdRAPIobxKrHzrONosAjenRuO330l1ap9jd2NQ\n",
              "6sPkufeuLHKSSZKk7JZmnSpy+fMReYNWsxWf59papc1KdM15UgAID/SHv9b2cV9ez91SooHgi8Jq\n",
              "3P/6UZjMVlw7dig2fDcNWi8OSAEGpT7NlXPvu3Nrqi0o3X32Eupa2tzynESe7IvCajS2WmAM8kdy\n",
              "tPNGi3al0UgYKreFYgqfyOt9VVyHe147gsZWC2YkGPFKxrfgr/P+kM77XwH1mTLNyQ07pQAwLjoE\n",
              "iUOD0Wq24uPTpW55TiJPtj+no+re1Sk3pS1Urcmlz0NErpVT3oDvZR5GXYsZk2IHY9P30xHg55rz\n",
              "6O7GoNRHCSFQVN1e6OSGM6WALYUvjx39MJuN9In2thc5ufI8qYxTnYi8X2FlEzL+egiVja0YPywU\n",
              "r62YjCC9Tu1lOQ2DUh9V12JGY3sVvLvS90BHFf6BnApUNnDHhnxXTVMrsi/WAHDteVJZFCvwibxa\n",
              "SW0z7v7rIZTVmZA0NBhv3jcVhkGu6zGuBgalPkpO3YcF+iHQ332/ZcVHBGHCMAMsVoF/f8ndUvJd\n",
              "B3Jso0VHRwYr1fGuxF6lRN7rUr0JGZsO42J1M+KMgfjbD6YiPMhf7WU5nUNB6erVqxEXFwdJknDy\n",
              "5Enl8h07diA9PR2pqamYNm0aTp06pVwnhMDTTz+N0aNHY8KECZg/f75y3bx58xAfH4+0tDSkpaVh\n",
              "w4YN/X9F1CvubAfV1WKlCp+N9Ml3ydPN3JG6BzpNdWJQSuRVappa8b3Mw8iraMSwsEH42wPTMDTU\n",
              "fRlOd3Joi2zp0qV4/PHHMWvWLOWy6upqZGRkYO/evUhJScG+ffuQkZGB06dPAwD+8Ic/IDs7G6dP\n",
              "n4a/vz9KS+0LXDZs2IAlS5b0/5WQQ+RpTu4qcurslonReP6jr3G0oBrFNc2qrIFITUII7P3GtaNF\n",
              "u1IKnZi+J/Ia9S1tuGfzUZwprceQED3e/sFUDBvAPzMd2imdM2cOhg8fbndZbm4ujEYjUlJSAACz\n",
              "Z89GYWEhTpw4AQB44YUX8Jvf/Ab+/rZt5qioKGesm/rJ3e2gOos2DMLkuHAAwL+yuVtKviffbrRo\n",
              "uFues3NQKoRwy3MSUd81t1pw/xvHcOpCDQYH+uHt+6ciPiJI7WW5VL/PlCYlJaGyshIHDx4EAGRl\n",
              "ZaG+vh4FBQWoq6tDWVkZ/u///g9Tp07F1KlTsWXLFrv7P/nkk5gwYQKWLVuGvLy8Kz6XyWRCXV2d\n",
              "3ZfFwpGVfVHixsb53bmVKXzyYfvaq+7T4wa77Uy33Ke01WxFTRP7BBN5MpPZgpVvH8eR/CqE6HV4\n",
              "876pGBMVovayXK7fQanBYMDWrVuxdu1aTJo0CTt37kRycjJ0Oh3MZjPMZjOam5tx+PBhbNmyBT/9\n",
              "6U+VM6dvvfUWzpw5g+zsbMyePRu33HLLFZ9r3bp1MBgMdl9Hjhzp70vwSUXy3Hs3FFh056bxUdBq\n",
              "JJwuqkPepQZV1kCkln1ubAUlC/DTKoURTOETea42ixU/fucL7P3mEgb5abH53smYMNyg9rLcwinV\n",
              "9/Pnz8eePXtw/PhxrF+/HsXFxUhOTkZ4eDiCg4OxfPlyAEBcXBxmzpyJo0ePAgBGjBgBwNa/ctWq\n",
              "VcjLy0NlZWWPz7N27VrU1tbafU2ZMsUZL8HnyOl7tc6mGIP1ShucD0+xCp98R5vFis9z5aDUPedJ\n",
              "ZZE8V0rk0SxWgcfeP4WdX5XBX6fBX+9JR3qce474eAKnBKUlJR1BxTPPPIMFCxYgMTERAHDXXXdh\n",
              "x44dAICqqiocOXIEqampMJvNKCsrU+73wQcfIDIyEkajscfn0ev1CA0NtfvSagfGFAN3sliF0qtQ\n",
              "zSKjjir8Ip5xI5/xRWENGlstCHfxaNHuRMmjRlmBT+RxhBD4+T+/xP+dLIZOI+HPd38LM93Qw9iT\n",
              "OHSYaeXKldi+fTtKS0uxaNEihISEICcnB0899RT27dsHs9mM6dOnIzMzU7nPunXrcO+99+LPf/4z\n",
              "AOCJJ57AlClT0NjYiJtvvhkmkwkajQYRERHIyspy7qujblU0mNBmEdBIwNAQvWrruD4lEv7bNMi9\n",
              "1IivSuqQEuMb6QnybfvO2VpBzUp0/WjRrqI41YnIIwkh8My/vsa7Ry5AIwEblqVhYXKk2styO4eC\n",
              "0o0bN3Z7+aZNm3q8j9Fo7DbYDAoKwrFjxxx5enISOXUfFRoAnVa9+QkhAX5YMGYodvy3FFmnihmU\n",
              "kk/oOE/q/h0QJX3PnVIij/LiJ9/gtQP5AIDffCdVKQb2NZzo5IPkHqXRHtDrbHGa7RvvX6dKmMKn\n",
              "Aa/zaFF3FjnJ2KuUyPP8+bMc/HFXDgDgV4tT8N30ESqvSD3umy9JHqOjR6n6QemCsUMR5K9FUU0z\n",
              "ThRWY1Ks7xzoJt9zMLcSVgEkDXXPaNGu5KlOA2Gn9LOz5fj4v2VXv6ELxEcEYmZiBMZFhbr9CMZA\n",
              "V17Xgr8fuwC9TosZicYB+x5brAJfFtXi31+W4H/32tphPnHDWNwzI07dhamMQakPKq5Vr3F+VwF+\n",
              "WlyfEoVtXxQh62Qxg1Ia0NRoBdWZ3AKuzMt3SoUQePTvp1DZ2KrqOsKD/DF9lBEzEo2YmRCBWGMg\n",
              "JGngBVDuUNPUio1787D5QD5a2qzK5QPlPRZCIKe8AQdyKnAgtxKH8ipR32JWrv/xgkT8cF6Ciiv0\n",
              "DAxKfZCac++7s3hiDLZ9UYTtX5bgF7ckq3rOlchVbKNF2+fdj1anolZO31c3taGlzYIAP+/sXlLV\n",
              "2IrKxlZIEvDThaPhzhDF3L7DdTivElWNrdj+ZQm2f2nrQDMsbBBmJBgxMzECMxKNGBqi/i/+nq7R\n",
              "ZMbmA/nYuDdPCdKuGRmGsEF+OJxf1eN7PCspAtMTPPs9Lq5pxoGcChzMrcSBnAqU15vsrg8J0GHa\n",
              "KCNuHB+F264ZptIqPQuDUh+k9jSnrmYlRWBwoB8qGlpxKK/KbbPAidypoLLJ7aNFuzIM8oNep4HJ\n",
              "bEV5nQkjjYGqrKO/8ioaAdh+sV59bZIqa2izWJF9sQb7z1XiQG4FviisRlFNM94/fhHvH78IABgd\n",
              "GYwZCRGYmRiBqaPCERrgp8paPVFLmwXvHC7EK7tzlB3vsVEhWLNoDBaMHQpJktBmseLUhRocyPGO\n",
              "97i6sRWf51UqgWh++/9Tmb9Og8lxg5X1jo8J5SZMFwxKfVCxytOcuvLTanDjhGi8c7gQWaeKGJTS\n",
              "gCS3gpoU677Rol1JkoQoQwDOVzahtK7Fe4PS9ilwo4aoNwfcT6vBpNhwTIoNxyMLk9DUasbRgmoc\n",
              "zKnAgdwK/Le4Dt+UNeCbsga8frAAWo2ECcMMmNmehv5W7GCv3anuD7PFin+cKMJLn36D4vYNkjhj\n",
              "IH563Wjcmhpjd37UT6tBelw40uM63uMj+VXKzuNXJVd4jxMj8K2Rrn2PO/+b729fT+d6XY0EpA4P\n",
              "8/l/c0cwKPUxLW0WVDTYfitVa5pTdxZPjME7hwvx0elSPLNkPPQ6fuPSwKKcJ1UpdS+LDO0ISr1V\n",
              "3iXbDlTCkGCVV9Ih0F+HuaOHYO5o23nh7nbNTl6owckLNXhldy70Og3S4wZjZmIEZiZEYPwwA7QD\n",
              "sKBHZrUK/Pt0CV7c+Y2y0x0VGoBHFiZh6aTh8OvFjmGgvw7zxgzFvDFDAfTuPZ4cF66cR+3ve9zd\n",
              "zm2bxb5rTNLQYNvxjQQjpo4ywjCIu+OOYFDqY+Sq2wA/DcICPeebZXJcOCJD9SirM2HP2Uu4PiVK\n",
              "7SUROY1ttKhthPIclYqcZEpbqPaCR2+U2x6UqrlTejWDg/xx04Ro3DQhGkD35wsP5FTiQE4lgLMI\n",
              "bT9fODMxAjMTjUgYEuyVBT1dCSHw2TeX8PuPz+K/xXUAbMVLD89LwPJpsf3aOez6HhfJ73F7MdGl\n",
              "ehP2t+9i9uU9tloFzpbVK/9uh/Mq0dhqsbuN3TniBCOGhnpGBtJbMSj1MZ3bQXnSB55WI+GW1Bhk\n",
              "7s9H1qliBqU0oJy8UIMGk1mV0aJdKVOdak1XuaXnUtL3EZ6zU3o1MWGDcEf6CNyRPqLbSuy6FjN2\n",
              "flWGnV/Z2lxFhuoxIyFCCXg8pQbAEUfyq/DCx2dwtKAaABCs1+GB2aNw36w4hLjg7OewsEH4bvoI\n",
              "fNeB93hmQgRmtAep0YZBKKxswoHcChzIqcDnuZWXdXgYHOiH6QlGzEiIwKxE7+0G4KkYlPoY+QyP\n",
              "J6XuZYsn2oLSj/9bihte2uv2558cF44fzU9UpX8kOVdlgwkHcytxMLcC+RWNuGlCNO6cPBL+OnWK\n",
              "Cva1V93PVGG0aFfyVCdvbQvVZrGisKoJgGfvlF6JJElIigxBUmQIVsyMh9lixeniOlsAlVOBY+er\n",
              "UVZnwrYvirDtiyIAwKiIICUNPT3BiLBAf5VfRc9OF9XihY/PYk/7/3u9ToN7ZsThh3MTMDjIPevu\n",
              "7Xv8jy+K8I/29zgs0A81TW12jzPIT4sp8eGYmWgLRJOjB2bfVE/BoNTHeFqRU2epww0YGxWCM6X1\n",
              "OFNa7/bnP1Naj78fu4DvT4/FD+clItxNH57Ufw0mM47kV7anQysu+/9zKK8K/7s3Dz9dOBpLrhnm\n",
              "9rN7+3LUGy3alfy9761nSgurmmC2Cgzy0ypHEbydTqtB2ogwpI0Iw4/mJ6KlzYLj56uVXb4vL9Yg\n",
              "r6IReRWNePtQISQJSIkJxcz2Ku7JceEY5K/+Ofyc8gZs+OQbpX2TTiNh2eQR+PGCJNV/2e/Ne1zT\n",
              "1AadRkLaiLD2FH8E0kaEqfbLrC9iUOpjSmo9Z5pTV5Ik4b0Hp+F0UZ3bn7vB1IbM/fk4WlCNTfvy\n",
              "8e6RC/jB7HjcPyveJWkm6p9WsxVfFFbjQPv5vFMXamC22hccjI0KwczECAwJ0eO1/fm4WN2MR98/\n",
              "hVf35OLR68dgUUqkW9JutU1tOHWhBoBnBKWRod491UkucoqPCBqwO1YBflolKAKA2uY2HM6rVM6j\n",
              "nitvwOmiOpwuqsPGvXnw12pwzcgw5axk6vCwXhUOOcvF6ia8/Ok5fHDiIqwCkCRgSdow/GRhEmKN\n",
              "nrmb3d17nHepAUmRIQjWMzRSC995H1PUPvfeUxrndxUW6K9aS6hFKVF2B/Jf+vQc3jhYgIfnJeJ7\n",
              "0/t3IJ/6x2oV+KqkTtnVOJpfheY2+4KDkeGBSopteoIREcF65bp7psfhjc8L8JfPcnGuvAEPvX0c\n",
              "qcMNWLNoDGYlRrg0OD2YWwGrABKHBiPaA77v5B2r8voWWK3C6wI7T2gH5W6GQX64PiVKOWtfVteC\n",
              "g7kVOJBTiYM5FSiubcHh/Coczq/Ci58AQf5aTB1lVM6jjo0Kccn/8Uv1JryyOwfvHC5Eq8U2hem6\n",
              "5Eg8ev1ojI1S9+y0owyD/HDNyMFqL8PnMSj1MZ40997TSJKE+WOGYm7SEHx0uhTrPzmLvEuNeO7f\n",
              "XyNzfz5WX5uEO9J717qE+kcIgYLKJuX81+d5lZed9YoI9sf0hAjMbP/BOyK8556bg/y1eGhuAu6e\n",
              "OhJ/3ZuHv+7PR/bFWnwv8wimjQrHmkVjMSnWNT+Q9p7znNQ9AAwN0UOSgDaLQFVTq13w7g3ylMp7\n",
              "7ylycrbI0ADcds1w3HbNcLvvlYO5tirxmqY27DpTjl1nygE49r3SG7XNbfjfvbl4bX+B8svhjAQj\n",
              "1iwaw8CO+oVBqQ8RQqCkxnPm3nsqjUbCzanRWJQSiX98UYSXPz2Hoppm/L9tX2Lj3lz8rJsmz9R/\n",
              "5XUt7VWvHbs/nQXrdZgaH65Uyo6JdHz3JzTADz+7fgy+PyMOf96di7cPncehvCp85y8HsXDcUDx6\n",
              "/RiMc2J1vBBCaZqvdisomZ9WA2OQHhUNJpTWtnhfUFph2ylN8KGd0iuRJAnxEUGIjwjC8mmx3WYV\n",
              "Khpa8eGpYnx4qhgAMCJ8kFJ1PqNLVuFKmlrNeP1gAV79LBd17SNBJ44Iw+OLxihpcKL+YFDqQ+qa\n",
              "zUqPNU9II3o6nVaD76aPwLfTYpRxeOcrm/DIeyfxl89y8dj1Y3DtuKFsB9JHtc1tOJRXqfQUzClv\n",
              "sLve/pxcBFKHG5y2Sx0RrMdTtybj/tnx+ON/zuH94xfx6dfl+M+ZctyaGoOfXjca8RH9D3rOVzbh\n",
              "YnUz/LQSpo5SZ7Rod6IMHUHp+GEGtZfjEGWn1IvaQbmTRiNh/DADxg8zYOXcBLvz1wdzKnDyQg0u\n",
              "VDXjvaoLeO/oBQAd569nJhoxJd542ZlKk9mC945cwB935aCiwdZKbHRkMB67fgyuS3bP2WzyDQxK\n",
              "HSCEwMXqZgwf7Fk9PnuruL3IKTzI3yMqNb2FXqfFvTPj8d30EbZdgj25OFNajx+8eQzXjAzDmkVj\n",
              "MCOBuwRX0121a+faJEkCxscYlLY37qgoHhY2CL/5TioenDMKL37yDf6VXYKsU8XY/mUJvps+Aquv\n",
              "TezXL3CeMFq0O1GhAThdVOd1Ffi1TW1K38h47pT2ir9Og6mjbNOFfnbdaDSYzDiaX4UD7U3l5W4n\n",
              "Z0rrkbk/HzqNhIkjwjAzwYgZiRG4WN2MDZ98g6L2LNvI8EBbtmhizICeQEXq8JxPSQ9nsQpMfu5T\n",
              "VDW2Yv8T8zF8sPfNjPbkdlDeIEivw4/mJ2L51Fhs3JuLzQcK8EVhDe7edBizEiPw2KIxSBsRpvYy\n",
              "PYbZYsWXRbVKxfCx89VoNVvtbiP3XpyVGIFpo9TrvThqSDD+dPe38MN5tVi/8xvsOlOOd48U4oMT\n",
              "F/H9abH44bwEGPuQ5u44T+oZqXuZt/YqzW1P3UeG6lkh3UfBeh3mjx2K+WNtozorGkz4vL2n74Gc\n",
              "ShRWNeH4+WocP1+NP+zKUe43NESP1dcm4bvpI9giiVyG39W9pNVIGBqiR1VjK86U1Ht1UMoip/4x\n",
              "BPrh8RvGYsXMOLyyKwfvHClURtktSonEo9ePwejIELWX6XbdTVCpbz93JutugoonSYkx4LUVk3Gs\n",
              "oAq/+/gsjuRX4a/78/HukULcP3sUHpjd+xZhbRYrDnnIaNGulF6lXtYWiql754sI1uPWiTG4dWIM\n",
              "AOBCVVNHZX9uBQAJD8yOx/enxzHDRi7HoNQB46JDcaa0Hl+X1GFhcqTay3GYXDgSw51SpxgaEoBf\n",
              "fXs8fjB7FF769By2fXERH//XNsLutrRh+MnC0Rhp9L5fXhzRedb0wdxKlNfbj660nzUdgYQhQV5x\n",
              "9CU9LhxbHpyGvecq8MLHZ3C6qA5/+M85vPl5AR6el4DvT4+7aouwUxdqUG8yY3CgH1JiPKs9jtKr\n",
              "1Mt2SuV2UAlDmbp3lRHhgVgWPhLLJo+EEMIrvl9p4GBQ6oBx0SHY9gVUmTbkDNwpdY0R4YFY/92J\n",
              "eGiu7VziR6dL8Y8vipB1qhh3ThmB1QuSMHSATJ6pamzF57mVOJBrC0QLKpvsrtfrNJgcF66cCx0/\n",
              "zOC1584kScLc0UMwJykCO06X4vc7zyL3UiOe//cZZO7Px48XJGHZ5BE9Fl/JqXtPGC3aldyr1NvS\n",
              "99wpdS8GpORuDEodIDcD/rrE/ROHnKFEbpzPoNQlkiJD8Jflk5B9sQa/3/kN9n5zCW8fKsTW4xdx\n",
              "z4w4PDTHfXOfnaWp1Ywj+VXKudCvSuogOhUnaSQgdXgYZiVGYEaiEd8aOXjADRmQJAk3TojGdcmR\n",
              "2PZFEV5qbxH283+exv/uzeux6MPTWkF1FuWlU53kdlC+1DifyJcwKHWA3L8wv7IRza0WrztfU8Qe\n",
              "pW6ROjwMb943BYfyKvHCx2dx/Hw1Nu7JwzuHCvHAnFG4b1a8xxZptFmsOHmhpj0lX4kvLlSjzWI/\n",
              "vnN0ZDBmtM/cnjoqHKE+MoZVp9XgjvQRWJwWo7THKaxqwk+22FqEPXr9aKU9Tm1zx2hRtSaUXUlk\n",
              "+05pXYsZTa1mj+oM0BOLVSg78wk+3DifaCDz/E8iDzIkRI+IYH9UNLTibFm9V1VaW6xCOT/GnVL3\n",
              "mDbKiK0PTcfus+V44eNv8HVJHV785Bvb6NL5iciYOlL1XUWrVeBMaX17YUMFDudXoanVfnznsLBB\n",
              "mJloOxc6PcGIoSG+/UuNXqfFPTPicEf6cKWR+Nmyejz41nGktTcSr2tpg1XYGrx74vdbiF6HQH8t\n",
              "mlotKK1t8YrpSEXVzWg1W+Gv03jke0pE/ceg1EHjokOx71wFzpTUeVVQeqneBItVtHcR8O2gwp0k\n",
              "ScKCsZGYN3ootn9Zghc/+Qb5FY145l9f4a/78vDw/ETEG92fiiysasKB3Ap8nluJqva+j7LBgX6Y\n",
              "kRChnAuNNQbybFk3Av11eHheIjKmxOJ/99lGLp68UIO7/3oYoQG2j1ZPawUlkyQJUaEByKtoRGmd\n",
              "dwSlcjuoeGOQ155TJqIrY1DqoLFRIdh3rsLrzpXKqfuo0AB+oKtAo5Fw68QY3DA+Ch8cv4iX/3MO\n",
              "JbUt+MU/T6u9NAT6azElPry9VZMR46JCPa4wx5MZAv2wZtFYrJgRj1d25+Cdw4XKCMY5oz0vdS+L\n",
              "bA9KvaXYKbec50mJBjoGpQ6Sz5V+7WUV+CW1PE/qCfy0Gtw5ZSSWXDMMbx86j6xTxZc1lHcHwyA/\n",
              "pVVT2ogwNsN2giEhejy9OAU/mB2Pv3yWizaL1WN3SoHOvUpNV7mlZ8iraK+8Z1BKNGAxKHVQ5wp8\n",
              "b+rh1jHNiWexPEGAnxY/mD0KP5g9Su2lkJMNHxyI526boPYyrirSy9pCyT1K2Q6KaODi9oiDEocG\n",
              "Q6eRUN9iVprRe4NitoMiok68rS2U0qOUO6VEAxaDUgf56zRIHGr7Tf3rYu85V1rMdlBE1Ik3TXWq\n",
              "b2lTpoV5Q1EWEfWNQ0Hp6tWrERcXB0mScPLkSeXyHTt2ID09HampqZg2bRpOnTqlXCeEwNNPP43R\n",
              "o0djwoQJmD9/vnJdeXk5brjhBiQlJWH8+PHYu3dv/1+RG4yNss01P1PqRUGpfKaU6XsigndNdcpv\n",
              "P08aEewPwyDf6ItL5IscCkqXLl2K/fv3IzY2VrmsuroaGRkZeOONN5CdnY0XXngBGRkZyvV/+MMf\n",
              "kJ2djdOnT+PLL7/Eu+++q1z35JNPYtq0aTh37hw2b96Mu+++G21tbU54Wa6lFDuVeE+xE6c5EVFn\n",
              "cvq+vL1dnCfjeFEi3+BQodOcOXMuuyw3NxdGoxEpKSkAgNmzZ6OwsBAnTpzAt771LbzwwgvYtWsX\n",
              "/P1t4xWjoqKU+/79739HTk4OAGDy5MmIiYnBnj17sHDhwj6/IHcYq1Tge8dOaUubBZXtvSiZvici\n",
              "wLbrqJFsgzUqGkxKOt8TKUVOPE9KNKD1+0xpUlISKisrcfDgQQBAVlYW6uvrUVBQgLq6OpSVleH/\n",
              "/u//MHXqVEydOhVbtmwBAFRWVqKtrc0uSI2Li0NhYWGPz2UymVBXV2f3ZbFYery9q4yLtqXvCyps\n",
              "40Y9XUl7IUOgv5apLyICYBubOiRED8Dzi51y2Q6KyCf0Oyg1GAzYunUr1q5di0mTJmHnzp1ITk6G\n",
              "TqeD2WyG2WxGc3MzDh8+jC1btuCnP/2p3ZlTR6xbtw4Gg8Hu68iRI/19CQ4bEqyHMcgfVgF8U+b5\n",
              "KfyOdlABXtPCiohcL6r9jLmnFzsxfU/kG5xSfT9//nzs2bMHx48fx/r161FcXIzk5GSEh4cjODgY\n",
              "y5cvB2DbCZ05cyaOHj0Ko9EInU6H0tJS5XEKCgowcuTIHp9n7dq1qK2ttfuaMmWKM16CQyRJ6nSu\n",
              "1PNT+EVK5T3PkxJRh6hQ206pJxc7Wa0C+RVM3xP5AqcEpSUlJcqfn3nmGSxYsACJiYkAgLvuugs7\n",
              "duwAAFRVVeHIkSNITU0FANxxxx149dVXAQBHjx5FUVER5s6d2+Pz6PV6hIaG2n1ptVpnvASHdVTg\n",
              "e/5OqVLkxMp7IurEG3qVltS1oKXNCj+thBHhgWovh4hcyKGgdOXKlRg+fDguXryIRYsWKYHnU089\n",
              "hbFjxyIxMRHnz59HZmamcp9169Zhx44dGD9+PObMmYMnnnhC2d387W9/i4MHDyIpKQkrVqzA22+/\n",
              "DT8/7zjzKO+UfuUFO6XF3Cklom7IU508OX0vFzmNDA+En5attYkGMoeq7zdu3Njt5Zs2berxPkaj\n",
              "EVlZWd1eFxkZiZ07dzqyBI8xtr3Y6YwXjBst5tx7IuqGvFPqyen7jklOPE9KNNDx184+kseN1nnB\n",
              "uFHulBJRd+SgtMSDP8PYDorIdzAo7SO9TouE9t/cz3hwCl8Iwbn3RNQtOX1f5slBaXs7qARW3hMN\n",
              "eAxK+0HuV+rJFfi1zW1obrP1Uo02MH1PRB3kndLGVgvqWzxzml5H+p47pUQDHYPSfuiY7OS5Ffhy\n",
              "OyhjkD8C/NTpVEBEnilIr0NIgK20wBPPlTa3WpTPMJ4pJRr4GJT2gzf0KuXMeyK6ko62UCaVV3K5\n",
              "vPb+pGGBfggP8ld5NUTkagxK+2FclOePG5Ur75m6J6LuRHlwW6iOSU5M3RP5Agal/TAkxPPHjbLI\n",
              "iYiuJNKD20KxHRSRb2FQ2g+SJHX0Ky31zBR+Rzso7pQS0eU8eapTHseLEvkUBqX9NC5KPlfqqTul\n",
              "7FFKRD2T20J5Yq/SjvQ9d0qJfAGD0n4a6+HFTvIPGgalRNQdT53qJIRQGucncKeUyCcwKO2nzr1K\n",
              "hRAqr8aexSqU4oUYA4NSIrqckr73sKC0vN6ExlYLNBIw0hio9nKIyA0YlPZT53Gjnpb+Kq9vgcUq\n",
              "oNNIGBKiV3s5ROSB5Or7igYT2ixWlVfTIbd9l3REeCD0OvZYJvIFDEr7qfO4UU9L4cvnSSNDA6DV\n",
              "SCqvhog8kTHIH35aCUIAl+o9p1cp20ER+R4GpU7QUYHvWcVORe3toIbxPCkR9UCjkTA0xPNS+GwH\n",
              "ReR7GJQ6gTzZ6SsP2yktad8pjWY7KCK6gshQ2/GeMg86gsR2UES+h0GpE4xtn+x0xsOCUraDIqLe\n",
              "8MSpTvJOaQJ3Sol8BoNSJ0hu3ynNr2hES5vnjBstZjsoIuqFSA+rwDeZLbhY3QSAO6VEvoRBqRMM\n",
              "CdEj3APHjSo7pZx7T0RX4GlTnc5XNsEqgBC9DkOC2TmEyFcwKHUCSZLs+pV6Cqbviag3lPS9hwSl\n",
              "ctP8UUOCIEnsHELkKxiUOslYDxs32txqQXVTGwA2zieiK4v0sKlOuay8J/JJDEqdZJyHjRstrrXt\n",
              "kgb5axE6SKfyaojIk0V3KnTyhMl07FFK5JsYlDqJUoFfWu8RH+olNR1FTkx/EdGVyDulLW1W1DWb\n",
              "VV5N53ZQ3Ckl8iUMSp0kKTIYWo2E2uY2jxg3Wqz0KGXqnoiuLMBPi7BAPwDqV+ALIZBbzh6lRL6I\n",
              "QamT2MaN2j5Az5Sqn8KX0/fD2DifiHohykPaQlU2tqKuxQxJAuKZvifyKQxKnajjXKn6xU7KTimL\n",
              "nIioF5RiJ5UzPfJ50hjDIAT4aVVdCxG5F4NSJ+qowPeAndIaNs4not6Td0rVPn7UuR0UEfkWBqVO\n",
              "5Em9SuX0fQzT90TUC5EeMmo0r4LjRYl8FYNSJxrnIeNGhRCdpjlxp5SIri7KQ3qVcqeUyHcxKHWi\n",
              "oR4ybrSmqQ0tbVYAHZNaiIiuJNpDpjp19CjlTimRr2FQ6kSSJHX0K1Wx2KmofZc0ItifhQJE1Cue\n",
              "MNWpzWJFYVUTAO6UEvkih4LS1atXIy4uDpIk4eTJk8rlO3bsQHp6OlJTUzFt2jScOnVKuW7evHmI\n",
              "j49HWloa0tLSsGHDhl5d563kFP5XKp4r5cx7InKUnFWpbGyFyazO8aPCqiaYrQKD/LTKcQIi8h0O\n",
              "zZ9cunQpHn/8ccyaNUu5rLq6GhkZGdi7dy9SUlKwb98+ZGRk4PTp08ptNmzYgCVLlnT7mFe6zht1\n",
              "THZSLyiVq2ejmbonol4aHOgHf50GrWYryutMGBEe6PY1yKn7+IggaDScREfkaxzaKZ0zZw6GDx9u\n",
              "d1lubi6MRiNSUlIAALNnz0ZhYSFOnDjhvFW2M5lMqKurs/uyWNQrKOpO516lao0b5U4pETlKkiRE\n",
              "huoBqJfCl4ucEobyPCmRL+r3mdKkpCRUVlbi4MGDAICsrCzU19ejoKBAuc2TTz6JCRMmYNmyZcjL\n",
              "y7O7/5Wu62rdunUwGAx2X0eOHOnvS3CqxKEd40bVaq1S3L5TOoxBKRE5QO1epR1FTjxPSuSL+h2U\n",
              "GgwGbN26FWvXrsWkSZOwc+dOJCcnQ6eznQx46623cObMGWRnZ2P27Nm45ZZblPte6brurF27FrW1\n",
              "tXZfU6ZM6e9LcKoAv45xo2r1K+U0JyLqC7WLnfIq2A6KyJc5pfp+/vz52LNnD44fP47169ejuLgY\n",
              "ycnJAIARI0YAsKWGVq1ahby8PFRWVl71uu7o9XqEhobafWm1nldd3jHZSZ0K/I70Pc+UElHvyTul\n",
              "arWFkndK2TifyDc5JSgtKSlR/vzMM89gwYIFSExMhNlsRllZmXLdBx98gMjISBiNxite5+06zpW6\n",
              "f6fUbLEquxw8U0pEjohScapTbVMbKhtbAdgKnYjI9zhUfb9y5Ups374dpaWlWLRoEUJCQpCTk4On\n",
              "nnoK+/btg9lsxvTp05GZmQnAVph08803w2QyQaPRICIiAllZWVe9ztuNjZYr8N2/U1pWb4JVAH5a\n",
              "CUOC9W5/fiLyXnJQqkb6Prc9dR8VGoAgvUM/mohogHDoO3/jxo3dXr5p06ZuLw8KCsKxY8ccvs7b\n",
              "JbfvlOZdakBLm8WtDexL2lP3UYYAtlQhIoco6XsVglKlyInnSYl8Fic6ucDQED0GB/rBKoBzZQ1u\n",
              "fe4iFjkRUR91FDqZ3N7SLpcz74l8HoNSF5AkSbVzpSVsB0VEfSQHpa1mK6qb2tz63HKPUs68J/Jd\n",
              "DEpdRKnAd/Nkp452UKy8JyLH+Os0MAb5AwBKapvd+txM3xMRg1IXGdde7OTunVJOcyKi/lCjV6nF\n",
              "KnC+sgkA20ER+TIGpS4ip+/PlLp33GhxDdP3RNR3SluoWpPbnvNidRNaLVb46zT8hZrIhzEodRF5\n",
              "3GhNk3vHjRa3p9yi2TifiPpAjV6lcuo+3hgELbuGEPksBqUuEuCnVeY3n3HTZKemVjNq2osTuNtA\n",
              "RH0ht4Uqc+NUJ1beExHAoNSl5BT+V246Vyqn7oP1OoQG+LnlOYloYFGjV2leBYuciIhBqUu5e7IT\n",
              "Z94TUX9FqjDVie2giAhgUOpS7u5VKrdwYeN8IuorVXZK2Q6KiMCg1KXGRdmPG3W1ovb0Pc+TElFf\n",
              "yUFpTVObWz636lvaUF5vq/QfxXZQRD6NQakLRYa6d9yoPPd+GNP3RNRHoYN0CPCz/WgodUOxU377\n",
              "edKIYD0Mg3gWnsiXMSh1IUmS3DrZqZjpeyLqJ0mS3JrCZ+qeiGQMSl3MnedKi5m+JyIniHJjsZNc\n",
              "5JTAoJTI5zEodTGlAt/FvUqFEKy+JyKnUHZK3ZC+z5XbQbHynsjnMSh1seTojvS9K8eNVjW2wmS2\n",
              "AujY5SAi6otIN051YvqeiGQMSl2s87jRsjrXzZIuad/RGBKih16nddnzENHAp0x1cnFQarUK5FfI\n",
              "05y4U0rk6xiUuljncaOuPFdaJKfuuUtKRP3krvR9SV0LWtqs8NNKGDGYZ+GJfB2DUjcYG+36CvwS\n",
              "5TwpP9iJqH+U9L2Lg9Lcctsu6cjwQOi0/HFE5Ov4KeAG49qLnb52YbFTcfsPD7aDIqL+kndKy+tN\n",
              "sFpddxZeGS/K1D0RgUGpW8iTnc64I33Pynsi6qchIXpIEmC2ClQ0uu4sfF4Fi5yIqAODUjeQe5Xm\n",
              "VTS6bGwf0/dE5Cx+Wg2GBOsBAGW1LgxK2yvvE9gOiojAoNQtIkP1CAv0g8UqkFPumnGjbJxPRM4U\n",
              "5Ya2UB3pe+6UEhGDUreQJElJ4buiAr/NYkV5vRyUMn1PRP0X6eJRo02tZuUsPM+UEhHAoNRtxrqw\n",
              "2KmsrgVWAfhpJUQE6Z3++ETke5RepS6qwM9vP08aFuiH8CB/lzwHEXkXBqVuIp8rPeOCtlBy6j7a\n",
              "MAgajeT0xyci3+Pq9L0yySmCqXsismFQ6iad0/fOHjdaUmsrcopm43wicpJIFzfQ7xgvytQ9Edkw\n",
              "KHWTpMhgaCSguqkN5fXOrWaV20ENY5ETETlJlIvPlOZVsMiJiOwxKHWTAD+tsiPwlZOLnUpYeU9E\n",
              "ThZlkFtCuXanNIE7pUTUjkGpGynnSp1c7FTcvlMazcp7InKSqPbpcPUmMxpNZqc+thBCaQeVwJ1S\n",
              "ImrnUFC6evVqxMXFQZIknDx5Url8x44dSE9PR2pqKqZNm4ZTp04p182bNw/x8fFIS0tDWloaNmzY\n",
              "oFxXXl6OG264AUlJSRg/fjz27t3b/1fkwcZGyRX4zt0pLWLjfCJysmC9DsF6HQDnp/DL601obLVA\n",
              "q5EwMpxBKRHZ6By58dKlS/H4449j1qxZymXV1dXIyMjA3r17kZKSgn379iEjIwOnT59WbrNhwwYs\n",
              "WbLkssd78sknMW3aNOzYsQNHjx7Fbbfdhvz8fPj5+fX9FXmwZBdV4Je0p9diOPeeiJwoMlSPhktm\n",
              "lNW2ODXNntu+Szpi8CD465iwIyIbhz4N5syZg+HDh9tdlpubC6PRiJSUFADA7NmzUVhYiBMnTlz1\n",
              "8f7+97/joYceAgBMnjwZMTEx2LNnT4+3N5lMqKurs/uyWFwzttMV5F6luZecN2600WRGbXMbADbO\n",
              "JyLnclVbKFbeE1F3+v0ralJSEiorK3Hw4EEAQFZWFurr61FQUKDc5sknn8SECROwbNky5OXlAQAq\n",
              "KyvR1taGqKgo5XZxcXEoLCzs8bnWrVsHg8Fg93XkyJH+vgS3iQoNcPq4UbkdVEiADiEBA3OHmYjU\n",
              "4aqpTuxRSkTd6XdQajAYsHXrVqxduxaTJk3Czp07kZycDJ3OdjLgrbfewpkzZ5CdnY3Zs2fjlltu\n",
              "6fNzrV27FrW1tXZfU6ZM6e9LcBtJkpx+rrSohql7InKNKBf1Ku1oB8WdUiLq4NCZ0p7Mnz8f8+fP\n",
              "B2BLsUdFRSE5ORkAMGLECAC2gGzVqlV47LHHUFlZCaPRCJ1Oh9LSUmW3tKCgACNHjuzxefR6PfR6\n",
              "+zGaWq3WGS/BbcZFh+JQXhXOlDqnAr9EKXJi6p6InEtJ3zs7KFXS99wpJaIOTjlhXlJSovz5mWee\n",
              "wYIFC5CYmAiz2YyysjLlug8++ACRkZEwGo0AgDvuuAOvvvoqAODo0aMoKirC3LlznbEkj9V5spMz\n",
              "dLSD4k4pETmXnL4vc2L6vqXNggvVTQAYlBKRPYd2SleuXInt27ejtLQUixYtQkhICHJycvDUU09h\n",
              "3759MJvNmD59OjIzMwHYdk1vvvlmmEwmaDQaREREICsrS3m83/72t/je976HpKQk+Pv74+233x6w\n",
              "lfcyuVepPG5Ukvo3q15O33OaExE5W7QLCp3OVzZBCCBEr8OQYP3V70BEPsOhoHTjxo3dXr5p06Zu\n",
              "Lw8KCsKxY8d6fLzIyEjs3LnTkSV4va7jRuWdiL7i3HsichX5TOmlehPMFit02v4n1+Sm+aOGBPX7\n",
              "l3IiGljYIM7NOo8bdUYKv5iN84nIRYzBemg1EqwCqGhodcpj5lWwHRQRdY9BqQo6KvD7V+wkhEBx\n",
              "LdP3ROQaWo2EoSG2FLuzUvhy43y2gyKirhiUqmCckyY7VTa2otVshSSh38cAiIi6E+nktlBsnE9E\n",
              "PWFQqoJx0c7pVSqn7ocE6zmqj4hcIsqJFfhCCLszpUREnTGSUYG8U5p7qREmc9/HjRa3V96zHRQR\n",
              "uYrcq7TECTullY2tqGsxQ5KAeKbviagLBqUqiAoNgGGQbdzoubK+jxuVd0qHsXE+EbmIM3uVyqn7\n",
              "GMMgBPh51+ATInI9BqUqkCRJSeH3Z7KT3A6KI0aJyFWinTjVial7IroSBqUqGeuEyU5M3xORqzl1\n",
              "p7S9HVQCi5yIqBsMSlWS7IQK/CKm74nIxaI6TXUSQvTrseSd0gTulBJRNxiUqmRsdEev0r5+0HdM\n",
              "c+JOKRG5hlx939RqQb3J3K/HYjsoIroSBqUqGR0ZAo0EVDW24lK9yeH7t5qtKG+/H6c5EZGrDPLX\n",
              "IjTANpG6rB/nStssVhRWNQHgmVIi6h6DUpUE+GmVlihf9eFcaVldC4QA/HUaGIP8nb08IiJF5xR+\n",
              "XxVWNcFsFQj01yq7r0REnTEoVVHHZCfHK/DldlDRhgBoNJJT10VE1Jlc7NSfXqVy6j4+IgiSxM8s\n",
              "Irocg1IVyUFpXyrw5R8ObAdFRK6mTHXqV1Aqt4PieVIi6h6DUhUpvUpLHN8plSvvo1l5T0Qu5oz0\n",
              "fa4clHKSExH1gEGpiuRepbmXGhweN9oxzYk7pUTkWnJQ2p9epR2V9wxKiah7DEpVFG2wjRs1WwVy\n",
              "yh0bNyqn79kOiohcTU7f92enlI3ziehqGJSqSJIkjI3q6FfqCHmnNIbpeyJyMbnQqbTW8fZ1AFDT\n",
              "1IqqxlYAULqOEBF1xaBUZUoFvoPFTkzfE5G7yOn7ykYT2ixWh++f2566jwoNQJBe59S1EdHAwaBU\n",
              "ZXKx09cOjButb2lDXYttsgrn3hORq4UH+sNPK0EIKEM7HNFRec9dUiLqGYNSlXW0her9uFH5PGlo\n",
              "gA7B3HUgIhfTaCQMDZFT+M0O318+T8qglIiuhEGpyvoybrTjPCl3SYnIPZS2UH04V6rslEawyImI\n",
              "esagVGWdx41+3cvJTsU17Y3zGZQSkZv0pwKf7aCIqDcYlHqAsQ5OdiqpZeU9EblXX3uVWqwC5yub\n",
              "ALAdFBFdGYNSD5DsYAW+Ms2JPUqJyE2UnVIHR41erG5Cq8UKvU7D7A4RXRGDUg/gaK9StoMiIneL\n",
              "7OOoUTl1Hx8RBK1Gcvq6iGjgYFDqAeQK/N6OG+2Y5sT0PRG5h7xT6mj6PpftoIiolxiUeoBoQwBC\n",
              "A3S9GjdqtQqUsNCJiNysc/q+t+3rgE7toFh5T0RXwaDUA0iSpBQ7nblKCr+ysRWtFiskqaPwgIjI\n",
              "1YaG6gEAJrMVNU1tvb4fG+cTUW8xKPUQyb2swJfPkw4N0cNPy38+InKPAD8tBgf6AXDsXGlHOyju\n",
              "lBLRlTkU1axevRpxcXGQJAknT55ULt+xYwfS09ORmpqKadOm4dSpU5fdd9euXdBqtXjppZeUy1as\n",
              "WIFhw4YhLS0NaWlpWLNmTZ9fiLeTi53OXKVXaUc7KKbuici9Ih3sVVrf0qaMJeVOKRFdjUMzKpcu\n",
              "XYrHH38cs2bNUi6rrq5GRkYG9u7di5SUFOzbtw8ZGRk4ffq0cpva2lo8+eSTuOmmmy57zDVr1uAn\n",
              "P/lJ31/BADGu006pEAKS1H2VapF8npTtoIjIzaINAThTWo+yXraFym8/TxoRrEdogJ8rl0ZEA4BD\n",
              "O6Vz5szB8OHD7S7Lzc2F0WhESkoKAGD27NkoLCzEiRMnlNusWrUKP//5z2E0Gvu1WJPJhLq6Orsv\n",
              "i+Xq1ereQB43WtnYiksNPY/x6xgxyvOkROReUQ62hWLlPRE5ot+HEpOSklBZWYmDBw8CALKyslBf\n",
              "X4+CggIAwNatW6HRaLB48eJu7//yyy8jNTUVt9xyi92RgO6sW7cOBoPB7uvIkSP9fQkeYZC/FnHy\n",
              "uNErFDvJ6Xs2zicid4t0sC2UfJ40gUEpEfVCv4NSg8GArVu3Yu3atZg0aRJ27tyJ5ORk6HQ6lJaW\n",
              "4tlnn8XLL7/c7X2fe+455ObmIjs7G/fffz9uvPFGNDT03BJp7dq1qK2ttfuaMmVKf1+CxxgXdfXJ\n",
              "TkVsB0VEKnF0qpNS5MR2UETUCw6dKe3J/PnzMX/+fAC2FHtUVBSSk5Nx/PhxlJSUIC0tDQBQUVGB\n",
              "rKwsXLp0Cc899xyGDRumPMZtt92GJ598EmfPnsWkSZO6fR69Xg+9Xm93mVardcZL8AjjokOw/cuS\n",
              "K1bgl3CaExGppGOqU89HjDpj+p6IHOGUoLSkpATR0dEAgGeeeQYLFixAYmIiEhMTUVZWptxuxYoV\n",
              "SEtLUwqbLl68qJxRPXToECorK5GYmOiMJXmlsfJOaQ8V+CazRalkjeaZUiJys46d0uar3tZqFSio\n",
              "ZDsoIuo9h4LSlStXYvv27SgtLcWiRYsQEhKCnJwcPPXUU9i3bx/MZjOmT5+OzMzMXj3eihUrUFZW\n",
              "Bq1Wi0GDBuH999+HwWDo0wsZCMbF2ILSnHLbuFG9zn4XuKzWFpD66zQwBvm7fX1E5NvkoLS6qQ0t\n",
              "bRYE+PWcqSqubUZLmxV+WgkjBjOzQ0RX51BQunHjxm4v37RpU6/u//rrr9v9/dNPP3Xk6Qe8mPZx\n",
              "o3UtZuSWNyK5PUiVFcs9Sg0BPbaMIiJylbBAP/jrNGg1W1FeZ8JIY2CPt5XPk44MD4SOgz6IqBf4\n",
              "SeFBOo8b7e5caUc7KO46EJH7SZKE6F62heoYL8rUPRH1DoNSDzNOmex0eVBaUsvKeyJSV2+nOuVV\n",
              "yOdJWeRERL3DoNTDdEx2urzYqaimI31PRKQG+Vzp1aY6KT1K2Q6KiHqJQamHkdP33e2UMn1PRGrr\n",
              "7VQnOX2fMJQ7pUTUOwxKPcyYyBBIElDR0IryevsP/ZL2xvnRDEqJSCW9Sd83tZpR3L6Tysb5RNRb\n",
              "DEo9zCB/LeKNtp2FM11S+MVK43ym74lIHb2Z6pTffp50cKAfBrN9HRH1EoNSDzSumwr8upY21JvM\n",
              "ADj3nojUE2WwTdW7UlCqjBdl5T0ROYBBqQcaq1Tgd+yUyql7wyA/BOmdMoiLiMhhcvq+vL4FVqvo\n",
              "9jYdM+95npSIeo9BqQfqbqdUaZzP86REpKKhIQGQJKDNIlDV1NrtbfIq2KOUiBzHoNQDjY227ZTm\n",
              "lDeg1WwF0Knynu2giEhFtjHHV07hd6TvuVNKRL3HoNQDDQsbhJAAHcxWgZxy244D20ERkaeQz5WW\n",
              "dVOBL4ToaAfFoJSIHMCg1ANJkoRxUfb9SjvaQXGnlIjUFXWFtlBldSY0tlqg1UgYGc6glIh6j0Gp\n",
              "hxrXnsKXz5UWKe2guFNKROqKvMJUJ3mXdMTgQfDX8UcMEfUePzE8VMdkJ1sFPufeE5GnkHdKS7oJ\n",
              "SnMr2A6KiPqGQamH6lyBb7UKlLRX30ez0ImIVBZ5hVGj8k4p20ERkaMYlHqo0ZHByrjRr0vr0GYR\n",
              "0EgdaTMiIrXIO6XdFTqxcT4R9RWDUg8V6K9Txo3u+rocgK0/oJ+W/2REpC45Y9NdS6iOHqXcKSUi\n",
              "xzDC8WByv9L/nLEFpTGsvCciDyCn7+tazGhutSiXt7RZcLHadtSIQSkROYpBqQeT20KdulgDgEVO\n",
              "ROQZQvQ6BPprAdifKz1f2QQhbNcPCdartTwi8lIMSj2YXIEv2sdLMyglIk8gSVJHr9JOKXylyGlI\n",
              "ECRJUmVtROS9GJR6MLlXqYwjRonIU0R2U+yU194OKoFFTkTUBwxKPZg8blQWzZ1SIvIQUd20hcq9\n",
              "xCInIuo7BqUerPO4UYDTnIjIc0R2m75nOygi6jsGpR5ubKcUPs+UEpGniAq1FTLJQakQwu5MKRGR\n",
              "oxiUejh5spNep8HgQD+VV0NEZBNlsP2SLKfvKxtbUddihiQBcUYGpUTkOAalHu5bIwcDAMZEhbCa\n",
              "lYg8hnymVC50klP3w8IGIcBPq9q6iMh76a5+E1LTmKgQ/H3ldAwfzNQ9EXkOuSVUeb0JFmvn1D3P\n",
              "kxJR3zAo9QJT4sPVXgIRkZ2IYH9oJMBiFahsMCntoEZFMHVPRH3D9D0RETlMp9VgSEh7sVNdC3LL\n",
              "bTulCSxyIqI+YlBKRER90nmqk7JTyvQ9EfWRQ0Hp6tWrERcXB0mScPLkSeXyHTt2ID09HampqZg2\n",
              "bRpOnTp12X137doFrVaLl156SbmsqakJd911FxITEzF69Ghs3bq1zy+EiIjcS+5VeqG6GYVVTQDY\n",
              "DoqI+s6hoHTp0qXYv38/YmNjlcuqq6uRkZGBN954A9nZ2XjhhReQkZFhd7/a2lo8+eSTuOmmm+wu\n",
              "//3vfw+9Xo+cnBx8/PHHePjhh1FZWdmPl0NERO4iV+Afza+CxSoQ6K9Vdk+JiBzlUFA6Z84cDB8+\n",
              "3O6y3NxcGI1GpKSkAABmz56NwsJCnDhxQrnNqlWr8POf/xxGo9Huvlu2bMFDDz0EAIiPj8e8efOw\n",
              "bdu2Hp/fZDKhrq7O7stisTjyEoiIyEnkoPRQvm0zIT4iiK3riKjP+n2mNCkpCZWVlTh48CAAICsr\n",
              "C/X19SgoKAAAbN26FRqNBosXL77svoWFhXa7rnFxcSgsLOzxudatWweDwWD3deTIkf6+BCIi6gN5\n",
              "V7SmqQ0Az5MSUf/0Oyg1GAzYunUr1q5di0mTJmHnzp1ITk6GTqdDaWkpnn32Wbz88svOWCvWrl2L\n",
              "2tpau68pU6Y45bGJiMgxXVP1bAdFRP3hlD6l8+fPx/z58wHYUuxRUVFITk7G8ePHUVJSgrS0NABA\n",
              "RUUFsrKycOnSJTz33HMYOXIkzp8/j+joaABAQUEBrr/++h6fR6/XQ6/X212m1XJyCBGRGiINXYJS\n",
              "FjkRUT84JSgtKSlRAstnnnkGCxYsQGJiIhITE1FWVqbcbsWKFUhLS8NPfvITAMAdd9yBV199FdOm\n",
              "TUN+fj4+++wz/PnPf3bGkoiIyMW67pQmMH1PRP3gUPp+5cqVGD58OC5evIhFixYhMTERAPDUU09h\n",
              "7NixSExMxPnz55GZmdmrx1uzZg2am5uRkJCARYsW4U9/+hMiIiIcfxVEROR2QXodQvQdexvxTN8T\n",
              "UT9IQgih9iL642c/+xlefPFFtZdBROSTFr64BznlDYg2BODztdeqvRwi8mKc6ERERH0mp/B5npSI\n",
              "+otBKRER9Zncq3RUBM+TElH/MCglIqI+u3ViDBKHBmNxWozaSyEiL+eU6nsiIvJNc0cPwdyfzVV7\n",
              "GUQ0AHCnlIiIiIhUx6CUiIiIiFTHoJSIiIiIVMeglIiIiIhUx6CUiIiIiFTHoJSIiIiIVMeglIiI\n",
              "iIhUx6CUiIiIiFTHoJSIiIiIVMeglIiIiIhUx6CUiIiIiFTHoJSIiIiIVCcJIYTai+iP22+/HXFx\n",
              "cW55LovFgiNHjmDKlCnQarVueU5vxPepd/g+9R7fq97h+9Q7fJ96h+9T7/B96p3Y2Fg88sgjV7yN\n",
              "1wel7lRXVweDwYDa2lqEhoaqvRyPxfepd/g+9R7fq97h+9Q7fJ96h+9T7/B9ch6m74mIiIhIdQxK\n",
              "iYiIiEh1DEqJiIiISHUMSh2g1+vxy1/+Enq9Xu2leDS+T73D96n3+F71Dt+n3uH71Dt8n3qH75Pz\n",
              "sNCJiIiIiFTHnVIiIiIiUh2DUiIiIiJSHYNSIiIiIlKdVwel//jHPzBp0iSkpaVh7NixWLBgAaxW\n",
              "6xXvc9NNN+Hs2bPdXrd06VK8/vrr/V7XvHnz4O/vj/LycuWyvLw8aDQaLFmypN+PT54lLS0NaWlp\n",
              "SE5OhlarVf6+bNkyfPbZZ0hLS+v2fsXFxZg9e7Z7F0teoafPtpdeegmlpaVqL49UFhcXh5MnT9pd\n",
              "Nm/ePPzzn//s1+OuWLECL7300lVv9/TTT2PIkCFIS0vDuHHjsGzZMlRXV/fruYkAQKf2AvqqpKQE\n",
              "Dz74II4fP47Y2FgAwIkTJyBJ0hXv9+9//9up6zCbzdDpLn8bU1NT8dZbb+HRRx8FALz22muYNGmS\n",
              "U5+bPIP8w6GgoABpaWl2Pyw+++yzHu8XExODffv2uXZx5HWu9Nn20ksvYd68eYiKinLoMXv6nCLq\n",
              "q4yMDLz00kuwWCy444478Oyzz2L9+vVqL4u8nNfulJaVlUGr1SI8PFy57Fvf+hYkSUJcXBzWrFmD\n",
              "SZMmITExES+88IJym86/YZ45cwYzZsxASkoKlixZgrq6OuV29fX1eOCBBzBlyhSkpqbiwQcfRGtr\n",
              "KwDbb6SrV6/G9OnTcf3113e7vnvuuQdvvPEGAMBqtWLLli24++67letLS0sxf/58TJo0CSkpKVi1\n",
              "apWyy/v6669j4cKFuOuuuzBhwgSkp6cjLy/POW8cuZ3ZbMbDDz+MiRMnIiUlBceOHQNgC2LDwsKU\n",
              "20mShOeffx5TpkxBfHw8Nm/erFx38OBBpKWlYcKECbjvvvswceLEKwa85L16+mx75plnUFxcjGXL\n",
              "lim//DQ0NOC+++7D+PHjMX78ePzqV79S7tP1c6rz50pycjJmzJiBr776CrfddhvGjRuH66+/Hg0N\n",
              "DWq8ZHKyd955B1OnTsU111yDiRMn4sMPP1SumzdvHh577DHMnj0bCQkJeOihh7p9jH379iE5OVn5\n",
              "vOqJVqvFwoULcfbsWWzdutXuZ6LFYkFsbCy++uorfPbZZxg/fjx++MMfIjU1FRMmTEB2djZWrFiB\n",
              "CRMmYOrUqSgqKnLOG0DeS3gpi8Uibr/9djF48GCxZMkS8bvf/U5cvHhRCCFEbGys+N73viesVqu4\n",
              "dOmSGDFihDhw4IBy3RdffCGEECI9PV389a9/FUIIkZ2dLfz9/cXmzZuFEEI88MAD4o033hBCCGG1\n",
              "WsX9998vfve73wkhhJg7d65YtGiRaG1t7XZtc+fOFdu2bRPXXXedOHTokPjoo4/EnXfeKTZv3iy+\n",
              "/e1vCyGEaG5uFvX19UIIIcxms7j55pvFu+++K4QQYvPmzSI0NFTk5eUJIYR44oknxIMPPujEd49c\n",
              "IT8/XxgMBrvLdu/eLbRarTh06JAQQoi//OUv4vrrr+/29gDE73//eyGEEF9//bUIDg4WbW1twmQy\n",
              "ieHDh4tdu3YJIYTYtWuXACB2797t8tdE7ne1zzb580sIIR5//HFx9913C4vFIhoaGkRaWpp47733\n",
              "hBCXf07Jnyvnz58XQgixfPlyMWrUKFFaWiqEEOLmm28Wf/rTn9z4SqmvYmNjxejRo8XEiROVr6Cg\n",
              "ILFt2zYhhBAVFRXCarUKIWyfM5GRkaKlpUUIYft/sWTJEtHW1iaamppEXFycOHjwoBBCiHvuuUds\n",
              "2LBBvPfee2LixInKz6CufvnLX4pHHnlECCFEU1OTuO6668RTTz0lzGaziI2NFWfOnBFCCPGPf/xD\n",
              "LFiwQAjR8Vl47NgxIYQQP//5z4XRaBRff/21EEKIhx9+WDz22GPOf7PIq3jtTqlGo8EHH3yAgwcP\n",
              "4oYbbsCBAweQkpKCnJwcAMD9998PSZIQERGB22+/HZ9++qnd/evq6nDy5EmsWLECADBhwgTMmjVL\n",
              "uf6f//wnXnjhBaSlpeGaa67Bvn37lMcGgOXLl8PPz++Ka7zvvvuQmZmJzMxM3HfffXbXWa1WPPHE\n",
              "E5g4cSKuueYaHDt2zC7tO336dMTHxyt/zs3Ndfg9Is+QmJiIqVOnArj6v2VGRgYAYOzYsdDpdCgt\n",
              "LcWZM2eg0+kwf/58AMD8+fORkJDg+oWTKq722dbZp59+igceeAAajQZBQUH4/ve/j08++US5vuvn\n",
              "1PTp0zFy5EgAQHp6OiZPnozIyEgAwOTJk3Hu3DkXvzpyli1btuDkyZPKV3p6unJdfn4+brzxRowf\n",
              "Px5LlixBVVUV8vPzleuXLVsGnU6HQYMGIS0tze4z6a233sL69euxe/du5WdQd/72t7/hmmuuwYwZ\n",
              "M5CcnIwnn3wSWq0WDz/8MF555RUAwCuvvIJVq1Yp90lMTFSOsaWnpyMxMRFjx44FAEyZMoX//8h7\n",
              "z5TKxo4di7Fjx2LlypW44YYbkJWV1e3trnbWtOtthBD44IMPMHr06G5vGxwcDMD2Q+Gxxx4DANxx\n",
              "xx34n//5H+U2S5YswRNPPAG9Xo9rr70Wb775pnLdiy++iPLychw+fBgBAQH42c9+hpaWFuX6gIAA\n",
              "5c9arRZms/mq6yfP5Mi/ZW9v25v/z+TdevvZ1lnX/xfy55Ss6/8vfs4MTHfeeSd+85vfYOnSpQCA\n",
              "8PDwXv98SU1Nxb59+/Dll19izpw5PT6HfKa0qwceeADJycn4/ve/j5ycHCxevLjH5+X/P+rKa3dK\n",
              "i4qKcODAAeXv1dXVyM/PV3aQ5Cr6qqoqbNu2Dddee63d/UNDQ3HNNdcogeJ///tf7N+/X7l+yZIl\n",
              "+O1vf6t8k1RXV3e7U7Fw4ULlN9XOASlg+wbcsGED/vCHP0CjsX+rq6urERUVhYCAAJSWluL999/v\n",
              "4ztBA92YMWPQ1taGPXv2AAD27NnT7f9FGhiu9NkWGhqK2tpa5bqFCxciMzMTQgg0Njbirbfe6vGc\n",
              "O/mO6upqZZfz7bffdqgyXj6Det9992HHjh0OP/fgwYPx7W9/G7fddhtWrlwJrVbr8GOQ7/LanVKz\n",
              "2Yxf//rXyM/PR2BgIMxmM+655x58+9vfxiOPPIIhQ4Zg0qRJqK2txapVqzBjxozLHuPNN9/Evffe\n",
              "i/Xr1yMpKcnut8INGzbgySefRFpaGjQaDXQ6HX73u98hMTHRoXXefvvt3V7+yCOPYOnSpUhJSUFM\n",
              "TAwWLlzo2BtAPkOv1+O9997Dj370I1itVkyaNAljxoyxK5KigeNKn22XLl3CAw88gMDAQLz++uv4\n",
              "xS9+gdWrV2PChAkAbNma7373uyq/AlLbyy+/jKVLlyIsLAwLFixQjmz01rhx4/Dxxx/jpptuwvPP\n",
              "P4/vfOc7Dt3/gQcewOuvv44HHnjAofsRSUIIofYinC0uLg7//Oc/e+wPSeRt6uvrERISAgA4evQo\n",
              "Fi9ejNzcXAQGBqq8MiIie7///e/x9ddfIzMzU+2lkJfx2p1SIl/ywQcfYMOGDRBCQKfT4a233mJA\n",
              "SkQeJyUlBZIk9Sn1TzQgd0qJiIiIyLt4baETEREREQ0cDEqJiIiISHUMSomIXOBKY2Mfe+wxTJ48\n",
              "GWlpaZgzZw7Onj1rd7/nnnsOU6dOVYo2161bh/T0dCQlJdmNl/34448xa9YsTJo0CVOmTMHu3bvd\n",
              "+RKJiJyKQSkRkYvo9XocOXIEH330EVavXq30PX7iiSdw9OhRnDx5Eg8//DAeeeQRu/sFBwfj8OHD\n",
              "yMzMxPLlyxEdHY1jx47h+eefx5o1awAAeXl5ePrpp/Hvf/8bx48fxzvvvIO7774bJpPJ7a+TiMgZ\n",
              "WH1PROQi3Y2NHT58OD755BP88Y9/RH19PaxWK6qqquzut2zZMgC2UYyNjY248847AdiPYtyxYwdy\n",
              "cnLs+itrNBoUFhYiKSnJHS+PiMipGJQSEblId2MUCwsLsWrVKhw9ehQJCQnIzs6+bJyjfD95Gk7n\n",
              "v8u7rUIIXHfddXjnnXfc8VKIiFyO6XsiIjeqra2Fn58foqOjIYTAn/70pz49zqJFi/Dpp58iOztb\n",
              "uezIkSPOWiYRkdtxp5SIyI0mTJiAO++8EykpKTAajViyZEmfHicxMRHvvPMOVq5ciaamJrS2tuKa\n",
              "a67hzikReS02zyciIiIi1TF9T0RERESqY1BKRERERKpjUEpEREREqmNQSkRERESqY1BKRERERKpj\n",
              "UEpEREREqmNQSkRERESqY1BKRERERKpjUEpEREREqmNQSkRERESqY1BKRERERKr7/z33iq7fBcxC\n",
              "AAAAAElFTkSuQmCC\n",
              "\">\n",
              "      </div>\n",
              "      <script type=\"text/javascript\">\n",
              "        (() => {\n",
              "          const chartElement = document.getElementById(\"chart-56169aac-6266-4315-b27a-00999552b670\");\n",
              "          async function getCodeForChartHandler(event) {\n",
              "            const chartCodeResponse =  await google.colab.kernel.invokeFunction(\n",
              "                'getCodeForChart', [\"chart-56169aac-6266-4315-b27a-00999552b670\"], {});\n",
              "            const responseJson = chartCodeResponse.data['application/json'];\n",
              "            await google.colab.notebook.addCell(responseJson.code, 'code');\n",
              "          }\n",
              "          chartElement.onclick = getCodeForChartHandler;\n",
              "        })();\n",
              "      </script>\n",
              "      <style>\n",
              "        .colab-quickchart-chart-with-code  {\n",
              "            display: block;\n",
              "            float: left;\n",
              "            border: 1px solid transparent;\n",
              "        }\n",
              "\n",
              "        .colab-quickchart-chart-with-code:hover {\n",
              "            cursor: pointer;\n",
              "            border: 1px solid #aaa;\n",
              "        }\n",
              "      </style>"
            ]
          },
          "metadata": {}
        },
        {
          "output_type": "display_data",
          "data": {
            "text/plain": [
              "<google.colab._quickchart_helpers.SectionTitle at 0x783a7e7e11e0>"
            ],
            "text/html": [
              "<h4 class=\"colab-quickchart-section-title\">Faceted distributions</h4>\n",
              "<style>\n",
              "  .colab-quickchart-section-title {\n",
              "      clear: both;\n",
              "  }\n",
              "</style>"
            ]
          },
          "metadata": {}
        },
        {
          "output_type": "stream",
          "name": "stderr",
          "text": [
            "<string>:5: FutureWarning: \n",
            "\n",
            "Passing `palette` without assigning `hue` is deprecated and will be removed in v0.14.0. Assign the `y` variable to `hue` and set `legend=False` for the same effect.\n",
            "\n"
          ]
        },
        {
          "output_type": "display_data",
          "data": {
            "text/plain": [
              "from matplotlib import pyplot as plt\n",
              "import seaborn as sns\n",
              "figsize = (12, 1.2 * len(_df_3['sex'].unique()))\n",
              "plt.figure(figsize=figsize)\n",
              "sns.violinplot(_df_3, x='first_appearance', y='sex', inner='stick', palette='Dark2')\n",
              "sns.despine(top=True, right=True, bottom=True, left=True)"
            ],
            "text/html": [
              "      <div class=\"colab-quickchart-chart-with-code\" id=\"chart-f2cb6cb2-e56b-46e8-ab8c-b6075c6bc079\">\n",
              "        <img style=\"width: 180px;\" src=\"data:image/png;base64,iVBORw0KGgoAAAANSUhEUgAAA/EAAADsCAYAAAA8YSZNAAAAOXRFWHRTb2Z0d2FyZQBNYXRwbG90\n",
              "bGliIHZlcnNpb24zLjguMCwgaHR0cHM6Ly9tYXRwbG90bGliLm9yZy81sbWrAAAACXBIWXMAAA9h\n",
              "AAAPYQGoP6dpAABcyklEQVR4nO3deXQU94En8G9V9X3rPgCBBAiBTm4bc9iJEydjz4w9ceJ4NmMn\n",
              "40nGb14myWZnc8xk43hyOy9xNsm89du8bLwvE08c289xZu0XG4wBG2MEEggkQEiADkDoPvrurqrf\n",
              "/tHdpW5JnJbQwffzXr2qrqpu/RpK3frW75KEEAJERERERERENOfJs10AIiIiIiIiIro2DPFERERE\n",
              "RERE8wRDPBEREREREdE8wRBPRERERERENE8wxBMRERERERHNEwzxRERERERERPMEQzwRERERERHR\n",
              "PMEQT0RERERERDRPMMQTERERERERzRMM8URERERERETzBEM8ERERERER0TzBEE9EREREREQ0TzDE\n",
              "ExEREREREc0TDPFERERERERE8wRDPBEREREREdE8wRBPRERERERENE8wxBMRERERERHNE6bZLgAR\n",
              "ERERJQSDQfT19WFoaAh+vx+BQABjY2MIBALG49Q6EolAVdVJi6ZpUFUVfr8fHq8HZpMZZnNisVgs\n",
              "MJlMxmObzQa32w2PxwO32z3ldm5uLrxeLyRJmu1/HiIiAkM8ERER0U0RjUZx4cIFnD9/HpcuXUJ/\n",
              "fz/6+/sxMDCAvr4+9Pf3IxwOX9uLSRJgkiEkCZAlY21sKxJkAMOSCikeByI6JCEAXUDSBaDpgK4D\n",
              "4tp+nNlsRl5eHvLz85GXl5exFBYWYvHixQz6REQ3iSSEuMaPbyIiIiK6ElVVceHCBXR3d2csXV1d\n",
              "6Ovrw+X+7BI2M3S7BSK56HYLYFFgaexAZFsFhFkBzCYIiwJhNgEmORHkr8D5/AEEH7r9ygXWdEgx\n",
              "FVJMBZJrKabBWt+OeOViIKpCjsQghROLHI4Dl3kPLpcLS5YsweLFiyct2dnZDPhERNOENfFERERE\n",
              "N2B4eBjt7e1ob29HW1sb2tvbce7cOcTj8UnnCocVWr4HwmWD7rZBd1gTgd1hgbCZAXnqYYosjR3Q\n",
              "irNm7k0osnHjIJ31UDtiVUsmn68LSNG4EeqlUAxyKAo5EMGoP4JAWytOnjw56Wlujwcrli9HWVkZ\n",
              "ysrKsHz5cpSWlsLr9c7UOyMiWrAY4omIiIiuQAiBS5cu4cSJEzhx4kQitLe3YWhwKPNEkwLNa4fu\n",
              "zUoEdZcdwm2D/fUmBP983ewUfrrJ0pSh3yAEpEgcUiAC2R+BHIhA9ocxOhbGkaNHceTIkYzTc3Jy\n",
              "sHz5cqxYsQKrVq3CqlWrsGTJEiiKchPeDBHR/MQQT0RERJRmdHQUJ0+exIkTJ9DS0oITJ05geHg4\n",
              "4xzdZYO+KBu6zwHN54Duc0I4rVdt4r7gSeMhX8/zZB7TdMj+MOTRMOTREOTREPpHAxisr0d9fb1x\n",
              "ms1mQ3l5OSoqKoxgv2zZMphM/LOViAhgiCciIqJbmK7r6OzsRFNTE44ePYrjx4/jwoULmec4bdBK\n",
              "cqBnu6Blu6D7nICZNcXXTZGh+5yJf790cQ3yaAjKcBDycADacBDHjh/HsWPHjFMsFgtWrVqFyspK\n",
              "YykqKmI/eyK6JTHEExER0S0jFouhtbUVR48eRVNTE5qOHYN/bMw4LqwmaEW+RFjPSYR2WM2zWOJb\n",
              "gFmBnuuGnuse36fpidr64SCU4SC0oQCOtzTj+PHjxilZWVmorKxEVVUVKisrsWbNGjidzil+ABHR\n",
              "wsIQT0RERAtWNBpFc3MzGhsb0djYiJaWFsRiMeO47rJBW5YHLc8NLS8x8Nwt3yR+LlBk6Nku6Nku\n",
              "qKl9mp4I9YMByEN+DA4G8M477+Cdd94BAEiShOXLl6O6uho1NTWoqalBcXExa+uJaMFhiCciIqIF\n",
              "IxaL4cSJE2hoaEBDQwOOHz8+Plq8BGg+J7Sl2dDyPNBz3ZcfoI3mHkVOq7EvAgBIkRjkwQCUoQDk\n",
              "AT/aO86hvb0dL7/8MgAgOycbNdU1RrCvqKiA2cyWFUQ0vzHEExER0bylaRpaW1tx6NAhHD58GMeO\n",
              "HUM0Gh0/nuWElp8LLd8LLc8NmPmnz0IibBZoi7KhLcpO7NAF5JEglEE/5AE/BgcC2LNnD/bs2QMg\n",
              "0be+srIStbW1qK2tRU1NDZvgE9G8w28yIiIimjeEEOju7kZ9fT0OHTqEhoYGBAIB47jmc0BbWgQt\n",
              "3wMtzwNY+KfOLUWWjGb4WFmEKAApFE3U1vePQRvw48jRI8ZUd5IsY8Xy5aitrUVdXR1qa2uRl5c3\n",
              "u++BiOgq+M1GREREc9rQ0BAOHTqEQ4cOob6+Hn19fcYx3WWDtrwAaoEXWr6Hg9DRJMJhheawQluS\n",
              "k9gR16AM+qEM+CH3j6Ht3Bm0tbXhxRdfBAAUFxcbgb6urg4lJSXsV09EcwpDPBEREc0pkUgETU1N\n",
              "qE/OH97W1mYcE1Yz1JIcaAVeaAVeCKdtFktK85JZgVbog1boSzzWdTj+XyPiq4qh9I/hwkA/Lr72\n",
              "Gl577TUAgM/ny6ipLy8v55z1RDSr+AlEREREs0rXdbS1tRmh/ejRo+OD0Sky1EIftMJEaNe9Do4e\n",
              "T9NLlgFZRnxVMeKrigEhIPnDUPr9UPrHMDTgx969e7F3714AgM1mQ1VVldGvvqqqCg6HY5bfBBHd\n",
              "ShjiiYiI6Kbr7e01QvuhQ4cwMjJiHNOynNAK86AV+KDlugFFnr2C0q1HkiA8DqgeB9TlBYldoajR\n",
              "/F7r9+Pw4cM4fPgwAECWZZSXl2cMlpebmzub74CIFjiGeCIiIppxwWAQDQ0NRnDv6uoyjgmHFWpp\n",
              "PrRCL9QCL/u105wjHFaoJVagJBnOY2qiX32/H8rAGE61ncapU6fw/PPPAwCKiotRU11tTG1XVlbG\n",
              "JvhENG34aUJERETTLh6Po6WlxRiQrrm5GbquJw6aFaiLsqAV+KAWeiFcNjaRp/nFYoJWlAWtKCvx\n",
              "WNMhDwehDCRC/cWBfvS8/jpef/11AIDdbkdlZSVqahJz1ldWVsLj8cziGyCi+YwhnoiIiN43XdfR\n",
              "3t5uzNd+5MgRRCKRxEFJgpbjSowgX+hLTP8lM7TTAqLI0HPd0HPdiCPZrz4QgTIQgDLohzaQ2QQf\n",
              "AEpKSlBVVYXKykpUVlZixYoVrK0nomvCTwoiIiK6bqn52hsaGoxwMjo6ahzXvA5oJUWJUeTz3ICZ\n",
              "f3LQLUSSINx2qG471NLkvPMxFcpQING3ftCPzksX0dXVZYyCb7VaUVFRYQT71atXo7CwkNPbEdEk\n",
              "/EYlIiKiq0qF9sbGRjQ2NqKhoQGDg4Pjx53Jfu0FXmgFHgibZRZLSzQHWUyZU9sJAckfgTKYrK0f\n",
              "CqDp2DE0NTUZT/H5fFi9ejVWr16NiooKrF69Gnl5ebNTfiKaMxjiiYiIaJJUaD9y5IgR3Pv7+8eP\n",
              "2y1Ql+ZCy/Mk52u3sl870fWQJAiPHaonrbZe1RJ96wcDkIcDGBoK4sCBAzhw4IDxtJycHCPUl5eX\n",
              "o7y8HAUFBayxJ7qFMMQTERERVFVFW1sbjh49iqamJjQ1NWF4eNg4LmxmqCU50PK90PI9HIyOaCaY\n",
              "FOh5Huh5aYPexVQow0HIQwEoQwEMDAfwzjvv4J133jFOcXs8WFVejpUrVxrBfunSpexjT7RA8Teb\n",
              "iIjoFhQMBnHixAkjsB8/fnx8IDokm8cvzYWW60mEdjdDO9GssJiS3VS8iKf2ReJQRoKQh4OQR4IY\n",
              "HQ5NGjjPbDajtLQUy5cvz1jy8vJYa080zzHEExERLXCapqGjowPNzc1obm5GS0sLzp07ByHE+Dle\n",
              "B7TFBdDzPNBy3RAO6yyWmIiuyGbO7F8PJJrij4QgjwShDAehjYRw+uwZnD59OuOpLpfLCPRlZWVY\n",
              "tmwZli5ditzcXIZ7onmCIZ6IiGgBEULg0qVLaG1txcmTJ9HS0oITJ04gFAqNn2RWoOZ7oOe4oOW4\n",
              "oeW6AQv/JCCa10yKMc2dmtonBKRgFPJoKLGMhDA6Gpo0gB4AOJ1OI9AvW7bMWIqLi9ksn2iO4W8k\n",
              "ERHRPCWEwIULF9Da2opTp04l1q2nMDY6lnGe5nVAL8uHluOCnuOG7rZznnaiW4EkQbhs0Fw2aIuy\n",
              "x/drOmR/GPJYYpHGwhgbC6PlVOLGXzpZllFUVIQlS5ZgyZIlWLx4sbFdVFTEgE80C/hbR0RENA8E\n",
              "g0GcPXsWZ86cMZbW060IBoIZ5+luG7SSHOhZLuhZTmjZTs7RTkSZFBm6zwnd58zcrwtIoagR7uWx\n",
              "EORABOeH+nHhwgW89957mS+jKCgsLERxcTGKi4uxaNEiFBUVGY99Ph+b6BPNAH6rExERzSGRSARd\n",
              "XV3o6OjICOw9PT2ZJ0qA5rZDX5oLPcsFLcsJPcvBwE5EN05Oq7kvzso8FtcgByKQAhHI/gjkQBia\n",
              "fzzgT8Vms6G4uBhFRUUoKCiYtOTn57Mmn+gG8LeGiIjoJtN1HZcuXUJXV5exdHZ2orOrE329fZPO\n",
              "F3YLtEIvdK8DutcJ3eeA7rYBJmUWSk9EtySzAj3LCWQ5oU08pmqQQjHIwQikQBRyMAI5GEUwGMWZ\n",
              "8104e/bslC8pSRJycnJQUFCAvLy8SUtubi7y8vLgdDqnfD7RrYohnogyCCGgqiri8Tji8ThUVYWq\n",
              "qtA0LWPRdR2aphnHhBDQdR1CiCm3ryTV1E6WZUiSBEVRIEkSZFk2ltT+1GIymabcNpvNMJvNxmsQ\n",
              "zQYhBMbGxtDT04OLFy9OWnp6ehCPxyc9T3dYoRd6obvtEG57oi+71w5YzbPwLoiIrpFJgfDYoXns\n",
              "Ux+Pa5DCUcjBGKzvtUFdUQApFIMUiqIvFMDAqSFgQl/8dHa7Hbm5ucjJyUFOTg6ys7Mz1qltn88H\n",
              "i8UyQ2+SaO5giCeaozRNQzQaRTgcRjQaRSQSmXKJRqNXXeLxOGKxmLHE43FEo1HE4nHEotFEaFdV\n",
              "qPE4NG3S/fV5y2Q2w2wyJdZmE8xmMyxmCyyW8cVsNsNqtWbss1gssFqtl11sNpuxnrhts9lgNpt5\n",
              "A2EBE0JgdHQU/f396O/vR19fX8a6v78fly5dQjAYnPr5NjN0txW6OxHWdY8dwm2D7mLNOhEtUGYF\n",
              "wuyA5nEAZgWx6pLM40IAMRVyOAYpHIMUjkMKx4zHgXAMoYFedJ8/nzj3ChxOJ7J8PmRlZcGXXKe2\n",
              "fT4fvF5vxuJyuSDL8gy+eaLpxxBP9D5pmoZIJIJQKIRwOGys07dDoVDGOen7wuHw+LFI4lgkHEEs\n",
              "Fpv+wsoSoMgQsgwhS4AiQcgyYJIT00vJ5sR+WU6cK0vjjyUkRrmVJZg7BhAvy0+cI0mABIjkGpCM\n",
              "c5F8aOxLmfL7VyT2i/FtSYjxL2uR2Gc+04v4sjxIevJY2lpKPdYFoOvQdIGorgO6CikWByLBxPN0\n",
              "AUnXAU1PnDvNJEmC1WqF3W43gr3dbp+0L7V/4uOpzks/12q1sg/hNFJVFcFgEGNjY/D7/RgdHcXw\n",
              "8DCGh4cxNDRkbA8PD2NoeBjDQ0NT1qKnCKsJut0CsSgLutMG4bRCdyXXTiuDOhHRRJIEWM3QrWZg\n",
              "4mB76YywH4cUiUGKxJNLcjsahz+qIjDcjwuXehLf81chyzLcbrcR8N1uNzweD9xu92W3XS4XXC4X\n",
              "7HY7b9rTrOBfgXRLicfjGUF6qrA9cd/E4xPPjUaj779gJgXCJEMoMoRJBlwWCJPN2A9FhlAUIHkO\n",
              "TEpircjj+5TJ64ztVOCeBqaeEcTWLpuW17run909iNi60ul7QSGMMC9pqWCvQ1IT26l9xrGJ+9TU\n",
              "Wss4R1U1BNUIpLEQpOHk66nT18rBZDbDNqFVwFStA1KtB6ZqYZB6bDabjVYJE7dTj1NdFkwmk7F9\n",
              "M/9wEUJA07SMFiXpSzQaRSwWM26MTfU7m3rs9/vh9/uN0J4xf/qVmBXoFhOExwphdyeCut0C4bAk\n",
              "th1WCJuZIZ2IaKakh304rnyuEInv6GjcCPhSVIUUUxPbMTX5OI6haAwjvRchdXdd1819WZbhdLng\n",
              "drvgdo2He6fTecXF4XDAbrcb2zabjTcD6LosmBC/Z88efOlLX8LRo0dnuyj0Pqiqetmm46mm5ama\n",
              "6/Ra7PR1es12+h/0kUjk/TcVV2SIZIAWZhlwmSF8tkSQNinjYdzYVtKOpe03j4dyKPK0hWu6AZJk\n",
              "hK70r+3pr5/HeMuBVOBXdUiqlrghoOqApiXDvg5J0ybfIEjt13Roqo6oqmEsGgBCY5A0YZx7sxhj\n",
              "FJhMMCkKJFmCLMmQFTm5ViCnjW0gkq0qUmMlGNvJlhe6rkPVNGiaCk2dPAbDdBIWE4RZgbCaINze\n",
              "RFNPi2l8sZkhrObxtdXEcE5ENJ9IUrIZvwLhsl3bc5I39qVYIuwjphnbUjxtX1yFFE+sR2IqRocH\n",
              "Iff1AXH1BosqwWa3w+lwwJFc7Ha7saRa401cUjfs01vvTeziZ7Va2V1gAVowIZ7ev4kDmqUvqX7U\n",
              "6X2q0/tWpx6nasPSa8dS+9L7aKf35Y5Eo4gmH09bf+xkMEsEahnCrAAOx3htdqqG2wjaycfmZA23\n",
              "WUmekxnCwQ9Bej+kRBcGKLJxk2DabxakbhRoaTcINB3QEl0MpmxZoKe1RkjrZjC+X090b9D1jO4L\n",
              "Wnr3BaEnuzwIIJ7qCpF8hyJZLqR3sZj4b5P490l0y5AAiwRIJkAyA3Kyu0aya0d665KptoVJMX6H\n",
              "x3/f036XzQpvnBER0WTG348KhMN6/c8XIjGIn6pBimuJ7biWuBlvBP/U4+Q62VJPjWsIRgOQgmOJ\n",
              "729Vm7Y/EkxmM6wWC6w2K2zWzNZ6E1vqTRwfKNUiL9VK73LrKy3prfhoesyJEC9JEr7zne/gj3/8\n",
              "I3p7e/HTn/4UJ0+exEsvvYTR0VH88pe/xJ133glVVXHvvfdicHAQ4XAYtbW1+OUvfznltBOvv/46\n",
              "vv3tbyMcDkNRFPzwhz/EXXfdNeXPT4XJdKkLeS4bGxvDr371K/j9/owRxKdap0YZN9aqClWNIx5X\n",
              "x/dfoY/ntEr1y05bYJUTIdskA0p6E/JUc3El+cd52vHUH+RKWk13sqn5dDYdJ5pX0m8UWBIf8TPS\n",
              "qoCIiIgySRKQatH1fl8rvfVeMuhLqe3UjfqpuvRltN5L7NM0HVFNhxQLA+EgJH28S+DVBgqcTrIs\n",
              "J8K8yQSzORHszabxWYUmdt2bqivfxJmJUmtZlo21yWQyWgGmP2fDhg2oqKi4ae93Js2JEA8ALpcL\n",
              "Bw8exJtvvom//Mu/xC9+8QscPnwYL7zwAv77f//vOHToEBRFwXPPPYecnBwIIfAP//AP+PnPf46v\n",
              "fe1rGa919uxZfOtb38Lrr78Oj8eD9vZ2bNu2DR0dHVMG8+9///t48sknM/Y98cQT+Na3vjWTb/l9\n",
              "e++99/D8889f9/OEhMwgbFYAuxVCsWcOaJbqR20MgpZW2yXL44OipbZTtWByqj/2VPuSr0lERERE\n",
              "RFNLvymfjC8zEreTgwEbrfR0kbhRMGFfojVf6tyJLff08VaAqddLH0g4bTuupW5MRIFICFLqZsNN\n",
              "UFFRgWefffam/KyZNmdC/EMPPQQA2LBhA4LBID75yU8CADZt2oS2tjYAiebeTz/9NF599VWoqorR\n",
              "0VFs2bJl0mv96U9/Qnt7O7Zv327sk2UZXV1dWLly5aTzv/71r+PLX/5yxr65XgsP3HgZJQHjbl7m\n",
              "gbSgnjYquTE6uTIh2Ke2jZA+XsN+uTA/1eBr6cdYe05ERERENI1Sg/imD86bDOrj3evSgnlaV7yM\n",
              "sJ7qYqdNDO7jQX08yI+fY8wodJPC+uU4HFcZDHEemTMh3mZLDDiR6iuR/lhVE4NEPPfcc9i9ezf2\n",
              "7t0Lj8eDn/3sZ9i9e/ek1xJC4EMf+hCee+65a/rZ86Hp/FTuuOMOfO9737tqc/p4cu7vic3qU8dS\n",
              "i6qqiMVik/rFG/3gQ4k+8GImm90km8yPB/z0ZvITRmY3Rm6/QvP69P7uvElANL1S/d6TfeYz+r8L\n",
              "QMroD38Z6b+TkpRoKWRMXSixawwRES18qYCbHPDWaCqvpvebT411k9a8fqpZcpKPJS1z/JuZJElS\n",
              "Wh94K8zW8ZltJvaLv9y+qZrSX6k5/cRm9aklvQl9ehN7RVFQVlY2o/8ON9OcCfHXYnh4GLm5ufB4\n",
              "PPD7/Xj22WdRUlIy6bx77rkHTz75JI4dO4aamhoAQH19PTZt2nSzizyjTCYTPvCBD9zUn5ka/G6q\n",
              "ge6uNKjdlQa2mzTQ3cSR6YOR6euvnz7YnTI+UrwxiEnGYHcTbgKkzjFzsDuaA9K/8DOmvNMwcQo8\n",
              "4y75pKny0ga7S7+bro03hUs9lpKD1qXurhsD3N0sqTCfGktjQisgo5vP1QauTP0Op/osmhXe4CMi\n",
              "ohsjhDFInRRTjYHsEoPaJQeyU7XM/anzk/tlTQfi2rR8p1qt1sTgdU477GnTzKYW2xT7Jg5ul75O\n",
              "X640qJ3JNK8i5YIwr/7FH3nkEbzyyitYtWoV8vLysG3bNnR2dk46b8WKFXjuuefw93//9wiFQojF\n",
              "Yli7du0118zT5aXfabuZ0qeemzjF3OWmmbvSdHPhcBjhSBjhsTDi7/cGgTJ+U8AIDulBP320bGXi\n",
              "jYHJrQV4c2ABmGqE+PSBaCYNSJM2pdxUU86lP057rZkgy/L43fTUl3TyC/pKd8hTd7olSTLmkE8N\n",
              "KpPan96KZ+J0c6klNaVcqiVR+pJqJZSaEcO4SRhO3Ci84VZCspQM9CYIi2JMKTc+vZx5wpRzJv5+\n",
              "EhEtFKkR5VNzx8dUSDENSE0rFx2fXk6KJcN5TIOsJs65EVabDQ6HA07P+JRy6VPLpa8vN71c+jRy\n",
              "drsdFouFU8ndQuZEiE//w8vlcmU8Xrx4MQKBAADA6/Vi165dU77GnXfemTFH/N1334277757ZgpM\n",
              "N10qMEw1E8H7paqqEfhDodB4yE/bN/FY+jkTt0OhMKKRwPsvmCwZXQeEMTJ/+o2ByWMKGKP4G1Nt\n",
              "pU2/lRq3wJiia8LYBulNmBeK9CnQ9LTBVrT0fl0Tplib2GfMGO118r5U8E7tM5quTeNoryaTKXn3\n",
              "3DHpS9tqtWbME5s+N+zl7rSnryfeaU/9ns1HQggj2F/p9zYYDCIYDGJsbAx+vz9jGfOPwT/mRzx+\n",
              "9d9fYTVDt1sgHBYIuyWxnXyc2G9NTGVHREQ3l5oM5BE1sU4tkWRIjyaXWBxSch74a/3OlmUZTpcL\n",
              "bp8PLpcLLpcLbrcbTqcTbrcbLpcLTqfTWE+12O12TrVG79v8/GuNaBqZTCa43W643e5pe01N0zJq\n",
              "/lOtASa2ErhS64H0FgeRSAThSATRUASxWGzayjml1ECGxuCGaXN3J7elcAz2N45lBH+RnOfbmAM8\n",
              "dTMgfd9EU31npuYaT+tLLaU9lsIx2F9vGm/aLQSgY3Jzb23mp02RZRlWmw02mx12ly0jSKcCdnro\n",
              "Tt0tT52Tfnyqu+o2m23ehuqbTZIk42bE+/1dDoVCGBkZwdDQEEZGRjA8PIzh4WEMDQ0Z6/7+fvT1\n",
              "9yN0cfiyryMsJuhOK3SXDcJphe60Qjht0F3WRMhXWGNCRHRNVC0RwiNxSJEYpEgcciQOKRxL2x+H\n",
              "HIsnbqRfhclkgsfrgS/PB6/XaywejwcejwdutztjO/XY4XCwtpvmBP51SDQDFEUx7rhON03TEIvF\n",
              "jJCfPrbA5Zb0Jsjp4xakltTAiOkDH07cl96sOWzWIEcFdG18/0wNeJhqii3JMmRJglBMsGnJJtzm\n",
              "xMAlqflFU0270wdMSe+vldo/VT+vVK10avtqSypgSwup5QIBgNGksbi4+KrnBoNB9Pf3J0J9X5+x\n",
              "7u3txcWLF3Hx4kVEhwenfK7usEL32KC77RBuO3S3DbrHDmG3LKwWMURElyNEIoCHYolAHo5BDo9v\n",
              "S+EYlEj8qs3WLRYLcnJykJWVhaysLPh8vim3U2Hd4XDw+5vmNYZ4onlGURSjP9RcMrFvs67r0PXE\n",
              "3XBd1yeF/PQvz9T2VP2o+SVLc1nqZt2yZcumPC6EwNDQEHp6eoxQn1q6urrQd6kPuDSa+SSTDM2V\n",
              "CPS612EswmlluCei+UXVIAejkEJRSMEY5FAUUjQO++4WSKEo5HAs0XruMrxeL/KXLkZubi5yc3OR\n",
              "nZ2NnJwcY0k9ZiinWw1DPBFNCwZuoskkSTL+2Kyqqpp0PBwOo7u7G52dnejq6spYh7sGAaTV4psU\n",
              "aB47dN94sNd8DsB6cwcaJSIy6DqkUAxyIAIpGE0E9mAEciC5HZ168GDzYAC5ubkoKCtAQUFiycvL\n",
              "Q15eHnJzc421xWK5yW+IaH5giCciIpoldrsd5eXlKC8vz9gvhEB/fz/a29tx9uxZnDlzBu3t7TjX\n",
              "0QF1KHPgPd1phZ7lhJblhJ7lhJ7lgrAx2BPRNNFFMphHIPsjkALj23IwOuX4M2azGUVFRSguLkZx\n",
              "cTEKCwtRWFiI/Px8FBYWIjc3l2O+EL0P/O0hIiKaYyRJQn5+PvLz87FlyxZjv6qq6O7uxtmzZ9He\n",
              "3o7Tp0/j1KlTGDw/CNP5IeM8YbdAy3JCy3ZCz3ZDy3EBFn7lE9EVxFTI/jDksbTFH4YcmDqoZ+dk\n",
              "Y8nyVVi8eLER1ouKirBo0SLk5ORwADiiGcRvdCIionnCZDKhtLQUpaWl+OAHP2jsHxgYQGtrq7Gc\n",
              "PHkSfRf7YEobPV9326HluKDluKDnuKF7HYkZJojo1hJTIY+EII+GII+FII+FofgjkMKTZ7/x+XxY\n",
              "WpMI6kuWLMGSJUuwePFiLF68eEYG7yWia8MQT0RENM+lBn264447jH3Dw8M4efIkWlpa0NLSgubm\n",
              "ZgQ6+mHu6E+cYJITtfW5bmi5Hmi5btbWEy0kqpaoTR8NGYsyGp4U1iVJQnFxMZYtW4Zly5Zh6dKl\n",
              "xtrr9c5S4YnoSvhtTUREtABlZWVhy5YtRnN8XdfR3d2N5uZmI9S3t7dD6fcDuAgA0LwOaHlu6Lke\n",
              "aHnuxHz2RDT3ReNQhoOQR4KQh0NQRoKQ/WFgQiv4oqIiLF+/HMuXJ5bS0lKUlJTAauXvOtF8whBP\n",
              "RER0C5BlGUuXLsXSpUtx7733AkiMjt/S0oKmpiYcPXoUx48fR6S9F2jvBQAIpxVqrhtangdagZfT\n",
              "3BHNNiESc6kPBZKhPQRlODipdt3lcqF87TqsWLEiI7CzCTzRwsAQT0REdIuy2+3YsGEDNmzYACAx\n",
              "cF5bW5sR6puamjDcOQBz5wAAQDgsUPM80PK90PI9DPVEM0wKxyAPB6EMBYzgLkUyp20rKCjAqo2r\n",
              "sHLlSmO2i8LCQk77SrSAMcQTERERgMTAeatXr8bq1avxyU9+EkIIdHV1obGxEQ0NDWhobJwQ6q1Q\n",
              "8z3Q8pM19Wx+T3Tj4loirA8GoAz5oQxNrmEvLi42fkcrKiqwcuVK9lsnugUxxBMREdGUJEkymuA/\n",
              "8MADEEKgs7MTDQ0NaGxsRGNjI4bTBsvT3TZo+V6ohV5oeR7Ayvnqiaaki8TI8IMBKIMByEN+KKPh\n",
              "jFPy8/OxetNqrFmzBhUVFaioqGBgJyIADPFERER0jSRJMkaw/tjHPgYhBDo6OnD48GEcOnQIDQ0N\n",
              "CJ7phflMok+9luWEVuBNLLluwKTM8jsgmiUxFcqgH8qAH/KAH6ahIKBqxmGHw4E1GzagsrLSWHJy\n",
              "cmaxwEQ0lzHEExER0Q2RJMmYt/7jH/84VFVFa2srDh06hMOHD6OpqQnx4YvAqYuAIicGyUuGej3L\n",
              "yf70tDAJAckfgTLghzKYCO3K2HgtuyTLKCstRVVVFSorK1FVVYWlS5dCUXiTi4iuDUM8ERERTQuT\n",
              "yWTUIn76059GJBLB8ePHcejQIdTX16O1tRWm3lEAgLCaE/3pC73QCnyJQfKI5iNNTww+NzAGpT8R\n",
              "3KWoahx2OJ2oue02VFdXo7q6GpWVlRwlnojeF4Z4IiIimhE2mw0bN27Exo0b8Q//8A8YGRnB4cOH\n",
              "UV9fj/r6elzqvgRz9yCARH96tcALrdAHLd8DmPknCs1RMTVRyz7gTwT3oSCg6cbhRYsWoba21gjt\n",
              "paWlrGUnomnFb0giIiK6KXw+H+6++27cfffdEEKgu7sb9fX1OHToEA4dPoxQao56SYKW7YJW6IVa\n",
              "6IOe7QJkNr2n2SGFolD6/ZBTNe2jIeOYLMtYtWoVamtrUVNTg9raWvZlJ6IZxxBPREREN50kSSgp\n",
              "KUFJSQkefPBBqKqKkydPor6+HgcPHkRzczOUQT8sLecBs5Joel/ghVrgg3Db2J+eZoYQkPzhRFjv\n",
              "H0sMRBeMGodtNhuqNmxAXV0damtrUVlZCYfDMYsFJqJbEUM8ERERzTqTyWQ0P37ssccQDAbR0NBg\n",
              "NL3v6uqC6cIwrACE3ZJoep9chN0y28Wn+UpP9GeX4hps75yCMhCAFI0bh30+H2p33Ia6ujrU1dVh\n",
              "5cqVMJn45zMRzS5+ChEREdGc43Q6sX37dmzfvh0AcOnSJaM//aFDhzLmp9c89vGp7PI8gIV/3tBl\n",
              "xLXEVG/9Y4mp3gYDRn9204VhFBcXG7XsdXV1KCkpgcRWH0Q0x/BbjoiIiOa8wsJC3Hfffbjvvvsg\n",
              "hMCZM2cy5qePtF0C2i4BEqD5nNDyPdDyvdDy3Bwk7xYmBaPj07wN+KGMBAGRPCbLWLlihRHYa2pq\n",
              "kJeXN7sFJiK6BvxWIyIionlFkiSsWLECK1aswCc/+UnE43G0tLSgoaEBDQ0NOH78OOLDPUBrT2KQ\n",
              "vKy0UJ/rBswcKXxB0nXII6FEP/YBP0yDfkihmHHYarWicu061NbWGqPHc6o3IpqPGOKJiIhoXjOb\n",
              "zUaf5cceewzRaBTNzc1obGxEQ0MDmpuboQ4FgFMXE6He54CW64aW54Ge62af+nlKCkUhDwagDAUS\n",
              "TeSHg4A6PtVbbm4uam9PhPWamhqUl5ezPzsRLQj8JCMiIqIFxWq1Yv369Vi/fj0++9nPIhKJ4Nix\n",
              "Y2hsbERTUxNaWloQG042vwegu2zJUO+GluuGcNs5+v1co2qQh4KJsD4UgDIYgBQer2WXZRnLly83\n",
              "athrampQWFjI/uxEtCAxxBMREdGCZrPZsGnTJmzatAkAEIvF0NraiqamJjQ1NeFoUxP8aQPlwaxA\n",
              "zXZBz3ZBy3ZBz3Gxtv5miquQh0NQhoOQhwOQh4NQ/GGjLzsA5OXno+q2SlRWVqKqqgqrVq2C3W6f\n",
              "vTITEd1EDPFERER0S7FYLMZ0dp/61Keg6zo6OzvR1NSEY8eO4eTJk+jo6IDoHTWeI+wWaNlOaNlu\n",
              "6FlO6D4HhM3MGvv3QwhIkTjk0RDkkWCipn04CDkQyTjN6XKiYt16rF69GlVVVaisrOQAdER0S2OI\n",
              "JyIioluaLMsoLS1FaWkp7r//fgBAMBjEqVOncOLECZw4cQItLS3ou9AH04Vh43nCaobmtUP3OaF7\n",
              "HdB9DugeO2DiwHmTRBNhXRkNJ0L7WAjyaBhSTM04zeP1YvXmWqxatQoVFRVYtWoViouL2SyeiCgN\n",
              "QzwRERHRBE6n0+hXnzI4OIgTJ06gra0NZ86cQVtbG7q7uyH6xsafKCX62Otue3JtS+wORiEcloVd\n",
              "cx9TIQcikAMRSMm1HIhA9kcgReIZpyqKgpKSEpSVlWH58uVYvnw5KioqkJ+fz8BORHQVDPFERERE\n",
              "1yAnJwfbtm3Dtm3bjH2RSATnzp1DW1sb2tvb0d7ejrNnz2Lk4nDGc53/rxFQZGhOK4TbBt1hhbBb\n",
              "EovDAj25PWdr8TUdUiQOKRyDHIpCCseMRQ5GIQeikKLxSU9TFAVFRUUoKyszAntZWRlKSkpgNptn\n",
              "4Y0QEc1/DPFEREREN8hms2H16tVYvXp1xn6/34/z58+ju7sb3d3d6OrqMrb9F4Yv82qAsJig28yJ\n",
              "cG9J/JlmaeqEMJsgLAqQXAuzCVBkCFkCUouUWAtJAmQ58YJxFdAFJF0Aup7Y1hJr6AKSqiWatMdU\n",
              "SDENUlxNPBaA7a0WSDEVciQ+qSY9nclsxqLiYixZsgSLFy/G4sWLje2CggJO60ZENM0kIYS4+mlE\n",
              "RERENB1GR0fR29uL/v7+KZe+/j6MjY5d/YVuAqfTidzcXOTl5SE/Px95eXmTtrOysqAoc7QFARHR\n",
              "AsQQT0RERDTHqKqKQCAAv99vLKnHqXU0GoWqqpMWTdOMtdlshslkgtlszlhS++x2O9xuN9xuNzwe\n",
              "T8a20+lkLToR0RzEEE9EREREREQ0T8jX+4S2trZJ+w4cODAthSEiIiIiIiKiy7vuEP+BD3wAv//9\n",
              "743HTz31FB555JFpLRQRERERERERTXbdHZ327NmDhx56CLt378aFCxcAAAcPHpz2ghERERERERFR\n",
              "phvqE7937158+MMfRm5uLo4cOYL8/PyZKBsRERERERERpbnu5vQ//vGP8bd/+7d466238PWvfx23\n",
              "3XYb9u7dOxNlIyIiIiIiIqI0110T/9GPfhT//u//jpycHABAY2MjHn74YbS2ts5IAYmIiIiIiIgo\n",
              "4bpDvBACkiQhGo3CarUCAPx+P9xu94wUkIiIiIiIiIgSrrs5fXNzM6qqqrB8+XIAQENDA7797W9P\n",
              "e8GIiIiIiIiIKNN1h/h//Md/xDPPPIO8vDwAwLp16/Dqq69Oe8GIiIiIiIiIKNN1h/hAIICtW7ca\n",
              "jyVJgsVimdZCEREREREREdFk1x3iTSYT4vE4JEkCAHR3d0NRlGkvGBERERERERFluu4Q//nPfx73\n",
              "338/+vv78Y1vfAPbtm3DV77ylZkoGxERERERERGlue7R6QHg3XffxSuvvIKRkRF86lOfwrZt22ai\n",
              "bERERERERESU5rpD/Ec+8hH87ne/g8lkQlVVFQDgkUcewb/+67/OSAGJiIiIiIiIKOG6m9P39vbC\n",
              "5/Phtddew/3334+2tja8/PLLM1E2IiIiIiIiIkpjut4nxONxAMC+ffvwkY98BGazGSbTdb8MERER\n",
              "Ed0AXdcxOjqK0dFRjI2NGetQKIRYLIZoNIpYLGb8zSbLsrGYzWY4HA44HA7Y7XY4nU74fD5kZ2cj\n",
              "OzubMw4REc0D152+q6qq8NGPfhQnT57EU089hVAoNBPlIiIiIrpljY6Ooru7G52dnejq6sKlS5fQ\n",
              "19eH3t5e9Pf1Ia6qM/JzXU4ncvPyUFRUhOLiYmNdUlKCkpIShnwiojnguvvERyIR/OlPf0JtbS1K\n",
              "S0tx4cIFHD9+HB/5yEdmqoxEREREC1I8Hse5c+dw+vRptLW1oa2tDWfa2zE6NjbpXBmA26zBZ9bg\n",
              "MWlwmHQ4lMRiV3TYFAGTlFxkgee6svHI0iHoAhBILKouIapLiOoyYrqEiCYjqMkIqKlFwZiqIKhO\n",
              "7nEpyxIWLVqM0tJSlJaWory8HBUVFSguLjamHiYiopl3Q6PTExEREdH1EUKgp6cHLS0taG5uRnNz\n",
              "M063tmbUqksAci1x5FpV5Fk15FpU5FpVZFtUuEw6lOvIyk+15uMrq/puqKz/0lyEL6zox1BMwXDc\n",
              "hP6oCX1RE/qiZgQmBHyXy4VVq1ZhzZo1qK6uRnV1NbKysm7o5xIR0dWxMzsRERHRDBBCoLu7G42N\n",
              "jWhsbMSRI43o7x8wjiuSQLEtjkWeOIpsiaXApsIiz436lQKbigKbCiCasT+oSuiNmHExYsaFsBkX\n",
              "I3E0NjSgoaHBOGfx4sWoqanB2rVrsW7dOtbWExFNI4Z4IiIiomkyPDyMQ4cO4b333kN9fT0GBsZD\n",
              "u9uko9oTRYkjhhJHDMW2OEzXPU/Q7HOaBMpcMZS5Ysa+mC7hfNiMrpAFnSELunq68Nr583jttdcA\n",
              "AAUFBVi/fj3WrVuHTZs2IT8/f7aKT0Q07zHEExEREd0gXddx4sQJ7N+/HwcOHEBraytSPRXdJh21\n",
              "3gjaAlY8XjaAXIuGhVoZbZEFypwxlDkTwV4IoD9qwrmQBWcCVpwb7MFrr71mhPqy0lJs2rwZmzZt\n",
              "wrp162Cz2Waz+ERE8wpDPBEREdF1CIfDeO+997B//37s378fw8PDAACTJLDcEcNKdwQrXVEUWlVI\n",
              "UqJvep5Vm+VS31ySBOTbVOTbVGzODkEIoC9qwpmgFW0BK852nsXZc+fwu9/9DhaLBevXr8eWLVtw\n",
              "xx13oLi4eLaLT0Q0pzHEExEREV3F6Ogo3n77bezduxcHDx5ELJaocfaYdWzKCqPCHcFyV2zO9Gef\n",
              "ayRpvI/9lpwgVB3oClvQ5reiNWDDgQMHcODAAfz4xz/G0qVLsXXrVmzbtg3V1dVQFGW2i09ENKcw\n",
              "xBMRERFNYXBwEHv37sXu3bvR2NgIXdcBAEW2ONbkRbDaE0GxLb5gm8jPJJMMo/n9PfBjNC7jtN+G\n",
              "1oAV7d0d+O1vO/Hb3/4WXo8Hd2zdiq1bt+K2226Dw+GY7aITEc06hngiIiKipMHBQbz11lvYvXs3\n",
              "jh49Al0XkACUOGKo9IRR6Ykg23JrNY2/GbxmHRuzQ9iYHYKqA2eDVpz023DSrxl96c1mMzZt2oRt\n",
              "27Zh27ZtyMnJme1iExHNCoZ4IiIiuqWNjo5iz5492LlzJxobG4zgvswRRZU3gipPGB6zPtvFvGWY\n",
              "ZKDcHUW5O4q/EKPoiZhwwm/DyTGbMQ7BD3/4Q1RVVWHHjh3YsWMHlixZMtvFJiK6aRjiiYiI6JYT\n",
              "DAaxb98+7Nq1C++99x40LVG7vswRRbU3jCpPhMF9DpAkoNiuotgewN35AQzHFJz023BizIaW5uM4\n",
              "fvw4fvGLX6CstBTbk4G+oqKCc9IT0YLGEE9ERES3hFgshgMHDuCNN97AO++8jWg0MTjdYnsMNd4w\n",
              "qj1h+CwM7nNZlkXDlpwgtuQEEVIlnPLbcMJvw+nOs3j22XN49tlnkZ+fh+3bd2Dbtm1Yt24dzGbz\n",
              "bBebiGhaMcQTERHRgqVpGhobG/HGG2/grd27EQgGAQD51jjq8sOo8YaRc4tN/7ZQOEwC67LCWJcV\n",
              "RlwH2gNWnBiz4eSQjhdffBEvvvgiXE4nbt+yBdu3b8dtt90Gt9s928UmInrfGOKJiIhoQRFC4OTJ\n",
              "k3jjjTewc+dODA4OAgB8Zg07ckOo9YWNOdxpYTDLwGpPFKs9UehiFJ0hSyLQ+1Xs3LkTO3fuhKIo\n",
              "WLt2LbZt24Y77rgDixcvnu1iExHdEIZ4IiIiWhDOnTuHnTt34o033sD58+cBAE6Tjtuyw6j1hlHi\n",
              "iEFmcF/wZAkodcZQ6ozhzwrH0Bc1Gf3oGw4fxuHDh/H0008b89Fv2bIFtbW1MJn4ZzERzQ/8tCIi\n",
              "IqJ5q6enB7t27cIbb7yBtrY2AIBVFqjzhlHrC2OlKwqFwf2WJUlAgU1FgS2AO/MC8KsyWv1WnPLb\n",
              "Muajdzjs2LhxE26//XbcfvvtKCgomO2iExFdFkM8ERERzSuDg4N48803sXPnThw/fhwAoEjAGnci\n",
              "uFe4o7DIYpZLSXOR26RjQ1YYG7LCxnz0pwNWnA6o2Lt3L/bu3QsAWLp0KTZt2oRNmzZh3bp1cDqd\n",
              "s1xyIqJxDPFEREQ05w0NDWHPnj3YtWsXjhw5AiEEZAlY6Yqg1hvGGk8EdoXBna5d+nz0wBiGYgpa\n",
              "/Va0Baw4292BFzo78cILL0BRFKxZswbr16/H+vXrUV1dDZvNNtvFJ6JbGEM8ERERzUmDg4PYt28f\n",
              "du/ejYaGw9B1AQnjc7lXeyNwmTglHE2PbIuG23NCuD0nBE0A3SEL2gNWtAetxpz0zz77LMwmEyqr\n",
              "qlBbW4uamhpUV1fD4/HMdvGJ6BbCEE9ERERzRl9fH/bu3Yvdu3ejqekodD1Ru77UEUWNN4IqTxge\n",
              "M4M7zSxFApY5Y1jmjOFu+BHVJHSGLDgbtOBM0IpjTUdx9OhR4/yy0lJUVVdjzZo1qKysRGlpKQfK\n",
              "I6IZw08XIiIimlUdHR3Yt28f9uzZgxMnTgCAUeNe5Q2j0hOBl8GdZpFVEWlN7xOhvjtsRmfIgs6Q\n",
              "BV2dZ3H23Dn88Y9/BADYrFasqqjAqlWrUF5ejpUrV6KsrAxms3l23wgRLQgM8URERHRTqaqK5uZm\n",
              "vPPOO3j77bfR2dkJAEYf9zXuCCo9EbgZ3GmOsioCK1wxrHDFAAC6APqiJpwPm9EdsuB8OIbjTU1o\n",
              "amoynmMymbB06VKUlZWhtLQUpaWlKCsrw6JFi1hrT0TXhZ8YRERENOPGxsZw8OBBvPvuu3h3/36M\n",
              "jo0BACyyQJUnEdpXuTk4Hc1PsgQU2lQU2lRsyAoDAOI60Bc142LYjIsRM3oiZlzoaMeZM2cynyvL\n",
              "KCoqwpIlS7BkyRIsXrwYRUVFKCwsRGFhIdxuNySJ8yQS0TiGeCIiIpp2uq7j9OnTePfdd3HgwAG0\n",
              "tDQb/dt9Zg23ZUew2h1BmTMKkzzLhSWaAWYZWGSPY5E9buwTAhhTZfRGzOiLmtAXNWEgasJgXxfe\n",
              "u3AB77333qTXcTocyC8oQE5ODvLy8pCbm4vc3FxkZWXB5/MZa6/XC4vFcjPfIhHNEoZ4IiIimhYX\n",
              "L15EfX09Dh06hMOHDhm17bIELLUn+hOvckdQaFXBikW6FUkS4DXr8JpT/evHxXQJg1EFgzETRuIK\n",
              "huMKRmIKhuNx9HUHcO7cuau+vsVigcfthtvjgcvlgtPphMPhgN1uN9ZWqxU2m81Ym81mmM1mmEwm\n",
              "WCwWmEwmmEwmKIpirGVZhqIokCRp0rYsy5Ak6bJL6hwAxnbqOenHiOjaMcQTERHRDent7UVjYyMa\n",
              "GxvR0NCAixcvGseyLBo2ZkVQ7opihSsKG5vJE12RRRYosqsosqtTHld1IKAqGFNl+FUFQVVGUJUR\n",
              "0BLrsCYjrMUQ8QfRP9qPLk2CJubH3TJFUaAkbw6kFpPJBCV5QyH9JoPZbIbFYslYrFYrrFYr7HY7\n",
              "bDabsTgcjoybGE6n01gcDge7KdC8xRBPREREV6XrOjo6OnDs2DEcO3YMR48ezQjtDkVHlScR2Fc4\n",
              "o8ixarNYWqKFxyQDPosGn0UDEL/q+UAi+Md0CVFdTq4lqLqEuJAQT641Aah6IvBrAlCFBB2ALiTo\n",
              "AtCSj4UAdEjJNQABCEgQSAzsl9yFxGbivPHHSD4efy2R/Bmp5wskfr6uAbomQY8mfnZMJM5TRaL8\n",
              "AKbl5oQsy3A4HHC73ZMWj8cDr9cLr9cLj8cDn89ndFnweDwciJBmHa9AIiIimmR0dBQnT55ES0sL\n",
              "WlpacPz4cfj9fuO4Q9FR6YmizBlDmTOKfKsKmZVaRHOKSQZMsoADC+Om2lOt+fjKqj4IAajJGw7p\n",
              "NyViye2Ynngc1SXEdBlRLbEvosuI6hIiWuLGRkSNIDwwgpE+BRFNwrW2F3K73cjKykJ2drYxLkF2\n",
              "draxTi05OTms8acZwRBPRER0ixsbG8Pp06fR2tqK1tZWnDx5Et3d3Rnn5FhUrPfFsNQRw1JnDHkW\n",
              "9msnotkhSYBZAswQwDR11dEFENUlhDUZIU1GSE2uk9vB5HZQlRGMxTF8cRTnuzqh48ofhDabFTnZ\n",
              "OcjOyUFOTg5yc3ORM2E7NzcXPp8PiqJMy3uhhY8hnoiI6Bahqiq6u7vR3p6Y5iq17unpyTjPoego\n",
              "d8WwxB7HEkcMi+1xOE2cs52IFi5ZAuyKgF3RkH2NLRd0AUQ0CQEtMUZBQJXhV2UEVAWB5NqvxuDv\n",
              "D+FSz4UrdgOQZRlZWVnG7AOpcD/xcU5ODpvzE0M8ERHRQjM6Ooru7m50d3ejs7MTHR0d6OjowPnz\n",
              "56GqmYNmecwaVrniKE5OhVVsi8Nn1ljLTkR0FbIEOEwCDpMKWK98rhBAWJPgVxX4k4MT+uMyxlKP\n",
              "4wr8/hg6hgfQ2nrlD2Cf14uctGCfnZ1tBPxUM/6cnBy4XC425V+gGOKJiIjmmVgsht7eXvT09ODi\n",
              "xYvo6elBT08Pzp8/j+7u7oy+6ykORcciaxz5bhWFNhWFtjgKrHE4TRw1nohopklpgb/gKudGNckI\n",
              "+mPxZOBPbgdUBf7IAHo6hnHmzJkrvo7FbEZWdhZycnIn9dfPyspCVlYWfD4fsrOz4fV6WcM/j/B/\n",
              "ioiIaI7QNA0jIyMYGhrC4OAgBgYGjKWvrw+9vb3o6+vD8PDwlM83yQI5ZhVL3CpyrBpyLSryrInF\n",
              "xebwRETzglURsCoacq8yy0f6tIMBo4Y/uR2X4VdjCAyF0dbfi7h+9Rr51IB9Xq/XGI0/fUmN2u/x\n",
              "eIzFarWytn8WzGiIf+WVV/C1r30NVqsVv/nNb1BdXT1jP+vZZ5/FH/7wB/zhD3+YsZ9BREQ0nWKx\n",
              "GJ588kmcO3cOQ0NDGB0dhRCXrxm3yAJes4oVTg0+s4YsS3Ixa8iyqHCbdI4QT0R0i7ieaQejmpTo\n",
              "p6/JCBp99hMD9gXUxL5gPI7hiyO40C1f8zR+ZpMJbo8bbrcHbrcbLpcLLpcLbrcbTqfTWFwuFxwO\n",
              "h7E4nU5j2263sxXAdZrRf61nnnkG3/zmN/Hwww/P5I8hIiKalzo7O/Hmm2/CIgv4zCpKHTpcJh1O\n",
              "RYPHrMNtGl97zRpssmBfdSIium6p2v0cXD3wCwHEdAnB5Gj8IU2eMGp/YhT/sC4joskIB8MYGhvA\n",
              "RV2+phr/qZjNJtjtdlRWVuEnP/kJa/evYsZC/Be+8AW8/fbbOHXqFH7+85/jf/7P/4mvfvWrGBsb\n",
              "g6Zp+Od//md8/OMfR0dHB+rq6vCP//iPePXVV+H3+/Hss8/ixRdfxFtvvQVVVfG73/0OVVVVuHTp\n",
              "Eh5++GGMjY0hEongrrvuws9+9jPIsjzp5//mN7/BL37xC8TjcbhcLvz85z9HbW3tlGWNRqOIRqMZ\n",
              "+6xWK6zWq4xQQURENA02ZgVxX9HYbBeDiIgIkjQe+rMt1zZSf4qqAxFdRliTENVlRNLWEV1GTJMQ\n",
              "1RP7orqEWNpyKRDDgQMHEIlEYLfbZ+jdLQwzFuJ/9rOf4dixY/jSl76EO++8E3fddRdee+01FBUV\n",
              "YWBgAOvWrcOWLVsAJEbRXb9+Pb797W/jV7/6Fe655x7853/+J55++mn86Ec/wpNPPokXXngBPp8P\n",
              "//mf/wmXywVN0/CXf/mX+P3vf49PfvKTGT97//79+I//+A/s27cPVqsVb7/9Nv76r/8aLS0tU5b1\n",
              "+9//Pp588smMfU888QS+9a1vzci/DRERERER0UJjkgGXrMNlAnCFqfo0kWjiH9NlxPREsH/1khed\n",
              "IctNK+t8dlM6H7z77rs4e/YsPvrRj2bsb21tRVlZGWw2G+6//34AwIYNG+ByuXDXXXcBADZt2oTf\n",
              "/va3AABd1/HVr34V77zzDoQQ6OvrQ1VV1aQQ/8orr6CpqQmbN2829g0NDSEcDk95V+frX/86vvzl\n",
              "L2fsYy08ERHdLAMxE9oCVrhMGlyKDodJh8KWhERENAfpyenywslm9mFNRkRPPI5oiVr3sC4jmqx9\n",
              "T60jmoSYSDxWL9PnXpHlKVtZU6abEuKFEKisrMS777476VhHR0dGYFYUBTabLeNxak7bn/zkJ+jr\n",
              "68PBgwdhs9nw5S9/GZFIZMqf9+ijj+J73/veNZWPTeeJiGg2OJ1OAECr34ZW//h3nwTAaUr0hU/0\n",
              "i9fgMenwmRPbvuRiVTg9HBER3ThNAKFk3/dU//dgcsC70MQ+8aqMkK4gol3fXWZZlhMD3HkdyJ4w\n",
              "wJ3dbofD4YDNZoPD4UB5eTlz2TW4KSF+y5YtOHfuHHbt2oW7774bAHD06FGsWbPmul5neHgYhYWF\n",
              "sNlsuHTpEl544QV87GMfm3TeX/zFX+C//Jf/gscffxwlJSXQdR2NjY3YsGHDtLwfIiKi6VBcXIz/\n",
              "/b//Nzo6OjA8PIzh4WEMDQ1haGgoMbVcfz96AsHLPt+h6Mgyq8Yo9dlmFblWFTmWxEB4HKmeiOjW\n",
              "E09OPedPjkAfSBuNPqAqxoj0AVVBWJNxLbeD7TYbPNlelCSnmHO73ZPWqVHpXS4XnE6nMUK9zWbj\n",
              "QHXT7KaE+KysLLz66qv4p3/6J/y3//bfEI/HUVJSct3TwX3xi1/Egw8+iMrKShQXFxs3BCbatm0b\n",
              "nnrqKTzwwANQVRWxWAz33nsvQzwREc05NTU1qKmpuezxSCQyaZ743t5e9Pb2oqenBxcvXsCFseik\n",
              "55kkgey0eeLz09YWmTX4RETziRBASJOMcD4WV+CfODe8KiOgmhC+Sk25LEvwen0ozMpCVnLx+XzG\n",
              "OrWkzxFvsbCv+lwiiStNSEtERERzmhACIyMjuHjxIi5cuIDz58+ju7sb58+fR1dnJ0bHJo96n21R\n",
              "UWiNo9CmotAWR5EtjmwLa+5nylOt+fjKqr559XP/pbkI363qmeYSEb0/s/W7NJN0AQSTQXxMVeCP\n",
              "p4L55LB+pbnbZVlCli8LObm5yM7ORnZ2NnJycjLWWVlZyM7OhsfjgaIoN/Fd0nS7KTXxRERENDMk\n",
              "STJqUiorKycdHxkZQUdHh7GcPXsWZ9rbcWJoCCf84+dZZYFiWwzF9jgW2eNYbI8hh8GeiOiGxHQJ\n",
              "gWQ4Tw/mgWRYD8RTjxXoV3gdi9mMnNxcLMnNRU5ODnIvs/b5fAzmtxCGeCIiogXM5/Ohrq4OdXV1\n",
              "GfuHh4dx5swZtLe34/Tp02htbcW5c+dwLjQ+oJBdEVhsj2KxPY4SRwxLHTHYOZgeEd2CNAGEkgO+\n",
              "pQZ+C6gygslgnnicCOtBVUFUv/IdUIfDjpyiXCy/TCjPy8tDTk4O3G43+5PTJAzxREREt6CsrCxs\n",
              "2LAhY7yYSCSCM2fO4OTJkzhx4gRaWlrQ1tmJtsD4yPkF1jiWJgN9mTMGn+Xy8wATEc0lmgAimoRo\n",
              "crqzxLRn8oTp0qTx0diN5dpGZDebTcjOykZZsvl6qil7erP21OJwOG7CO6aFiiGeiIiIAAA2mw2V\n",
              "lZUZzfL9fj9OnDiB48eP49ixYzh+/Djqh8OoH05Mj5dtUVHqiKHMGUWZMwqf5UoNQ4loPhICEEj0\n",
              "3xYABCRjnzCOS8ZjXO5Yxn4JenKfDgm6QPKxBE0AWvK4JhLHVCEhqkt4b9ABTUiICwmqLiEugLie\n",
              "mHc8pkuI68m1kBHVJcQ0CVEhG8euh91mg8fnQcmEwd5Sg8ClL9nZ2XC5XKw1p5uCIZ6IiIguy+12\n",
              "Y/Pmzdi8eTMAQNM0nDlzBkePHkVjYyOONDaiYWQMDSOJWqU8q4rlzihWuhKh3sbm90QzSk/O851Z\n",
              "mywbNc5RPRF+Y8lFTa2FZIRfTUhQBaAJGVp6qE4tmDvB9JUe3zWdZzaZYHfY4XA44Uublzw1/Vlq\n",
              "SZ8ezePxwOVywZucRo3zldNcxRBPRERE10xRFJSXl6O8vByf+MQnoOs6zp49i4aGhsRy+DDeGwrh\n",
              "vSEnZAAljijKXVGsckdQZFPBSiqia6MJYCyuYDiuYCyuYMwYqTwxUFpQkxHUFITUa5vneyJFUWC1\n",
              "WmCxWGE2m+Ewm2E2m2EymWAymaAoirFWFAWyLEOWZSiKAkmSIMtyxnriduoxgIz96c9Pf83Uz0ht\n",
              "p8phMplgTpbNnFZGq9UKq9UKi8UCi8UCm80Gu90Om80Gq9UKk4kxhxYuXt1ERER0w2RZxooVK7Bi\n",
              "xQo89NBDUFUVJ0+eRH19PQ4ePIjm5mZ0hKx4o88Dt0lHuSuC1Z4IVjijsLKWnm5xUU3CYEzBQMyE\n",
              "wagJAzEThmIKhuMmjMWVy4ZzWZbh9XpRkDa/d6pGObWkapwdabXQNpuNIZdoAeBvLxEREU0bk8mE\n",
              "6upqVFdX47HHHsPY2BgOHTqEAwcO4MCBA2gYHETDiAOKJFDmjGK1O4LV7gj70tOCFteB3qgZlyIm\n",
              "9EXM6I2a0Bc1YyQ+eUowWZZRUFCAssJCFBUVobCwEPn5+cjLy0Nubi5yc3ORlZVl1HIT0a2HIZ6I\n",
              "iIhmjMfjwQc/+EF88IMfhBACra2teOedd/DOO+/g1KlTaAvY8MceYJE9hkp3BGs8EeRb2eye5q+o\n",
              "JuFixIzzYTMuhs3oiZjRHzVPmgu8ID8ft5WVoaSkBEuWLDGWgoIC1pIT0RXxE4KIiIhuCkmSUFFR\n",
              "gYqKCvzd3/0d+vr6sH//fuzduxeHDx/ChT4L3ujzIM+qotITRrUnzH70NKfpAuiPmtAZsqA7ZMb5\n",
              "sAW9UXNGM3iX04naNeVYtWoVVqxYgdLSUixbtgxOp3PWyk1E8xtDPBEREc2K/Px8PPDAA3jggQcQ\n",
              "CATw7rvvYu/evXh3/37s6TdhT78b2RYVVZ4wqr0RLLLFGehpVmkCOB82oyNoRUfIgs6QBWFtvFm7\n",
              "w2HHuvVrsGbNGqxevRoVFRUoKiritGNENK0Y4omIiGjWuVwufPjDH8aHP/xhRCIR1NfXY/fu3Xh7\n",
              "3z7sGzBh34Ab2RYN1Z4QarysoaebQxfAhbAZZ4NWnAla0BmyIpY21/iSJYtRU1OL2tpaVFVVYenS\n",
              "pVCUyf3ciYimE0M8ERERzSk2mw3bt2/H9u3bEYvFUF9fjzfffBN79+7B3gEFewfcyLGoqPWGUesN\n",
              "I9+mznaRaQEZiiloC1jRHrDiTNCGsDYe2svKyrB+/XqsXbsWtbW1yMnJmcWSEtGtiiGeiIiI5iyL\n",
              "xYKtW7di69atiEa/hoMHD2LXrl14e98+7O43YXe/G4W2uBHosyzabBeZ5pm4DpwNWnE6YEWr34bB\n",
              "2Pifx4sWLcKmTZuwceNGrF27FllZWbNYUiKiBIZ4IiIimhesVqtRQx+JRLB//3688cYbePfdd/F6\n",
              "rxmv93pQYo+h1hdCtTcCt4nT1tHURmIKTvqtOOW34WzICjXZRN7ldOKuOzZh8+bN2LRpE4qLi2e5\n",
              "pEREkzHEExER0bxjs9mMqesCgQD27t2LnTt3or6+Hl09Fvy/HmCFK4JabxiVnghsirj6i9KCpScH\n",
              "pDvlt+Gk34ZLEbNxbOXKlbj99tuxZcsWVFVVcXo3Iprz+ClFRERE85rL5cK9996Le++9F0NDQ9i9\n",
              "ezdef/11HD9+HG0BG/5wUaDCHUGdL4xyVwRm+eqvSfNfXAfaA1ac9Ntw0m9HQE38x1ssFtxxx0Zs\n",
              "27YNW7ZsQX5+/iyXlIjo+jDEExER0YKRnZ2NBx98EA8++CAuXryIXbt24fXXX0fzmTNoHrPDpghU\n",
              "usOo9YVR5oxC4Qj3C0pIlXDKb8MJvw2nAzbEk83kc7Kz8cFt27Bt2zZs2LABNpttlktKRHTjGOKJ\n",
              "iIhoQSouLsYjjzyCRx55BO3t7di5cyfeeON1NPRcQsOIAy6TjmpPCLW+MJbY45AZ6OelkZiCE34b\n",
              "WsZs6AhZoSd7TpSWLsP27Tuwbds2rFmzBrLMJhhEtDAwxBMREdGCt2LFCqxYsQKPP/44mpub8cYb\n",
              "b2DXrp04MCTjwJALPrOGGm8YNd4wim1xzkE/hwkB9EZNaBmz4cSYDRcjFgCAJEmorq7Gjh2J4F5S\n",
              "UjLLJSUimhkM8URERHTLSAW96upqfPGLX0RDQwN27dqFt956C/sGFOwbcCHHoqLaE0a1N4wim8pA\n",
              "PwdoAugKWdAylhiYbig5DZzZZMIdd2zG9u3bsXXrVs7bTkS3BIZ4IiIiuiWZTCZs3rwZmzdvxle+\n",
              "8hUcPHgQO3fuxL59+7BnwIQ9A27kWFRUeRIj3C+2s4b+ZopqEtqSA9Od8tsQ0hLN4V1OJz585x3Y\n",
              "sWMHbrvtNjidzlkuKRHRzcUQT0RERLc8s9mMrVu3YuvWrYhGozh48CDefPNNvP32PuwdMGHvgBte\n",
              "s4Y17kSgX+aMcVC8GZCav/2k34azQSs0kfhHzs/Pw59t34Ht27dj7dq1MJvNV3klIqKFiyGeiIiI\n",
              "KI3VasX27duxfft2RKNR1NfXY8+ePXj77X04MKTgwJALDkVHuSuC1Z4Iyl1RzkN/gzQBdIYsaPXb\n",
              "0Oq3ojc6Hs4rKiqwbds2bN26FeXl5ZDYDIKICABDPBEREdFlWa1WbEtOTaaqKpqamrBnzx7s27sX\n",
              "R/v6cHTUAVkCSh1RrHInAn2+lf3or2QwqqAtYEVbwIqzIRsiWuIfy26zYfv2TdiyZQvuuOMO5OXl\n",
              "zXJJiYjmJoZ4IiIiomtgMpmwfv16rF+/Hl/+8pfR3t6Od955B/v370dLSwvOBK14DYDHrGGlM4qV\n",
              "rgjKXLHZLvasG4vLOBu04mzQgjNBqzEoHQCUlJRgy5YtuP3227F27VpYLJZZLCkR0fzAEE9ERER0\n",
              "nSRJwsqVK7Fy5Up85jOfwdDQEA4ePIj6+nocPPgeGoaG0TDiAAC4FA1/uOhFmTOKUkcMbrM+y6Wf\n",
              "OUIAQzEFnSELOkMWnAtZ0R8d/3PT7Xbjg9s2YfPmzdi0aRMKCwtnsbRERPMTQzwRERHR+5SdnY2P\n",
              "fvSj+OhHPwpd13HmzBkcPHgQR44cwZEjR3BwSMHBocQo6j6zhhJHDCX2GJY4YiiyxWGWZ/kN3KCg\n",
              "KuNixIwLYTO6Q2Z0ha0IqONvxuV0YuvGtVi/fj3WrVuHFStWQFGUWSwxEdH8xxBPRERENI1kWTZq\n",
              "6T/1qU9BVVW0tbWhoaEBx44dQ3PzcRwbGsaxUTsAQAKQZ42jyBZHkU1FoS2OPKsKn1mDPEf61sd1\n",
              "YCBqQm/UjL6oCb0REy5GLBiJZwby4qIi3FFTg+rqalRXVzO0ExHNAIZ4IiIiohlkMpmwevVqrF69\n",
              "GgAghEBPTw9aWlrQ3NyM06dPo+30aTSNBtE0mvY8SSDHoiLXqiLbrME7YXEoOkzTUIMvBBDWJARU\n",
              "BQFNxlhcgQDw0gUvhmMmDMcVDMdMmDj+fm5uLrZWVGDVqlVYtWoV1qxZg9zc3PdfICIiuiJJCME5\n",
              "UYiIiIhmUSrYt7e3o729Hd3d3ejs7ERXZycCweBln2eRBRyKDruiwybrMMkCJknAJAGtASvWuCMQ\n",
              "AAQkCAGoAojqMqK6hJgmIarLCGqyMR/7RJIkITc3FyUlJSgtLcWyZctQWlqK0tJSZGdnz9C/BhER\n",
              "XQlDPBEREdEcJYTAyMgILl26hN7eXvT19aG3txf9/f0YGxvD2NgYRkdGMDo6inAkAk3TrvqakiTB\n",
              "brfBYXfA4XTC5/MhOzsb2dnZyMrKQm5uLoqLi1FUVITCwkKOGE9ENMcwxBMREREtEKqqIh6PIxaL\n",
              "IRqNQpZlSJIEWZYhyzLMZjNsNhtkeZ6OpEdERAzxRERERERERPMFb8MSERERERERzRMM8URERERE\n",
              "RETzBEM8ERERERER0TzBEE9EREREREQ0TzDEExEREREREc0TDPFERERERERE8wRDPE0SjUbxrW99\n",
              "C9FodLaLQgsQry+aKby2aKbw2qKZwmuLZgqvrYWN88TTJGNjY/B6vRgdHYXH45nt4tACw+uLZgqv\n",
              "LZopvLZopvDaopnCa2thY008ERERERER0TzBEE9EREREREQ0TzDEExEREREREc0TDPE0idVqxRNP\n",
              "PAGr1TrbRaEFiNcXzRReWzRTeG3RTOG1RTOF19bCxoHtiIiIiIiIiOYJ1sQTERERERERzRMM8URE\n",
              "RERERETzBEM8ERERERER0TzBEE9EREREREQ0TzDE3yK+8IUvYNmyZZAkCUePHjX2/+lPf8KGDRtQ\n",
              "U1OD2267DU1NTcaxz3zmM6ipqUFdXR02btyIN9980zjW19eHj3zkI1i5ciWqqqqwb9++m/l2aA65\n",
              "kWsrZffu3VAUBT/96U+NfaFQCA8//DBWrFiB8vJyvPjiizfhXdBcdCPX1p133onS0lLU1dWhrq4O\n",
              "Tz/9tHGMn1uUciPXlhAC3/rWt1BeXo7q6mrcddddxjFeW5RyI9fW5s2bjc+sqqoqSJKEY8eOAeB3\n",
              "Io27kWurvr4et912G9auXYvVq1fjqaeeMo7x2prnBN0S9u7dK7q7u8XSpUvFkSNHhBBCDA0Niezs\n",
              "bNHc3CyEEGLfvn2isrLSeM7w8LCx3djYKLKysoSmaUIIIT7zmc+IJ554QgghRH19vVi0aJGIxWI3\n",
              "5b3Q3HIj15YQQoyMjIiNGzeK++67Tzz99NPG/ieffFI8+uijQgghzp49K/Ly8sTAwMDNeCs0x9zI\n",
              "tbVjxw7x8ssvT/l6/NyilBu5tn7605+KBx54QESjUSGEED09PcYxXluUcqPfiSkvvPCCqKqqMh7z\n",
              "O5FSbuTaqq2tFa+88ooQQojBwUGRl5cnWlpahBC8tuY71sTfIrZv347Fixdn7Dtz5gxycnJQWVkJ\n",
              "ANi2bRu6urrQ2NgIAPD5fMa5o6OjGc/9/e9/j8cffxwAsHHjRhQXF2Pv3r0z+A5orrqRawsAPv/5\n",
              "z+Mb3/gGcnJyMp77/PPPG9dWaWkp7rzzTrz88ssz/C5oLrrRa+ty+LlFKTdybf3oRz/CD37wA1gs\n",
              "FgBAYWGh8VxeW5Tyfj+3fvWrX+Gxxx4zHvM7kVJu5NqSJAkjIyMAgGAwCIvFguzsbAC8tuY7hvhb\n",
              "2MqVKzE4OIh3330XAPDHP/4Rfr8fHR0dxjlf+9rXsHz5cvzVX/0VXnrpJciyjMHBQcTj8Yw/YJYt\n",
              "W4aurq6b/RZojrratfXiiy9ClmX8xV/8xaTndnV1YenSpcZjXluU7lo/t6qrq/HQQw/h7NmzAMDP\n",
              "LbqqK11bY2Nj6O3txSuvvILNmzdj8+bNeP755wHw2qKru5bPLQDo7u7G3r178alPfcrYx+9EupKr\n",
              "XVu//vWv8T/+x/9ASUkJysvL8b3vfc/4rOK1Nb+ZZrsANHu8Xi9efPFFfP3rX0cgEMDtt9+ONWvW\n",
              "wGQavyx+8IMf4Ac/+AF27dqFr3zlK9i/f/8slpjmiytdW5cuXcJ3vvMd7NmzZ7aLSfPQ1T63fvOb\n",
              "32DJkiUQQuDf/u3fcN999+HEiROzXGqaD650bamqClVVEQ6HcfDgQXR0dGDLli2oqKiYVDNGNNG1\n",
              "/L0FAM8++yzuu+8+5ObmzlJJab652rX1gx/8AN///vfx13/91zh79ix27NiBDRs2YM2aNbNccnq/\n",
              "GOJvcXfddZcxOE80GkVhYeGUv9h33303Pv/5z+P48eNYv369EcZSd/M6OjpQUlJyU8tOc9vlrq2G\n",
              "hgb09PSgrq4OADAwMIA//vGP6O/vx3e/+12UlJSgs7MTRUVFABLX1oc//OHZehs0B13pc2vJkiUA\n",
              "Ek0IP//5z+Of/umfMDg4iJycHH5u0VVd7trKzs6Gy+UyakiXLVuGO+64A4cOHUJtbS2vLbqqq/29\n",
              "JYTAr3/9a/yv//W/Mp7H70S6mstdWwMDA3j55Zfxu9/9DgBQVlaG2267Dfv378eaNWt4bc1zbE5/\n",
              "i+vp6TG2v/3tb+MDH/gAVqxYgXg8jvb2duNYfX09+vr6UFZWBgD4+Mc/jmeeeQYAcOjQIVy4cAE7\n",
              "duy4uYWnOe1y19a9996L3t5edHR0oKOjAw8++CC++c1v4rvf/S6AzGvr3Llz2LNnD+6///7ZeAs0\n",
              "R13u2lJVFb29vcaxl156CQUFBca4C/zcoqu53LUFAA8//DD+9Kc/AQCGhoZQX1+PmpoaALy26Oqu\n",
              "dG0BidlaVFXFhz70oYzn8TuRruZy11ZWVhacTid2794NIFFpcvDgQVRVVQHgtTXvzfbIenRzfO5z\n",
              "nxOLFi0SiqKI/Px8sXz5ciGEEH/3d38nVq1aJZYvXy4+9alPGSPSB4NBsWXLFlFZWSlqa2vFli1b\n",
              "xJtvvmm83qVLl8SHPvQhsWLFCrFmzRqxe/fu2XhbNAdc77U10aOPPpoxOn0gEBCf+MQnRFlZmVi5\n",
              "cqV4/vnnb8K7oLnoeq+tQCAg1q9fL6qqqkRNTY34wAc+II4ePWq8Hj+3KOVGPrcGBgbEn//5n4vK\n",
              "ykpRWVkp/u3f/s04xmuLUm70O/Hhhx8W3/zmNye9Hr8TKeVGrq2dO3eKdevWiZqaGrF69Wrx4x//\n",
              "2DjGa2t+k4QQYrZvJBARERERERHR1bE5PREREREREdE8wRBPRERERERENE8wxBMRERERERHNEwzx\n",
              "REREc9Qrr7yC1atXo66uDoqiwO/3X9fz9+zZY4yoTkRERAsDQzwREdEc9cwzz+Cb3/wmjh49Ck3T\n",
              "4Ha7J52jquplnz/fQ/yV3hsREdGtiiGeiIhoDvrCF76At99+G//8z/+MLVu2QJIkjIyMAACWLVuG\n",
              "r371q9i0aRMeffRRtLW14Y477kBtbS2qq6vxjW98A0ePHsUzzzyD3/72t6irq8O//uu/XvZnvfnm\n",
              "m7j99tuxdu1aVFZW4le/+pVx7NOf/jT+9m//Flu2bEF5eTkeffRRhMPhqx7z+/347Gc/i02bNqGm\n",
              "pgaf+9znEIvFAAA/+clPsHHjRtTV1WHjxo04cOCA8fMmvrdLly7hrrvuwvr161FZWYnPf/7z0HUd\n",
              "APDss8/i7rvvxsMPP4zq6mps2LABZ8+eNV7r17/+Nerq6lBbW4sNGzago6MDAPD6669j69atWL9+\n",
              "PTZt2oS33nrr/f+HERER3SyzPccdERERTW3Hjh3i5ZdfFkIIAcCY/3fp0qXiscceE7quCyGE+MIX\n",
              "viC+973vGc8bHBwUQgjxxBNPiC9+8YtX/TlDQ0NCVVXjuSUlJaK7u1sIIcSjjz4q1qxZI8bGxoSq\n",
              "quK+++4T3/3ud6967LOf/az4v//3/wohhNB1XTz22GPiqaeeEkII0dfXZ/zsAwcOiFWrVhmPJ763\n",
              "cDgs/H6/EEIIVVXFvffeK/7jP/5DCCHEr3/9a+HxeMTZs2eFEEJ89atfFZ/73OeEEEK89dZbYtmy\n",
              "ZeLixYtCCCGCwaAIBoPizJkz4rbbbhOjo6NCCCHa2tpEYWGhiEQiV/13IiIimgtYE09ERDQPffrT\n",
              "n4YkSQCA7du345e//CX+5V/+BW+88QZ8Pt91vdbg4CA+/vGPo6qqCh/4wAcwODiI5uZm4/gnPvEJ\n",
              "uN1uKIqCxx57DLt27brqsT/84Q/40Y9+hLq6OqxduxZvv/022tvbAQBHjhzBjh07UFVVhccffxyt\n",
              "ra1GDf7E96brOr761a+itrYWa9euxeHDh3H06FHj3Ntvvx2lpaXG9pkzZwAAr776Kv7mb/4GRUVF\n",
              "AACHwwGHw4E//elPaG9vx/bt21FXV4cHH3wQsiyjq6vruv7NiIiIZotptgtARERE18/lchnbH/vY\n",
              "x7Blyxbs3LkTv/jFL/DTn/4Ur7322jW/1uOPP44/+7M/w0svvQRJkrBu3TpEIpHLnp8K2Fc6JoTA\n",
              "Sy+9hPLy8ozjsVgMf/VXf4W33noLGzduxNjYGLxeL6LRKOx2+6T39pOf/AR9fX04ePAgbDYbvvzl\n",
              "L2eUzWazGduKoly1H70QAh/60Ifw3HPPXfE8IiKiuYo18URERPNcW1sbCgoK8Mgjj+Cpp57Ce++9\n",
              "BwDweDwYHR296vOHh4exdOlSSJKEffv2oampKeP4iy++iEAgAE3T8Otf/xp33333VY/df//9+OEP\n",
              "f2iE6uHhYbS3tyMSiSAWi6GkpAQA8POf//yqZSssLITNZsOlS5fwwgsvXNO/yZ//+Z/j3//939HT\n",
              "0wMACIVCCIVCuOeee7Br1y4cO3bMOLe+vv6aXpOIiGguYIgnIiKa51588UVUV1dj7dq1eOihh/DM\n",
              "M88AAB544AEcPXr0qgPb/eAHP8DXvvY11NXV4f/8n/+DzZs3ZxzfuHEj7rnnHqxevRo+nw9f+tKX\n",
              "rnrs6aefht1uR11dHWpqavDBD34QHR0d8Hg8+M53voNNmzZh/fr1sFgsV3xvX/ziF3Hw4EFUVlbi\n",
              "b/7mbzJuIFzJ9u3b8cQTT+Cee+5BbW0tduzYgf7+fqxYsQLPPfcc/v7v/x61tbVYvXo1fvrTn17T\n",
              "axIREc0FkhBCzHYhiIiIaG769Kc/jbq6uozgfi3HiIiIaGawJp6IiIiIiIhonmBNPBER0S3g6NGj\n",
              "+PSnPz1p/6OPPor/+l//680vEBEREd0QhngiIiIiIiKieYLN6YmIiIiIiIjmCYZ4IiIiIiIionmC\n",
              "IZ6IiIiIiIhonmCIJyIiIiIiIponGOKJiIiIiIiI5gmGeCIiIiIiIqJ5giGeiIiIiIiIaJ74/8p5\n",
              "cUGaBVcyAAAAAElFTkSuQmCC\n",
              "\">\n",
              "      </div>\n",
              "      <script type=\"text/javascript\">\n",
              "        (() => {\n",
              "          const chartElement = document.getElementById(\"chart-f2cb6cb2-e56b-46e8-ab8c-b6075c6bc079\");\n",
              "          async function getCodeForChartHandler(event) {\n",
              "            const chartCodeResponse =  await google.colab.kernel.invokeFunction(\n",
              "                'getCodeForChart', [\"chart-f2cb6cb2-e56b-46e8-ab8c-b6075c6bc079\"], {});\n",
              "            const responseJson = chartCodeResponse.data['application/json'];\n",
              "            await google.colab.notebook.addCell(responseJson.code, 'code');\n",
              "          }\n",
              "          chartElement.onclick = getCodeForChartHandler;\n",
              "        })();\n",
              "      </script>\n",
              "      <style>\n",
              "        .colab-quickchart-chart-with-code  {\n",
              "            display: block;\n",
              "            float: left;\n",
              "            border: 1px solid transparent;\n",
              "        }\n",
              "\n",
              "        .colab-quickchart-chart-with-code:hover {\n",
              "            cursor: pointer;\n",
              "            border: 1px solid #aaa;\n",
              "        }\n",
              "      </style>"
            ]
          },
          "metadata": {}
        }
      ]
    },
    {
      "cell_type": "markdown",
      "source": [
        "Drop the name column as it's now the index\n"
      ],
      "metadata": {
        "id": "3lrAXfzjGodn"
      }
    },
    {
      "cell_type": "code",
      "source": [
        "marvel_df.drop(columns=[\"name\"])"
      ],
      "metadata": {
        "id": "CB47WxvKGrW7",
        "colab": {
          "base_uri": "https://localhost:8080/",
          "height": 669
        },
        "outputId": "a76f179a-12fa-4435-b339-13dad5857272"
      },
      "execution_count": 115,
      "outputs": [
        {
          "output_type": "execute_result",
          "data": {
            "text/plain": [
              "       sex  first_appearance\n",
              "0     male              1962\n",
              "1     male              1941\n",
              "2     male              1974\n",
              "3     male              1963\n",
              "4     male              1963\n",
              "5     male              1961\n",
              "6     male              1961\n",
              "7     male              1962\n",
              "8     male              1963\n",
              "9   female              1961\n",
              "10  female              1975\n",
              "11    male              1939\n",
              "12    male              1964\n",
              "13    male              1964\n",
              "14    male              1963\n",
              "15    male              1962\n",
              "16  female              1964\n",
              "17  female              1963\n",
              "18  female              1964\n",
              "19    male              1968"
            ],
            "text/html": [
              "\n",
              "  <div id=\"df-1f751e0c-a0b8-471f-ab01-6f8604b5909d\" class=\"colab-df-container\">\n",
              "    <div>\n",
              "<style scoped>\n",
              "    .dataframe tbody tr th:only-of-type {\n",
              "        vertical-align: middle;\n",
              "    }\n",
              "\n",
              "    .dataframe tbody tr th {\n",
              "        vertical-align: top;\n",
              "    }\n",
              "\n",
              "    .dataframe thead th {\n",
              "        text-align: right;\n",
              "    }\n",
              "</style>\n",
              "<table border=\"1\" class=\"dataframe\">\n",
              "  <thead>\n",
              "    <tr style=\"text-align: right;\">\n",
              "      <th></th>\n",
              "      <th>sex</th>\n",
              "      <th>first_appearance</th>\n",
              "    </tr>\n",
              "  </thead>\n",
              "  <tbody>\n",
              "    <tr>\n",
              "      <th>0</th>\n",
              "      <td>male</td>\n",
              "      <td>1962</td>\n",
              "    </tr>\n",
              "    <tr>\n",
              "      <th>1</th>\n",
              "      <td>male</td>\n",
              "      <td>1941</td>\n",
              "    </tr>\n",
              "    <tr>\n",
              "      <th>2</th>\n",
              "      <td>male</td>\n",
              "      <td>1974</td>\n",
              "    </tr>\n",
              "    <tr>\n",
              "      <th>3</th>\n",
              "      <td>male</td>\n",
              "      <td>1963</td>\n",
              "    </tr>\n",
              "    <tr>\n",
              "      <th>4</th>\n",
              "      <td>male</td>\n",
              "      <td>1963</td>\n",
              "    </tr>\n",
              "    <tr>\n",
              "      <th>5</th>\n",
              "      <td>male</td>\n",
              "      <td>1961</td>\n",
              "    </tr>\n",
              "    <tr>\n",
              "      <th>6</th>\n",
              "      <td>male</td>\n",
              "      <td>1961</td>\n",
              "    </tr>\n",
              "    <tr>\n",
              "      <th>7</th>\n",
              "      <td>male</td>\n",
              "      <td>1962</td>\n",
              "    </tr>\n",
              "    <tr>\n",
              "      <th>8</th>\n",
              "      <td>male</td>\n",
              "      <td>1963</td>\n",
              "    </tr>\n",
              "    <tr>\n",
              "      <th>9</th>\n",
              "      <td>female</td>\n",
              "      <td>1961</td>\n",
              "    </tr>\n",
              "    <tr>\n",
              "      <th>10</th>\n",
              "      <td>female</td>\n",
              "      <td>1975</td>\n",
              "    </tr>\n",
              "    <tr>\n",
              "      <th>11</th>\n",
              "      <td>male</td>\n",
              "      <td>1939</td>\n",
              "    </tr>\n",
              "    <tr>\n",
              "      <th>12</th>\n",
              "      <td>male</td>\n",
              "      <td>1964</td>\n",
              "    </tr>\n",
              "    <tr>\n",
              "      <th>13</th>\n",
              "      <td>male</td>\n",
              "      <td>1964</td>\n",
              "    </tr>\n",
              "    <tr>\n",
              "      <th>14</th>\n",
              "      <td>male</td>\n",
              "      <td>1963</td>\n",
              "    </tr>\n",
              "    <tr>\n",
              "      <th>15</th>\n",
              "      <td>male</td>\n",
              "      <td>1962</td>\n",
              "    </tr>\n",
              "    <tr>\n",
              "      <th>16</th>\n",
              "      <td>female</td>\n",
              "      <td>1964</td>\n",
              "    </tr>\n",
              "    <tr>\n",
              "      <th>17</th>\n",
              "      <td>female</td>\n",
              "      <td>1963</td>\n",
              "    </tr>\n",
              "    <tr>\n",
              "      <th>18</th>\n",
              "      <td>female</td>\n",
              "      <td>1964</td>\n",
              "    </tr>\n",
              "    <tr>\n",
              "      <th>19</th>\n",
              "      <td>male</td>\n",
              "      <td>1968</td>\n",
              "    </tr>\n",
              "  </tbody>\n",
              "</table>\n",
              "</div>\n",
              "    <div class=\"colab-df-buttons\">\n",
              "\n",
              "  <div class=\"colab-df-container\">\n",
              "    <button class=\"colab-df-convert\" onclick=\"convertToInteractive('df-1f751e0c-a0b8-471f-ab01-6f8604b5909d')\"\n",
              "            title=\"Convert this dataframe to an interactive table.\"\n",
              "            style=\"display:none;\">\n",
              "\n",
              "  <svg xmlns=\"http://www.w3.org/2000/svg\" height=\"24px\" viewBox=\"0 -960 960 960\">\n",
              "    <path d=\"M120-120v-720h720v720H120Zm60-500h600v-160H180v160Zm220 220h160v-160H400v160Zm0 220h160v-160H400v160ZM180-400h160v-160H180v160Zm440 0h160v-160H620v160ZM180-180h160v-160H180v160Zm440 0h160v-160H620v160Z\"/>\n",
              "  </svg>\n",
              "    </button>\n",
              "\n",
              "  <style>\n",
              "    .colab-df-container {\n",
              "      display:flex;\n",
              "      gap: 12px;\n",
              "    }\n",
              "\n",
              "    .colab-df-convert {\n",
              "      background-color: #E8F0FE;\n",
              "      border: none;\n",
              "      border-radius: 50%;\n",
              "      cursor: pointer;\n",
              "      display: none;\n",
              "      fill: #1967D2;\n",
              "      height: 32px;\n",
              "      padding: 0 0 0 0;\n",
              "      width: 32px;\n",
              "    }\n",
              "\n",
              "    .colab-df-convert:hover {\n",
              "      background-color: #E2EBFA;\n",
              "      box-shadow: 0px 1px 2px rgba(60, 64, 67, 0.3), 0px 1px 3px 1px rgba(60, 64, 67, 0.15);\n",
              "      fill: #174EA6;\n",
              "    }\n",
              "\n",
              "    .colab-df-buttons div {\n",
              "      margin-bottom: 4px;\n",
              "    }\n",
              "\n",
              "    [theme=dark] .colab-df-convert {\n",
              "      background-color: #3B4455;\n",
              "      fill: #D2E3FC;\n",
              "    }\n",
              "\n",
              "    [theme=dark] .colab-df-convert:hover {\n",
              "      background-color: #434B5C;\n",
              "      box-shadow: 0px 1px 3px 1px rgba(0, 0, 0, 0.15);\n",
              "      filter: drop-shadow(0px 1px 2px rgba(0, 0, 0, 0.3));\n",
              "      fill: #FFFFFF;\n",
              "    }\n",
              "  </style>\n",
              "\n",
              "    <script>\n",
              "      const buttonEl =\n",
              "        document.querySelector('#df-1f751e0c-a0b8-471f-ab01-6f8604b5909d button.colab-df-convert');\n",
              "      buttonEl.style.display =\n",
              "        google.colab.kernel.accessAllowed ? 'block' : 'none';\n",
              "\n",
              "      async function convertToInteractive(key) {\n",
              "        const element = document.querySelector('#df-1f751e0c-a0b8-471f-ab01-6f8604b5909d');\n",
              "        const dataTable =\n",
              "          await google.colab.kernel.invokeFunction('convertToInteractive',\n",
              "                                                    [key], {});\n",
              "        if (!dataTable) return;\n",
              "\n",
              "        const docLinkHtml = 'Like what you see? Visit the ' +\n",
              "          '<a target=\"_blank\" href=https://colab.research.google.com/notebooks/data_table.ipynb>data table notebook</a>'\n",
              "          + ' to learn more about interactive tables.';\n",
              "        element.innerHTML = '';\n",
              "        dataTable['output_type'] = 'display_data';\n",
              "        await google.colab.output.renderOutput(dataTable, element);\n",
              "        const docLink = document.createElement('div');\n",
              "        docLink.innerHTML = docLinkHtml;\n",
              "        element.appendChild(docLink);\n",
              "      }\n",
              "    </script>\n",
              "  </div>\n",
              "\n",
              "\n",
              "<div id=\"df-5714c6b4-d709-4dd2-a2b6-74ecda906cbd\">\n",
              "  <button class=\"colab-df-quickchart\" onclick=\"quickchart('df-5714c6b4-d709-4dd2-a2b6-74ecda906cbd')\"\n",
              "            title=\"Suggest charts\"\n",
              "            style=\"display:none;\">\n",
              "\n",
              "<svg xmlns=\"http://www.w3.org/2000/svg\" height=\"24px\"viewBox=\"0 0 24 24\"\n",
              "     width=\"24px\">\n",
              "    <g>\n",
              "        <path d=\"M19 3H5c-1.1 0-2 .9-2 2v14c0 1.1.9 2 2 2h14c1.1 0 2-.9 2-2V5c0-1.1-.9-2-2-2zM9 17H7v-7h2v7zm4 0h-2V7h2v10zm4 0h-2v-4h2v4z\"/>\n",
              "    </g>\n",
              "</svg>\n",
              "  </button>\n",
              "\n",
              "<style>\n",
              "  .colab-df-quickchart {\n",
              "      --bg-color: #E8F0FE;\n",
              "      --fill-color: #1967D2;\n",
              "      --hover-bg-color: #E2EBFA;\n",
              "      --hover-fill-color: #174EA6;\n",
              "      --disabled-fill-color: #AAA;\n",
              "      --disabled-bg-color: #DDD;\n",
              "  }\n",
              "\n",
              "  [theme=dark] .colab-df-quickchart {\n",
              "      --bg-color: #3B4455;\n",
              "      --fill-color: #D2E3FC;\n",
              "      --hover-bg-color: #434B5C;\n",
              "      --hover-fill-color: #FFFFFF;\n",
              "      --disabled-bg-color: #3B4455;\n",
              "      --disabled-fill-color: #666;\n",
              "  }\n",
              "\n",
              "  .colab-df-quickchart {\n",
              "    background-color: var(--bg-color);\n",
              "    border: none;\n",
              "    border-radius: 50%;\n",
              "    cursor: pointer;\n",
              "    display: none;\n",
              "    fill: var(--fill-color);\n",
              "    height: 32px;\n",
              "    padding: 0;\n",
              "    width: 32px;\n",
              "  }\n",
              "\n",
              "  .colab-df-quickchart:hover {\n",
              "    background-color: var(--hover-bg-color);\n",
              "    box-shadow: 0 1px 2px rgba(60, 64, 67, 0.3), 0 1px 3px 1px rgba(60, 64, 67, 0.15);\n",
              "    fill: var(--button-hover-fill-color);\n",
              "  }\n",
              "\n",
              "  .colab-df-quickchart-complete:disabled,\n",
              "  .colab-df-quickchart-complete:disabled:hover {\n",
              "    background-color: var(--disabled-bg-color);\n",
              "    fill: var(--disabled-fill-color);\n",
              "    box-shadow: none;\n",
              "  }\n",
              "\n",
              "  .colab-df-spinner {\n",
              "    border: 2px solid var(--fill-color);\n",
              "    border-color: transparent;\n",
              "    border-bottom-color: var(--fill-color);\n",
              "    animation:\n",
              "      spin 1s steps(1) infinite;\n",
              "  }\n",
              "\n",
              "  @keyframes spin {\n",
              "    0% {\n",
              "      border-color: transparent;\n",
              "      border-bottom-color: var(--fill-color);\n",
              "      border-left-color: var(--fill-color);\n",
              "    }\n",
              "    20% {\n",
              "      border-color: transparent;\n",
              "      border-left-color: var(--fill-color);\n",
              "      border-top-color: var(--fill-color);\n",
              "    }\n",
              "    30% {\n",
              "      border-color: transparent;\n",
              "      border-left-color: var(--fill-color);\n",
              "      border-top-color: var(--fill-color);\n",
              "      border-right-color: var(--fill-color);\n",
              "    }\n",
              "    40% {\n",
              "      border-color: transparent;\n",
              "      border-right-color: var(--fill-color);\n",
              "      border-top-color: var(--fill-color);\n",
              "    }\n",
              "    60% {\n",
              "      border-color: transparent;\n",
              "      border-right-color: var(--fill-color);\n",
              "    }\n",
              "    80% {\n",
              "      border-color: transparent;\n",
              "      border-right-color: var(--fill-color);\n",
              "      border-bottom-color: var(--fill-color);\n",
              "    }\n",
              "    90% {\n",
              "      border-color: transparent;\n",
              "      border-bottom-color: var(--fill-color);\n",
              "    }\n",
              "  }\n",
              "</style>\n",
              "\n",
              "  <script>\n",
              "    async function quickchart(key) {\n",
              "      const quickchartButtonEl =\n",
              "        document.querySelector('#' + key + ' button');\n",
              "      quickchartButtonEl.disabled = true;  // To prevent multiple clicks.\n",
              "      quickchartButtonEl.classList.add('colab-df-spinner');\n",
              "      try {\n",
              "        const charts = await google.colab.kernel.invokeFunction(\n",
              "            'suggestCharts', [key], {});\n",
              "      } catch (error) {\n",
              "        console.error('Error during call to suggestCharts:', error);\n",
              "      }\n",
              "      quickchartButtonEl.classList.remove('colab-df-spinner');\n",
              "      quickchartButtonEl.classList.add('colab-df-quickchart-complete');\n",
              "    }\n",
              "    (() => {\n",
              "      let quickchartButtonEl =\n",
              "        document.querySelector('#df-5714c6b4-d709-4dd2-a2b6-74ecda906cbd button');\n",
              "      quickchartButtonEl.style.display =\n",
              "        google.colab.kernel.accessAllowed ? 'block' : 'none';\n",
              "    })();\n",
              "  </script>\n",
              "</div>\n",
              "\n",
              "    </div>\n",
              "  </div>\n"
            ],
            "application/vnd.google.colaboratory.intrinsic+json": {
              "type": "dataframe",
              "summary": "{\n  \"name\": \"marvel_df\",\n  \"rows\": 20,\n  \"fields\": [\n    {\n      \"column\": \"sex\",\n      \"properties\": {\n        \"dtype\": \"category\",\n        \"num_unique_values\": 2,\n        \"samples\": [\n          \"female\",\n          \"male\"\n        ],\n        \"semantic_type\": \"\",\n        \"description\": \"\"\n      }\n    },\n    {\n      \"column\": \"first_appearance\",\n      \"properties\": {\n        \"dtype\": \"number\",\n        \"std\": 8,\n        \"min\": 1939,\n        \"max\": 1975,\n        \"num_unique_values\": 9,\n        \"samples\": [\n          1964,\n          1941\n        ],\n        \"semantic_type\": \"\",\n        \"description\": \"\"\n      }\n    }\n  ]\n}"
            }
          },
          "metadata": {},
          "execution_count": 115
        }
      ]
    },
    {
      "cell_type": "markdown",
      "source": [
        "Drop 'Namor' and 'Hank Pym' rows\n"
      ],
      "metadata": {
        "id": "yFBlidmMGsjQ"
      }
    },
    {
      "cell_type": "code",
      "source": [
        "marvel_df.drop(index = [11,15])"
      ],
      "metadata": {
        "id": "i_06meFoGrc0",
        "colab": {
          "base_uri": "https://localhost:8080/",
          "height": 607
        },
        "outputId": "d3bc69d9-459e-4bab-8d71-330b1894e561"
      },
      "execution_count": 117,
      "outputs": [
        {
          "output_type": "execute_result",
          "data": {
            "text/plain": [
              "                name     sex  first_appearance\n",
              "0         Spider-Man    male              1962\n",
              "1    Captain America    male              1941\n",
              "2          Wolverine    male              1974\n",
              "3           Iron Man    male              1963\n",
              "4               Thor    male              1963\n",
              "5              Thing    male              1961\n",
              "6   Mister Fantastic    male              1961\n",
              "7               Hulk    male              1962\n",
              "8              Beast    male              1963\n",
              "9    Invisible Woman  female              1961\n",
              "10             Storm  female              1975\n",
              "12           Hawkeye    male              1964\n",
              "13         Daredevil    male              1964\n",
              "14    Doctor Strange    male              1963\n",
              "16     Scarlet Witch  female              1964\n",
              "17              Wasp  female              1963\n",
              "18       Black Widow  female              1964\n",
              "19            Vision    male              1968"
            ],
            "text/html": [
              "\n",
              "  <div id=\"df-d90c11bc-8b8b-4469-9a15-2040979beb7d\" class=\"colab-df-container\">\n",
              "    <div>\n",
              "<style scoped>\n",
              "    .dataframe tbody tr th:only-of-type {\n",
              "        vertical-align: middle;\n",
              "    }\n",
              "\n",
              "    .dataframe tbody tr th {\n",
              "        vertical-align: top;\n",
              "    }\n",
              "\n",
              "    .dataframe thead th {\n",
              "        text-align: right;\n",
              "    }\n",
              "</style>\n",
              "<table border=\"1\" class=\"dataframe\">\n",
              "  <thead>\n",
              "    <tr style=\"text-align: right;\">\n",
              "      <th></th>\n",
              "      <th>name</th>\n",
              "      <th>sex</th>\n",
              "      <th>first_appearance</th>\n",
              "    </tr>\n",
              "  </thead>\n",
              "  <tbody>\n",
              "    <tr>\n",
              "      <th>0</th>\n",
              "      <td>Spider-Man</td>\n",
              "      <td>male</td>\n",
              "      <td>1962</td>\n",
              "    </tr>\n",
              "    <tr>\n",
              "      <th>1</th>\n",
              "      <td>Captain America</td>\n",
              "      <td>male</td>\n",
              "      <td>1941</td>\n",
              "    </tr>\n",
              "    <tr>\n",
              "      <th>2</th>\n",
              "      <td>Wolverine</td>\n",
              "      <td>male</td>\n",
              "      <td>1974</td>\n",
              "    </tr>\n",
              "    <tr>\n",
              "      <th>3</th>\n",
              "      <td>Iron Man</td>\n",
              "      <td>male</td>\n",
              "      <td>1963</td>\n",
              "    </tr>\n",
              "    <tr>\n",
              "      <th>4</th>\n",
              "      <td>Thor</td>\n",
              "      <td>male</td>\n",
              "      <td>1963</td>\n",
              "    </tr>\n",
              "    <tr>\n",
              "      <th>5</th>\n",
              "      <td>Thing</td>\n",
              "      <td>male</td>\n",
              "      <td>1961</td>\n",
              "    </tr>\n",
              "    <tr>\n",
              "      <th>6</th>\n",
              "      <td>Mister Fantastic</td>\n",
              "      <td>male</td>\n",
              "      <td>1961</td>\n",
              "    </tr>\n",
              "    <tr>\n",
              "      <th>7</th>\n",
              "      <td>Hulk</td>\n",
              "      <td>male</td>\n",
              "      <td>1962</td>\n",
              "    </tr>\n",
              "    <tr>\n",
              "      <th>8</th>\n",
              "      <td>Beast</td>\n",
              "      <td>male</td>\n",
              "      <td>1963</td>\n",
              "    </tr>\n",
              "    <tr>\n",
              "      <th>9</th>\n",
              "      <td>Invisible Woman</td>\n",
              "      <td>female</td>\n",
              "      <td>1961</td>\n",
              "    </tr>\n",
              "    <tr>\n",
              "      <th>10</th>\n",
              "      <td>Storm</td>\n",
              "      <td>female</td>\n",
              "      <td>1975</td>\n",
              "    </tr>\n",
              "    <tr>\n",
              "      <th>12</th>\n",
              "      <td>Hawkeye</td>\n",
              "      <td>male</td>\n",
              "      <td>1964</td>\n",
              "    </tr>\n",
              "    <tr>\n",
              "      <th>13</th>\n",
              "      <td>Daredevil</td>\n",
              "      <td>male</td>\n",
              "      <td>1964</td>\n",
              "    </tr>\n",
              "    <tr>\n",
              "      <th>14</th>\n",
              "      <td>Doctor Strange</td>\n",
              "      <td>male</td>\n",
              "      <td>1963</td>\n",
              "    </tr>\n",
              "    <tr>\n",
              "      <th>16</th>\n",
              "      <td>Scarlet Witch</td>\n",
              "      <td>female</td>\n",
              "      <td>1964</td>\n",
              "    </tr>\n",
              "    <tr>\n",
              "      <th>17</th>\n",
              "      <td>Wasp</td>\n",
              "      <td>female</td>\n",
              "      <td>1963</td>\n",
              "    </tr>\n",
              "    <tr>\n",
              "      <th>18</th>\n",
              "      <td>Black Widow</td>\n",
              "      <td>female</td>\n",
              "      <td>1964</td>\n",
              "    </tr>\n",
              "    <tr>\n",
              "      <th>19</th>\n",
              "      <td>Vision</td>\n",
              "      <td>male</td>\n",
              "      <td>1968</td>\n",
              "    </tr>\n",
              "  </tbody>\n",
              "</table>\n",
              "</div>\n",
              "    <div class=\"colab-df-buttons\">\n",
              "\n",
              "  <div class=\"colab-df-container\">\n",
              "    <button class=\"colab-df-convert\" onclick=\"convertToInteractive('df-d90c11bc-8b8b-4469-9a15-2040979beb7d')\"\n",
              "            title=\"Convert this dataframe to an interactive table.\"\n",
              "            style=\"display:none;\">\n",
              "\n",
              "  <svg xmlns=\"http://www.w3.org/2000/svg\" height=\"24px\" viewBox=\"0 -960 960 960\">\n",
              "    <path d=\"M120-120v-720h720v720H120Zm60-500h600v-160H180v160Zm220 220h160v-160H400v160Zm0 220h160v-160H400v160ZM180-400h160v-160H180v160Zm440 0h160v-160H620v160ZM180-180h160v-160H180v160Zm440 0h160v-160H620v160Z\"/>\n",
              "  </svg>\n",
              "    </button>\n",
              "\n",
              "  <style>\n",
              "    .colab-df-container {\n",
              "      display:flex;\n",
              "      gap: 12px;\n",
              "    }\n",
              "\n",
              "    .colab-df-convert {\n",
              "      background-color: #E8F0FE;\n",
              "      border: none;\n",
              "      border-radius: 50%;\n",
              "      cursor: pointer;\n",
              "      display: none;\n",
              "      fill: #1967D2;\n",
              "      height: 32px;\n",
              "      padding: 0 0 0 0;\n",
              "      width: 32px;\n",
              "    }\n",
              "\n",
              "    .colab-df-convert:hover {\n",
              "      background-color: #E2EBFA;\n",
              "      box-shadow: 0px 1px 2px rgba(60, 64, 67, 0.3), 0px 1px 3px 1px rgba(60, 64, 67, 0.15);\n",
              "      fill: #174EA6;\n",
              "    }\n",
              "\n",
              "    .colab-df-buttons div {\n",
              "      margin-bottom: 4px;\n",
              "    }\n",
              "\n",
              "    [theme=dark] .colab-df-convert {\n",
              "      background-color: #3B4455;\n",
              "      fill: #D2E3FC;\n",
              "    }\n",
              "\n",
              "    [theme=dark] .colab-df-convert:hover {\n",
              "      background-color: #434B5C;\n",
              "      box-shadow: 0px 1px 3px 1px rgba(0, 0, 0, 0.15);\n",
              "      filter: drop-shadow(0px 1px 2px rgba(0, 0, 0, 0.3));\n",
              "      fill: #FFFFFF;\n",
              "    }\n",
              "  </style>\n",
              "\n",
              "    <script>\n",
              "      const buttonEl =\n",
              "        document.querySelector('#df-d90c11bc-8b8b-4469-9a15-2040979beb7d button.colab-df-convert');\n",
              "      buttonEl.style.display =\n",
              "        google.colab.kernel.accessAllowed ? 'block' : 'none';\n",
              "\n",
              "      async function convertToInteractive(key) {\n",
              "        const element = document.querySelector('#df-d90c11bc-8b8b-4469-9a15-2040979beb7d');\n",
              "        const dataTable =\n",
              "          await google.colab.kernel.invokeFunction('convertToInteractive',\n",
              "                                                    [key], {});\n",
              "        if (!dataTable) return;\n",
              "\n",
              "        const docLinkHtml = 'Like what you see? Visit the ' +\n",
              "          '<a target=\"_blank\" href=https://colab.research.google.com/notebooks/data_table.ipynb>data table notebook</a>'\n",
              "          + ' to learn more about interactive tables.';\n",
              "        element.innerHTML = '';\n",
              "        dataTable['output_type'] = 'display_data';\n",
              "        await google.colab.output.renderOutput(dataTable, element);\n",
              "        const docLink = document.createElement('div');\n",
              "        docLink.innerHTML = docLinkHtml;\n",
              "        element.appendChild(docLink);\n",
              "      }\n",
              "    </script>\n",
              "  </div>\n",
              "\n",
              "\n",
              "<div id=\"df-127185e1-666b-42c8-a3d0-d7a8a22bfbda\">\n",
              "  <button class=\"colab-df-quickchart\" onclick=\"quickchart('df-127185e1-666b-42c8-a3d0-d7a8a22bfbda')\"\n",
              "            title=\"Suggest charts\"\n",
              "            style=\"display:none;\">\n",
              "\n",
              "<svg xmlns=\"http://www.w3.org/2000/svg\" height=\"24px\"viewBox=\"0 0 24 24\"\n",
              "     width=\"24px\">\n",
              "    <g>\n",
              "        <path d=\"M19 3H5c-1.1 0-2 .9-2 2v14c0 1.1.9 2 2 2h14c1.1 0 2-.9 2-2V5c0-1.1-.9-2-2-2zM9 17H7v-7h2v7zm4 0h-2V7h2v10zm4 0h-2v-4h2v4z\"/>\n",
              "    </g>\n",
              "</svg>\n",
              "  </button>\n",
              "\n",
              "<style>\n",
              "  .colab-df-quickchart {\n",
              "      --bg-color: #E8F0FE;\n",
              "      --fill-color: #1967D2;\n",
              "      --hover-bg-color: #E2EBFA;\n",
              "      --hover-fill-color: #174EA6;\n",
              "      --disabled-fill-color: #AAA;\n",
              "      --disabled-bg-color: #DDD;\n",
              "  }\n",
              "\n",
              "  [theme=dark] .colab-df-quickchart {\n",
              "      --bg-color: #3B4455;\n",
              "      --fill-color: #D2E3FC;\n",
              "      --hover-bg-color: #434B5C;\n",
              "      --hover-fill-color: #FFFFFF;\n",
              "      --disabled-bg-color: #3B4455;\n",
              "      --disabled-fill-color: #666;\n",
              "  }\n",
              "\n",
              "  .colab-df-quickchart {\n",
              "    background-color: var(--bg-color);\n",
              "    border: none;\n",
              "    border-radius: 50%;\n",
              "    cursor: pointer;\n",
              "    display: none;\n",
              "    fill: var(--fill-color);\n",
              "    height: 32px;\n",
              "    padding: 0;\n",
              "    width: 32px;\n",
              "  }\n",
              "\n",
              "  .colab-df-quickchart:hover {\n",
              "    background-color: var(--hover-bg-color);\n",
              "    box-shadow: 0 1px 2px rgba(60, 64, 67, 0.3), 0 1px 3px 1px rgba(60, 64, 67, 0.15);\n",
              "    fill: var(--button-hover-fill-color);\n",
              "  }\n",
              "\n",
              "  .colab-df-quickchart-complete:disabled,\n",
              "  .colab-df-quickchart-complete:disabled:hover {\n",
              "    background-color: var(--disabled-bg-color);\n",
              "    fill: var(--disabled-fill-color);\n",
              "    box-shadow: none;\n",
              "  }\n",
              "\n",
              "  .colab-df-spinner {\n",
              "    border: 2px solid var(--fill-color);\n",
              "    border-color: transparent;\n",
              "    border-bottom-color: var(--fill-color);\n",
              "    animation:\n",
              "      spin 1s steps(1) infinite;\n",
              "  }\n",
              "\n",
              "  @keyframes spin {\n",
              "    0% {\n",
              "      border-color: transparent;\n",
              "      border-bottom-color: var(--fill-color);\n",
              "      border-left-color: var(--fill-color);\n",
              "    }\n",
              "    20% {\n",
              "      border-color: transparent;\n",
              "      border-left-color: var(--fill-color);\n",
              "      border-top-color: var(--fill-color);\n",
              "    }\n",
              "    30% {\n",
              "      border-color: transparent;\n",
              "      border-left-color: var(--fill-color);\n",
              "      border-top-color: var(--fill-color);\n",
              "      border-right-color: var(--fill-color);\n",
              "    }\n",
              "    40% {\n",
              "      border-color: transparent;\n",
              "      border-right-color: var(--fill-color);\n",
              "      border-top-color: var(--fill-color);\n",
              "    }\n",
              "    60% {\n",
              "      border-color: transparent;\n",
              "      border-right-color: var(--fill-color);\n",
              "    }\n",
              "    80% {\n",
              "      border-color: transparent;\n",
              "      border-right-color: var(--fill-color);\n",
              "      border-bottom-color: var(--fill-color);\n",
              "    }\n",
              "    90% {\n",
              "      border-color: transparent;\n",
              "      border-bottom-color: var(--fill-color);\n",
              "    }\n",
              "  }\n",
              "</style>\n",
              "\n",
              "  <script>\n",
              "    async function quickchart(key) {\n",
              "      const quickchartButtonEl =\n",
              "        document.querySelector('#' + key + ' button');\n",
              "      quickchartButtonEl.disabled = true;  // To prevent multiple clicks.\n",
              "      quickchartButtonEl.classList.add('colab-df-spinner');\n",
              "      try {\n",
              "        const charts = await google.colab.kernel.invokeFunction(\n",
              "            'suggestCharts', [key], {});\n",
              "      } catch (error) {\n",
              "        console.error('Error during call to suggestCharts:', error);\n",
              "      }\n",
              "      quickchartButtonEl.classList.remove('colab-df-spinner');\n",
              "      quickchartButtonEl.classList.add('colab-df-quickchart-complete');\n",
              "    }\n",
              "    (() => {\n",
              "      let quickchartButtonEl =\n",
              "        document.querySelector('#df-127185e1-666b-42c8-a3d0-d7a8a22bfbda button');\n",
              "      quickchartButtonEl.style.display =\n",
              "        google.colab.kernel.accessAllowed ? 'block' : 'none';\n",
              "    })();\n",
              "  </script>\n",
              "</div>\n",
              "\n",
              "    </div>\n",
              "  </div>\n"
            ],
            "application/vnd.google.colaboratory.intrinsic+json": {
              "type": "dataframe",
              "summary": "{\n  \"name\": \"marvel_df\",\n  \"rows\": 18,\n  \"fields\": [\n    {\n      \"column\": \"name\",\n      \"properties\": {\n        \"dtype\": \"string\",\n        \"num_unique_values\": 18,\n        \"samples\": [\n          \"Spider-Man\",\n          \"Captain America\",\n          \"Beast\"\n        ],\n        \"semantic_type\": \"\",\n        \"description\": \"\"\n      }\n    },\n    {\n      \"column\": \"sex\",\n      \"properties\": {\n        \"dtype\": \"category\",\n        \"num_unique_values\": 2,\n        \"samples\": [\n          \"female\",\n          \"male\"\n        ],\n        \"semantic_type\": \"\",\n        \"description\": \"\"\n      }\n    },\n    {\n      \"column\": \"first_appearance\",\n      \"properties\": {\n        \"dtype\": \"number\",\n        \"std\": 6,\n        \"min\": 1941,\n        \"max\": 1975,\n        \"num_unique_values\": 8,\n        \"samples\": [\n          1941,\n          1975\n        ],\n        \"semantic_type\": \"\",\n        \"description\": \"\"\n      }\n    }\n  ]\n}"
            }
          },
          "metadata": {},
          "execution_count": 117
        }
      ]
    },
    {
      "cell_type": "markdown",
      "source": [
        "**DataFrame selection, slicing and indexation**"
      ],
      "metadata": {
        "id": "EVaXSBEqGvGb"
      }
    },
    {
      "cell_type": "markdown",
      "source": [
        "Show the first 5 elements on marvel_df\\\n",
        "you can do it in many ways\n"
      ],
      "metadata": {
        "id": "6rx_tIpFG5-x"
      }
    },
    {
      "cell_type": "code",
      "source": [
        "marvel_df.head()"
      ],
      "metadata": {
        "id": "AaryJtvJHCCW",
        "colab": {
          "base_uri": "https://localhost:8080/",
          "height": 204
        },
        "outputId": "89ad54d5-b3d6-452f-9d52-d5678708620a"
      },
      "execution_count": 118,
      "outputs": [
        {
          "output_type": "execute_result",
          "data": {
            "text/plain": [
              "              name   sex  first_appearance\n",
              "0       Spider-Man  male              1962\n",
              "1  Captain America  male              1941\n",
              "2        Wolverine  male              1974\n",
              "3         Iron Man  male              1963\n",
              "4             Thor  male              1963"
            ],
            "text/html": [
              "\n",
              "  <div id=\"df-d1f2da5d-304a-4e74-b54f-864ba355324b\" class=\"colab-df-container\">\n",
              "    <div>\n",
              "<style scoped>\n",
              "    .dataframe tbody tr th:only-of-type {\n",
              "        vertical-align: middle;\n",
              "    }\n",
              "\n",
              "    .dataframe tbody tr th {\n",
              "        vertical-align: top;\n",
              "    }\n",
              "\n",
              "    .dataframe thead th {\n",
              "        text-align: right;\n",
              "    }\n",
              "</style>\n",
              "<table border=\"1\" class=\"dataframe\">\n",
              "  <thead>\n",
              "    <tr style=\"text-align: right;\">\n",
              "      <th></th>\n",
              "      <th>name</th>\n",
              "      <th>sex</th>\n",
              "      <th>first_appearance</th>\n",
              "    </tr>\n",
              "  </thead>\n",
              "  <tbody>\n",
              "    <tr>\n",
              "      <th>0</th>\n",
              "      <td>Spider-Man</td>\n",
              "      <td>male</td>\n",
              "      <td>1962</td>\n",
              "    </tr>\n",
              "    <tr>\n",
              "      <th>1</th>\n",
              "      <td>Captain America</td>\n",
              "      <td>male</td>\n",
              "      <td>1941</td>\n",
              "    </tr>\n",
              "    <tr>\n",
              "      <th>2</th>\n",
              "      <td>Wolverine</td>\n",
              "      <td>male</td>\n",
              "      <td>1974</td>\n",
              "    </tr>\n",
              "    <tr>\n",
              "      <th>3</th>\n",
              "      <td>Iron Man</td>\n",
              "      <td>male</td>\n",
              "      <td>1963</td>\n",
              "    </tr>\n",
              "    <tr>\n",
              "      <th>4</th>\n",
              "      <td>Thor</td>\n",
              "      <td>male</td>\n",
              "      <td>1963</td>\n",
              "    </tr>\n",
              "  </tbody>\n",
              "</table>\n",
              "</div>\n",
              "    <div class=\"colab-df-buttons\">\n",
              "\n",
              "  <div class=\"colab-df-container\">\n",
              "    <button class=\"colab-df-convert\" onclick=\"convertToInteractive('df-d1f2da5d-304a-4e74-b54f-864ba355324b')\"\n",
              "            title=\"Convert this dataframe to an interactive table.\"\n",
              "            style=\"display:none;\">\n",
              "\n",
              "  <svg xmlns=\"http://www.w3.org/2000/svg\" height=\"24px\" viewBox=\"0 -960 960 960\">\n",
              "    <path d=\"M120-120v-720h720v720H120Zm60-500h600v-160H180v160Zm220 220h160v-160H400v160Zm0 220h160v-160H400v160ZM180-400h160v-160H180v160Zm440 0h160v-160H620v160ZM180-180h160v-160H180v160Zm440 0h160v-160H620v160Z\"/>\n",
              "  </svg>\n",
              "    </button>\n",
              "\n",
              "  <style>\n",
              "    .colab-df-container {\n",
              "      display:flex;\n",
              "      gap: 12px;\n",
              "    }\n",
              "\n",
              "    .colab-df-convert {\n",
              "      background-color: #E8F0FE;\n",
              "      border: none;\n",
              "      border-radius: 50%;\n",
              "      cursor: pointer;\n",
              "      display: none;\n",
              "      fill: #1967D2;\n",
              "      height: 32px;\n",
              "      padding: 0 0 0 0;\n",
              "      width: 32px;\n",
              "    }\n",
              "\n",
              "    .colab-df-convert:hover {\n",
              "      background-color: #E2EBFA;\n",
              "      box-shadow: 0px 1px 2px rgba(60, 64, 67, 0.3), 0px 1px 3px 1px rgba(60, 64, 67, 0.15);\n",
              "      fill: #174EA6;\n",
              "    }\n",
              "\n",
              "    .colab-df-buttons div {\n",
              "      margin-bottom: 4px;\n",
              "    }\n",
              "\n",
              "    [theme=dark] .colab-df-convert {\n",
              "      background-color: #3B4455;\n",
              "      fill: #D2E3FC;\n",
              "    }\n",
              "\n",
              "    [theme=dark] .colab-df-convert:hover {\n",
              "      background-color: #434B5C;\n",
              "      box-shadow: 0px 1px 3px 1px rgba(0, 0, 0, 0.15);\n",
              "      filter: drop-shadow(0px 1px 2px rgba(0, 0, 0, 0.3));\n",
              "      fill: #FFFFFF;\n",
              "    }\n",
              "  </style>\n",
              "\n",
              "    <script>\n",
              "      const buttonEl =\n",
              "        document.querySelector('#df-d1f2da5d-304a-4e74-b54f-864ba355324b button.colab-df-convert');\n",
              "      buttonEl.style.display =\n",
              "        google.colab.kernel.accessAllowed ? 'block' : 'none';\n",
              "\n",
              "      async function convertToInteractive(key) {\n",
              "        const element = document.querySelector('#df-d1f2da5d-304a-4e74-b54f-864ba355324b');\n",
              "        const dataTable =\n",
              "          await google.colab.kernel.invokeFunction('convertToInteractive',\n",
              "                                                    [key], {});\n",
              "        if (!dataTable) return;\n",
              "\n",
              "        const docLinkHtml = 'Like what you see? Visit the ' +\n",
              "          '<a target=\"_blank\" href=https://colab.research.google.com/notebooks/data_table.ipynb>data table notebook</a>'\n",
              "          + ' to learn more about interactive tables.';\n",
              "        element.innerHTML = '';\n",
              "        dataTable['output_type'] = 'display_data';\n",
              "        await google.colab.output.renderOutput(dataTable, element);\n",
              "        const docLink = document.createElement('div');\n",
              "        docLink.innerHTML = docLinkHtml;\n",
              "        element.appendChild(docLink);\n",
              "      }\n",
              "    </script>\n",
              "  </div>\n",
              "\n",
              "\n",
              "<div id=\"df-57bf15e6-dae9-48ba-a147-06dc9e8cb7a2\">\n",
              "  <button class=\"colab-df-quickchart\" onclick=\"quickchart('df-57bf15e6-dae9-48ba-a147-06dc9e8cb7a2')\"\n",
              "            title=\"Suggest charts\"\n",
              "            style=\"display:none;\">\n",
              "\n",
              "<svg xmlns=\"http://www.w3.org/2000/svg\" height=\"24px\"viewBox=\"0 0 24 24\"\n",
              "     width=\"24px\">\n",
              "    <g>\n",
              "        <path d=\"M19 3H5c-1.1 0-2 .9-2 2v14c0 1.1.9 2 2 2h14c1.1 0 2-.9 2-2V5c0-1.1-.9-2-2-2zM9 17H7v-7h2v7zm4 0h-2V7h2v10zm4 0h-2v-4h2v4z\"/>\n",
              "    </g>\n",
              "</svg>\n",
              "  </button>\n",
              "\n",
              "<style>\n",
              "  .colab-df-quickchart {\n",
              "      --bg-color: #E8F0FE;\n",
              "      --fill-color: #1967D2;\n",
              "      --hover-bg-color: #E2EBFA;\n",
              "      --hover-fill-color: #174EA6;\n",
              "      --disabled-fill-color: #AAA;\n",
              "      --disabled-bg-color: #DDD;\n",
              "  }\n",
              "\n",
              "  [theme=dark] .colab-df-quickchart {\n",
              "      --bg-color: #3B4455;\n",
              "      --fill-color: #D2E3FC;\n",
              "      --hover-bg-color: #434B5C;\n",
              "      --hover-fill-color: #FFFFFF;\n",
              "      --disabled-bg-color: #3B4455;\n",
              "      --disabled-fill-color: #666;\n",
              "  }\n",
              "\n",
              "  .colab-df-quickchart {\n",
              "    background-color: var(--bg-color);\n",
              "    border: none;\n",
              "    border-radius: 50%;\n",
              "    cursor: pointer;\n",
              "    display: none;\n",
              "    fill: var(--fill-color);\n",
              "    height: 32px;\n",
              "    padding: 0;\n",
              "    width: 32px;\n",
              "  }\n",
              "\n",
              "  .colab-df-quickchart:hover {\n",
              "    background-color: var(--hover-bg-color);\n",
              "    box-shadow: 0 1px 2px rgba(60, 64, 67, 0.3), 0 1px 3px 1px rgba(60, 64, 67, 0.15);\n",
              "    fill: var(--button-hover-fill-color);\n",
              "  }\n",
              "\n",
              "  .colab-df-quickchart-complete:disabled,\n",
              "  .colab-df-quickchart-complete:disabled:hover {\n",
              "    background-color: var(--disabled-bg-color);\n",
              "    fill: var(--disabled-fill-color);\n",
              "    box-shadow: none;\n",
              "  }\n",
              "\n",
              "  .colab-df-spinner {\n",
              "    border: 2px solid var(--fill-color);\n",
              "    border-color: transparent;\n",
              "    border-bottom-color: var(--fill-color);\n",
              "    animation:\n",
              "      spin 1s steps(1) infinite;\n",
              "  }\n",
              "\n",
              "  @keyframes spin {\n",
              "    0% {\n",
              "      border-color: transparent;\n",
              "      border-bottom-color: var(--fill-color);\n",
              "      border-left-color: var(--fill-color);\n",
              "    }\n",
              "    20% {\n",
              "      border-color: transparent;\n",
              "      border-left-color: var(--fill-color);\n",
              "      border-top-color: var(--fill-color);\n",
              "    }\n",
              "    30% {\n",
              "      border-color: transparent;\n",
              "      border-left-color: var(--fill-color);\n",
              "      border-top-color: var(--fill-color);\n",
              "      border-right-color: var(--fill-color);\n",
              "    }\n",
              "    40% {\n",
              "      border-color: transparent;\n",
              "      border-right-color: var(--fill-color);\n",
              "      border-top-color: var(--fill-color);\n",
              "    }\n",
              "    60% {\n",
              "      border-color: transparent;\n",
              "      border-right-color: var(--fill-color);\n",
              "    }\n",
              "    80% {\n",
              "      border-color: transparent;\n",
              "      border-right-color: var(--fill-color);\n",
              "      border-bottom-color: var(--fill-color);\n",
              "    }\n",
              "    90% {\n",
              "      border-color: transparent;\n",
              "      border-bottom-color: var(--fill-color);\n",
              "    }\n",
              "  }\n",
              "</style>\n",
              "\n",
              "  <script>\n",
              "    async function quickchart(key) {\n",
              "      const quickchartButtonEl =\n",
              "        document.querySelector('#' + key + ' button');\n",
              "      quickchartButtonEl.disabled = true;  // To prevent multiple clicks.\n",
              "      quickchartButtonEl.classList.add('colab-df-spinner');\n",
              "      try {\n",
              "        const charts = await google.colab.kernel.invokeFunction(\n",
              "            'suggestCharts', [key], {});\n",
              "      } catch (error) {\n",
              "        console.error('Error during call to suggestCharts:', error);\n",
              "      }\n",
              "      quickchartButtonEl.classList.remove('colab-df-spinner');\n",
              "      quickchartButtonEl.classList.add('colab-df-quickchart-complete');\n",
              "    }\n",
              "    (() => {\n",
              "      let quickchartButtonEl =\n",
              "        document.querySelector('#df-57bf15e6-dae9-48ba-a147-06dc9e8cb7a2 button');\n",
              "      quickchartButtonEl.style.display =\n",
              "        google.colab.kernel.accessAllowed ? 'block' : 'none';\n",
              "    })();\n",
              "  </script>\n",
              "</div>\n",
              "\n",
              "    </div>\n",
              "  </div>\n"
            ],
            "application/vnd.google.colaboratory.intrinsic+json": {
              "type": "dataframe",
              "variable_name": "marvel_df",
              "summary": "{\n  \"name\": \"marvel_df\",\n  \"rows\": 20,\n  \"fields\": [\n    {\n      \"column\": \"name\",\n      \"properties\": {\n        \"dtype\": \"string\",\n        \"num_unique_values\": 20,\n        \"samples\": [\n          \"Spider-Man\",\n          \"Wasp\",\n          \"Hank Pym\"\n        ],\n        \"semantic_type\": \"\",\n        \"description\": \"\"\n      }\n    },\n    {\n      \"column\": \"sex\",\n      \"properties\": {\n        \"dtype\": \"category\",\n        \"num_unique_values\": 2,\n        \"samples\": [\n          \"female\",\n          \"male\"\n        ],\n        \"semantic_type\": \"\",\n        \"description\": \"\"\n      }\n    },\n    {\n      \"column\": \"first_appearance\",\n      \"properties\": {\n        \"dtype\": \"number\",\n        \"std\": 8,\n        \"min\": 1939,\n        \"max\": 1975,\n        \"num_unique_values\": 9,\n        \"samples\": [\n          1964,\n          1941\n        ],\n        \"semantic_type\": \"\",\n        \"description\": \"\"\n      }\n    }\n  ]\n}"
            }
          },
          "metadata": {},
          "execution_count": 118
        }
      ]
    },
    {
      "cell_type": "markdown",
      "source": [
        "Show the last 5 elements on marvel_df\n"
      ],
      "metadata": {
        "id": "vliP0iF5HFG-"
      }
    },
    {
      "cell_type": "code",
      "source": [
        "marvel_df.tail()"
      ],
      "metadata": {
        "id": "OSdKoC1bHF6e",
        "colab": {
          "base_uri": "https://localhost:8080/",
          "height": 204
        },
        "outputId": "60bd663c-3624-4f4a-bff5-d3ff28e7c411"
      },
      "execution_count": 119,
      "outputs": [
        {
          "output_type": "execute_result",
          "data": {
            "text/plain": [
              "             name     sex  first_appearance\n",
              "15       Hank Pym    male              1962\n",
              "16  Scarlet Witch  female              1964\n",
              "17           Wasp  female              1963\n",
              "18    Black Widow  female              1964\n",
              "19         Vision    male              1968"
            ],
            "text/html": [
              "\n",
              "  <div id=\"df-cea3c2f4-24f8-472a-829d-ec71525a336e\" class=\"colab-df-container\">\n",
              "    <div>\n",
              "<style scoped>\n",
              "    .dataframe tbody tr th:only-of-type {\n",
              "        vertical-align: middle;\n",
              "    }\n",
              "\n",
              "    .dataframe tbody tr th {\n",
              "        vertical-align: top;\n",
              "    }\n",
              "\n",
              "    .dataframe thead th {\n",
              "        text-align: right;\n",
              "    }\n",
              "</style>\n",
              "<table border=\"1\" class=\"dataframe\">\n",
              "  <thead>\n",
              "    <tr style=\"text-align: right;\">\n",
              "      <th></th>\n",
              "      <th>name</th>\n",
              "      <th>sex</th>\n",
              "      <th>first_appearance</th>\n",
              "    </tr>\n",
              "  </thead>\n",
              "  <tbody>\n",
              "    <tr>\n",
              "      <th>15</th>\n",
              "      <td>Hank Pym</td>\n",
              "      <td>male</td>\n",
              "      <td>1962</td>\n",
              "    </tr>\n",
              "    <tr>\n",
              "      <th>16</th>\n",
              "      <td>Scarlet Witch</td>\n",
              "      <td>female</td>\n",
              "      <td>1964</td>\n",
              "    </tr>\n",
              "    <tr>\n",
              "      <th>17</th>\n",
              "      <td>Wasp</td>\n",
              "      <td>female</td>\n",
              "      <td>1963</td>\n",
              "    </tr>\n",
              "    <tr>\n",
              "      <th>18</th>\n",
              "      <td>Black Widow</td>\n",
              "      <td>female</td>\n",
              "      <td>1964</td>\n",
              "    </tr>\n",
              "    <tr>\n",
              "      <th>19</th>\n",
              "      <td>Vision</td>\n",
              "      <td>male</td>\n",
              "      <td>1968</td>\n",
              "    </tr>\n",
              "  </tbody>\n",
              "</table>\n",
              "</div>\n",
              "    <div class=\"colab-df-buttons\">\n",
              "\n",
              "  <div class=\"colab-df-container\">\n",
              "    <button class=\"colab-df-convert\" onclick=\"convertToInteractive('df-cea3c2f4-24f8-472a-829d-ec71525a336e')\"\n",
              "            title=\"Convert this dataframe to an interactive table.\"\n",
              "            style=\"display:none;\">\n",
              "\n",
              "  <svg xmlns=\"http://www.w3.org/2000/svg\" height=\"24px\" viewBox=\"0 -960 960 960\">\n",
              "    <path d=\"M120-120v-720h720v720H120Zm60-500h600v-160H180v160Zm220 220h160v-160H400v160Zm0 220h160v-160H400v160ZM180-400h160v-160H180v160Zm440 0h160v-160H620v160ZM180-180h160v-160H180v160Zm440 0h160v-160H620v160Z\"/>\n",
              "  </svg>\n",
              "    </button>\n",
              "\n",
              "  <style>\n",
              "    .colab-df-container {\n",
              "      display:flex;\n",
              "      gap: 12px;\n",
              "    }\n",
              "\n",
              "    .colab-df-convert {\n",
              "      background-color: #E8F0FE;\n",
              "      border: none;\n",
              "      border-radius: 50%;\n",
              "      cursor: pointer;\n",
              "      display: none;\n",
              "      fill: #1967D2;\n",
              "      height: 32px;\n",
              "      padding: 0 0 0 0;\n",
              "      width: 32px;\n",
              "    }\n",
              "\n",
              "    .colab-df-convert:hover {\n",
              "      background-color: #E2EBFA;\n",
              "      box-shadow: 0px 1px 2px rgba(60, 64, 67, 0.3), 0px 1px 3px 1px rgba(60, 64, 67, 0.15);\n",
              "      fill: #174EA6;\n",
              "    }\n",
              "\n",
              "    .colab-df-buttons div {\n",
              "      margin-bottom: 4px;\n",
              "    }\n",
              "\n",
              "    [theme=dark] .colab-df-convert {\n",
              "      background-color: #3B4455;\n",
              "      fill: #D2E3FC;\n",
              "    }\n",
              "\n",
              "    [theme=dark] .colab-df-convert:hover {\n",
              "      background-color: #434B5C;\n",
              "      box-shadow: 0px 1px 3px 1px rgba(0, 0, 0, 0.15);\n",
              "      filter: drop-shadow(0px 1px 2px rgba(0, 0, 0, 0.3));\n",
              "      fill: #FFFFFF;\n",
              "    }\n",
              "  </style>\n",
              "\n",
              "    <script>\n",
              "      const buttonEl =\n",
              "        document.querySelector('#df-cea3c2f4-24f8-472a-829d-ec71525a336e button.colab-df-convert');\n",
              "      buttonEl.style.display =\n",
              "        google.colab.kernel.accessAllowed ? 'block' : 'none';\n",
              "\n",
              "      async function convertToInteractive(key) {\n",
              "        const element = document.querySelector('#df-cea3c2f4-24f8-472a-829d-ec71525a336e');\n",
              "        const dataTable =\n",
              "          await google.colab.kernel.invokeFunction('convertToInteractive',\n",
              "                                                    [key], {});\n",
              "        if (!dataTable) return;\n",
              "\n",
              "        const docLinkHtml = 'Like what you see? Visit the ' +\n",
              "          '<a target=\"_blank\" href=https://colab.research.google.com/notebooks/data_table.ipynb>data table notebook</a>'\n",
              "          + ' to learn more about interactive tables.';\n",
              "        element.innerHTML = '';\n",
              "        dataTable['output_type'] = 'display_data';\n",
              "        await google.colab.output.renderOutput(dataTable, element);\n",
              "        const docLink = document.createElement('div');\n",
              "        docLink.innerHTML = docLinkHtml;\n",
              "        element.appendChild(docLink);\n",
              "      }\n",
              "    </script>\n",
              "  </div>\n",
              "\n",
              "\n",
              "<div id=\"df-dc3fb6fd-3ceb-459a-a04b-d2d7fdebaa0b\">\n",
              "  <button class=\"colab-df-quickchart\" onclick=\"quickchart('df-dc3fb6fd-3ceb-459a-a04b-d2d7fdebaa0b')\"\n",
              "            title=\"Suggest charts\"\n",
              "            style=\"display:none;\">\n",
              "\n",
              "<svg xmlns=\"http://www.w3.org/2000/svg\" height=\"24px\"viewBox=\"0 0 24 24\"\n",
              "     width=\"24px\">\n",
              "    <g>\n",
              "        <path d=\"M19 3H5c-1.1 0-2 .9-2 2v14c0 1.1.9 2 2 2h14c1.1 0 2-.9 2-2V5c0-1.1-.9-2-2-2zM9 17H7v-7h2v7zm4 0h-2V7h2v10zm4 0h-2v-4h2v4z\"/>\n",
              "    </g>\n",
              "</svg>\n",
              "  </button>\n",
              "\n",
              "<style>\n",
              "  .colab-df-quickchart {\n",
              "      --bg-color: #E8F0FE;\n",
              "      --fill-color: #1967D2;\n",
              "      --hover-bg-color: #E2EBFA;\n",
              "      --hover-fill-color: #174EA6;\n",
              "      --disabled-fill-color: #AAA;\n",
              "      --disabled-bg-color: #DDD;\n",
              "  }\n",
              "\n",
              "  [theme=dark] .colab-df-quickchart {\n",
              "      --bg-color: #3B4455;\n",
              "      --fill-color: #D2E3FC;\n",
              "      --hover-bg-color: #434B5C;\n",
              "      --hover-fill-color: #FFFFFF;\n",
              "      --disabled-bg-color: #3B4455;\n",
              "      --disabled-fill-color: #666;\n",
              "  }\n",
              "\n",
              "  .colab-df-quickchart {\n",
              "    background-color: var(--bg-color);\n",
              "    border: none;\n",
              "    border-radius: 50%;\n",
              "    cursor: pointer;\n",
              "    display: none;\n",
              "    fill: var(--fill-color);\n",
              "    height: 32px;\n",
              "    padding: 0;\n",
              "    width: 32px;\n",
              "  }\n",
              "\n",
              "  .colab-df-quickchart:hover {\n",
              "    background-color: var(--hover-bg-color);\n",
              "    box-shadow: 0 1px 2px rgba(60, 64, 67, 0.3), 0 1px 3px 1px rgba(60, 64, 67, 0.15);\n",
              "    fill: var(--button-hover-fill-color);\n",
              "  }\n",
              "\n",
              "  .colab-df-quickchart-complete:disabled,\n",
              "  .colab-df-quickchart-complete:disabled:hover {\n",
              "    background-color: var(--disabled-bg-color);\n",
              "    fill: var(--disabled-fill-color);\n",
              "    box-shadow: none;\n",
              "  }\n",
              "\n",
              "  .colab-df-spinner {\n",
              "    border: 2px solid var(--fill-color);\n",
              "    border-color: transparent;\n",
              "    border-bottom-color: var(--fill-color);\n",
              "    animation:\n",
              "      spin 1s steps(1) infinite;\n",
              "  }\n",
              "\n",
              "  @keyframes spin {\n",
              "    0% {\n",
              "      border-color: transparent;\n",
              "      border-bottom-color: var(--fill-color);\n",
              "      border-left-color: var(--fill-color);\n",
              "    }\n",
              "    20% {\n",
              "      border-color: transparent;\n",
              "      border-left-color: var(--fill-color);\n",
              "      border-top-color: var(--fill-color);\n",
              "    }\n",
              "    30% {\n",
              "      border-color: transparent;\n",
              "      border-left-color: var(--fill-color);\n",
              "      border-top-color: var(--fill-color);\n",
              "      border-right-color: var(--fill-color);\n",
              "    }\n",
              "    40% {\n",
              "      border-color: transparent;\n",
              "      border-right-color: var(--fill-color);\n",
              "      border-top-color: var(--fill-color);\n",
              "    }\n",
              "    60% {\n",
              "      border-color: transparent;\n",
              "      border-right-color: var(--fill-color);\n",
              "    }\n",
              "    80% {\n",
              "      border-color: transparent;\n",
              "      border-right-color: var(--fill-color);\n",
              "      border-bottom-color: var(--fill-color);\n",
              "    }\n",
              "    90% {\n",
              "      border-color: transparent;\n",
              "      border-bottom-color: var(--fill-color);\n",
              "    }\n",
              "  }\n",
              "</style>\n",
              "\n",
              "  <script>\n",
              "    async function quickchart(key) {\n",
              "      const quickchartButtonEl =\n",
              "        document.querySelector('#' + key + ' button');\n",
              "      quickchartButtonEl.disabled = true;  // To prevent multiple clicks.\n",
              "      quickchartButtonEl.classList.add('colab-df-spinner');\n",
              "      try {\n",
              "        const charts = await google.colab.kernel.invokeFunction(\n",
              "            'suggestCharts', [key], {});\n",
              "      } catch (error) {\n",
              "        console.error('Error during call to suggestCharts:', error);\n",
              "      }\n",
              "      quickchartButtonEl.classList.remove('colab-df-spinner');\n",
              "      quickchartButtonEl.classList.add('colab-df-quickchart-complete');\n",
              "    }\n",
              "    (() => {\n",
              "      let quickchartButtonEl =\n",
              "        document.querySelector('#df-dc3fb6fd-3ceb-459a-a04b-d2d7fdebaa0b button');\n",
              "      quickchartButtonEl.style.display =\n",
              "        google.colab.kernel.accessAllowed ? 'block' : 'none';\n",
              "    })();\n",
              "  </script>\n",
              "</div>\n",
              "\n",
              "    </div>\n",
              "  </div>\n"
            ],
            "application/vnd.google.colaboratory.intrinsic+json": {
              "type": "dataframe",
              "summary": "{\n  \"name\": \"marvel_df\",\n  \"rows\": 5,\n  \"fields\": [\n    {\n      \"column\": \"name\",\n      \"properties\": {\n        \"dtype\": \"string\",\n        \"num_unique_values\": 5,\n        \"samples\": [\n          \"Scarlet Witch\",\n          \"Vision\",\n          \"Wasp\"\n        ],\n        \"semantic_type\": \"\",\n        \"description\": \"\"\n      }\n    },\n    {\n      \"column\": \"sex\",\n      \"properties\": {\n        \"dtype\": \"category\",\n        \"num_unique_values\": 2,\n        \"samples\": [\n          \"female\",\n          \"male\"\n        ],\n        \"semantic_type\": \"\",\n        \"description\": \"\"\n      }\n    },\n    {\n      \"column\": \"first_appearance\",\n      \"properties\": {\n        \"dtype\": \"number\",\n        \"std\": 2,\n        \"min\": 1962,\n        \"max\": 1968,\n        \"num_unique_values\": 4,\n        \"samples\": [\n          1964,\n          1968\n        ],\n        \"semantic_type\": \"\",\n        \"description\": \"\"\n      }\n    }\n  ]\n}"
            }
          },
          "metadata": {},
          "execution_count": 119
        }
      ]
    },
    {
      "cell_type": "markdown",
      "source": [
        "Show just the sex of the first 5 elements on marvel_df\n"
      ],
      "metadata": {
        "id": "wudebhkCHGHp"
      }
    },
    {
      "cell_type": "code",
      "source": [
        "marvel_df[\"sex\"].head()"
      ],
      "metadata": {
        "id": "E1tVdY-vHIpS",
        "colab": {
          "base_uri": "https://localhost:8080/",
          "height": 238
        },
        "outputId": "fa37a782-9db6-4926-85ad-287c08c9cf47"
      },
      "execution_count": 120,
      "outputs": [
        {
          "output_type": "execute_result",
          "data": {
            "text/plain": [
              "0    male\n",
              "1    male\n",
              "2    male\n",
              "3    male\n",
              "4    male\n",
              "Name: sex, dtype: object"
            ],
            "text/html": [
              "<div>\n",
              "<style scoped>\n",
              "    .dataframe tbody tr th:only-of-type {\n",
              "        vertical-align: middle;\n",
              "    }\n",
              "\n",
              "    .dataframe tbody tr th {\n",
              "        vertical-align: top;\n",
              "    }\n",
              "\n",
              "    .dataframe thead th {\n",
              "        text-align: right;\n",
              "    }\n",
              "</style>\n",
              "<table border=\"1\" class=\"dataframe\">\n",
              "  <thead>\n",
              "    <tr style=\"text-align: right;\">\n",
              "      <th></th>\n",
              "      <th>sex</th>\n",
              "    </tr>\n",
              "  </thead>\n",
              "  <tbody>\n",
              "    <tr>\n",
              "      <th>0</th>\n",
              "      <td>male</td>\n",
              "    </tr>\n",
              "    <tr>\n",
              "      <th>1</th>\n",
              "      <td>male</td>\n",
              "    </tr>\n",
              "    <tr>\n",
              "      <th>2</th>\n",
              "      <td>male</td>\n",
              "    </tr>\n",
              "    <tr>\n",
              "      <th>3</th>\n",
              "      <td>male</td>\n",
              "    </tr>\n",
              "    <tr>\n",
              "      <th>4</th>\n",
              "      <td>male</td>\n",
              "    </tr>\n",
              "  </tbody>\n",
              "</table>\n",
              "</div><br><label><b>dtype:</b> object</label>"
            ]
          },
          "metadata": {},
          "execution_count": 120
        }
      ]
    },
    {
      "cell_type": "markdown",
      "source": [
        "Show the first_appearance of all middle elements on marvel_df\n"
      ],
      "metadata": {
        "id": "bzQ0x_8zHI3T"
      }
    },
    {
      "cell_type": "code",
      "source": [
        "marvel_df[\"first_appearance\"].iloc[5:15]"
      ],
      "metadata": {
        "id": "1kBrf8L7HK71",
        "colab": {
          "base_uri": "https://localhost:8080/",
          "height": 393
        },
        "outputId": "08644492-12d1-4fa9-f335-80d5018315ac"
      },
      "execution_count": 121,
      "outputs": [
        {
          "output_type": "execute_result",
          "data": {
            "text/plain": [
              "5     1961\n",
              "6     1961\n",
              "7     1962\n",
              "8     1963\n",
              "9     1961\n",
              "10    1975\n",
              "11    1939\n",
              "12    1964\n",
              "13    1964\n",
              "14    1963\n",
              "Name: first_appearance, dtype: int64"
            ],
            "text/html": [
              "<div>\n",
              "<style scoped>\n",
              "    .dataframe tbody tr th:only-of-type {\n",
              "        vertical-align: middle;\n",
              "    }\n",
              "\n",
              "    .dataframe tbody tr th {\n",
              "        vertical-align: top;\n",
              "    }\n",
              "\n",
              "    .dataframe thead th {\n",
              "        text-align: right;\n",
              "    }\n",
              "</style>\n",
              "<table border=\"1\" class=\"dataframe\">\n",
              "  <thead>\n",
              "    <tr style=\"text-align: right;\">\n",
              "      <th></th>\n",
              "      <th>first_appearance</th>\n",
              "    </tr>\n",
              "  </thead>\n",
              "  <tbody>\n",
              "    <tr>\n",
              "      <th>5</th>\n",
              "      <td>1961</td>\n",
              "    </tr>\n",
              "    <tr>\n",
              "      <th>6</th>\n",
              "      <td>1961</td>\n",
              "    </tr>\n",
              "    <tr>\n",
              "      <th>7</th>\n",
              "      <td>1962</td>\n",
              "    </tr>\n",
              "    <tr>\n",
              "      <th>8</th>\n",
              "      <td>1963</td>\n",
              "    </tr>\n",
              "    <tr>\n",
              "      <th>9</th>\n",
              "      <td>1961</td>\n",
              "    </tr>\n",
              "    <tr>\n",
              "      <th>10</th>\n",
              "      <td>1975</td>\n",
              "    </tr>\n",
              "    <tr>\n",
              "      <th>11</th>\n",
              "      <td>1939</td>\n",
              "    </tr>\n",
              "    <tr>\n",
              "      <th>12</th>\n",
              "      <td>1964</td>\n",
              "    </tr>\n",
              "    <tr>\n",
              "      <th>13</th>\n",
              "      <td>1964</td>\n",
              "    </tr>\n",
              "    <tr>\n",
              "      <th>14</th>\n",
              "      <td>1963</td>\n",
              "    </tr>\n",
              "  </tbody>\n",
              "</table>\n",
              "</div><br><label><b>dtype:</b> int64</label>"
            ]
          },
          "metadata": {},
          "execution_count": 121
        }
      ]
    },
    {
      "cell_type": "markdown",
      "source": [
        "Show the first and last elements on marvel_df\n"
      ],
      "metadata": {
        "id": "14xvaGHsHLKi"
      }
    },
    {
      "cell_type": "code",
      "source": [
        "marvel_df.iloc[0]"
      ],
      "metadata": {
        "id": "lPXLftYXHNYA",
        "colab": {
          "base_uri": "https://localhost:8080/"
        },
        "outputId": "6f69b20a-ec23-4244-be46-d7f092e57da4"
      },
      "execution_count": 134,
      "outputs": [
        {
          "output_type": "execute_result",
          "data": {
            "text/plain": [
              "(name                Spider-Man\n",
              " sex                       male\n",
              " first_appearance          1962\n",
              " Name: 0, dtype: object,\n",
              " [19])"
            ]
          },
          "metadata": {},
          "execution_count": 134
        }
      ]
    },
    {
      "cell_type": "code",
      "source": [
        "marvel_df.iloc[19]"
      ],
      "metadata": {
        "colab": {
          "base_uri": "https://localhost:8080/",
          "height": 176
        },
        "id": "NtyDh67mq89-",
        "outputId": "e865f832-a406-4112-ed52-29bb4f79efa0"
      },
      "execution_count": 135,
      "outputs": [
        {
          "output_type": "execute_result",
          "data": {
            "text/plain": [
              "name                Vision\n",
              "sex                   male\n",
              "first_appearance      1968\n",
              "Name: 19, dtype: object"
            ],
            "text/html": [
              "<div>\n",
              "<style scoped>\n",
              "    .dataframe tbody tr th:only-of-type {\n",
              "        vertical-align: middle;\n",
              "    }\n",
              "\n",
              "    .dataframe tbody tr th {\n",
              "        vertical-align: top;\n",
              "    }\n",
              "\n",
              "    .dataframe thead th {\n",
              "        text-align: right;\n",
              "    }\n",
              "</style>\n",
              "<table border=\"1\" class=\"dataframe\">\n",
              "  <thead>\n",
              "    <tr style=\"text-align: right;\">\n",
              "      <th></th>\n",
              "      <th>19</th>\n",
              "    </tr>\n",
              "  </thead>\n",
              "  <tbody>\n",
              "    <tr>\n",
              "      <th>name</th>\n",
              "      <td>Vision</td>\n",
              "    </tr>\n",
              "    <tr>\n",
              "      <th>sex</th>\n",
              "      <td>male</td>\n",
              "    </tr>\n",
              "    <tr>\n",
              "      <th>first_appearance</th>\n",
              "      <td>1968</td>\n",
              "    </tr>\n",
              "  </tbody>\n",
              "</table>\n",
              "</div><br><label><b>dtype:</b> object</label>"
            ]
          },
          "metadata": {},
          "execution_count": 135
        }
      ]
    },
    {
      "cell_type": "markdown",
      "source": [
        "**DataFrame manipulation and operations**"
      ],
      "metadata": {
        "id": "AlZwRFUwHNkZ"
      }
    },
    {
      "cell_type": "markdown",
      "source": [
        "Modify the first_appearance of 'Vision' to year 1964\n"
      ],
      "metadata": {
        "id": "DKkPvwUqHUex"
      }
    },
    {
      "cell_type": "code",
      "source": [
        "marvel_df.loc[\"Vision\",\"first_appearance\"] = 1964"
      ],
      "metadata": {
        "id": "F2qMqJbVHXgK"
      },
      "execution_count": 140,
      "outputs": []
    },
    {
      "cell_type": "markdown",
      "source": [
        "Add a new column to marvel_df called 'years_since' with the years since first_appearance.\\\n",
        "hint: values would be 2024 - coulmn year\n"
      ],
      "metadata": {
        "id": "S5EvMnuMHWUQ"
      }
    },
    {
      "cell_type": "code",
      "source": [
        "marvel_df[\"years_since\"] = 2024 - marvel_df[\"first_appearance\"]"
      ],
      "metadata": {
        "id": "A89uFuvHHh_-"
      },
      "execution_count": 143,
      "outputs": []
    },
    {
      "cell_type": "markdown",
      "source": [
        "**DataFrame summary statistics**"
      ],
      "metadata": {
        "id": "8ozUmak_Hici"
      }
    },
    {
      "cell_type": "markdown",
      "source": [
        "Show basic statistics of marvel_df\\\n",
        "hint: describe"
      ],
      "metadata": {
        "id": "BA7E4P03Hp4K"
      }
    },
    {
      "cell_type": "code",
      "source": [
        "marvel_df.describe()"
      ],
      "metadata": {
        "id": "5Nfqdo3hHxh8",
        "colab": {
          "base_uri": "https://localhost:8080/",
          "height": 297
        },
        "outputId": "87f68ba9-da5a-4843-a1f9-0a67f4621c6f"
      },
      "execution_count": 144,
      "outputs": [
        {
          "output_type": "execute_result",
          "data": {
            "text/plain": [
              "       first_appearance  years_since\n",
              "count         21.000000    21.000000\n",
              "mean        1961.952381    62.047619\n",
              "std            8.206560     8.206560\n",
              "min         1939.000000    49.000000\n",
              "25%         1962.000000    60.000000\n",
              "50%         1963.000000    61.000000\n",
              "75%         1964.000000    62.000000\n",
              "max         1975.000000    85.000000"
            ],
            "text/html": [
              "\n",
              "  <div id=\"df-b5b5b9a0-ed63-49ae-8234-5b854e8f709f\" class=\"colab-df-container\">\n",
              "    <div>\n",
              "<style scoped>\n",
              "    .dataframe tbody tr th:only-of-type {\n",
              "        vertical-align: middle;\n",
              "    }\n",
              "\n",
              "    .dataframe tbody tr th {\n",
              "        vertical-align: top;\n",
              "    }\n",
              "\n",
              "    .dataframe thead th {\n",
              "        text-align: right;\n",
              "    }\n",
              "</style>\n",
              "<table border=\"1\" class=\"dataframe\">\n",
              "  <thead>\n",
              "    <tr style=\"text-align: right;\">\n",
              "      <th></th>\n",
              "      <th>first_appearance</th>\n",
              "      <th>years_since</th>\n",
              "    </tr>\n",
              "  </thead>\n",
              "  <tbody>\n",
              "    <tr>\n",
              "      <th>count</th>\n",
              "      <td>21.000000</td>\n",
              "      <td>21.000000</td>\n",
              "    </tr>\n",
              "    <tr>\n",
              "      <th>mean</th>\n",
              "      <td>1961.952381</td>\n",
              "      <td>62.047619</td>\n",
              "    </tr>\n",
              "    <tr>\n",
              "      <th>std</th>\n",
              "      <td>8.206560</td>\n",
              "      <td>8.206560</td>\n",
              "    </tr>\n",
              "    <tr>\n",
              "      <th>min</th>\n",
              "      <td>1939.000000</td>\n",
              "      <td>49.000000</td>\n",
              "    </tr>\n",
              "    <tr>\n",
              "      <th>25%</th>\n",
              "      <td>1962.000000</td>\n",
              "      <td>60.000000</td>\n",
              "    </tr>\n",
              "    <tr>\n",
              "      <th>50%</th>\n",
              "      <td>1963.000000</td>\n",
              "      <td>61.000000</td>\n",
              "    </tr>\n",
              "    <tr>\n",
              "      <th>75%</th>\n",
              "      <td>1964.000000</td>\n",
              "      <td>62.000000</td>\n",
              "    </tr>\n",
              "    <tr>\n",
              "      <th>max</th>\n",
              "      <td>1975.000000</td>\n",
              "      <td>85.000000</td>\n",
              "    </tr>\n",
              "  </tbody>\n",
              "</table>\n",
              "</div>\n",
              "    <div class=\"colab-df-buttons\">\n",
              "\n",
              "  <div class=\"colab-df-container\">\n",
              "    <button class=\"colab-df-convert\" onclick=\"convertToInteractive('df-b5b5b9a0-ed63-49ae-8234-5b854e8f709f')\"\n",
              "            title=\"Convert this dataframe to an interactive table.\"\n",
              "            style=\"display:none;\">\n",
              "\n",
              "  <svg xmlns=\"http://www.w3.org/2000/svg\" height=\"24px\" viewBox=\"0 -960 960 960\">\n",
              "    <path d=\"M120-120v-720h720v720H120Zm60-500h600v-160H180v160Zm220 220h160v-160H400v160Zm0 220h160v-160H400v160ZM180-400h160v-160H180v160Zm440 0h160v-160H620v160ZM180-180h160v-160H180v160Zm440 0h160v-160H620v160Z\"/>\n",
              "  </svg>\n",
              "    </button>\n",
              "\n",
              "  <style>\n",
              "    .colab-df-container {\n",
              "      display:flex;\n",
              "      gap: 12px;\n",
              "    }\n",
              "\n",
              "    .colab-df-convert {\n",
              "      background-color: #E8F0FE;\n",
              "      border: none;\n",
              "      border-radius: 50%;\n",
              "      cursor: pointer;\n",
              "      display: none;\n",
              "      fill: #1967D2;\n",
              "      height: 32px;\n",
              "      padding: 0 0 0 0;\n",
              "      width: 32px;\n",
              "    }\n",
              "\n",
              "    .colab-df-convert:hover {\n",
              "      background-color: #E2EBFA;\n",
              "      box-shadow: 0px 1px 2px rgba(60, 64, 67, 0.3), 0px 1px 3px 1px rgba(60, 64, 67, 0.15);\n",
              "      fill: #174EA6;\n",
              "    }\n",
              "\n",
              "    .colab-df-buttons div {\n",
              "      margin-bottom: 4px;\n",
              "    }\n",
              "\n",
              "    [theme=dark] .colab-df-convert {\n",
              "      background-color: #3B4455;\n",
              "      fill: #D2E3FC;\n",
              "    }\n",
              "\n",
              "    [theme=dark] .colab-df-convert:hover {\n",
              "      background-color: #434B5C;\n",
              "      box-shadow: 0px 1px 3px 1px rgba(0, 0, 0, 0.15);\n",
              "      filter: drop-shadow(0px 1px 2px rgba(0, 0, 0, 0.3));\n",
              "      fill: #FFFFFF;\n",
              "    }\n",
              "  </style>\n",
              "\n",
              "    <script>\n",
              "      const buttonEl =\n",
              "        document.querySelector('#df-b5b5b9a0-ed63-49ae-8234-5b854e8f709f button.colab-df-convert');\n",
              "      buttonEl.style.display =\n",
              "        google.colab.kernel.accessAllowed ? 'block' : 'none';\n",
              "\n",
              "      async function convertToInteractive(key) {\n",
              "        const element = document.querySelector('#df-b5b5b9a0-ed63-49ae-8234-5b854e8f709f');\n",
              "        const dataTable =\n",
              "          await google.colab.kernel.invokeFunction('convertToInteractive',\n",
              "                                                    [key], {});\n",
              "        if (!dataTable) return;\n",
              "\n",
              "        const docLinkHtml = 'Like what you see? Visit the ' +\n",
              "          '<a target=\"_blank\" href=https://colab.research.google.com/notebooks/data_table.ipynb>data table notebook</a>'\n",
              "          + ' to learn more about interactive tables.';\n",
              "        element.innerHTML = '';\n",
              "        dataTable['output_type'] = 'display_data';\n",
              "        await google.colab.output.renderOutput(dataTable, element);\n",
              "        const docLink = document.createElement('div');\n",
              "        docLink.innerHTML = docLinkHtml;\n",
              "        element.appendChild(docLink);\n",
              "      }\n",
              "    </script>\n",
              "  </div>\n",
              "\n",
              "\n",
              "<div id=\"df-4b77f048-19de-46c9-a12a-6fd5695457c5\">\n",
              "  <button class=\"colab-df-quickchart\" onclick=\"quickchart('df-4b77f048-19de-46c9-a12a-6fd5695457c5')\"\n",
              "            title=\"Suggest charts\"\n",
              "            style=\"display:none;\">\n",
              "\n",
              "<svg xmlns=\"http://www.w3.org/2000/svg\" height=\"24px\"viewBox=\"0 0 24 24\"\n",
              "     width=\"24px\">\n",
              "    <g>\n",
              "        <path d=\"M19 3H5c-1.1 0-2 .9-2 2v14c0 1.1.9 2 2 2h14c1.1 0 2-.9 2-2V5c0-1.1-.9-2-2-2zM9 17H7v-7h2v7zm4 0h-2V7h2v10zm4 0h-2v-4h2v4z\"/>\n",
              "    </g>\n",
              "</svg>\n",
              "  </button>\n",
              "\n",
              "<style>\n",
              "  .colab-df-quickchart {\n",
              "      --bg-color: #E8F0FE;\n",
              "      --fill-color: #1967D2;\n",
              "      --hover-bg-color: #E2EBFA;\n",
              "      --hover-fill-color: #174EA6;\n",
              "      --disabled-fill-color: #AAA;\n",
              "      --disabled-bg-color: #DDD;\n",
              "  }\n",
              "\n",
              "  [theme=dark] .colab-df-quickchart {\n",
              "      --bg-color: #3B4455;\n",
              "      --fill-color: #D2E3FC;\n",
              "      --hover-bg-color: #434B5C;\n",
              "      --hover-fill-color: #FFFFFF;\n",
              "      --disabled-bg-color: #3B4455;\n",
              "      --disabled-fill-color: #666;\n",
              "  }\n",
              "\n",
              "  .colab-df-quickchart {\n",
              "    background-color: var(--bg-color);\n",
              "    border: none;\n",
              "    border-radius: 50%;\n",
              "    cursor: pointer;\n",
              "    display: none;\n",
              "    fill: var(--fill-color);\n",
              "    height: 32px;\n",
              "    padding: 0;\n",
              "    width: 32px;\n",
              "  }\n",
              "\n",
              "  .colab-df-quickchart:hover {\n",
              "    background-color: var(--hover-bg-color);\n",
              "    box-shadow: 0 1px 2px rgba(60, 64, 67, 0.3), 0 1px 3px 1px rgba(60, 64, 67, 0.15);\n",
              "    fill: var(--button-hover-fill-color);\n",
              "  }\n",
              "\n",
              "  .colab-df-quickchart-complete:disabled,\n",
              "  .colab-df-quickchart-complete:disabled:hover {\n",
              "    background-color: var(--disabled-bg-color);\n",
              "    fill: var(--disabled-fill-color);\n",
              "    box-shadow: none;\n",
              "  }\n",
              "\n",
              "  .colab-df-spinner {\n",
              "    border: 2px solid var(--fill-color);\n",
              "    border-color: transparent;\n",
              "    border-bottom-color: var(--fill-color);\n",
              "    animation:\n",
              "      spin 1s steps(1) infinite;\n",
              "  }\n",
              "\n",
              "  @keyframes spin {\n",
              "    0% {\n",
              "      border-color: transparent;\n",
              "      border-bottom-color: var(--fill-color);\n",
              "      border-left-color: var(--fill-color);\n",
              "    }\n",
              "    20% {\n",
              "      border-color: transparent;\n",
              "      border-left-color: var(--fill-color);\n",
              "      border-top-color: var(--fill-color);\n",
              "    }\n",
              "    30% {\n",
              "      border-color: transparent;\n",
              "      border-left-color: var(--fill-color);\n",
              "      border-top-color: var(--fill-color);\n",
              "      border-right-color: var(--fill-color);\n",
              "    }\n",
              "    40% {\n",
              "      border-color: transparent;\n",
              "      border-right-color: var(--fill-color);\n",
              "      border-top-color: var(--fill-color);\n",
              "    }\n",
              "    60% {\n",
              "      border-color: transparent;\n",
              "      border-right-color: var(--fill-color);\n",
              "    }\n",
              "    80% {\n",
              "      border-color: transparent;\n",
              "      border-right-color: var(--fill-color);\n",
              "      border-bottom-color: var(--fill-color);\n",
              "    }\n",
              "    90% {\n",
              "      border-color: transparent;\n",
              "      border-bottom-color: var(--fill-color);\n",
              "    }\n",
              "  }\n",
              "</style>\n",
              "\n",
              "  <script>\n",
              "    async function quickchart(key) {\n",
              "      const quickchartButtonEl =\n",
              "        document.querySelector('#' + key + ' button');\n",
              "      quickchartButtonEl.disabled = true;  // To prevent multiple clicks.\n",
              "      quickchartButtonEl.classList.add('colab-df-spinner');\n",
              "      try {\n",
              "        const charts = await google.colab.kernel.invokeFunction(\n",
              "            'suggestCharts', [key], {});\n",
              "      } catch (error) {\n",
              "        console.error('Error during call to suggestCharts:', error);\n",
              "      }\n",
              "      quickchartButtonEl.classList.remove('colab-df-spinner');\n",
              "      quickchartButtonEl.classList.add('colab-df-quickchart-complete');\n",
              "    }\n",
              "    (() => {\n",
              "      let quickchartButtonEl =\n",
              "        document.querySelector('#df-4b77f048-19de-46c9-a12a-6fd5695457c5 button');\n",
              "      quickchartButtonEl.style.display =\n",
              "        google.colab.kernel.accessAllowed ? 'block' : 'none';\n",
              "    })();\n",
              "  </script>\n",
              "</div>\n",
              "\n",
              "    </div>\n",
              "  </div>\n"
            ],
            "application/vnd.google.colaboratory.intrinsic+json": {
              "type": "dataframe",
              "summary": "{\n  \"name\": \"marvel_df\",\n  \"rows\": 8,\n  \"fields\": [\n    {\n      \"column\": \"first_appearance\",\n      \"properties\": {\n        \"dtype\": \"number\",\n        \"std\": 900.9873436262286,\n        \"min\": 8.206559513439176,\n        \"max\": 1975.0,\n        \"num_unique_values\": 8,\n        \"samples\": [\n          1961.952380952381,\n          1963.0,\n          21.0\n        ],\n        \"semantic_type\": \"\",\n        \"description\": \"\"\n      }\n    },\n    {\n      \"column\": \"years_since\",\n      \"properties\": {\n        \"dtype\": \"number\",\n        \"std\": 24.828901245626536,\n        \"min\": 8.206559513439176,\n        \"max\": 85.0,\n        \"num_unique_values\": 8,\n        \"samples\": [\n          62.04761904761905,\n          61.0,\n          21.0\n        ],\n        \"semantic_type\": \"\",\n        \"description\": \"\"\n      }\n    }\n  ]\n}"
            }
          },
          "metadata": {},
          "execution_count": 144
        }
      ]
    },
    {
      "cell_type": "markdown",
      "source": [
        "Given the marvel_df pandas DataFrame, show the mean value of first_appearance\n"
      ],
      "metadata": {
        "id": "IMkTqT6ZH0Cn"
      }
    },
    {
      "cell_type": "code",
      "source": [
        "marvel_df[\"first_appearance\"].mean()"
      ],
      "metadata": {
        "id": "ClMFohM7H22H",
        "colab": {
          "base_uri": "https://localhost:8080/"
        },
        "outputId": "5d4069b0-0d8e-4694-f658-651f48b4b3f3"
      },
      "execution_count": 145,
      "outputs": [
        {
          "output_type": "execute_result",
          "data": {
            "text/plain": [
              "1961.952380952381"
            ]
          },
          "metadata": {},
          "execution_count": 145
        }
      ]
    },
    {
      "cell_type": "markdown",
      "source": [
        "Given the marvel_df pandas DataFrame, show the min value of first_appearance\n"
      ],
      "metadata": {
        "id": "ZiTu1H4EH3TW"
      }
    },
    {
      "cell_type": "code",
      "source": [
        "marvel_df[\"first_appearance\"].min()"
      ],
      "metadata": {
        "id": "AYiG6X7YH67c",
        "colab": {
          "base_uri": "https://localhost:8080/"
        },
        "outputId": "3653c75c-58a2-46b1-a750-b55fcc6135dd"
      },
      "execution_count": 146,
      "outputs": [
        {
          "output_type": "execute_result",
          "data": {
            "text/plain": [
              "1939.0"
            ]
          },
          "metadata": {},
          "execution_count": 146
        }
      ]
    },
    {
      "cell_type": "markdown",
      "source": [
        "Given the marvel_df pandas DataFrame, get the characters with the min value of first_appearance\n"
      ],
      "metadata": {
        "id": "nvoyBXvdH7LY"
      }
    },
    {
      "cell_type": "code",
      "source": [
        "marvel_df[marvel_df[\"first_appearance\"] == marvel_df[\"first_appearance\"].min()]"
      ],
      "metadata": {
        "id": "496I3MpvIGYx",
        "colab": {
          "base_uri": "https://localhost:8080/",
          "height": 80
        },
        "outputId": "1e81e8a7-5355-448a-86dd-87d4816cfca2"
      },
      "execution_count": 147,
      "outputs": [
        {
          "output_type": "execute_result",
          "data": {
            "text/plain": [
              "     name   sex  first_appearance  years_since\n",
              "11  Namor  male            1939.0         85.0"
            ],
            "text/html": [
              "\n",
              "  <div id=\"df-061d1b60-45c7-4d45-a78f-55f0884e3949\" class=\"colab-df-container\">\n",
              "    <div>\n",
              "<style scoped>\n",
              "    .dataframe tbody tr th:only-of-type {\n",
              "        vertical-align: middle;\n",
              "    }\n",
              "\n",
              "    .dataframe tbody tr th {\n",
              "        vertical-align: top;\n",
              "    }\n",
              "\n",
              "    .dataframe thead th {\n",
              "        text-align: right;\n",
              "    }\n",
              "</style>\n",
              "<table border=\"1\" class=\"dataframe\">\n",
              "  <thead>\n",
              "    <tr style=\"text-align: right;\">\n",
              "      <th></th>\n",
              "      <th>name</th>\n",
              "      <th>sex</th>\n",
              "      <th>first_appearance</th>\n",
              "      <th>years_since</th>\n",
              "    </tr>\n",
              "  </thead>\n",
              "  <tbody>\n",
              "    <tr>\n",
              "      <th>11</th>\n",
              "      <td>Namor</td>\n",
              "      <td>male</td>\n",
              "      <td>1939.0</td>\n",
              "      <td>85.0</td>\n",
              "    </tr>\n",
              "  </tbody>\n",
              "</table>\n",
              "</div>\n",
              "    <div class=\"colab-df-buttons\">\n",
              "\n",
              "  <div class=\"colab-df-container\">\n",
              "    <button class=\"colab-df-convert\" onclick=\"convertToInteractive('df-061d1b60-45c7-4d45-a78f-55f0884e3949')\"\n",
              "            title=\"Convert this dataframe to an interactive table.\"\n",
              "            style=\"display:none;\">\n",
              "\n",
              "  <svg xmlns=\"http://www.w3.org/2000/svg\" height=\"24px\" viewBox=\"0 -960 960 960\">\n",
              "    <path d=\"M120-120v-720h720v720H120Zm60-500h600v-160H180v160Zm220 220h160v-160H400v160Zm0 220h160v-160H400v160ZM180-400h160v-160H180v160Zm440 0h160v-160H620v160ZM180-180h160v-160H180v160Zm440 0h160v-160H620v160Z\"/>\n",
              "  </svg>\n",
              "    </button>\n",
              "\n",
              "  <style>\n",
              "    .colab-df-container {\n",
              "      display:flex;\n",
              "      gap: 12px;\n",
              "    }\n",
              "\n",
              "    .colab-df-convert {\n",
              "      background-color: #E8F0FE;\n",
              "      border: none;\n",
              "      border-radius: 50%;\n",
              "      cursor: pointer;\n",
              "      display: none;\n",
              "      fill: #1967D2;\n",
              "      height: 32px;\n",
              "      padding: 0 0 0 0;\n",
              "      width: 32px;\n",
              "    }\n",
              "\n",
              "    .colab-df-convert:hover {\n",
              "      background-color: #E2EBFA;\n",
              "      box-shadow: 0px 1px 2px rgba(60, 64, 67, 0.3), 0px 1px 3px 1px rgba(60, 64, 67, 0.15);\n",
              "      fill: #174EA6;\n",
              "    }\n",
              "\n",
              "    .colab-df-buttons div {\n",
              "      margin-bottom: 4px;\n",
              "    }\n",
              "\n",
              "    [theme=dark] .colab-df-convert {\n",
              "      background-color: #3B4455;\n",
              "      fill: #D2E3FC;\n",
              "    }\n",
              "\n",
              "    [theme=dark] .colab-df-convert:hover {\n",
              "      background-color: #434B5C;\n",
              "      box-shadow: 0px 1px 3px 1px rgba(0, 0, 0, 0.15);\n",
              "      filter: drop-shadow(0px 1px 2px rgba(0, 0, 0, 0.3));\n",
              "      fill: #FFFFFF;\n",
              "    }\n",
              "  </style>\n",
              "\n",
              "    <script>\n",
              "      const buttonEl =\n",
              "        document.querySelector('#df-061d1b60-45c7-4d45-a78f-55f0884e3949 button.colab-df-convert');\n",
              "      buttonEl.style.display =\n",
              "        google.colab.kernel.accessAllowed ? 'block' : 'none';\n",
              "\n",
              "      async function convertToInteractive(key) {\n",
              "        const element = document.querySelector('#df-061d1b60-45c7-4d45-a78f-55f0884e3949');\n",
              "        const dataTable =\n",
              "          await google.colab.kernel.invokeFunction('convertToInteractive',\n",
              "                                                    [key], {});\n",
              "        if (!dataTable) return;\n",
              "\n",
              "        const docLinkHtml = 'Like what you see? Visit the ' +\n",
              "          '<a target=\"_blank\" href=https://colab.research.google.com/notebooks/data_table.ipynb>data table notebook</a>'\n",
              "          + ' to learn more about interactive tables.';\n",
              "        element.innerHTML = '';\n",
              "        dataTable['output_type'] = 'display_data';\n",
              "        await google.colab.output.renderOutput(dataTable, element);\n",
              "        const docLink = document.createElement('div');\n",
              "        docLink.innerHTML = docLinkHtml;\n",
              "        element.appendChild(docLink);\n",
              "      }\n",
              "    </script>\n",
              "  </div>\n",
              "\n",
              "\n",
              "    </div>\n",
              "  </div>\n"
            ],
            "application/vnd.google.colaboratory.intrinsic+json": {
              "type": "dataframe",
              "summary": "{\n  \"name\": \"marvel_df[marvel_df[\\\"first_appearance\\\"] == marvel_df[\\\"first_appearance\\\"]\",\n  \"rows\": 1,\n  \"fields\": [\n    {\n      \"column\": \"name\",\n      \"properties\": {\n        \"dtype\": \"string\",\n        \"num_unique_values\": 1,\n        \"samples\": [\n          \"Namor\"\n        ],\n        \"semantic_type\": \"\",\n        \"description\": \"\"\n      }\n    },\n    {\n      \"column\": \"sex\",\n      \"properties\": {\n        \"dtype\": \"string\",\n        \"num_unique_values\": 1,\n        \"samples\": [\n          \"male\"\n        ],\n        \"semantic_type\": \"\",\n        \"description\": \"\"\n      }\n    },\n    {\n      \"column\": \"first_appearance\",\n      \"properties\": {\n        \"dtype\": \"number\",\n        \"std\": null,\n        \"min\": 1939.0,\n        \"max\": 1939.0,\n        \"num_unique_values\": 1,\n        \"samples\": [\n          1939.0\n        ],\n        \"semantic_type\": \"\",\n        \"description\": \"\"\n      }\n    },\n    {\n      \"column\": \"years_since\",\n      \"properties\": {\n        \"dtype\": \"number\",\n        \"std\": null,\n        \"min\": 85.0,\n        \"max\": 85.0,\n        \"num_unique_values\": 1,\n        \"samples\": [\n          85.0\n        ],\n        \"semantic_type\": \"\",\n        \"description\": \"\"\n      }\n    }\n  ]\n}"
            }
          },
          "metadata": {},
          "execution_count": 147
        }
      ]
    },
    {
      "cell_type": "markdown",
      "source": [
        "**DataFrame basic plottings**"
      ],
      "metadata": {
        "id": "WF8avBQHIGpO"
      }
    },
    {
      "cell_type": "markdown",
      "source": [
        "Reset index names of marvel_df\\\n",
        "hint: use .reset_index()"
      ],
      "metadata": {
        "id": "MiUVrrmZITwF"
      }
    },
    {
      "cell_type": "code",
      "source": [
        "marvel_df = marvel_df.reset_index()"
      ],
      "metadata": {
        "id": "hJkWjyWkIdVB"
      },
      "execution_count": 148,
      "outputs": []
    },
    {
      "cell_type": "markdown",
      "source": [
        "Plot the values of first_appearance\n"
      ],
      "metadata": {
        "id": "2Miimz0MIdr8"
      }
    },
    {
      "cell_type": "code",
      "source": [
        "marvel_df[\"first_appearance\"].plot()"
      ],
      "metadata": {
        "id": "fDBPJFdZIfwY",
        "colab": {
          "base_uri": "https://localhost:8080/",
          "height": 447
        },
        "outputId": "44c9dfe9-62ed-4a1a-aa9d-633a56721a57"
      },
      "execution_count": 149,
      "outputs": [
        {
          "output_type": "execute_result",
          "data": {
            "text/plain": [
              "<Axes: >"
            ]
          },
          "metadata": {},
          "execution_count": 149
        },
        {
          "output_type": "display_data",
          "data": {
            "text/plain": [
              "<Figure size 640x480 with 1 Axes>"
            ],
            "image/png": "[encoded data removed]"
          },
          "metadata": {}
        }
      ]
    },
    {
      "cell_type": "markdown",
      "source": [
        "Plot a histogram (plot.hist) with values of first_appearance\n"
      ],
      "metadata": {
        "id": "nnuTvn_rIf8s"
      }
    },
    {
      "cell_type": "code",
      "source": [
        "marvel_df[\"first_appearance\"].plot.hist()"
      ],
      "metadata": {
        "id": "fd2EJnfLIiBl",
        "colab": {
          "base_uri": "https://localhost:8080/",
          "height": 447
        },
        "outputId": "dd3fd508-1eb0-4755-815e-30bfe729e3f2"
      },
      "execution_count": 150,
      "outputs": [
        {
          "output_type": "execute_result",
          "data": {
            "text/plain": [
              "<Axes: ylabel='Frequency'>"
            ]
          },
          "metadata": {},
          "execution_count": 150
        },
        {
          "output_type": "display_data",
          "data": {
            "text/plain": [
              "<Figure size 640x480 with 1 Axes>"
            ],
            "image/png": "[encoded data removed]"
          },
          "metadata": {}
        }
      ]
    }
  ]
}
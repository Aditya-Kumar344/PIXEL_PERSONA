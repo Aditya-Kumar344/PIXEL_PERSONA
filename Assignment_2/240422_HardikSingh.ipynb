{
  "nbformat": 4,
  "nbformat_minor": 0,
  "metadata": {
    "colab": {
      "provenance": []
    },
    "kernelspec": {
      "name": "python3",
      "display_name": "Python 3"
    },
    "language_info": {
      "name": "python"
    }
  },
  "cells": [
    {
      "cell_type": "code",
      "source": [
        "import numpy as np\n",
        "import pandas as pd\n",
        "from sklearn.model_selection import train_test_split\n",
        "import matplotlib.pyplot as plt\n",
        "from sklearn.linear_model import LogisticRegression\n",
        "# from ass2 import LogisticRegression as LR\n",
        "import warnings\n",
        "warnings.filterwarnings( \"ignore\" )\n",
        "\n",
        "class LR():\n",
        "\tdef __init__(self, act,lR=0.01, n_iters=1000):\n",
        "\t\tself.lR = lR\n",
        "\t\tself.n_iters = n_iters\n",
        "\t\tself.act = act if act != None else 'sigmoid'\n",
        "\n",
        "\tdef activator(self,x):\n",
        "\t\tif self.act=='sigmoid': return 1/(1+np.exp(-x))\n",
        "\t\telif self.act=='relu': return 0 if x<0 else x\n",
        "\t\telif self.act=='prelu': return self.lr*x if x<0 else x\n",
        "\n",
        "\n",
        "\tdef fit(self, X, y):\n",
        "\t\tX = np.array(X)\n",
        "\t\tn_samples, n_features = X.shape\n",
        "\t\tself.weights = np.zeros(n_features)\n",
        "\t\tprint(self.weights.shape, X.shape, sep=' ')\n",
        "\t\tself.bias = 0\n",
        "\t\tfor i in range(self.n_iters):\n",
        "\t\t\tlinear_pred = np.dot(X, self.weights) + self.bias\n",
        "\t\t\tpredictions = self.activator(linear_pred)\n",
        "\n",
        "\t\t\tdw = (2/n_samples) * np.dot(X.T, (predictions-y))\n",
        "\t\t\tdb = (2/n_samples) * np.sum(predictions-y)\n",
        "\n",
        "\t\tself.weights = self.weights - self.lR*dw\n",
        "\t\tself.bias = self.bias - self.lR*db\n",
        "\n",
        "\tdef predict(self, X):\n",
        "\t\tlinear_pred = np.dot(X, self.weights)+ self.bias\n",
        "\t\ty_pred = self.activator(linear_pred)\n",
        "\t\tclass_pred = [0 if y<=0.5 else 1 for y in y_pred]\n",
        "\t\treturn class_pred\n",
        "\n",
        "df = pd.read_csv('loan_data.csv')\n",
        "df = df.select_dtypes(include=[np.number])\n",
        "\n",
        "print(df.shape)\n",
        "print(df.columns)\n",
        "print(df['loan_status'].unique())\n",
        "\n",
        "df.drop('person_age', axis=1, inplace=True)\n",
        "df.drop('person_gender', axis=1, inplace=True)\n",
        "\n",
        "print(df.shape)\n",
        "print(df.columns)\n",
        "\n",
        "X = df.iloc[:,:-1].values\n",
        "# X = X.select_dtypes(include=[np.number])  # Keep only numeric columns\n",
        "Y = df.iloc[:,-1:].values\n",
        "\n",
        "X_train, X_test, Y_train, Y_test = train_test_split(X, Y, test_size=0.2, random_state=0)\n",
        "\n",
        "model = LR('sigmoid')\n",
        "model.fit(X_train, Y_train)\n",
        "model1 = LogisticRegression()\n",
        "model1.fit(X_train, Y_train)\n",
        "\n",
        "Y_pred = model.predict(X_test)\n",
        "Y_pred1 = model1.predict(X_test)\n",
        "\n",
        "correctly_classified = 0\n",
        "correctly_classified1 = 0\n",
        "\n",
        "count = 0\n",
        "for count in range(np.size(Y_pred1)):\n",
        "    if Y_test[count]==Y_pred[count]:\n",
        "        correctly_classified = correctly_classified+1\n",
        "\n",
        "    if Y_test[count]==Y_pred1[count]:\n",
        "        correctly_classified1 = correctly_classified1+1\n",
        "    count=count+1\n",
        "\n",
        "print( \"Accuracy on test set by our model       :  \", (\n",
        "      correctly_classified / count ) * 100 )\n",
        "print( \"Accuracy on test set by sklearn model   :  \", (\n",
        "      correctly_classified1 / count ) * 100 )"
      ],
      "metadata": {
        "id": "4lvUBbnfFXg_"
      },
      "execution_count": null,
      "outputs": []
    },
    {
      "cell_type": "markdown",
      "source": [
        "We can see that there are 14 different columns, with the last column, loan_status being the target variable. The other columns contain various factors that may help determining in whether loan will be allocated or not. Out of aforesaid columns, age and gender may be dropped as they might perhaps not be a clear indicator. Also, we will be dropping all the text columns, as during logistic regression we cannot use non numerical values"
      ],
      "metadata": {
        "id": "I88Ijq3JF_Ry"
      }
    }
  ]
}
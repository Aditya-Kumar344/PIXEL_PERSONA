{
  "cells": [
    {
      "cell_type": "code",
      "source": [
        "star=\"*\"\n",
        "v=[6,5,4,3,2,1]\n",
        "for i in v :\n",
        "  if i!=5 :\n",
        "    print(i*star)\n",
        "\n"
      ],
      "metadata": {
        "id": "ousRwyo6OL5u",
        "outputId": "1fcfe830-6914-4ffc-d531-17abf6972631",
        "colab": {
          "base_uri": "https://localhost:8080/"
        }
      },
      "execution_count": 8,
      "outputs": [
        {
          "output_type": "stream",
          "name": "stdout",
          "text": [
            "******\n",
            "****\n",
            "***\n",
            "**\n",
            "*\n"
          ]
        }
      ]
    }
  ],
  "metadata": {
    "colab": {
      "name": "Welcome To Colab",
      "toc_visible": true,
      "provenance": []
    },
    "kernelspec": {
      "display_name": "Python 3",
      "name": "python3"
    }
  },
  "nbformat": 4,
  "nbformat_minor": 0
}
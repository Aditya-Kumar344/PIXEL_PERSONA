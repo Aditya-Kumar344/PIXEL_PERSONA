{
  "nbformat": 4,
  "nbformat_minor": 0,
  "metadata": {
    "colab": {
      "provenance": []
    },
    "kernelspec": {
      "name": "python3",
      "display_name": "Python 3"
    },
    "language_info": {
      "name": "python"
    }
  },
  "cells": [
    {
      "cell_type": "code",
      "execution_count": 3,
      "metadata": {
        "colab": {
          "base_uri": "https://localhost:8080/"
        },
        "id": "oKjhv6-xymhz",
        "outputId": "21128132-cb7f-4055-8872-2a9f3b4388f3"
      },
      "outputs": [
        {
          "output_type": "stream",
          "name": "stdout",
          "text": [
            "******\n",
            "****\n",
            "***\n",
            "**\n",
            "*\n"
          ]
        }
      ],
      "source": [
        "for i in range(6,0,-1):\n",
        "  if i != 5:\n",
        "    print('*'*i, end='\\n')"
      ]
    }
  ]
}
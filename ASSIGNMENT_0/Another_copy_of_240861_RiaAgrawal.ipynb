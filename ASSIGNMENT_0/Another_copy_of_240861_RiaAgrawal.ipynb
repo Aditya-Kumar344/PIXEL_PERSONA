{
  "nbformat": 4,
  "nbformat_minor": 0,
  "metadata": {
    "colab": {
      "provenance": []
    },
    "kernelspec": {
      "name": "python3",
      "display_name": "Python 3"
    },
    "language_info": {
      "name": "python"
    }
  },
  "cells": [
    {
      "cell_type": "code",
      "execution_count": null,
      "metadata": {
        "colab": {
          "base_uri": "https://localhost:8080/"
        },
        "id": "93Jtubf5ofSA",
        "outputId": "a5b81611-da18-44ed-a62e-a8910a13ca98"
      },
      "outputs": [
        {
          "output_type": "stream",
          "name": "stdout",
          "text": [
            "******\n",
            "*****\n",
            "****\n",
            "***\n",
            "**\n",
            "*\n"
          ]
        }
      ],
      "source": [
        "i = 6\n",
        "while (i > 0):\n",
        "    j = 0\n",
        "    while (j < i):\n",
        "        print(\"*\", end='')\n",
        "        j += 1\n",
        "    print()\n",
        "    i -= 1"
      ]
    },
    {
      "cell_type": "markdown",
      "source": [],
      "metadata": {
        "id": "IO-lBqnavbmC"
      }
    }
  ]
}
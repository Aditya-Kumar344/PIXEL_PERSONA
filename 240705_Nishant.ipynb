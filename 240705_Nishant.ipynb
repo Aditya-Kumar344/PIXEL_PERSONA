{
  "nbformat": 4,
  "nbformat_minor": 0,
  "metadata": {
    "colab": {
      "provenance": []
    },
    "kernelspec": {
      "name": "python3",
      "display_name": "Python 3"
    },
    "language_info": {
      "name": "python"
    }
  },
  "cells": [
    {
      "cell_type": "code",
      "execution_count": 2,
      "metadata": {
        "colab": {
          "base_uri": "https://localhost:8080/"
        },
        "id": "iSwOGek1IcH_",
        "outputId": "b90c8d37-0eaa-4a1e-d456-978e04cdf019"
      },
      "outputs": [
        {
          "output_type": "stream",
          "name": "stdout",
          "text": [
            "******\n",
            "****\n",
            "***\n",
            "**\n",
            "*\n"
          ]
        }
      ],
      "source": [
        "for i in range(6, 0, -1):\n",
        "  if i == 5:\n",
        "    continue\n",
        "  print('*'*i)"
      ]
    },
    {
      "cell_type": "code",
      "source": [
        "for i in range(2, 0, -1):\n",
        "    if i == 2:\n",
        "        print('*'*i)\n",
        "        for j in range(2, 0, -1):\n",
        "            print('*'*j)\n",
        "    else:\n",
        "        for k in range(2, 0, -1):\n",
        "            print('*'*k)"
      ],
      "metadata": {
        "colab": {
          "base_uri": "https://localhost:8080/"
        },
        "id": "uJwAVibVQEPM",
        "outputId": "7a846b44-cf12-4aff-8671-9501cbba6c4b"
      },
      "execution_count": 3,
      "outputs": [
        {
          "output_type": "stream",
          "name": "stdout",
          "text": [
            "**\n",
            "**\n",
            "*\n",
            "**\n",
            "*\n"
          ]
        }
      ]
    }
  ]
}